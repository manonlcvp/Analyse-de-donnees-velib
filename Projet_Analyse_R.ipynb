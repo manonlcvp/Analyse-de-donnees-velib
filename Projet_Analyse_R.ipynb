{
  "cells": [
    {
      "cell_type": "markdown",
      "id": "77e306c8",
      "metadata": {
        "id": "77e306c8"
      },
      "source": [
        "# Analyse de données - Projet Velib en R <a href=\"https://cran.r-project.org/\"><img src=\"https://cran.r-project.org/Rlogo.svg\" style=\"max-width: 40px; display: inline\" alt=\"R\"/></a>\n",
        "---\n",
        "\n",
        "_Etudiantes (<small>INSA Toulouse</small>) :_ Nina Moser, Cassandra Jan, Illana Rabasquinho, Manon Lacave-Pistaa.\n",
        "\n"
      ]
    },
    {
      "cell_type": "markdown",
      "id": "snfsLatSLh29",
      "metadata": {
        "id": "snfsLatSLh29"
      },
      "source": [
        "# Introduction"
      ]
    },
    {
      "cell_type": "code",
      "execution_count": null,
      "id": "84097e7b",
      "metadata": {
        "id": "84097e7b"
      },
      "outputs": [],
      "source": [
        "install.packages(\"ggplot2\")\n",
        "install.packages(\"reshape2\")\n",
        "install.packages(\"gridExtra\")\n",
        "install.packages(\"psych\")\n",
        "\n",
        "library(ggplot2)\n",
        "library(reshape2)\n",
        "library(gridExtra)\n",
        "library(psych)"
      ]
    },
    {
      "cell_type": "code",
      "execution_count": null,
      "id": "TzoHWaPthXKv",
      "metadata": {
        "id": "TzoHWaPthXKv"
      },
      "outputs": [],
      "source": [
        "install.packages('FactoMineR')\n",
        "install.packages('factoextra')\n",
        "install.packages('mclust')\n",
        "\n",
        "library(FactoMineR)\n",
        "library(factoextra)\n",
        "library(ggpubr)\n",
        "library(cluster)\n",
        "library(mclust)"
      ]
    },
    {
      "cell_type": "code",
      "execution_count": null,
      "id": "tWhH34Iu2KOU",
      "metadata": {
        "id": "tWhH34Iu2KOU"
      },
      "outputs": [],
      "source": [
        "install.packages('cvms')\n",
        "library(cvms)"
      ]
    },
    {
      "cell_type": "code",
      "execution_count": null,
      "id": "nIolEFx49xAS",
      "metadata": {
        "id": "nIolEFx49xAS"
      },
      "outputs": [],
      "source": [
        "library(tidyverse)"
      ]
    },
    {
      "cell_type": "markdown",
      "id": "A5upM30Rd_4q",
      "metadata": {
        "id": "A5upM30Rd_4q"
      },
      "source": [
        "Avant de commencer le projet, nous insérons une graine aléatoire pour obtenir les mêmes résultats d'un notebook à l'autre"
      ]
    },
    {
      "cell_type": "code",
      "execution_count": null,
      "id": "HXffiHMzeLc8",
      "metadata": {
        "id": "HXffiHMzeLc8"
      },
      "outputs": [],
      "source": [
        "set.seed(1)"
      ]
    },
    {
      "cell_type": "code",
      "execution_count": null,
      "id": "476b801b",
      "metadata": {
        "id": "476b801b"
      },
      "outputs": [],
      "source": [
        "load('velib.RData')\n",
        "summary(velib)"
      ]
    },
    {
      "cell_type": "code",
      "execution_count": null,
      "id": "7cc1f064",
      "metadata": {
        "id": "7cc1f064"
      },
      "outputs": [],
      "source": [
        "# data preparation\n",
        "loading = as.matrix(velib$data)\n",
        "colnames(loading) = 1:ncol(loading)\n",
        "rownames(loading) = velib$names\n",
        "\n",
        "stations = 1:nrow(loading)\n",
        "coord = velib$position[stations,]\n",
        "coord$bonus = velib$bonus[stations]\n",
        "\n",
        "# select exactly 7 days of data (we remove the first 13 dates)\n",
        "dates = 14:181\n",
        "loading = loading[stations, dates]\n",
        "colnames(loading) = 1:length(dates)\n",
        "\n",
        "head(loading)\n",
        "head(coord)"
      ]
    },
    {
      "cell_type": "code",
      "execution_count": null,
      "id": "yV_2BGqObgQt",
      "metadata": {
        "id": "yV_2BGqObgQt"
      },
      "outputs": [],
      "source": [
        "describe(loading)"
      ]
    },
    {
      "cell_type": "markdown",
      "id": "fNmikGHPTIhJ",
      "metadata": {
        "id": "fNmikGHPTIhJ"
      },
      "source": [
        "# Analyse exploratoire"
      ]
    },
    {
      "cell_type": "code",
      "execution_count": null,
      "id": "bSOoKaQXTNH0",
      "metadata": {
        "id": "bSOoKaQXTNH0"
      },
      "outputs": [],
      "source": [
        "loading_missing_value <- sort(colSums(is.na(loading)), decreasing = TRUE)\n",
        "\n",
        "cat('Nombre de valeur(s) manquante(s) dans le jeu de données Loading :\\n')\n",
        "cat(sum(loading_missing_value), '\\n\\n')"
      ]
    },
    {
      "cell_type": "code",
      "execution_count": null,
      "id": "ewzou7qZTdBc",
      "metadata": {
        "id": "ewzou7qZTdBc"
      },
      "outputs": [],
      "source": [
        "cat('Nombre de valeur(s) dupliquée(s) dans Loading :\\n')\n",
        "cat(sum(duplicated(loading)), '\\n\\n')\n",
        "\n",
        "cat('Nombre de valeur(s) dupliquée(s) dans Coord :\\n')\n",
        "cat(sum(duplicated(coord)))"
      ]
    },
    {
      "cell_type": "code",
      "execution_count": null,
      "id": "U3GB9iorTmD0",
      "metadata": {
        "id": "U3GB9iorTmD0"
      },
      "outputs": [],
      "source": [
        "station_counts <- table(rownames(loading))\n",
        "\n",
        "station_names <- sort(station_counts, decreasing = TRUE)\n",
        "\n",
        "print(station_names)"
      ]
    },
    {
      "cell_type": "markdown",
      "id": "gfKu181SVf_l",
      "metadata": {
        "id": "gfKu181SVf_l"
      },
      "source": [
        "# Evolution de la densité de Vélib' (loading) des stations"
      ]
    },
    {
      "cell_type": "code",
      "execution_count": null,
      "id": "91d82d5d",
      "metadata": {
        "id": "91d82d5d"
      },
      "outputs": [],
      "source": [
        "options(repr.plot.width = 15, repr.plot.height = 6)\n",
        "\n",
        "# --- #\n",
        "\n",
        "time_tick = 1 + 24*(0:6)  # vector corresponding to the beginning of days\n",
        "\n",
        "# select a station\n",
        "i = 2\n",
        "\n",
        "df = melt(loading[i,])  #the function melt reshapes it from wide to long\n",
        "df$time_range = 1:ncol(loading)\n",
        "\n",
        "ggplot(df, aes(x=time_range, y=value)) + geom_line(col=\"darkorchid\") +\n",
        "    geom_vline(xintercept=time_tick, col=\"orange\", linetype=\"dashed\") +\n",
        "    labs(title=velib$names[i]) + xlab(\"Time\") + ylab(\"Loading\")"
      ]
    },
    {
      "cell_type": "code",
      "execution_count": null,
      "id": "W5EeMe6XXhYe",
      "metadata": {
        "id": "W5EeMe6XXhYe"
      },
      "outputs": [],
      "source": [
        "options(repr.plot.width = 20, repr.plot.height = 15)\n",
        "\n",
        "# --- #\n",
        "\n",
        "timeTick = 1 + 24*(0:6)  # vector corresponding to the beginning of days\n",
        "\n",
        "# select 16 stations\n",
        "stations = seq(1,16)\n",
        "\n",
        "df = melt(loading[stations,])  #the function melt reshapes it from wide to long\n",
        "\n",
        "p = list()\n",
        "for (i in 1:16){\n",
        "    dfi = df[df$Var1 == velib$names[stations[i]],]\n",
        "    p[[i]] = ggplot(dfi, aes(x=Var2, y=value)) +\n",
        "        geom_line(col=\"darkorchid\") +\n",
        "        geom_vline(xintercept=timeTick, col=\"orange\", linetype=\"dashed\") +\n",
        "        labs(title=velib$names[stations[i]]) + xlab(\"Time\") + ylab(\"Loading\")\n",
        "}\n",
        "do.call(grid.arrange,p)"
      ]
    },
    {
      "cell_type": "code",
      "execution_count": null,
      "id": "B8xJLBDqZad9",
      "metadata": {
        "id": "B8xJLBDqZad9"
      },
      "outputs": [],
      "source": [
        "options(repr.plot.width = 15, repr.plot.height = 6)\n",
        "\n",
        "time_tick = 1 + 24*(0:6)\n",
        "\n",
        "boxplot(loading, ylab=\"Loading\", xlab=\"Time\", widths=0.75, col=\"skyblue\", main=\"Boxplots représentant le chargement des stations en fonction des heures de la semaine\")\n",
        "abline(v=time_tick, col=\"red\")"
      ]
    },
    {
      "cell_type": "code",
      "execution_count": null,
      "id": "r88x5AQizzQl",
      "metadata": {
        "id": "r88x5AQizzQl"
      },
      "outputs": [],
      "source": [
        "# Calcul de la moyenne par heure par jour et transformation en tableau numpy\n",
        "mean_per_hour_per_day <- colMeans(loading)\n",
        "mean_per_hour_per_day <- matrix(mean_per_hour_per_day, nrow = 24, ncol = 7)\n",
        "\n",
        "# Calcul de la moyenne des 7 jours de la semaine, heure par heure\n",
        "mean_per_hour <- rowMeans(mean_per_hour_per_day)\n",
        "\n",
        "# Jours de la semaine\n",
        "days <- c(\"Monday\", \"Tuesday\", \"Wednesday\", \"Thursday\", \"Friday\", \"Saturday\", \"Sunday\")\n",
        "\n",
        "# Tracer le graphique\n",
        "matplot(mean_per_hour_per_day, type = 'l', lty = 1, col = 1:7)\n",
        "lines(mean_per_hour, lwd = 3, col = 'black')\n",
        "\n",
        "# Ajouter une légende\n",
        "legend(\"topright\", legend = c(days, \"Moyenne par heure\"), col = c(1:7, \"black\"), lwd = c(rep(1, 7), 3))\n",
        "\n",
        "# Ajouter un titre\n",
        "title(\"Moyenne du chargement horaire de toutes les stations\")"
      ]
    },
    {
      "cell_type": "code",
      "execution_count": null,
      "id": "eMBVPPc738uy",
      "metadata": {
        "id": "eMBVPPc738uy"
      },
      "outputs": [],
      "source": [
        "options(repr.plot.width = 15, repr.plot.height = 6)\n",
        "\n",
        "df = data.frame(stations = c(1:nrow(loading)), mean = rowMeans(loading))\n",
        "ggplot(df, aes(x = stations, y= mean)) +\n",
        "    geom_line(color = 'cornflowerblue', linewidth=1) +\n",
        "    geom_hline(yintercept = mean(loading), color = 'darkorange', linewidth=2) +\n",
        "    labs(x = \"Stations\", y = \"Average loading\")"
      ]
    },
    {
      "cell_type": "code",
      "execution_count": null,
      "id": "MZr5nAUNLSJ-",
      "metadata": {
        "id": "MZr5nAUNLSJ-"
      },
      "outputs": [],
      "source": [
        "options(repr.plot.width = 20, repr.plot.height = 10)\n",
        "hours = c(6, 20, 23)\n",
        "hours2 = c(10, 14, 18)\n",
        "\n",
        "par(mfrow = c(2, 3))\n",
        "\n",
        "dfi = coord\n",
        "p1 = list()\n",
        "for (i in 1:length(hours)){\n",
        "    dfi$loading = loading[,hours[i]]\n",
        "    p1[[i]] = ggplot(dfi, aes(x=longitude, y=latitude, color=loading)) +\n",
        "        geom_point() +\n",
        "        scale_color_gradient(low = \"yellow\", high = \"blue\") +  # Modification des couleurs\n",
        "        labs(title = paste(\"Stations loading - Monday\",hours[i],\"h\"))\n",
        "}\n",
        "\n",
        "p2 = list()\n",
        "for (i in 1:length(hours2)){\n",
        "    dfi$loading = loading[,hours2[i]]\n",
        "    p2[[i]] = ggplot(dfi, aes(x=longitude, y=latitude, color=loading)) +\n",
        "        geom_point() +\n",
        "        scale_color_gradient(low = \"yellow\", high = \"blue\") +  # Modification des couleurs\n",
        "        labs(title = paste(\"Stations loading - Monday\",hours2[i],\"h\"))\n",
        "}\n",
        "\n",
        "p <- c(p1, p2)\n",
        "\n",
        "do.call(grid.arrange,c(p, ncol=3))\n"
      ]
    },
    {
      "cell_type": "code",
      "execution_count": null,
      "id": "ud5TRgxxK9Ni",
      "metadata": {
        "id": "ud5TRgxxK9Ni"
      },
      "outputs": [],
      "source": [
        "options(repr.plot.width = 20, repr.plot.height = 15)\n",
        "hours = c(18, 42, 66, 90, 114, 138, 162)\n",
        "jours = c(\"Monday\", \"Tuesday\", \"Wednesday\", \"Thursday\", \"Friday\", \"Saturday\", \"Sunday\")\n",
        "\n",
        "par(mfrow = c(3, 3))\n",
        "\n",
        "dfi = coord\n",
        "p = list()\n",
        "for (i in 1:length(hours)){\n",
        "    dfi$loading = loading[,hours[i]]\n",
        "    p[[i]] = ggplot(dfi, aes(x=longitude, y=latitude, color=loading)) +\n",
        "        geom_point() +\n",
        "        scale_color_gradient(low = \"yellow\", high = \"blue\") +  # Modification des couleurs\n",
        "        labs(title = paste(\"Stations loading - \",jours[i],\" \",hours[i]-24*(i-1),\"h\"))\n",
        "}\n",
        "\n",
        "do.call(grid.arrange,p)\n"
      ]
    },
    {
      "cell_type": "code",
      "execution_count": null,
      "id": "MmXhv5CZJOm7",
      "metadata": {
        "id": "MmXhv5CZJOm7"
      },
      "outputs": [],
      "source": [
        "print('--- Average fill rate ---')\n",
        "print(mean(loading))\n",
        "\n",
        "# --- #\n",
        "print('')\n",
        "\n",
        "print('--- Least crowded station, on average ---')\n",
        "i = which.min(rowMeans(loading))\n",
        "print(rowMeans(loading)[i])\n",
        "\n",
        "# --- #\n",
        "print('')\n",
        "\n",
        "print('--- Fullest station, on average ---')\n",
        "i = which.max(rowMeans(loading))\n",
        "print(rowMeans(loading)[i])"
      ]
    },
    {
      "cell_type": "code",
      "execution_count": null,
      "id": "BQkF52ahPp0r",
      "metadata": {
        "id": "BQkF52ahPp0r"
      },
      "outputs": [],
      "source": [
        "# Calculer la moyenne du remplissage de chaque station\n",
        "mean_loading <- rowMeans(loading)\n",
        "\n",
        "# Trouver l'indice de la station la moins remplie et la plus remplie en moyenne\n",
        "station_min <- which.min(mean_loading)\n",
        "station_max <- which.max(mean_loading)\n",
        "\n",
        "# Créer un nouveau dataframe avec les coordonnées des stations et leur remplissage moyen\n",
        "df_map <- data.frame(latitude = coord$latitude,\n",
        "                     longitude = coord$longitude,\n",
        "                     mean_loading = mean_loading)\n",
        "\n",
        "# Tracer la carte avec ggplot2\n",
        "ggplot(df_map, aes(x = longitude, y = latitude)) +\n",
        "  geom_point(aes(shape = \"Autres stations\"), color = \"pink\", size = 3) +\n",
        "  geom_point(data = df_map[station_min, ], aes(shape = \"Station la moins remplie en moyenne\"), color = \"yellow\", size = 5) +\n",
        "  geom_point(data = df_map[station_max, ], aes(shape = \"Station la plus remplie en moyenne\"), color = \"blue\", size = 5) +\n",
        "  scale_shape_manual(name = \"Legend\", values = c(\"Station la moins remplie en moyenne\" = 18, \"Station la plus remplie en moyenne\" = 18, \"Autres stations\" = 16)) +\n",
        "  labs(title = \"Carte des stations de Vélib à Paris\") +\n",
        "  theme(plot.title = element_text(size = 30, hjust = 0.5))"
      ]
    },
    {
      "cell_type": "code",
      "execution_count": null,
      "id": "C4D7LZ3fY78d",
      "metadata": {
        "id": "C4D7LZ3fY78d"
      },
      "outputs": [],
      "source": [
        "# Coordonnées de points le long de la Seine à Paris (environ)\n",
        "seine_paris_dessus <- data.frame(\n",
        "  latitude = c(48.829, 48.841, 48.851, 48.864, 48.872, 48.874, 48.871, 48.865, 48.859, 48.849, 48.840, 48.834, 48.824),\n",
        "  longitude = c(2.246, 2.258, 2.272, 2.286, 2.299, 2.316, 2.334, 2.346, 2.359, 2.371, 2.382, 2.389, 2.400)\n",
        ")\n",
        "\n",
        "seine_paris_dessous <- data.frame(\n",
        "  latitude = c(48.821, 48.833, 48.843, 48.850, 48.856, 48.857, 48.858, 48.855, 48.852, 48.847, 48.841, 48.835, 48.829, 48.814),\n",
        "  longitude = c(2.261, 2.277, 2.283, 2.295, 2.302, 2.310, 2.319, 2.326, 2.336, 2.347, 2.355, 2.367, 2.374, 2.391)\n",
        ")\n",
        "\n",
        "# Fit parabolique\n",
        "fit_dessus <- lm(latitude ~ poly(longitude, 2, raw=TRUE), data = seine_paris_dessus)\n",
        "fit_dessous <- lm(latitude ~ poly(longitude, 2, raw=TRUE), data = seine_paris_dessous)\n",
        "\n",
        "point_entre_paraboles <- function(x, y, a1, b1, c1, a2, b2, c2) {\n",
        "  y1 <- a1 * x^2 + b1 * x + c1\n",
        "  y2 <- a2 * x^2 + b2 * x + c2\n",
        "  return(y > min(y1, y2) & y < max(y1, y2))\n",
        "}\n",
        "\n",
        "localisation <- list()\n",
        "\n",
        "for (i in 1:nrow(coord)) {\n",
        "  if (point_entre_paraboles(coord[i, \"longitude\"], coord[i, \"latitude\"], fit_dessus$coefficients[3], fit_dessus$coefficients[2], fit_dessus$coefficients[1], fit_dessous$coefficients[3], fit_dessous$coefficients[2], fit_dessous$coefficients[1])) {\n",
        "    localisation[[i]] <- 1\n",
        "  } else {\n",
        "    localisation[[i]] <- 0\n",
        "  }\n",
        "}\n",
        "\n",
        "# Ajout de la colonne 'localisation' à coord\n",
        "coord$localisation <- unlist(localisation)\n"
      ]
    },
    {
      "cell_type": "code",
      "execution_count": null,
      "id": "u-KIXuD-gdr_",
      "metadata": {
        "id": "u-KIXuD-gdr_"
      },
      "outputs": [],
      "source": [
        "# Indices des cases avec des 0 dans la colonne localisation\n",
        "indices_autres <- which(coord$localisation == 0)\n",
        "\n",
        "# Indices des cases avec des 1 dans la colonne localisation\n",
        "indices_seine <- which(coord$localisation == 1)\n",
        "\n",
        "# Indices des cases avec des 0 dans la colonne bonus\n",
        "indices_bas <- which(coord$bonus == 0)\n",
        "\n",
        "# Indices des cases avec des 1 dans la colonne bonus\n",
        "indices_haut <- which(coord$bonus == 1)"
      ]
    },
    {
      "cell_type": "code",
      "execution_count": null,
      "id": "jMuamHCN2iaQ",
      "metadata": {
        "id": "jMuamHCN2iaQ"
      },
      "outputs": [],
      "source": [
        "options(repr.plot.width = 20, repr.plot.height = 7)\n",
        "\n",
        "grid.arrange(\n",
        "  ggplot(coord, aes(x = longitude, y = latitude)) +\n",
        "    geom_point(data = coord[indices_autres, ], aes(color = \"Autres\"), size = 2) +\n",
        "    geom_point(data = coord[indices_seine, ], aes(color = \"Proche de la Seine\"), size = 2) +\n",
        "    scale_color_manual(name = \"Legend\", values = c(\"Autres\" = \"yellow\", \"Proche de la Seine\" = \"blue\")) +\n",
        "    labs(title = \"Stations proches ou non de la Seine\") +\n",
        "    theme(plot.title = element_text(size = 20, hjust = 0.5)),\n",
        "\n",
        "  ggplot(coord, aes(x = longitude, y = latitude)) +\n",
        "    geom_point(data = coord[indices_bas, ], aes(color = \"Vallée\"), size = 2) +\n",
        "    geom_point(data = coord[indices_haut, ], aes(color = \"Colline\"), size = 2) +\n",
        "    scale_color_manual(name = \"Legend\", values = c(\"Vallée\" = \"green\", \"Colline\" = \"red\")) +\n",
        "    labs(title = \"Altitude des stations\") +\n",
        "    theme(plot.title = element_text(size = 20, hjust = 0.5)),\n",
        "\n",
        "  ncol=2\n",
        ")"
      ]
    },
    {
      "cell_type": "markdown",
      "id": "VoeXacAnaSlN",
      "metadata": {
        "id": "VoeXacAnaSlN"
      },
      "source": [
        "# Analyse en Composantes Principales (ACP)"
      ]
    },
    {
      "cell_type": "code",
      "execution_count": null,
      "id": "IHRg1UqGuzmb",
      "metadata": {
        "id": "IHRg1UqGuzmb"
      },
      "outputs": [],
      "source": [
        "options(repr.plot.width = 10, repr.plot.height = 6)\n",
        "#par(mfrow = c(1,2))\n",
        "\n",
        "pca <- PCA(loading, scale.unit = TRUE, graph = FALSE)\n",
        "eig.val <- get_eigenvalue(pca)\n",
        "\n",
        "fviz_eig(pca, addlabels = TRUE, ylim = c(0,50), barfill = \"sky blue\", main=\"Pourcentage de variance expliquée par composante principale\", xlab=\"Composantes Principales\", ylab=\"Pourcentage de Variance Expliquée\")\n",
        "plot(pca$eig[,3], type = \"l\", col = \"sky blue\",\n",
        "    xlab = \"Number of components\", ylab = \"Cumulative explained variance\")\n",
        "lines(pca$eig[,3], type = \"l\", col = \"lightblue\", lwd = 3)"
      ]
    },
    {
      "cell_type": "code",
      "execution_count": null,
      "id": "TVG0B2OLE2a7",
      "metadata": {
        "id": "TVG0B2OLE2a7"
      },
      "outputs": [],
      "source": [
        "boxplot(as.data.frame(pca$ind$coord[,1:5]), col=\"sky blue\", main = \"Box plots of the first five principal components\")\n",
        "abline(h = 0, lty = \"dashed\", col = \"red\")"
      ]
    },
    {
      "cell_type": "markdown",
      "id": "Hg-iatPzVQij",
      "metadata": {
        "id": "Hg-iatPzVQij"
      },
      "source": [
        "## Corrélations des variables"
      ]
    },
    {
      "cell_type": "code",
      "execution_count": null,
      "id": "UTNWrTUnvxvy",
      "metadata": {
        "id": "UTNWrTUnvxvy"
      },
      "outputs": [],
      "source": [
        "options(repr.plot.width = 15, repr.plot.height = 15)\n",
        "\n",
        "ggarrange(\n",
        "  fviz_pca_var(pca, col.var = \"cos2\", repel = TRUE, gradient.cols = c(\"#00AFBB\", \"#E7B800\", \"#FC4E07\")),\n",
        "  fviz_pca_var(pca, axes = c(1,3), col.var = \"cos2\", repel = TRUE, gradient.cols = c(\"#00AFBB\", \"#E7B800\", \"#FC4E07\")),\n",
        "  fviz_pca_var(pca, axes = c(1,4), col.var = \"cos2\", repel = TRUE, gradient.cols = c(\"#00AFBB\", \"#E7B800\", \"#FC4E07\")),\n",
        "  fviz_pca_var(pca, axes = c(1,5), col.var = \"cos2\", repel = TRUE, gradient.cols = c(\"#00AFBB\", \"#E7B800\", \"#FC4E07\")),\n",
        "  fviz_pca_var(pca, axes = c(2,3), col.var = \"cos2\", repel = TRUE, gradient.cols = c(\"#00AFBB\", \"#E7B800\", \"#FC4E07\")),\n",
        "  fviz_pca_var(pca, axes = c(2,4), col.var = \"cos2\", repel = TRUE, gradient.cols = c(\"#00AFBB\", \"#E7B800\", \"#FC4E07\")),\n",
        "  ncol=2\n",
        ")"
      ]
    },
    {
      "cell_type": "code",
      "execution_count": null,
      "id": "oQihzhSmwFpY",
      "metadata": {
        "id": "oQihzhSmwFpY"
      },
      "outputs": [],
      "source": [
        "options(repr.plot.width = 20, repr.plot.height = 12)\n",
        "\n",
        "timeTick = 1 + 24* (0:6) # vecteur délimitant les jours\n",
        "\n",
        "par(mfrow = c(3,2))\n",
        "\n",
        "plot(pca$var$coord [,1], type='l', xlab=\"Heures de la semaine\", ylab=\"Corrélation avec dim 1\", ylim=c(-1,1), cex.lab = 1.7)\n",
        "abline(v=timeTick, col=\"#048B9A\") + abline(h=0, col=\"#A10684\") + abline(v=timeTick+11, col='pink', lty = \"dashed\")\n",
        "\n",
        "plot(pca$var$coord [,2], type='l', xlab=\"Heures de la semaine\", ylab=\"Corrélation avec à dim 2\", ylim=c(-1,1), cex.lab = 1.7)\n",
        "abline(v=timeTick, col=\"#048B9A\") + abline(h=0, col=\"#A10684\") + abline(v=timeTick+8, col='pink', lty = \"dashed\") + abline(v=timeTick+19, col='pink', lty = \"dashed\")\n",
        "\n",
        "plot(pca$var$coord [,3], type='l', xlab=\"Heures de la semaine\", ylab=\"Corrélation avec à dim 3\", ylim=c(-1,1), cex.lab = 1.7)\n",
        "abline(v=timeTick, col=\"#048B9A\") + abline(h=0, col=\"#A10684\")\n",
        "\n",
        "plot(pca$var$coord [,4], type='l', xlab=\"Heures de la semaine\", ylab=\"Corrélation avec à dim 4\", ylim=c(-1,1), cex.lab = 1.7)\n",
        "abline(v=timeTick, col=\"#048B9A\") + abline(h=0, col=\"#A10684\")\n",
        "\n",
        "plot(pca$var$coord [,5], type='l', xlab=\"Heures de la semaine\", ylab=\"Corrélation avec à dim 5\", ylim=c(-1,1), cex.lab = 1.7)\n",
        "abline(v=timeTick, col=\"#048B9A\") + abline(h=0, col=\"#A10684\")"
      ]
    },
    {
      "cell_type": "code",
      "execution_count": null,
      "id": "q7BVaG0mirVC",
      "metadata": {
        "id": "q7BVaG0mirVC"
      },
      "outputs": [],
      "source": [
        "coord$couleurs1 = as.factor(coord$localisation)\n",
        "levels(coord$couleurs1) = c('Autres','Seine')\n",
        "coord$couleurs2 = as.factor(coord$bonus)\n",
        "levels(coord$couleurs2) = c('Vallée','Coline')"
      ]
    },
    {
      "cell_type": "code",
      "execution_count": null,
      "id": "nQRsQYK6YPv0",
      "metadata": {
        "id": "nQRsQYK6YPv0"
      },
      "outputs": [],
      "source": [
        "# Pour les dimensions 1 et 2\n",
        "\n",
        "options(repr.plot.width = 10, repr.plot.height = 6)\n",
        "fviz_pca_ind(pca, geom = c(\"point\"), col.ind = \"cornflowerblue\") + ggtitle(\"Graphe des individus - ACP\")\n",
        "fviz_pca_ind(pca, geom = c(\"point\"), col.ind = coord$couleurs1, palette = c(\"yellow\",\"blue\")) + ggtitle(\"Graphe des individus - ACP\")\n",
        "fviz_pca_ind(pca, geom = c(\"point\"), col.ind = coord$couleurs2, palette = c(\"green\",\"red\")) + ggtitle(\"Graphe des individus - ACP\")"
      ]
    },
    {
      "cell_type": "code",
      "execution_count": null,
      "id": "epsTbnYgLVvq",
      "metadata": {
        "id": "epsTbnYgLVvq"
      },
      "outputs": [],
      "source": [
        "# Pour les dimensions 1 et 3\n",
        "\n",
        "options(repr.plot.width = 10, repr.plot.height = 6)\n",
        "fviz_pca_ind(pca, geom = c(\"point\"), col.ind = \"cornflowerblue\",axes = c(1, 3)) + ggtitle(\"Graphe des individus - ACP\")\n",
        "fviz_pca_ind(pca, geom = c(\"point\"), col.ind = coord$couleurs1, palette = c(\"yellow\",\"blue\"), axes = c(1, 3)) + ggtitle(\"Graphe des individus - ACP\")\n",
        "fviz_pca_ind(pca, geom = c(\"point\"), col.ind = coord$couleurs2, palette = c(\"green\",\"red\"), axes = c(1, 3)) + ggtitle(\"Graphe des individus - ACP\")"
      ]
    },
    {
      "cell_type": "code",
      "execution_count": null,
      "id": "6oPIgB0-Lxzb",
      "metadata": {
        "id": "6oPIgB0-Lxzb"
      },
      "outputs": [],
      "source": [
        "# Pour les dimensions 2 et 3\n",
        "\n",
        "options(repr.plot.width = 10, repr.plot.height = 6)\n",
        "fviz_pca_ind(pca, geom = c(\"point\"), col.ind = \"cornflowerblue\",axes = c(2, 3)) + ggtitle(\"Graphe des individus - ACP\")\n",
        "fviz_pca_ind(pca, geom = c(\"point\"), col.ind = coord$couleurs1, palette = c(\"yellow\",\"blue\"), axes = c(2, 3)) + ggtitle(\"Graphe des individus - ACP\")\n",
        "fviz_pca_ind(pca, geom = c(\"point\"), col.ind = coord$couleurs2, palette = c(\"green\",\"red\"), axes = c(2, 3)) + ggtitle(\"Graphe des individus - ACP\")"
      ]
    },
    {
      "cell_type": "code",
      "execution_count": null,
      "id": "ZZKIV_n_kwB_",
      "metadata": {
        "id": "ZZKIV_n_kwB_"
      },
      "outputs": [],
      "source": [
        "# Pour les dimensions 2 et 4\n",
        "\n",
        "options(repr.plot.width = 10, repr.plot.height = 6)\n",
        "fviz_pca_ind(pca, geom = c(\"point\"), col.ind = \"cornflowerblue\",axes = c(2, 3)) + ggtitle(\"Graphe des individus - ACP\")\n",
        "fviz_pca_ind(pca, geom = c(\"point\"), col.ind = coord$couleurs1, palette = c(\"yellow\",\"blue\"), axes = c(2, 4)) + ggtitle(\"Graphe des individus - ACP\")\n",
        "fviz_pca_ind(pca, geom = c(\"point\"), col.ind = coord$couleurs2, palette = c(\"green\",\"red\"), axes = c(2, 4)) + ggtitle(\"Graphe des individus - ACP\")"
      ]
    },
    {
      "cell_type": "markdown",
      "id": "rGXWBLsRUsqS",
      "metadata": {
        "id": "rGXWBLsRUsqS"
      },
      "source": [
        "# Méthodes de Clustering"
      ]
    },
    {
      "cell_type": "markdown",
      "id": "uhkb5nzLw9SZ",
      "metadata": {
        "id": "uhkb5nzLw9SZ"
      },
      "source": [
        "Il est possible d'effectuer le clustering sur le jeu de données entier ou sur le jeu de données réduit. Ce choix dépend de la taille de notre jeu de données notamment."
      ]
    },
    {
      "cell_type": "markdown",
      "id": "j_XlG-TRgy_3",
      "metadata": {
        "id": "j_XlG-TRgy_3"
      },
      "source": [
        "## Jeu de données réduit"
      ]
    },
    {
      "cell_type": "code",
      "execution_count": null,
      "id": "qheEbvFG-Z6G",
      "metadata": {
        "id": "qheEbvFG-Z6G"
      },
      "outputs": [],
      "source": [
        "loading_reduced = as.data.frame(pca$ind$coord[,1:5])"
      ]
    },
    {
      "cell_type": "code",
      "execution_count": null,
      "id": "sYaS5Dcb1Jrn",
      "metadata": {
        "id": "sYaS5Dcb1Jrn"
      },
      "outputs": [],
      "source": [
        "head(loading_reduced)"
      ]
    },
    {
      "cell_type": "markdown",
      "id": "XjvMN4k2z3O5",
      "metadata": {
        "id": "XjvMN4k2z3O5"
      },
      "source": [
        "### Clustering avec la méthode $k$-means"
      ]
    },
    {
      "cell_type": "code",
      "execution_count": null,
      "id": "UJK_-ZIJz3O7",
      "metadata": {
        "id": "UJK_-ZIJz3O7"
      },
      "outputs": [],
      "source": [
        "options(repr.plot.width = 9, repr.plot.height = 6)\n",
        "\n",
        "fviz_nbclust(loading_reduced, FUNcluster=kmeans, method=\"wss\") +\n",
        "    ggtitle(\"Within sum of square (WSS) according to the number of clusters\")"
      ]
    },
    {
      "cell_type": "code",
      "execution_count": null,
      "id": "ND6qe-Bsz3O9",
      "metadata": {
        "id": "ND6qe-Bsz3O9"
      },
      "outputs": [],
      "source": [
        "fviz_nbclust(loading_reduced, FUNcluster=kmeans, method=\"silhouette\") +\n",
        "    ggtitle(\"Silhouette score according to the number of clusters\")"
      ]
    },
    {
      "cell_type": "code",
      "execution_count": null,
      "id": "AW5nw6apz3O9",
      "metadata": {
        "id": "AW5nw6apz3O9"
      },
      "outputs": [],
      "source": [
        "# Silhouette plots, according to the number of clusters\n",
        "options(repr.plot.width = 15, repr.plot.height = 6)\n",
        "\n",
        "# With 2 clusters\n",
        "reskmeans = kmeans(loading_reduced, centers=2)\n",
        "sil = silhouette(reskmeans$cluster, dist(loading_reduced))\n",
        "p1 = fviz_silhouette(sil)\n",
        "\n",
        "# With 3 clusters\n",
        "reskmeans = kmeans(loading_reduced, centers=3)\n",
        "sil = silhouette(reskmeans$cluster, dist(loading_reduced))\n",
        "p2 = fviz_silhouette(sil)\n",
        "\n",
        "# With 4 clusters\n",
        "reskmeans = kmeans(loading_reduced, centers=4)\n",
        "sil = silhouette(reskmeans$cluster, dist(loading_reduced))\n",
        "p3 = fviz_silhouette(sil)\n",
        "\n",
        "grid.arrange(p1,p2,p3,ncol=2)"
      ]
    },
    {
      "cell_type": "code",
      "execution_count": null,
      "id": "CLlKJIU6z3O-",
      "metadata": {
        "id": "CLlKJIU6z3O-",
        "collapsed": true
      },
      "outputs": [],
      "source": [
        "reskmeans1 = kmeans(loading_reduced, centers=6)\n",
        "reskmeans2 = kmeans(loading_reduced, centers=4)\n",
        "reskmeans3 = kmeans(loading_reduced, centers=3)\n",
        "\n",
        "cluster_counts1 <- table(reskmeans1$cluster)\n",
        "cluster_counts2 <- table(reskmeans2$cluster)\n",
        "cluster_counts3 <- table(reskmeans3$cluster)\n",
        "\n",
        "barplot(cluster_counts1, main = \"Répartition des stations pour 6 clusters - K-means\", xlab = \"Cluster\", ylab = \"Nombre de stations\", col = c(2:7))\n",
        "barplot(cluster_counts2, main = \"Répartition des stations pour 4 clusters - K-means\", xlab = \"Cluster\", ylab = \"Nombre de stations\", col = c(2:5))\n",
        "barplot(cluster_counts3, main = \"Répartition des stations pour 3 clusters - K-means\", xlab = \"Cluster\", ylab = \"Nombre de stations\", col = c(2:4))"
      ]
    },
    {
      "cell_type": "markdown",
      "id": "q7XwhU9Oz3O_",
      "metadata": {
        "id": "q7XwhU9Oz3O_"
      },
      "source": [
        "#### Avec 6 clusters"
      ]
    },
    {
      "cell_type": "code",
      "execution_count": null,
      "id": "nwZ0s9Aiz3O_",
      "metadata": {
        "id": "nwZ0s9Aiz3O_"
      },
      "outputs": [],
      "source": [
        "options(repr.plot.width = 10, repr.plot.height = 7)\n",
        "\n",
        "cluster1_kmeans_6 <- which(reskmeans1$cluster == 1)\n",
        "cluster2_kmeans_6 <- which(reskmeans1$cluster == 2)\n",
        "cluster3_kmeans_6 <- which(reskmeans1$cluster == 3)\n",
        "cluster4_kmeans_6 <- which(reskmeans1$cluster == 4)\n",
        "cluster5_kmeans_6 <- which(reskmeans1$cluster == 5)\n",
        "cluster6_kmeans_6 <- which(reskmeans1$cluster == 6)\n",
        "\n",
        "mean1_kmeans_6 <- colMeans(loading[cluster1_kmeans_6,])\n",
        "mean2_kmeans_6 <- colMeans(loading[cluster2_kmeans_6,])\n",
        "mean3_kmeans_6 <- colMeans(loading[cluster3_kmeans_6,])\n",
        "mean4_kmeans_6 <- colMeans(loading[cluster4_kmeans_6,])\n",
        "mean5_kmeans_6 <- colMeans(loading[cluster5_kmeans_6,])\n",
        "mean6_kmeans_6 <- colMeans(loading[cluster6_kmeans_6,])\n",
        "\n",
        "x <- 1:168\n",
        "\n",
        "# Affichage des courbes\n",
        "plot(x, mean1_kmeans_6, type = \"l\", col = 2, xlab = \"Heures de la semaine\", ylab = \"Valeur mesurée\", main = \"Valeur mesurée pour 6 clusters - K-means\", xlim = c(1, 168), ylim = c(0, 1))\n",
        "lines(x, mean2_kmeans_6, col = 3)\n",
        "lines(x, mean3_kmeans_6, col = 4)\n",
        "lines(x, mean4_kmeans_6, col = 5)\n",
        "lines(x, mean5_kmeans_6, col = 6)\n",
        "lines(x, mean6_kmeans_6, col = 7)\n",
        "\n",
        "# Légende\n",
        "legend(\"topright\", legend = paste(\"Cluster\", 1:6), col = c(2:7), lty = 1)\n",
        "\n",
        "fviz_pca_ind(pca, axes=c(1,2), geom=c(\"point\"), habillage=as.factor(reskmeans1$cluster), palette=c(2:7)) + ggtitle(\"Graphe des individus de l'ACP pour 6 clusters\")\n",
        "\n",
        "ggplot(coord, aes(x = longitude, y = latitude)) +\n",
        "  geom_point(data = coord[cluster1_kmeans_6, ], aes(shape = \"cluster1\"), color = 2, size = 2) +\n",
        "  geom_point(data = coord[cluster2_kmeans_6, ], aes(shape = \"cluster2\"), color = 3, size = 2) +\n",
        "  geom_point(data = coord[cluster3_kmeans_6, ], aes(shape = \"cluster3\"), color = 4, size = 2) +\n",
        "  geom_point(data = coord[cluster4_kmeans_6, ], aes(shape = \"cluster4\"), color = 5, size = 2) +\n",
        "  geom_point(data = coord[cluster5_kmeans_6, ], aes(shape = \"cluster5\"), color = 6, size = 2) +\n",
        "  geom_point(data = coord[cluster6_kmeans_6, ], aes(shape = \"cluster6\"), color = 7, size = 2) +\n",
        "  scale_shape_manual(name = \"Legend\", values = c(\"cluster1\" = 18, \"cluster2\" = 18, \"cluster3\" = 18, \"cluster4\" = 18, \"cluster5\" = 18, \"cluster6\" = 18)) +\n",
        "  labs(title = \"Stations loading - 6 Clusters - Méthode K-means\") +\n",
        "  theme(plot.title = element_text(size = 15, hjust = 0.5))"
      ]
    },
    {
      "cell_type": "code",
      "execution_count": null,
      "id": "uKMByrKzz3O_",
      "metadata": {
        "id": "uKMByrKzz3O_"
      },
      "outputs": [],
      "source": [
        "x <- 1:168\n",
        "\n",
        "#timeTick = 1 + 24* (0:6)\n",
        "#abline(v=timeTick, col=\"#048B9A\") + abline(h=0, col=\"#A10684\") + abline(v=timeTick+11, col='pink')\n",
        "\n",
        "plot(x, mean1_kmeans_6, type = \"l\", col = 2, xlab = \"Heures de la semaine\", ylab = \"Valeur mesurée\", main = \"Cluster 1\", xlim = c(1, 168), ylim = c(0, 1))\n",
        "plot(x, mean2_kmeans_6, type = \"l\", col = 3, xlab = \"Heures de la semaine\", ylab = \"Valeur mesurée\", main = \"Cluster 2\", xlim = c(1, 168), ylim = c(0, 1))\n",
        "plot(x, mean3_kmeans_6, type = \"l\", col = 4, xlab = \"Heures de la semaine\", ylab = \"Valeur mesurée\", main = \"Cluster 3\", xlim = c(1, 168), ylim = c(0, 1))\n",
        "plot(x, mean4_kmeans_6, type = \"l\", col = 5, xlab = \"Heures de la semaine\", ylab = \"Valeur mesurée\", main = \"Cluster 4\", xlim = c(1, 168), ylim = c(0, 1))\n",
        "plot(x, mean5_kmeans_6, type = \"l\", col = 6, xlab = \"Heures de la semaine\", ylab = \"Valeur mesurée\", main = \"Cluster 5\", xlim = c(1, 168), ylim = c(0, 1))\n",
        "plot(x, mean6_kmeans_6, type = \"l\", col = 7, xlab = \"Heures de la semaine\", ylab = \"Valeur mesurée\", main = \"Cluster 6\", xlim = c(1, 168), ylim = c(0, 1))"
      ]
    },
    {
      "cell_type": "code",
      "execution_count": null,
      "id": "2J5zZSt5z3PA",
      "metadata": {
        "id": "2J5zZSt5z3PA"
      },
      "outputs": [],
      "source": [
        "options(repr.plot.width = 20, repr.plot.height = 5)\n",
        "\n",
        "grid.arrange(\n",
        "  ggplot(coord, aes(x = longitude, y = latitude)) +\n",
        "    geom_point(data = coord[cluster1_kmeans_6, ], aes(shape = \"cluster1\"), color = 2, size = 2) +\n",
        "    geom_point(data = coord[cluster2_kmeans_6, ], aes(shape = \"cluster2\"), color = 3, size = 2) +\n",
        "    geom_point(data = coord[cluster3_kmeans_6, ], aes(shape = \"cluster3\"), color = 4, size = 2) +\n",
        "    geom_point(data = coord[cluster4_kmeans_6, ], aes(shape = \"cluster4\"), color = 5, size = 2) +\n",
        "    geom_point(data = coord[cluster5_kmeans_6, ], aes(shape = \"cluster5\"), color = 6, size = 2) +\n",
        "    geom_point(data = coord[cluster6_kmeans_6, ], aes(shape = \"cluster6\"), color = 7, size = 2) +\n",
        "    scale_shape_manual(name = \"Legend\", values = c(\"cluster1\" = 18, \"cluster2\" = 18, \"cluster3\" = 18, \"cluster4\" = 18, \"cluster5\" = 18, \"cluster6\" = 18)) +\n",
        "    labs(title = \"Stations loading - 6 Clusters - Méthode K-means\") +\n",
        "    theme(plot.title = element_text(size = 15, hjust = 0.5)),\n",
        "\n",
        "  ggplot(coord, aes(x = longitude, y = latitude)) +\n",
        "    geom_point(data = coord[indices_bas, ], aes(shape = \"Vallée\"), color = \"green\", size = 2) +\n",
        "    geom_point(data = coord[indices_haut, ], aes(shape = \"Colline\"), color = \"red\", size = 2) +\n",
        "    scale_shape_manual(name = \"Legend\", values = c(\"Vallée\" = 18, \"Colline\" = 18)) +\n",
        "    labs(title = \"Altitude des stations\") +\n",
        "    theme(plot.title = element_text(size = 15, hjust = 0.5)),\n",
        "\n",
        "  ggplot(coord, aes(x = longitude, y = latitude)) +\n",
        "    geom_point(data = coord[indices_autres, ], aes(shape = \"Autres\"), color = \"yellow\", size = 2) +\n",
        "    geom_point(data = coord[indices_seine, ], aes(shape = \"Proche de la Seine\"), color = \"blue\", size = 2) +\n",
        "    scale_shape_manual(name = \"Legend\", values = c(\"Autres\" = 18, \"Proche de la Seine\" = 18)) +\n",
        "    labs(title = \"Stations proches ou non de la Seine\") +\n",
        "    theme(plot.title = element_text(size = 15, hjust = 0.5)),\n",
        "\n",
        "  ncol=3\n",
        ")"
      ]
    },
    {
      "cell_type": "code",
      "execution_count": null,
      "id": "CR1HG6Yoz3PB",
      "metadata": {
        "id": "CR1HG6Yoz3PB"
      },
      "outputs": [],
      "source": [
        "tbl1 = table(coord$localisation, reskmeans1$cluster)\n",
        "tbl2 = table(coord$bonus, reskmeans1$cluster)\n",
        "\n",
        "options(repr.plot.width = 10, repr.plot.height = 6)\n",
        "grid.arrange(\n",
        "  mosaicplot(tbl1, color=c(2:7), main=\"Mosaicplot clusters-Seine\"),\n",
        "  mosaicplot(tbl2, color=c(2:7), main=\"Mosaicplot clusters-altitude\"),\n",
        "  ncol=2\n",
        ")\n",
        "\n",
        "options(repr.plot.width = 20, repr.plot.height = 6)\n",
        "grid.arrange(\n",
        "    fviz_pca_ind(pca, axes=c(1,2), geom=c(\"point\"), habillage=as.factor(reskmeans1$cluster), palette=c(2:7)) + ggtitle(\"Individuals factor map - PCA \"),\n",
        "    fviz_pca_ind(pca, geom = c(\"point\"), col.ind = coord$couleurs2, palette = c(\"green\",\"red\")) + ggtitle(\"Individuals factor map - PCA\"),\n",
        "    fviz_pca_ind(pca, geom = c(\"point\"), col.ind = coord$couleurs1, palette = c(\"yellow\",\"blue\")) + ggtitle(\"Individuals factor map - PCA \"),\n",
        "\n",
        "    ncol=3\n",
        ")"
      ]
    },
    {
      "cell_type": "markdown",
      "id": "7Ie_TjMPCxCy",
      "metadata": {
        "id": "7Ie_TjMPCxCy"
      },
      "source": [
        "#### Avec 4 clusters"
      ]
    },
    {
      "cell_type": "code",
      "execution_count": null,
      "id": "6NpxVbg0CxC2",
      "metadata": {
        "id": "6NpxVbg0CxC2"
      },
      "outputs": [],
      "source": [
        "options(repr.plot.width = 10, repr.plot.height = 7)\n",
        "\n",
        "cluster1_kmeans_4 <- which(reskmeans2$cluster == 1)\n",
        "cluster2_kmeans_4 <- which(reskmeans2$cluster == 2)\n",
        "cluster3_kmeans_4 <- which(reskmeans2$cluster == 3)\n",
        "cluster4_kmeans_4 <- which(reskmeans2$cluster == 4)\n",
        "\n",
        "mean1_kmeans_4 <- colMeans(loading[cluster1_kmeans_4,])\n",
        "mean2_kmeans_4 <- colMeans(loading[cluster2_kmeans_4,])\n",
        "mean3_kmeans_4 <- colMeans(loading[cluster3_kmeans_4,])\n",
        "mean4_kmeans_4 <- colMeans(loading[cluster4_kmeans_4,])\n",
        "\n",
        "x <- 1:168\n",
        "\n",
        "# Affichage des courbes\n",
        "plot(x, mean1_kmeans_4, type = \"l\", col = 2, xlab = \"Heures de la semaine\", ylab = \"Valeur mesurée\", main = \"Valeur mesurée pour 4 clusters - K-means\", xlim = c(1, 168), ylim = c(0, 1))\n",
        "lines(x, mean2_kmeans_4, col = 3)\n",
        "lines(x, mean3_kmeans_4, col = 4)\n",
        "lines(x, mean4_kmeans_4, col = 5)\n",
        "\n",
        "# Légende\n",
        "legend(\"topright\", legend = paste(\"Cluster\", 1:4), col = c(2:5), lty = 1)\n",
        "\n",
        "fviz_pca_ind(pca, axes=c(1,2), geom=c(\"point\"), habillage=as.factor(reskmeans2$cluster), palette=c(2:5)) + ggtitle(\"Graphe des individus de l'ACP pour 4 clusters\")\n",
        "\n",
        "ggplot(coord, aes(x = longitude, y = latitude)) +\n",
        "  geom_point(data = coord[cluster1_kmeans_4, ], aes(shape = \"cluster1\"), color = 2, size = 2) +\n",
        "  geom_point(data = coord[cluster2_kmeans_4, ], aes(shape = \"cluster2\"), color = 3, size = 2) +\n",
        "  geom_point(data = coord[cluster3_kmeans_4, ], aes(shape = \"cluster3\"), color = 4, size = 2) +\n",
        "  geom_point(data = coord[cluster4_kmeans_4, ], aes(shape = \"cluster4\"), color = 5, size = 2) +\n",
        "  scale_shape_manual(name = \"Legend\", values = c(\"cluster1\" = 18, \"cluster2\" = 18, \"cluster3\" = 18, \"cluster4\" = 18)) +\n",
        "  labs(title = \"Stations loading - 4 Clusters - Méthode K-means\") +\n",
        "  theme(plot.title = element_text(size = 15, hjust = 0.5))"
      ]
    },
    {
      "cell_type": "code",
      "execution_count": null,
      "id": "HNOrD9ePCxC4",
      "metadata": {
        "id": "HNOrD9ePCxC4"
      },
      "outputs": [],
      "source": [
        "x <- 1:168\n",
        "\n",
        "#timeTick = 1 + 24* (0:6)\n",
        "#abline(v=timeTick, col=\"#048B9A\") + abline(h=0, col=\"#A10684\") + abline(v=timeTick+11, col='pink')\n",
        "\n",
        "plot(x, mean1_kmeans_4, type = \"l\", col = 2, xlab = \"Heures de la semaine\", ylab = \"Valeur mesurée\", main = \"Cluster 1\", xlim = c(1, 168), ylim = c(0, 1))\n",
        "plot(x, mean2_kmeans_4, type = \"l\", col = 3, xlab = \"Heures de la semaine\", ylab = \"Valeur mesurée\", main = \"Cluster 2\", xlim = c(1, 168), ylim = c(0, 1))\n",
        "plot(x, mean3_kmeans_4, type = \"l\", col = 4, xlab = \"Heures de la semaine\", ylab = \"Valeur mesurée\", main = \"Cluster 3\", xlim = c(1, 168), ylim = c(0, 1))\n",
        "plot(x, mean4_kmeans_4, type = \"l\", col = 5, xlab = \"Heures de la semaine\", ylab = \"Valeur mesurée\", main = \"Cluster 4\", xlim = c(1, 168), ylim = c(0, 1))"
      ]
    },
    {
      "cell_type": "code",
      "execution_count": null,
      "id": "lhRZunv1CxC4",
      "metadata": {
        "id": "lhRZunv1CxC4"
      },
      "outputs": [],
      "source": [
        "options(repr.plot.width = 20, repr.plot.height = 5)\n",
        "\n",
        "grid.arrange(\n",
        "  ggplot(coord, aes(x = longitude, y = latitude)) +\n",
        "    geom_point(data = coord[cluster1_kmeans_4, ], aes(shape = \"cluster1\"), color = 2, size = 2) +\n",
        "    geom_point(data = coord[cluster2_kmeans_4, ], aes(shape = \"cluster2\"), color = 3, size = 2) +\n",
        "    geom_point(data = coord[cluster3_kmeans_4, ], aes(shape = \"cluster3\"), color = 4, size = 2) +\n",
        "    geom_point(data = coord[cluster4_kmeans_4, ], aes(shape = \"cluster4\"), color = 5, size = 2) +\n",
        "    scale_shape_manual(name = \"Legend\", values = c(\"cluster1\" = 18, \"cluster2\" = 18, \"cluster3\" = 18, \"cluster4\" = 18)) +\n",
        "    labs(title = \"Stations loading - 4 Clusters - Méthode K-means\") +\n",
        "    theme(plot.title = element_text(size = 15, hjust = 0.5)),\n",
        "\n",
        "  ggplot(coord, aes(x = longitude, y = latitude)) +\n",
        "    geom_point(data = coord[indices_bas, ], aes(shape = \"Vallée\"), color = \"green\", size = 2) +\n",
        "    geom_point(data = coord[indices_haut, ], aes(shape = \"Colline\"), color = \"red\", size = 2) +\n",
        "    scale_shape_manual(name = \"Legend\", values = c(\"Vallée\" = 18, \"Colline\" = 18)) +\n",
        "    labs(title = \"Altitude des stations\") +\n",
        "    theme(plot.title = element_text(size = 15, hjust = 0.5)),\n",
        "\n",
        "  ggplot(coord, aes(x = longitude, y = latitude)) +\n",
        "    geom_point(data = coord[indices_autres, ], aes(shape = \"Autres\"), color = \"yellow\", size = 2) +\n",
        "    geom_point(data = coord[indices_seine, ], aes(shape = \"Proche de la Seine\"), color = \"blue\", size = 2) +\n",
        "    scale_shape_manual(name = \"Legend\", values = c(\"Autres\" = 18, \"Proche de la Seine\" = 18)) +\n",
        "    labs(title = \"Stations proches ou non de la Seine\") +\n",
        "    theme(plot.title = element_text(size = 15, hjust = 0.5)),\n",
        "\n",
        "  ncol=3\n",
        ")"
      ]
    },
    {
      "cell_type": "code",
      "execution_count": null,
      "id": "Yk6XqQ_kCxC4",
      "metadata": {
        "id": "Yk6XqQ_kCxC4"
      },
      "outputs": [],
      "source": [
        "tbl1 = table(coord$localisation, reskmeans2$cluster)\n",
        "tbl2 = table(coord$bonus, reskmeans2$cluster)\n",
        "\n",
        "options(repr.plot.width = 10, repr.plot.height = 6)\n",
        "grid.arrange(\n",
        "  mosaicplot(tbl1, color=c(2:5), main=\"Mosaicplot clusters-Seine\"),\n",
        "  mosaicplot(tbl2, color=c(2:5), main=\"Mosaicplot clusters-altitude\"),\n",
        "  ncol=2\n",
        ")\n",
        "\n",
        "options(repr.plot.width = 20, repr.plot.height = 6)\n",
        "grid.arrange(\n",
        "    fviz_pca_ind(pca, axes=c(1,2), geom=c(\"point\"), habillage=as.factor(reskmeans2$cluster), palette=c(2:5)) + ggtitle(\"Individuals factor map - PCA \"),\n",
        "    fviz_pca_ind(pca, geom = c(\"point\"), col.ind = coord$couleurs2, palette = c(\"green\",\"red\")) + ggtitle(\"Individuals factor map - PCA\"),\n",
        "    fviz_pca_ind(pca, geom = c(\"point\"), col.ind = coord$couleurs1, palette = c(\"yellow\",\"blue\")) + ggtitle(\"Individuals factor map - PCA \"),\n",
        "\n",
        "    ncol=3\n",
        ")"
      ]
    },
    {
      "cell_type": "markdown",
      "id": "CB3QQz3bz3PD",
      "metadata": {
        "id": "CB3QQz3bz3PD"
      },
      "source": [
        "#### Avec 3 clusters"
      ]
    },
    {
      "cell_type": "code",
      "execution_count": null,
      "id": "qA2Ti9srz3PE",
      "metadata": {
        "id": "qA2Ti9srz3PE"
      },
      "outputs": [],
      "source": [
        "options(repr.plot.width = 10, repr.plot.height = 7)\n",
        "\n",
        "cluster1_kmeans_3 <- which(reskmeans3$cluster == 1)\n",
        "cluster2_kmeans_3 <- which(reskmeans3$cluster == 2)\n",
        "cluster3_kmeans_3 <- which(reskmeans3$cluster == 3)\n",
        "\n",
        "mean1_kmeans_3 <- colMeans(loading[cluster1_kmeans_3,])\n",
        "mean2_kmeans_3 <- colMeans(loading[cluster2_kmeans_3,])\n",
        "mean3_kmeans_3 <- colMeans(loading[cluster3_kmeans_3,])\n",
        "\n",
        "x <- 1:168\n",
        "\n",
        "# Affichage des courbes\n",
        "plot(x, mean1_kmeans_3, type = \"l\", col = 2, xlab = \"Heures de la semaine\", ylab = \"Valeur mesurée\", main = \"Valeur mesurée pour 3 clusters - K-means\", xlim = c(1, 168), ylim = c(0, 1))\n",
        "lines(x, mean2_kmeans_3, col = 3)\n",
        "lines(x, mean3_kmeans_3, col = 4)\n",
        "\n",
        "# Légende\n",
        "legend(\"topright\", legend = paste(\"Cluster\", 1:3), col = c(2:4), lty = 1)\n",
        "\n",
        "fviz_pca_ind(pca, axes=c(1,2), geom=c(\"point\"), habillage=as.factor(reskmeans3$cluster), palette=c(2:4)) + ggtitle(\"Graphe des individus de l'ACP pour 3 clusters\")\n",
        "\n",
        "ggplot(coord, aes(x = longitude, y = latitude)) +\n",
        "  geom_point(data = coord[cluster1_kmeans_3, ], aes(shape = \"cluster1\"), color = 2, size = 2) +\n",
        "  geom_point(data = coord[cluster2_kmeans_3, ], aes(shape = \"cluster2\"), color = 3, size = 2) +\n",
        "  geom_point(data = coord[cluster3_kmeans_3, ], aes(shape = \"cluster3\"), color = 4, size = 2) +\n",
        "  scale_shape_manual(name = \"Legend\", values = c(\"cluster1\" = 18, \"cluster2\" = 18, \"cluster3\" = 18)) +\n",
        "  labs(title = \"Stations loading - 3 Clusters - Méthode K-means\") +\n",
        "  theme(plot.title = element_text(size = 15, hjust = 0.5))"
      ]
    },
    {
      "cell_type": "code",
      "execution_count": null,
      "id": "TP5x48fvz3PE",
      "metadata": {
        "id": "TP5x48fvz3PE"
      },
      "outputs": [],
      "source": [
        "#timeTick = 1 + 24* (0:6)\n",
        "#abline(v=timeTick, col=\"#048B9A\") + abline(h=0, col=\"#A10684\") + abline(v=timeTick+11, col='pink')\n",
        "\n",
        "x <- 1:168\n",
        "\n",
        "# Affichage des courbes\n",
        "plot(x, mean1_kmeans_3, type = \"l\", col = 2, xlab = \"Heures de la semaine\", ylab = \"Valeur mesurée\", main = \"Cluster 1\", xlim = c(1, 168), ylim = c(0, 1))\n",
        "plot(x, mean2_kmeans_3, type = \"l\", col = 3, xlab = \"Heures de la semaine\", ylab = \"Valeur mesurée\", main = \"Cluster 2\", xlim = c(1, 168), ylim = c(0, 1))\n",
        "plot(x, mean3_kmeans_3, type = \"l\", col = 4, xlab = \"Heures de la semaine\", ylab = \"Valeur mesurée\", main = \"Cluster 3\", xlim = c(1, 168), ylim = c(0, 1))"
      ]
    },
    {
      "cell_type": "code",
      "execution_count": null,
      "id": "0Zi-8Dsnz3PF",
      "metadata": {
        "id": "0Zi-8Dsnz3PF"
      },
      "outputs": [],
      "source": [
        "options(repr.plot.width = 20, repr.plot.height = 5)\n",
        "\n",
        "grid.arrange(\n",
        "  ggplot(coord, aes(x = longitude, y = latitude)) +\n",
        "    geom_point(data = coord[cluster1_kmeans_3, ], aes(shape = \"cluster1\"), color = 2, size = 2) +\n",
        "    geom_point(data = coord[cluster2_kmeans_3, ], aes(shape = \"cluster2\"), color = 3, size = 2) +\n",
        "    geom_point(data = coord[cluster3_kmeans_3, ], aes(shape = \"cluster3\"), color = 4, size = 2) +\n",
        "    scale_shape_manual(name = \"Legend\", values = c(\"cluster1\" = 18, \"cluster2\" = 18, \"cluster3\" = 18)) +\n",
        "    labs(title = \"Stations loading - 3 Clusters - Méthode K-means\") +\n",
        "    theme(plot.title = element_text(size = 15, hjust = 0.5)),\n",
        "\n",
        "  ggplot(coord, aes(x = longitude, y = latitude)) +\n",
        "    geom_point(data = coord[indices_bas, ], aes(shape = \"Vallée\"), color = \"green\", size = 2) +\n",
        "    geom_point(data = coord[indices_haut, ], aes(shape = \"Colline\"), color = \"red\", size = 2) +\n",
        "    scale_shape_manual(name = \"Legend\", values = c(\"Vallée\" = 18, \"Colline\" = 18)) +\n",
        "    labs(title = \"Altitude des stations\") +\n",
        "    theme(plot.title = element_text(size = 15, hjust = 0.5)),\n",
        "\n",
        "  ggplot(coord, aes(x = longitude, y = latitude)) +\n",
        "  geom_point(data = coord[indices_autres, ], aes(shape = \"Autres\"), color = \"yellow\", size = 2) +\n",
        "  geom_point(data = coord[indices_seine, ], aes(shape = \"Proche de la Seine\"), color = \"blue\", size = 2) +\n",
        "  scale_shape_manual(name = \"Legend\", values = c(\"Autres\" = 18, \"Proche de la Seine\" = 18)) +\n",
        "  labs(title = \"Stations proches ou non de la Seine\") +\n",
        "  theme(plot.title = element_text(size = 15, hjust = 0.5)),\n",
        "\n",
        "  ncol=3\n",
        ")"
      ]
    },
    {
      "cell_type": "code",
      "execution_count": null,
      "id": "OFlMzYQ4z3PF",
      "metadata": {
        "id": "OFlMzYQ4z3PF"
      },
      "outputs": [],
      "source": [
        "tbl1 = table(coord$localisation, reskmeans3$cluster)\n",
        "tbl2 = table(coord$bonus, reskmeans3$cluster)\n",
        "\n",
        "options(repr.plot.width = 10, repr.plot.height = 6)\n",
        "grid.arrange(\n",
        "  mosaicplot(tbl1, color=c(2:4), main=\"Mosaicplot clusters-Seine\"),\n",
        "  mosaicplot(tbl2, color=c(2:4), main=\"Mosaicplot clusters-altitude\"),\n",
        "  ncol=2\n",
        ")\n",
        "\n",
        "options(repr.plot.width = 20, repr.plot.height = 6)\n",
        "grid.arrange(\n",
        "    fviz_pca_ind(pca, axes=c(1,2), geom=c(\"point\"), habillage=as.factor(reskmeans3$cluster), palette=c(2:4)) + ggtitle(\"Individuals factor map - PCA \"),\n",
        "    fviz_pca_ind(pca, geom = c(\"point\"), col.ind = coord$couleurs2, palette = c(\"green\",\"red\")) + ggtitle(\"Individuals factor map - PCA\"),\n",
        "    fviz_pca_ind(pca, geom = c(\"point\"), col.ind = coord$couleurs1, palette = c(\"yellow\",\"blue\")) + ggtitle(\"Individuals factor map - PCA \"),\n",
        "    ncol=3\n",
        ")"
      ]
    },
    {
      "cell_type": "markdown",
      "id": "L3pxMlKEAbgK",
      "metadata": {
        "id": "L3pxMlKEAbgK"
      },
      "source": [
        "### Clustering agglomérant avec la méthode CAH"
      ]
    },
    {
      "cell_type": "code",
      "execution_count": null,
      "id": "C6Eq1a-JAbgL",
      "metadata": {
        "id": "C6Eq1a-JAbgL"
      },
      "outputs": [],
      "source": [
        "d = dist(loading_reduced, method=\"euclidean\")\n",
        "\n",
        "# Clustering\n",
        "hclustsingle = hclust(d, method=\"single\")\n",
        "hclustcomplete = hclust(d, method=\"complete\")\n",
        "hclustaverage = hclust(d, method=\"average\")\n",
        "\n",
        "#Dendograms visualization\n",
        "options(repr.plot.width=10, repr.plot.height=10)\n",
        "fviz_dend(hclustsingle, show_labels=FALSE, main='Dendrogram - Single linkage')\n",
        "fviz_dend(hclustcomplete, show_labels=FALSE, main='Dendrogram - Complete linkage')\n",
        "fviz_dend(hclustaverage, show_labels=FALSE, main='Dendrogram - Average linkage')"
      ]
    },
    {
      "cell_type": "code",
      "execution_count": null,
      "id": "hhWXZc60AbgM",
      "metadata": {
        "id": "hhWXZc60AbgM"
      },
      "outputs": [],
      "source": [
        "options(repr.plot.width = 12, repr.plot.height = 6)\n",
        "\n",
        "grid.arrange(\n",
        "    fviz_nbclust(loading_reduced, FUNcluster=hcut, method=\"wss\") + ggtitle(\"WSS according to nb of clusters\"),\n",
        "    fviz_nbclust(loading_reduced, FUNcluster=hcut, method=\"silhouette\") + ggtitle(\"silhouette according to nb of clusters\"),\n",
        "    ncol=2\n",
        ")"
      ]
    },
    {
      "cell_type": "code",
      "execution_count": null,
      "id": "dqPBu8CIAbgO",
      "metadata": {
        "id": "dqPBu8CIAbgO"
      },
      "outputs": [],
      "source": [
        "reshclust1 = cutree(hclustcomplete, 6)\n",
        "reshclust2 = cutree(hclustcomplete, 4)\n",
        "reshclust3 = cutree(hclustcomplete, 3)\n",
        "\n",
        "cluster_counts1 <- table(reshclust1)\n",
        "cluster_counts2 <- table(reshclust2)\n",
        "cluster_counts3 <- table(reshclust3)\n",
        "\n",
        "barplot(cluster_counts1, main = \"Répartition des stations pour 6 clusters - CAH\", xlab = \"Cluster\", ylab = \"Nombre de stations\", col = c(2:7))\n",
        "barplot(cluster_counts2, main = \"Répartition des stations pour 4 clusters - CAH\", xlab = \"Cluster\", ylab = \"Nombre de stations\", col = c(2:5))\n",
        "barplot(cluster_counts3, main = \"Répartition des stations pour 3 clusters - CAH\", xlab = \"Cluster\", ylab = \"Nombre de stations\", col = c(2:4))"
      ]
    },
    {
      "cell_type": "markdown",
      "id": "HtfBFMPdAbgO",
      "metadata": {
        "id": "HtfBFMPdAbgO"
      },
      "source": [
        "#### Avec 6 clusters"
      ]
    },
    {
      "cell_type": "code",
      "execution_count": null,
      "id": "I27pXvtLAbgO",
      "metadata": {
        "id": "I27pXvtLAbgO"
      },
      "outputs": [],
      "source": [
        "reshclust1 = cutree(hclustcomplete, 6)\n",
        "fviz_dend(hclustcomplete, k=6, show_labels=FALSE, rect=TRUE, palette=c(2:7))"
      ]
    },
    {
      "cell_type": "code",
      "execution_count": null,
      "id": "F31ibkjxAbgQ",
      "metadata": {
        "id": "F31ibkjxAbgQ"
      },
      "outputs": [],
      "source": [
        "options(repr.plot.width = 10, repr.plot.height = 7)\n",
        "\n",
        "cluster1_cah_6 <- which(reshclust1 == 1)\n",
        "cluster2_cah_6 <- which(reshclust1 == 2)\n",
        "cluster3_cah_6 <- which(reshclust1 == 3)\n",
        "cluster4_cah_6 <- which(reshclust1 == 4)\n",
        "cluster5_cah_6 <- which(reshclust1 == 5)\n",
        "cluster6_cah_6 <- which(reshclust1 == 6)\n",
        "\n",
        "mean1_cah_6 <- colMeans(loading[cluster1_cah_6,])\n",
        "mean2_cah_6 <- colMeans(loading[cluster2_cah_6,])\n",
        "mean3_cah_6 <- colMeans(loading[cluster3_cah_6,])\n",
        "mean4_cah_6 <- colMeans(loading[cluster4_cah_6,])\n",
        "mean5_cah_6 <- colMeans(loading[cluster5_cah_6,])\n",
        "mean6_cah_6 <- colMeans(loading[cluster6_cah_6,])\n",
        "\n",
        "x <- 1:168\n",
        "\n",
        "# Affichage des courbes\n",
        "plot(x, mean1_cah_6, type = \"l\", col = 2, xlab = \"Heures de la semaine\", ylab = \"Valeur mesurée\", main = \"Valeur mesurée pour 6 clusters - CAH\", xlim = c(1, 168), ylim = c(0, 1))\n",
        "lines(x, mean2_cah_6, col = 3)\n",
        "lines(x, mean3_cah_6, col = 4)\n",
        "lines(x, mean4_cah_6, col = 5)\n",
        "lines(x, mean5_cah_6, col = 6)\n",
        "lines(x, mean6_cah_6, col = 7)\n",
        "\n",
        "# Légende\n",
        "legend(\"topright\", legend = paste(\"Cluster\", 1:6), col = c(2:7), lty = 1)\n",
        "\n",
        "fviz_pca_ind(pca, axes=c(1,2), geom=c(\"point\"), habillage=as.factor(reshclust1), palette=c(2:7)) + ggtitle(\"Graphe des individus de l'ACP pour 6 clusters\")\n",
        "\n",
        "ggplot(coord, aes(x = longitude, y = latitude)) +\n",
        "  geom_point(data = coord[cluster1_cah_6, ], aes(shape = \"cluster1\"), color = 2, size = 2) +\n",
        "  geom_point(data = coord[cluster2_cah_6, ], aes(shape = \"cluster2\"), color = 3, size = 2) +\n",
        "  geom_point(data = coord[cluster3_cah_6, ], aes(shape = \"cluster3\"), color = 4, size = 2) +\n",
        "  geom_point(data = coord[cluster4_cah_6, ], aes(shape = \"cluster4\"), color = 5, size = 2) +\n",
        "  geom_point(data = coord[cluster5_cah_6, ], aes(shape = \"cluster5\"), color = 6, size = 2) +\n",
        "  geom_point(data = coord[cluster6_cah_6, ], aes(shape = \"cluster6\"), color = 7, size = 2) +\n",
        "  scale_shape_manual(name = \"Legend\", values = c(\"cluster1\" = 18, \"cluster2\" = 18, \"cluster3\" = 18, \"cluster4\" = 18, \"cluster5\" = 18, \"cluster6\" = 18)) +\n",
        "  labs(title = \"Stations loading - 6 Clusters - Méthode CAH\") +\n",
        "  theme(plot.title = element_text(size = 15, hjust = 0.5))"
      ]
    },
    {
      "cell_type": "code",
      "execution_count": null,
      "id": "WnS-n3UMAbgR",
      "metadata": {
        "id": "WnS-n3UMAbgR"
      },
      "outputs": [],
      "source": [
        "x <- 1:168\n",
        "\n",
        "#timeTick = 1 + 24* (0:6)\n",
        "#abline(v=timeTick, col=\"#048B9A\") + abline(h=0, col=\"#A10684\") + abline(v=timeTick+11, col='pink')\n",
        "\n",
        "plot(x, mean1_cah_6, type = \"l\", col = 2, xlab = \"Heures de la semaine\", ylab = \"Valeur mesurée\", main = \"Cluster 1\", xlim = c(1, 168), ylim = c(0, 1))\n",
        "plot(x, mean2_cah_6, type = \"l\", col = 3, xlab = \"Heures de la semaine\", ylab = \"Valeur mesurée\", main = \"Cluster 2\", xlim = c(1, 168), ylim = c(0, 1))\n",
        "plot(x, mean3_cah_6, type = \"l\", col = 4, xlab = \"Heures de la semaine\", ylab = \"Valeur mesurée\", main = \"Cluster 3\", xlim = c(1, 168), ylim = c(0, 1))\n",
        "plot(x, mean4_cah_6, type = \"l\", col = 5, xlab = \"Heures de la semaine\", ylab = \"Valeur mesurée\", main = \"Cluster 4\", xlim = c(1, 168), ylim = c(0, 1))\n",
        "plot(x, mean5_cah_6, type = \"l\", col = 6, xlab = \"Heures de la semaine\", ylab = \"Valeur mesurée\", main = \"Cluster 5\", xlim = c(1, 168), ylim = c(0, 1))\n",
        "plot(x, mean6_cah_6, type = \"l\", col = 7, xlab = \"Heures de la semaine\", ylab = \"Valeur mesurée\", main = \"Cluster 6\", xlim = c(1, 168), ylim = c(0, 1))"
      ]
    },
    {
      "cell_type": "code",
      "execution_count": null,
      "id": "BQISb_qlAbgR",
      "metadata": {
        "id": "BQISb_qlAbgR"
      },
      "outputs": [],
      "source": [
        "options(repr.plot.width = 20, repr.plot.height = 5)\n",
        "\n",
        "grid.arrange(\n",
        "  ggplot(coord, aes(x = longitude, y = latitude)) +\n",
        "    geom_point(data = coord[cluster1_cah_6, ], aes(shape = \"cluster1\"), color = 2, size = 2) +\n",
        "    geom_point(data = coord[cluster2_cah_6, ], aes(shape = \"cluster2\"), color = 3, size = 2) +\n",
        "    geom_point(data = coord[cluster3_cah_6, ], aes(shape = \"cluster3\"), color = 4, size = 2) +\n",
        "    geom_point(data = coord[cluster4_cah_6, ], aes(shape = \"cluster4\"), color = 5, size = 2) +\n",
        "    geom_point(data = coord[cluster5_cah_6, ], aes(shape = \"cluster5\"), color = 6, size = 2) +\n",
        "    geom_point(data = coord[cluster6_cah_6, ], aes(shape = \"cluster6\"), color = 7, size = 2) +\n",
        "    scale_shape_manual(name = \"Legend\", values = c(\"cluster1\" = 18, \"cluster2\" = 18, \"cluster3\" = 18, \"cluster4\" = 18, \"cluster5\" = 18, \"cluster6\" = 18)) +\n",
        "    labs(title = \"Stations loading - 6 Clusters - Méthode CAH\") +\n",
        "    theme(plot.title = element_text(size = 15, hjust = 0.5)),\n",
        "\n",
        "  ggplot(coord, aes(x = longitude, y = latitude)) +\n",
        "    geom_point(data = coord[indices_bas, ], aes(shape = \"Vallée\"), color = \"green\", size = 2) +\n",
        "    geom_point(data = coord[indices_haut, ], aes(shape = \"Colline\"), color = \"red\", size = 2) +\n",
        "    scale_shape_manual(name = \"Legend\", values = c(\"Vallée\" = 18, \"Colline\" = 18)) +\n",
        "    labs(title = \"Altitude des stations\") +\n",
        "    theme(plot.title = element_text(size = 15, hjust = 0.5)),\n",
        "\n",
        "  ggplot(coord, aes(x = longitude, y = latitude)) +\n",
        "    geom_point(data = coord[indices_autres, ], aes(shape = \"Autres\"), color = \"yellow\", size = 2) +\n",
        "    geom_point(data = coord[indices_seine, ], aes(shape = \"Proche de la Seine\"), color = \"blue\", size = 2) +\n",
        "    scale_shape_manual(name = \"Legend\", values = c(\"Autres\" = 18, \"Proche de la Seine\" = 18)) +\n",
        "    labs(title = \"Stations proches ou non de la Seine\") +\n",
        "    theme(plot.title = element_text(size = 15, hjust = 0.5)),\n",
        "\n",
        "  ncol=3\n",
        ")"
      ]
    },
    {
      "cell_type": "code",
      "execution_count": null,
      "id": "-QEkdHMBAbgR",
      "metadata": {
        "id": "-QEkdHMBAbgR"
      },
      "outputs": [],
      "source": [
        "tbl1 = table(coord$localisation, reshclust1)\n",
        "tbl2 = table(coord$bonus, reshclust1)\n",
        "\n",
        "options(repr.plot.width = 10, repr.plot.height = 6)\n",
        "grid.arrange(\n",
        "  mosaicplot(tbl1, color=c(2:7), main=\"Mosaicplot clusters-Seine\"),\n",
        "  mosaicplot(tbl2, color=c(2:7), main=\"Mosaicplot clusters-altitude\"),\n",
        "  ncol=2\n",
        ")\n",
        "\n",
        "options(repr.plot.width = 20, repr.plot.height = 6)\n",
        "grid.arrange(\n",
        "    fviz_pca_ind(pca, axes=c(1,2), geom=c(\"point\"), habillage=as.factor(reshclust1), palette=c(2:7)) + ggtitle(\"Individuals factor map - PCA \"),\n",
        "    fviz_pca_ind(pca, geom = c(\"point\"), col.ind = coord$couleurs2, palette = c(\"green\",\"red\")) + ggtitle(\"Individuals factor map - PCA\"),\n",
        "    fviz_pca_ind(pca, geom = c(\"point\"), col.ind = coord$couleurs1, palette = c(\"yellow\",\"blue\")) + ggtitle(\"Individuals factor map - PCA \"),\n",
        "\n",
        "    ncol=3\n",
        ")"
      ]
    },
    {
      "cell_type": "markdown",
      "id": "M7QsCsILFV8r",
      "metadata": {
        "id": "M7QsCsILFV8r"
      },
      "source": [
        "#### Avec 4 clusters"
      ]
    },
    {
      "cell_type": "code",
      "execution_count": null,
      "id": "RoX1clVdFV8t",
      "metadata": {
        "id": "RoX1clVdFV8t"
      },
      "outputs": [],
      "source": [
        "reshclust2 = cutree(hclustcomplete, 4)\n",
        "fviz_dend(hclustcomplete, k=4, show_labels=FALSE, rect=TRUE, palette=c(2:5))"
      ]
    },
    {
      "cell_type": "code",
      "execution_count": null,
      "id": "gttNN6cTFV8u",
      "metadata": {
        "id": "gttNN6cTFV8u"
      },
      "outputs": [],
      "source": [
        "options(repr.plot.width = 10, repr.plot.height = 7)\n",
        "\n",
        "cluster1_cah_4 <- which(reshclust2 == 1)\n",
        "cluster2_cah_4 <- which(reshclust2 == 2)\n",
        "cluster3_cah_4 <- which(reshclust2 == 3)\n",
        "cluster4_cah_4 <- which(reshclust2 == 4)\n",
        "\n",
        "mean1_cah_4 <- colMeans(loading[cluster1_cah_4,])\n",
        "mean2_cah_4 <- colMeans(loading[cluster2_cah_4,])\n",
        "mean3_cah_4 <- colMeans(loading[cluster3_cah_4,])\n",
        "mean4_cah_4 <- colMeans(loading[cluster4_cah_4,])\n",
        "\n",
        "x <- 1:168\n",
        "\n",
        "# Affichage des courbes\n",
        "plot(x, mean1_cah_4, type = \"l\", col = 2, xlab = \"Heures de la semaine\", ylab = \"Valeur mesurée\", main = \"Valeur mesurée pour 4 clusters - CAH\", xlim = c(1, 168), ylim = c(0, 1))\n",
        "lines(x, mean2_cah_4, col = 3)\n",
        "lines(x, mean3_cah_4, col = 4)\n",
        "lines(x, mean4_cah_4, col = 5)\n",
        "\n",
        "# Légende\n",
        "legend(\"topright\", legend = paste(\"Cluster\", 1:4), col = c(2:5), lty = 1)\n",
        "\n",
        "fviz_pca_ind(pca, axes=c(1,2), geom=c(\"point\"), habillage=as.factor(reshclust2), palette=c(2:7)) + ggtitle(\"Graphe des individus de l'ACP pour 4 clusters\")\n",
        "\n",
        "ggplot(coord, aes(x = longitude, y = latitude)) +\n",
        "  geom_point(data = coord[cluster1_cah_4, ], aes(shape = \"cluster1\"), color = 2, size = 2) +\n",
        "  geom_point(data = coord[cluster2_cah_4, ], aes(shape = \"cluster2\"), color = 3, size = 2) +\n",
        "  geom_point(data = coord[cluster3_cah_4, ], aes(shape = \"cluster3\"), color = 4, size = 2) +\n",
        "  geom_point(data = coord[cluster4_cah_4, ], aes(shape = \"cluster4\"), color = 5, size = 2) +\n",
        "  scale_shape_manual(name = \"Legend\", values = c(\"cluster1\" = 18, \"cluster2\" = 18, \"cluster3\" = 18, \"cluster4\" = 18)) +\n",
        "  labs(title = \"Stations loading - 4 Clusters - Méthode CAH\") +\n",
        "  theme(plot.title = element_text(size = 15, hjust = 0.5))"
      ]
    },
    {
      "cell_type": "code",
      "execution_count": null,
      "id": "q9YG_xQIFV8v",
      "metadata": {
        "id": "q9YG_xQIFV8v"
      },
      "outputs": [],
      "source": [
        "x <- 1:168\n",
        "\n",
        "#timeTick = 1 + 24* (0:6)\n",
        "#abline(v=timeTick, col=\"#048B9A\") + abline(h=0, col=\"#A10684\") + abline(v=timeTick+11, col='pink')\n",
        "\n",
        "plot(x, mean1_cah_4, type = \"l\", col = 2, xlab = \"Heures de la semaine\", ylab = \"Valeur mesurée\", main = \"Cluster 1\", xlim = c(1, 168), ylim = c(0, 1))\n",
        "plot(x, mean2_cah_4, type = \"l\", col = 3, xlab = \"Heures de la semaine\", ylab = \"Valeur mesurée\", main = \"Cluster 2\", xlim = c(1, 168), ylim = c(0, 1))\n",
        "plot(x, mean3_cah_4, type = \"l\", col = 4, xlab = \"Heures de la semaine\", ylab = \"Valeur mesurée\", main = \"Cluster 3\", xlim = c(1, 168), ylim = c(0, 1))\n",
        "plot(x, mean4_cah_4, type = \"l\", col = 5, xlab = \"Heures de la semaine\", ylab = \"Valeur mesurée\", main = \"Cluster 4\", xlim = c(1, 168), ylim = c(0, 1))"
      ]
    },
    {
      "cell_type": "code",
      "execution_count": null,
      "id": "rX8o8Z51FV8w",
      "metadata": {
        "id": "rX8o8Z51FV8w"
      },
      "outputs": [],
      "source": [
        "options(repr.plot.width = 20, repr.plot.height = 5)\n",
        "\n",
        "grid.arrange(\n",
        "  ggplot(coord, aes(x = longitude, y = latitude)) +\n",
        "    geom_point(data = coord[cluster1_cah_4, ], aes(shape = \"cluster1\"), color = 2, size = 2) +\n",
        "    geom_point(data = coord[cluster2_cah_4, ], aes(shape = \"cluster2\"), color = 3, size = 2) +\n",
        "    geom_point(data = coord[cluster3_cah_4, ], aes(shape = \"cluster3\"), color = 4, size = 2) +\n",
        "    geom_point(data = coord[cluster4_cah_4, ], aes(shape = \"cluster4\"), color = 5, size = 2) +\n",
        "    scale_shape_manual(name = \"Legend\", values = c(\"cluster1\" = 18, \"cluster2\" = 18, \"cluster3\" = 18, \"cluster4\" = 18)) +\n",
        "    labs(title = \"Stations loading - 4 Clusters - Méthode CAH\") +\n",
        "    theme(plot.title = element_text(size = 15, hjust = 0.5)),\n",
        "\n",
        "  ggplot(coord, aes(x = longitude, y = latitude)) +\n",
        "    geom_point(data = coord[indices_bas, ], aes(shape = \"Vallée\"), color = \"green\", size = 2) +\n",
        "    geom_point(data = coord[indices_haut, ], aes(shape = \"Colline\"), color = \"red\", size = 2) +\n",
        "    scale_shape_manual(name = \"Legend\", values = c(\"Vallée\" = 18, \"Colline\" = 18)) +\n",
        "    labs(title = \"Altitude des stations\") +\n",
        "    theme(plot.title = element_text(size = 15, hjust = 0.5)),\n",
        "\n",
        "  ggplot(coord, aes(x = longitude, y = latitude)) +\n",
        "    geom_point(data = coord[indices_autres, ], aes(shape = \"Autres\"), color = \"yellow\", size = 2) +\n",
        "    geom_point(data = coord[indices_seine, ], aes(shape = \"Proche de la Seine\"), color = \"blue\", size = 2) +\n",
        "    scale_shape_manual(name = \"Legend\", values = c(\"Autres\" = 18, \"Proche de la Seine\" = 18)) +\n",
        "    labs(title = \"Stations proches ou non de la Seine\") +\n",
        "    theme(plot.title = element_text(size = 15, hjust = 0.5)),\n",
        "\n",
        "  ncol=3\n",
        ")"
      ]
    },
    {
      "cell_type": "code",
      "execution_count": null,
      "id": "5YPIjT9MFV8w",
      "metadata": {
        "id": "5YPIjT9MFV8w"
      },
      "outputs": [],
      "source": [
        "tbl1 = table(coord$localisation, reshclust2)\n",
        "tbl2 = table(coord$bonus, reshclust2)\n",
        "\n",
        "options(repr.plot.width = 10, repr.plot.height = 6)\n",
        "grid.arrange(\n",
        "  mosaicplot(tbl1, color=c(2:5), main=\"Mosaicplot clusters-Seine\"),\n",
        "  mosaicplot(tbl2, color=c(2:5), main=\"Mosaicplot clusters-altitude\"),\n",
        "  ncol=2\n",
        ")\n",
        "\n",
        "options(repr.plot.width = 20, repr.plot.height = 6)\n",
        "grid.arrange(\n",
        "    fviz_pca_ind(pca, axes=c(1,2), geom=c(\"point\"), habillage=as.factor(reshclust2), palette=c(2:5)) + ggtitle(\"Individuals factor map - PCA \"),\n",
        "    fviz_pca_ind(pca, geom = c(\"point\"), col.ind = coord$couleurs2, palette = c(\"green\",\"red\")) + ggtitle(\"Individuals factor map - PCA\"),\n",
        "    fviz_pca_ind(pca, geom = c(\"point\"), col.ind = coord$couleurs1, palette = c(\"yellow\",\"blue\")) + ggtitle(\"Individuals factor map - PCA \"),\n",
        "\n",
        "    ncol=3\n",
        ")"
      ]
    },
    {
      "cell_type": "markdown",
      "id": "BlWmH7KfAbgR",
      "metadata": {
        "id": "BlWmH7KfAbgR"
      },
      "source": [
        "#### Avec 3 clusters"
      ]
    },
    {
      "cell_type": "code",
      "execution_count": null,
      "id": "5FXkhU6mAbgS",
      "metadata": {
        "id": "5FXkhU6mAbgS"
      },
      "outputs": [],
      "source": [
        "reshclust3 = cutree(hclustcomplete, 3)\n",
        "fviz_dend(hclustcomplete, k=3, show_labels=FALSE, rect=TRUE, palette=c(2:4))"
      ]
    },
    {
      "cell_type": "code",
      "execution_count": null,
      "id": "QFT9K24eAbgS",
      "metadata": {
        "id": "QFT9K24eAbgS"
      },
      "outputs": [],
      "source": [
        "options(repr.plot.width = 10, repr.plot.height = 7)\n",
        "\n",
        "cluster1_cah_3 <- which(reshclust3 == 1)\n",
        "cluster2_cah_3 <- which(reshclust3 == 2)\n",
        "cluster3_cah_3 <- which(reshclust3 == 3)\n",
        "\n",
        "mean1_cah_3 <- colMeans(loading[cluster1_cah_3,])\n",
        "mean2_cah_3 <- colMeans(loading[cluster2_cah_3,])\n",
        "mean3_cah_3 <- colMeans(loading[cluster3_cah_3,])\n",
        "\n",
        "x <- 1:168\n",
        "\n",
        "# Affichage des courbes\n",
        "plot(x, mean1_cah_3, type = \"l\", col = 2, xlab = \"Heures de la semaine\", ylab = \"Valeur mesurée\", main = \"Valeur mesurée pour 3 clusters - CAH\", xlim = c(1, 168), ylim = c(0, 1))\n",
        "lines(x, mean2_cah_3, col = 3)\n",
        "lines(x, mean3_cah_3, col = 4)\n",
        "\n",
        "# Légende\n",
        "legend(\"topright\", legend = paste(\"Cluster\", 1:3), col = c(2:4), lty = 1)\n",
        "\n",
        "fviz_pca_ind(pca, axes=c(1,2), geom=c(\"point\"), habillage=as.factor(reshclust3), palette=c(2:4)) + ggtitle(\"Graphe des individus de l'ACP pour 3 clusters\")\n",
        "\n",
        "ggplot(coord, aes(x = longitude, y = latitude)) +\n",
        "  geom_point(data = coord[cluster1_cah_3, ], aes(shape = \"cluster1\"), color = 2, size = 2) +\n",
        "  geom_point(data = coord[cluster2_cah_3, ], aes(shape = \"cluster2\"), color = 3, size = 2) +\n",
        "  geom_point(data = coord[cluster3_cah_3, ], aes(shape = \"cluster3\"), color = 4, size = 2) +\n",
        "  scale_shape_manual(name = \"Legend\", values = c(\"cluster1\" = 18, \"cluster2\" = 18, \"cluster3\" = 18)) +\n",
        "  labs(title = \"Stations loading - 3 Clusters - Méthode CAH\") +\n",
        "  theme(plot.title = element_text(size = 15, hjust = 0.5))"
      ]
    },
    {
      "cell_type": "code",
      "execution_count": null,
      "id": "MMrwU0DiAbgS",
      "metadata": {
        "id": "MMrwU0DiAbgS"
      },
      "outputs": [],
      "source": [
        "#timeTick = 1 + 24* (0:6)\n",
        "#abline(v=timeTick, col=\"#048B9A\") + abline(h=0, col=\"#A10684\") + abline(v=timeTick+11, col='pink')\n",
        "\n",
        "x <- 1:168\n",
        "\n",
        "# Affichage des courbes\n",
        "plot(x, mean1_cah_3, type = \"l\", col = 2, xlab = \"Heures de la semaine\", ylab = \"Valeur mesurée\", main = \"Cluster 1\", xlim = c(1, 168), ylim = c(0, 1))\n",
        "plot(x, mean2_cah_3, type = \"l\", col = 3, xlab = \"Heures de la semaine\", ylab = \"Valeur mesurée\", main = \"Cluster 2\", xlim = c(1, 168), ylim = c(0, 1))\n",
        "plot(x, mean3_cah_3, type = \"l\", col = 4, xlab = \"Heures de la semaine\", ylab = \"Valeur mesurée\", main = \"Cluster 3\", xlim = c(1, 168), ylim = c(0, 1))"
      ]
    },
    {
      "cell_type": "code",
      "execution_count": null,
      "id": "-CoN0ve4AbgT",
      "metadata": {
        "id": "-CoN0ve4AbgT"
      },
      "outputs": [],
      "source": [
        "options(repr.plot.width = 20, repr.plot.height = 5)\n",
        "\n",
        "grid.arrange(\n",
        "  ggplot(coord, aes(x = longitude, y = latitude)) +\n",
        "    geom_point(data = coord[cluster1_cah_3, ], aes(shape = \"cluster1\"), color = 2, size = 2) +\n",
        "    geom_point(data = coord[cluster2_cah_3, ], aes(shape = \"cluster2\"), color = 3, size = 2) +\n",
        "    geom_point(data = coord[cluster3_cah_3, ], aes(shape = \"cluster3\"), color = 4, size = 2) +\n",
        "    scale_shape_manual(name = \"Legend\", values = c(\"cluster1\" = 18, \"cluster2\" = 18, \"cluster3\" = 18)) +\n",
        "    labs(title = \"Stations loading - 3 Clusters - CAH\") +\n",
        "    theme(plot.title = element_text(size = 15, hjust = 0.5)),\n",
        "\n",
        "  ggplot(coord, aes(x = longitude, y = latitude)) +\n",
        "    geom_point(data = coord[indices_bas, ], aes(shape = \"Vallée\"), color = \"green\", size = 2) +\n",
        "    geom_point(data = coord[indices_haut, ], aes(shape = \"Colline\"), color = \"red\", size = 2) +\n",
        "    scale_shape_manual(name = \"Legend\", values = c(\"Vallée\" = 18, \"Colline\" = 18)) +\n",
        "    labs(title = \"Altitude des stations\") +\n",
        "    theme(plot.title = element_text(size = 15, hjust = 0.5)),\n",
        "\n",
        "  ggplot(coord, aes(x = longitude, y = latitude)) +\n",
        "  geom_point(data = coord[indices_autres, ], aes(shape = \"Autres\"), color = \"yellow\", size = 2) +\n",
        "  geom_point(data = coord[indices_seine, ], aes(shape = \"Proche de la Seine\"), color = \"blue\", size = 2) +\n",
        "  scale_shape_manual(name = \"Legend\", values = c(\"Autres\" = 18, \"Proche de la Seine\" = 18)) +\n",
        "  labs(title = \"Stations proches ou non de la Seine\") +\n",
        "  theme(plot.title = element_text(size = 15, hjust = 0.5)),\n",
        "\n",
        "  ncol=3\n",
        ")"
      ]
    },
    {
      "cell_type": "code",
      "execution_count": null,
      "id": "YZDRgJJ4AbgT",
      "metadata": {
        "id": "YZDRgJJ4AbgT"
      },
      "outputs": [],
      "source": [
        "tbl1 = table(coord$localisation, reshclust3)\n",
        "tbl2 = table(coord$bonus, reshclust3)\n",
        "\n",
        "options(repr.plot.width = 10, repr.plot.height = 6)\n",
        "grid.arrange(\n",
        "  mosaicplot(tbl1, color=c(2:4), main=\"Mosaicplot clusters-Seine\"),\n",
        "  mosaicplot(tbl2, color=c(2:4), main=\"Mosaicplot clusters-altitude\"),\n",
        "  ncol=2\n",
        ")\n",
        "\n",
        "options(repr.plot.width = 20, repr.plot.height = 6)\n",
        "grid.arrange(\n",
        "    fviz_pca_ind(pca, axes=c(1,2), geom=c(\"point\"), habillage=as.factor(reshclust3), palette=c(2:4)) + ggtitle(\"Individuals factor map - PCA \"),\n",
        "    fviz_pca_ind(pca, geom = c(\"point\"), col.ind = coord$couleurs2, palette = c(\"green\",\"red\")) + ggtitle(\"Individuals factor map - PCA\"),\n",
        "    fviz_pca_ind(pca, geom = c(\"point\"), col.ind = coord$couleurs1, palette = c(\"yellow\",\"blue\")) + ggtitle(\"Individuals factor map - PCA \"),\n",
        "    ncol=3\n",
        ")"
      ]
    },
    {
      "cell_type": "markdown",
      "id": "dvM_frvJZHIx",
      "metadata": {
        "id": "dvM_frvJZHIx"
      },
      "source": [
        "### Clustering avec les Modèles Mixtes Gaussiens (GMM)"
      ]
    },
    {
      "cell_type": "code",
      "execution_count": null,
      "id": "6dB75Uk3ZHI3",
      "metadata": {
        "id": "6dB75Uk3ZHI3"
      },
      "outputs": [],
      "source": [
        "resBICall = mclustBIC(loading_reduced, G=2:20)\n",
        "summary(resBICall)\n",
        "\n",
        "resBICall = Mclust(loading_reduced, G=2:20)\n",
        "summary(resBICall)\n",
        "\n",
        "fviz_mclust(resBICall, what=\"BIC\")"
      ]
    },
    {
      "cell_type": "markdown",
      "id": "6CKN3SAabXwR",
      "metadata": {
        "id": "6CKN3SAabXwR"
      },
      "source": [
        "La solution optimale est 10 avec comme model VVE mais ici nous allons garder 6 et 3 par cohérence avec ce que nous avons fait précédemment."
      ]
    },
    {
      "cell_type": "code",
      "execution_count": null,
      "id": "j3iLWfXaZHI5",
      "metadata": {
        "id": "j3iLWfXaZHI5"
      },
      "outputs": [],
      "source": [
        "resBIC1 = Mclust(loading_reduced, G=6, modelNames = \"VVE\")\n",
        "resBIC2 = Mclust(loading_reduced, G=4, modelNames = \"VVE\")\n",
        "resBIC3 = Mclust(loading_reduced, G=3, modelNames = \"VVE\")\n",
        "\n",
        "cluster_counts1 <- table(resBIC1$classification)\n",
        "cluster_counts2 <- table(resBIC2$classification)\n",
        "cluster_counts3 <- table(resBIC3$classification)\n",
        "\n",
        "barplot(cluster_counts1, main = \"Répartition des stations pour 6 clusters - GMM\", xlab = \"Cluster\", ylab = \"Nombre de stations\", col = c(2:7))\n",
        "barplot(cluster_counts2, main = \"Répartition des stations pour 4 clusters - GMM\", xlab = \"Cluster\", ylab = \"Nombre de stations\", col = c(2:5))\n",
        "barplot(cluster_counts3, main = \"Répartition des stations pour 3 clusters - GMM\", xlab = \"Cluster\", ylab = \"Nombre de stations\", col = c(2:4))"
      ]
    },
    {
      "cell_type": "markdown",
      "id": "0ghPf4E5ZHI6",
      "metadata": {
        "id": "0ghPf4E5ZHI6"
      },
      "source": [
        "Ici, on ne fait que la méthode avec BIC et non ICL car les résultats des deux méthodes sont identiques"
      ]
    },
    {
      "cell_type": "markdown",
      "id": "iT43avGRZHI6",
      "metadata": {
        "id": "iT43avGRZHI6"
      },
      "source": [
        "#### Avec 6 clusters"
      ]
    },
    {
      "cell_type": "code",
      "execution_count": null,
      "id": "7znKPSAwZHI7",
      "metadata": {
        "id": "7znKPSAwZHI7"
      },
      "outputs": [],
      "source": [
        "options(repr.plot.width = 10, repr.plot.height = 7)\n",
        "\n",
        "cluster1_gmm_6 <- which(resBIC1$classification == 1)\n",
        "cluster2_gmm_6 <- which(resBIC1$classification == 2)\n",
        "cluster3_gmm_6 <- which(resBIC1$classification == 3)\n",
        "cluster4_gmm_6 <- which(resBIC1$classification == 4)\n",
        "cluster5_gmm_6 <- which(resBIC1$classification == 5)\n",
        "cluster6_gmm_6 <- which(resBIC1$classification == 6)\n",
        "\n",
        "mean1_gmm_6 <- colMeans(loading[cluster1_gmm_6,])\n",
        "mean2_gmm_6 <- colMeans(loading[cluster2_gmm_6,])\n",
        "mean3_gmm_6 <- colMeans(loading[cluster3_gmm_6,])\n",
        "mean4_gmm_6 <- colMeans(loading[cluster4_gmm_6,])\n",
        "mean5_gmm_6 <- colMeans(loading[cluster5_gmm_6,])\n",
        "mean6_gmm_6 <- colMeans(loading[cluster6_gmm_6,])\n",
        "\n",
        "x <- 1:168\n",
        "\n",
        "# Affichage des courbes\n",
        "plot(x, mean1_gmm_6, type = \"l\", col = 2, xlab = \"Heures de la semaine\", ylab = \"Valeur mesurée\", main = \"Valeur mesurée pour 6 clusters - GMM\", xlim = c(1, 168), ylim = c(0, 1))\n",
        "lines(x, mean2_gmm_6, col = 3)\n",
        "lines(x, mean3_gmm_6, col = 4)\n",
        "lines(x, mean4_gmm_6, col = 5)\n",
        "lines(x, mean5_gmm_6, col = 6)\n",
        "lines(x, mean6_gmm_6, col = 7)\n",
        "\n",
        "# Légende\n",
        "legend(\"topright\", legend = paste(\"Cluster\", 1:6), col = c(2:7), lty = 1)\n",
        "\n",
        "fviz_pca_ind(pca, axes=c(1,2), geom=c(\"point\"), habillage=as.factor(resBIC1$classification), palette=c(2:7)) + ggtitle(\"Graphe des individus de l'ACP pour 6 clusters\")\n",
        "\n",
        "ggplot(coord, aes(x = longitude, y = latitude)) +\n",
        "  geom_point(data = coord[cluster1_gmm_6, ], aes(shape = \"cluster1\"), color = 2, size = 2) +\n",
        "  geom_point(data = coord[cluster2_gmm_6, ], aes(shape = \"cluster2\"), color = 3, size = 2) +\n",
        "  geom_point(data = coord[cluster3_gmm_6, ], aes(shape = \"cluster3\"), color = 4, size = 2) +\n",
        "  geom_point(data = coord[cluster4_gmm_6, ], aes(shape = \"cluster4\"), color = 5, size = 2) +\n",
        "  geom_point(data = coord[cluster5_gmm_6, ], aes(shape = \"cluster5\"), color = 6, size = 2) +\n",
        "  geom_point(data = coord[cluster6_gmm_6, ], aes(shape = \"cluster6\"), color = 7, size = 2) +\n",
        "  scale_shape_manual(name = \"Legend\", values = c(\"cluster1\" = 18, \"cluster2\" = 18, \"cluster3\" = 18, \"cluster4\" = 18, \"cluster5\" = 18, \"cluster6\" = 18)) +\n",
        "  labs(title = \"Stations loading - 6 Clusters - Méthode GMM\") +\n",
        "  theme(plot.title = element_text(size = 15, hjust = 0.5))"
      ]
    },
    {
      "cell_type": "code",
      "execution_count": null,
      "id": "vg2k5NzMZHI8",
      "metadata": {
        "id": "vg2k5NzMZHI8"
      },
      "outputs": [],
      "source": [
        "x <- 1:168\n",
        "\n",
        "#timeTick = 1 + 24* (0:6)\n",
        "#abline(v=timeTick, col=\"#048B9A\") + abline(h=0, col=\"#A10684\") + abline(v=timeTick+11, col='pink')\n",
        "\n",
        "plot(x, mean1_gmm_6, type = \"l\", col = 2, xlab = \"Heures de la semaine\", ylab = \"Valeur mesurée\", main = \"Cluster 1\", xlim = c(1, 168), ylim = c(0, 1))\n",
        "plot(x, mean2_gmm_6, type = \"l\", col = 3, xlab = \"Heures de la semaine\", ylab = \"Valeur mesurée\", main = \"Cluster 2\", xlim = c(1, 168), ylim = c(0, 1))\n",
        "plot(x, mean3_gmm_6, type = \"l\", col = 4, xlab = \"Heures de la semaine\", ylab = \"Valeur mesurée\", main = \"Cluster 3\", xlim = c(1, 168), ylim = c(0, 1))\n",
        "plot(x, mean4_gmm_6, type = \"l\", col = 5, xlab = \"Heures de la semaine\", ylab = \"Valeur mesurée\", main = \"Cluster 4\", xlim = c(1, 168), ylim = c(0, 1))\n",
        "plot(x, mean5_gmm_6, type = \"l\", col = 6, xlab = \"Heures de la semaine\", ylab = \"Valeur mesurée\", main = \"Cluster 5\", xlim = c(1, 168), ylim = c(0, 1))\n",
        "plot(x, mean6_gmm_6, type = \"l\", col = 7, xlab = \"Heures de la semaine\", ylab = \"Valeur mesurée\", main = \"Cluster 6\", xlim = c(1, 168), ylim = c(0, 1))"
      ]
    },
    {
      "cell_type": "code",
      "execution_count": null,
      "id": "b74Nld8OZHI9",
      "metadata": {
        "id": "b74Nld8OZHI9"
      },
      "outputs": [],
      "source": [
        "options(repr.plot.width = 20, repr.plot.height = 5)\n",
        "\n",
        "grid.arrange(\n",
        "  ggplot(coord, aes(x = longitude, y = latitude)) +\n",
        "    geom_point(data = coord[cluster1_gmm_6, ], aes(shape = \"cluster1\"), color = 2, size = 2) +\n",
        "    geom_point(data = coord[cluster2_gmm_6, ], aes(shape = \"cluster2\"), color = 3, size = 2) +\n",
        "    geom_point(data = coord[cluster3_gmm_6, ], aes(shape = \"cluster3\"), color = 4, size = 2) +\n",
        "    geom_point(data = coord[cluster4_gmm_6, ], aes(shape = \"cluster4\"), color = 5, size = 2) +\n",
        "    geom_point(data = coord[cluster5_gmm_6, ], aes(shape = \"cluster5\"), color = 6, size = 2) +\n",
        "    geom_point(data = coord[cluster6_gmm_6, ], aes(shape = \"cluster6\"), color = 7, size = 2) +\n",
        "    scale_shape_manual(name = \"Legend\", values = c(\"cluster1\" = 18, \"cluster2\" = 18, \"cluster3\" = 18, \"cluster4\" = 18, \"cluster5\" = 18, \"cluster6\" = 18)) +\n",
        "    labs(title = \"Stations loading - 6 Clusters - Méthode GMM\") +\n",
        "    theme(plot.title = element_text(size = 15, hjust = 0.5)),\n",
        "\n",
        "  ggplot(coord, aes(x = longitude, y = latitude)) +\n",
        "    geom_point(data = coord[indices_bas, ], aes(shape = \"Vallée\"), color = \"green\", size = 2) +\n",
        "    geom_point(data = coord[indices_haut, ], aes(shape = \"Colline\"), color = \"red\", size = 2) +\n",
        "    scale_shape_manual(name = \"Legend\", values = c(\"Vallée\" = 18, \"Colline\" = 18)) +\n",
        "    labs(title = \"Altitude des stations\") +\n",
        "    theme(plot.title = element_text(size = 15, hjust = 0.5)),\n",
        "\n",
        "  ggplot(coord, aes(x = longitude, y = latitude)) +\n",
        "    geom_point(data = coord[indices_autres, ], aes(shape = \"Autres\"), color = \"yellow\", size = 2) +\n",
        "    geom_point(data = coord[indices_seine, ], aes(shape = \"Proche de la Seine\"), color = \"blue\", size = 2) +\n",
        "    scale_shape_manual(name = \"Legend\", values = c(\"Autres\" = 18, \"Proche de la Seine\" = 18)) +\n",
        "    labs(title = \"Stations proches ou non de la Seine\") +\n",
        "    theme(plot.title = element_text(size = 15, hjust = 0.5)),\n",
        "\n",
        "  ncol=3\n",
        ")"
      ]
    },
    {
      "cell_type": "code",
      "execution_count": null,
      "id": "0RuoEw_jZHI-",
      "metadata": {
        "id": "0RuoEw_jZHI-"
      },
      "outputs": [],
      "source": [
        "tbl1 = table(coord$localisation, resBIC1$classification)\n",
        "tbl2 = table(coord$bonus, resBIC1$classification)\n",
        "\n",
        "options(repr.plot.width = 10, repr.plot.height = 6)\n",
        "grid.arrange(\n",
        "  mosaicplot(tbl1, color=c(2:7), main=\"Mosaicplot clusters-Seine\"),\n",
        "  mosaicplot(tbl2, color=c(2:7), main=\"Mosaicplot clusters-altitude\"),\n",
        "  ncol=2\n",
        ")\n",
        "\n",
        "options(repr.plot.width = 20, repr.plot.height = 6)\n",
        "grid.arrange(\n",
        "    fviz_pca_ind(pca, axes=c(1,2), geom=c(\"point\"), habillage=as.factor(resBIC1$classification), palette=c(2:7)) + ggtitle(\"Individuals factor map - PCA \"),\n",
        "    fviz_pca_ind(pca, geom = c(\"point\"), col.ind = coord$couleurs2, palette = c(\"green\",\"red\")) + ggtitle(\"Individuals factor map - PCA\"),\n",
        "    fviz_pca_ind(pca, geom = c(\"point\"), col.ind = coord$couleurs1, palette = c(\"yellow\",\"blue\")) + ggtitle(\"Individuals factor map - PCA \"),\n",
        "\n",
        "    ncol=3\n",
        ")"
      ]
    },
    {
      "cell_type": "markdown",
      "id": "-unbVAW6IWe5",
      "metadata": {
        "id": "-unbVAW6IWe5"
      },
      "source": [
        "#### Avec 4 clusters"
      ]
    },
    {
      "cell_type": "code",
      "execution_count": null,
      "id": "SL7zpWKcIWe9",
      "metadata": {
        "id": "SL7zpWKcIWe9"
      },
      "outputs": [],
      "source": [
        "options(repr.plot.width = 10, repr.plot.height = 7)\n",
        "\n",
        "cluster1_gmm_4 <- which(resBIC2$classification == 1)\n",
        "cluster2_gmm_4 <- which(resBIC2$classification == 2)\n",
        "cluster3_gmm_4 <- which(resBIC2$classification == 3)\n",
        "cluster4_gmm_4 <- which(resBIC2$classification == 4)\n",
        "\n",
        "mean1_gmm_4 <- colMeans(loading[cluster1_gmm_4,])\n",
        "mean2_gmm_4 <- colMeans(loading[cluster2_gmm_4,])\n",
        "mean3_gmm_4 <- colMeans(loading[cluster3_gmm_4,])\n",
        "mean4_gmm_4 <- colMeans(loading[cluster4_gmm_4,])\n",
        "\n",
        "x <- 1:168\n",
        "\n",
        "# Affichage des courbes\n",
        "plot(x, mean1_gmm_4, type = \"l\", col = 2, xlab = \"Heures de la semaine\", ylab = \"Valeur mesurée\", main = \"Valeur mesurée pour 4 clusters - GMM\", xlim = c(1, 168), ylim = c(0, 1))\n",
        "lines(x, mean2_gmm_4, col = 3)\n",
        "lines(x, mean3_gmm_4, col = 4)\n",
        "lines(x, mean4_gmm_4, col = 5)\n",
        "\n",
        "# Légende\n",
        "legend(\"topright\", legend = paste(\"Cluster\", 1:4), col = c(2:5), lty = 1)\n",
        "\n",
        "fviz_pca_ind(pca, axes=c(1,2), geom=c(\"point\"), habillage=as.factor(resBIC2$classification), palette=c(2:5)) + ggtitle(\"Graphe des individus de l'ACP pour 6 clusters\")\n",
        "\n",
        "ggplot(coord, aes(x = longitude, y = latitude)) +\n",
        "  geom_point(data = coord[cluster1_gmm_4, ], aes(shape = \"cluster1\"), color = 2, size = 2) +\n",
        "  geom_point(data = coord[cluster2_gmm_4, ], aes(shape = \"cluster2\"), color = 3, size = 2) +\n",
        "  geom_point(data = coord[cluster3_gmm_4, ], aes(shape = \"cluster3\"), color = 4, size = 2) +\n",
        "  geom_point(data = coord[cluster4_gmm_4, ], aes(shape = \"cluster4\"), color = 5, size = 2) +\n",
        "  scale_shape_manual(name = \"Legend\", values = c(\"cluster1\" = 18, \"cluster2\" = 18, \"cluster3\" = 18, \"cluster4\" = 18)) +\n",
        "  labs(title = \"Stations loading - 4 Clusters - Méthode GMM\") +\n",
        "  theme(plot.title = element_text(size = 15, hjust = 0.5))"
      ]
    },
    {
      "cell_type": "code",
      "execution_count": null,
      "id": "x2nDPO5aIWe_",
      "metadata": {
        "id": "x2nDPO5aIWe_"
      },
      "outputs": [],
      "source": [
        "x <- 1:168\n",
        "\n",
        "#timeTick = 1 + 24* (0:6)\n",
        "#abline(v=timeTick, col=\"#048B9A\") + abline(h=0, col=\"#A10684\") + abline(v=timeTick+11, col='pink')\n",
        "\n",
        "plot(x, mean1_gmm_4, type = \"l\", col = 2, xlab = \"Heures de la semaine\", ylab = \"Valeur mesurée\", main = \"Cluster 1\", xlim = c(1, 168), ylim = c(0, 1))\n",
        "plot(x, mean2_gmm_4, type = \"l\", col = 3, xlab = \"Heures de la semaine\", ylab = \"Valeur mesurée\", main = \"Cluster 2\", xlim = c(1, 168), ylim = c(0, 1))\n",
        "plot(x, mean3_gmm_4, type = \"l\", col = 4, xlab = \"Heures de la semaine\", ylab = \"Valeur mesurée\", main = \"Cluster 3\", xlim = c(1, 168), ylim = c(0, 1))\n",
        "plot(x, mean4_gmm_4, type = \"l\", col = 5, xlab = \"Heures de la semaine\", ylab = \"Valeur mesurée\", main = \"Cluster 4\", xlim = c(1, 168), ylim = c(0, 1))"
      ]
    },
    {
      "cell_type": "code",
      "execution_count": null,
      "id": "hYcSNPKWIWfA",
      "metadata": {
        "id": "hYcSNPKWIWfA"
      },
      "outputs": [],
      "source": [
        "options(repr.plot.width = 20, repr.plot.height = 5)\n",
        "\n",
        "grid.arrange(\n",
        "  ggplot(coord, aes(x = longitude, y = latitude)) +\n",
        "    geom_point(data = coord[cluster1_gmm_4, ], aes(shape = \"cluster1\"), color = 2, size = 2) +\n",
        "    geom_point(data = coord[cluster2_gmm_4, ], aes(shape = \"cluster2\"), color = 3, size = 2) +\n",
        "    geom_point(data = coord[cluster3_gmm_4, ], aes(shape = \"cluster3\"), color = 4, size = 2) +\n",
        "    geom_point(data = coord[cluster4_gmm_4, ], aes(shape = \"cluster4\"), color = 5, size = 2) +\n",
        "    scale_shape_manual(name = \"Legend\", values = c(\"cluster1\" = 18, \"cluster2\" = 18, \"cluster3\" = 18, \"cluster4\" = 18)) +\n",
        "    labs(title = \"Stations loading - 4 Clusters - Méthode GMM\") +\n",
        "    theme(plot.title = element_text(size = 15, hjust = 0.5)),\n",
        "\n",
        "  ggplot(coord, aes(x = longitude, y = latitude)) +\n",
        "    geom_point(data = coord[indices_bas, ], aes(shape = \"Vallée\"), color = \"green\", size = 2) +\n",
        "    geom_point(data = coord[indices_haut, ], aes(shape = \"Colline\"), color = \"red\", size = 2) +\n",
        "    scale_shape_manual(name = \"Legend\", values = c(\"Vallée\" = 18, \"Colline\" = 18)) +\n",
        "    labs(title = \"Altitude des stations\") +\n",
        "    theme(plot.title = element_text(size = 15, hjust = 0.5)),\n",
        "\n",
        "  ggplot(coord, aes(x = longitude, y = latitude)) +\n",
        "    geom_point(data = coord[indices_autres, ], aes(shape = \"Autres\"), color = \"yellow\", size = 2) +\n",
        "    geom_point(data = coord[indices_seine, ], aes(shape = \"Proche de la Seine\"), color = \"blue\", size = 2) +\n",
        "    scale_shape_manual(name = \"Legend\", values = c(\"Autres\" = 18, \"Proche de la Seine\" = 18)) +\n",
        "    labs(title = \"Stations proches ou non de la Seine\") +\n",
        "    theme(plot.title = element_text(size = 15, hjust = 0.5)),\n",
        "\n",
        "  ncol=3\n",
        ")"
      ]
    },
    {
      "cell_type": "code",
      "execution_count": null,
      "id": "ehhD54-PIWfB",
      "metadata": {
        "id": "ehhD54-PIWfB"
      },
      "outputs": [],
      "source": [
        "tbl1 = table(coord$localisation, resBIC2$classification)\n",
        "tbl2 = table(coord$bonus, resBIC2$classification)\n",
        "\n",
        "options(repr.plot.width = 10, repr.plot.height = 6)\n",
        "grid.arrange(\n",
        "  mosaicplot(tbl1, color=c(2:5), main=\"Mosaicplot clusters-Seine\"),\n",
        "  mosaicplot(tbl2, color=c(2:5), main=\"Mosaicplot clusters-altitude\"),\n",
        "  ncol=2\n",
        ")\n",
        "\n",
        "options(repr.plot.width = 20, repr.plot.height = 6)\n",
        "grid.arrange(\n",
        "    fviz_pca_ind(pca, axes=c(1,2), geom=c(\"point\"), habillage=as.factor(resBIC2$classification), palette=c(2:5)) + ggtitle(\"Individuals factor map - PCA \"),\n",
        "    fviz_pca_ind(pca, geom = c(\"point\"), col.ind = coord$couleurs2, palette = c(\"green\",\"red\")) + ggtitle(\"Individuals factor map - PCA\"),\n",
        "    fviz_pca_ind(pca, geom = c(\"point\"), col.ind = coord$couleurs1, palette = c(\"yellow\",\"blue\")) + ggtitle(\"Individuals factor map - PCA \"),\n",
        "\n",
        "    ncol=3\n",
        ")"
      ]
    },
    {
      "cell_type": "markdown",
      "id": "qM6lDwLQZHJC",
      "metadata": {
        "id": "qM6lDwLQZHJC"
      },
      "source": [
        "#### Avec 3 clusters"
      ]
    },
    {
      "cell_type": "code",
      "execution_count": null,
      "id": "7Pc9U-cOZHJC",
      "metadata": {
        "id": "7Pc9U-cOZHJC"
      },
      "outputs": [],
      "source": [
        "options(repr.plot.width = 10, repr.plot.height = 7)\n",
        "\n",
        "cluster1_gmm_3 <- which(resBIC3$classification == 1)\n",
        "cluster2_gmm_3 <- which(resBIC3$classification == 2)\n",
        "cluster3_gmm_3 <- which(resBIC3$classification == 3)\n",
        "\n",
        "mean1_gmm_3 <- colMeans(loading[cluster1_gmm_3,])\n",
        "mean2_gmm_3 <- colMeans(loading[cluster2_gmm_3,])\n",
        "mean3_gmm_3 <- colMeans(loading[cluster3_gmm_3,])\n",
        "\n",
        "x <- 1:168\n",
        "\n",
        "# Affichage des courbes\n",
        "plot(x, mean1_gmm_3, type = \"l\", col = 2, xlab = \"Heures de la semaine\", ylab = \"Valeur mesurée\", main = \"Valeur mesurée pour 3 clusters - GMM\", xlim = c(1, 168), ylim = c(0, 1))\n",
        "lines(x, mean2_gmm_3, col = 3)\n",
        "lines(x, mean3_gmm_3, col = 4)\n",
        "\n",
        "# Légende\n",
        "legend(\"topright\", legend = paste(\"Cluster\", 1:3), col = c(2:4), lty = 1)\n",
        "\n",
        "fviz_pca_ind(pca, axes=c(1,2), geom=c(\"point\"), habillage=as.factor(resBIC3$classification), palette=c(2:4)) + ggtitle(\"Graphe des individus de l'ACP pour 3 clusters\")\n",
        "\n",
        "ggplot(coord, aes(x = longitude, y = latitude)) +\n",
        "  geom_point(data = coord[cluster1_gmm_3, ], aes(shape = \"cluster1\"), color = 2, size = 2) +\n",
        "  geom_point(data = coord[cluster2_gmm_3, ], aes(shape = \"cluster2\"), color = 3, size = 2) +\n",
        "  geom_point(data = coord[cluster3_gmm_3, ], aes(shape = \"cluster3\"), color = 4, size = 2) +\n",
        "  scale_shape_manual(name = \"Legend\", values = c(\"cluster1\" = 18, \"cluster2\" = 18, \"cluster3\" = 18)) +\n",
        "  labs(title = \"Stations loading - 3 Clusters - Méthode GMM\") +\n",
        "  theme(plot.title = element_text(size = 15, hjust = 0.5))"
      ]
    },
    {
      "cell_type": "code",
      "execution_count": null,
      "id": "Vucck-87ZHJD",
      "metadata": {
        "id": "Vucck-87ZHJD"
      },
      "outputs": [],
      "source": [
        "#timeTick = 1 + 24* (0:6)\n",
        "#abline(v=timeTick, col=\"#048B9A\") + abline(h=0, col=\"#A10684\") + abline(v=timeTick+11, col='pink')\n",
        "\n",
        "x <- 1:168\n",
        "\n",
        "# Affichage des courbes\n",
        "plot(x, mean1_gmm_3, type = \"l\", col = 2, xlab = \"Heures de la semaine\", ylab = \"Valeur mesurée\", main = \"Cluster 1\", xlim = c(1, 168), ylim = c(0, 1))\n",
        "plot(x, mean2_gmm_3, type = \"l\", col = 3, xlab = \"Heures de la semaine\", ylab = \"Valeur mesurée\", main = \"Cluster 2\", xlim = c(1, 168), ylim = c(0, 1))\n",
        "plot(x, mean3_gmm_3, type = \"l\", col = 4, xlab = \"Heures de la semaine\", ylab = \"Valeur mesurée\", main = \"Cluster 3\", xlim = c(1, 168), ylim = c(0, 1))"
      ]
    },
    {
      "cell_type": "code",
      "execution_count": null,
      "id": "v2fEV6eYZHJD",
      "metadata": {
        "id": "v2fEV6eYZHJD"
      },
      "outputs": [],
      "source": [
        "options(repr.plot.width = 20, repr.plot.height = 5)\n",
        "\n",
        "grid.arrange(\n",
        "  ggplot(coord, aes(x = longitude, y = latitude)) +\n",
        "    geom_point(data = coord[cluster1_gmm_3, ], aes(shape = \"cluster1\"), color = 2, size = 2) +\n",
        "    geom_point(data = coord[cluster2_gmm_3, ], aes(shape = \"cluster2\"), color = 3, size = 2) +\n",
        "    geom_point(data = coord[cluster3_gmm_3, ], aes(shape = \"cluster3\"), color = 4, size = 2) +\n",
        "    scale_shape_manual(name = \"Legend\", values = c(\"cluster1\" = 18, \"cluster2\" = 18, \"cluster3\" = 18)) +\n",
        "    labs(title = \"Stations loading - 3 Clusters - Méthode GMM\") +\n",
        "    theme(plot.title = element_text(size = 15, hjust = 0.5)),\n",
        "\n",
        "  ggplot(coord, aes(x = longitude, y = latitude)) +\n",
        "    geom_point(data = coord[indices_bas, ], aes(shape = \"Vallée\"), color = \"green\", size = 2) +\n",
        "    geom_point(data = coord[indices_haut, ], aes(shape = \"Colline\"), color = \"red\", size = 2) +\n",
        "    scale_shape_manual(name = \"Legend\", values = c(\"Vallée\" = 18, \"Colline\" = 18)) +\n",
        "    labs(title = \"Altitude des stations\") +\n",
        "    theme(plot.title = element_text(size = 15, hjust = 0.5)),\n",
        "\n",
        "  ggplot(coord, aes(x = longitude, y = latitude)) +\n",
        "  geom_point(data = coord[indices_autres, ], aes(shape = \"Autres\"), color = \"yellow\", size = 2) +\n",
        "  geom_point(data = coord[indices_seine, ], aes(shape = \"Proche de la Seine\"), color = \"blue\", size = 2) +\n",
        "  scale_shape_manual(name = \"Legend\", values = c(\"Autres\" = 18, \"Proche de la Seine\" = 18)) +\n",
        "  labs(title = \"Stations proches ou non de la Seine\") +\n",
        "  theme(plot.title = element_text(size = 15, hjust = 0.5)),\n",
        "\n",
        "  ncol=3\n",
        ")"
      ]
    },
    {
      "cell_type": "code",
      "execution_count": null,
      "id": "mq7171aBZHJE",
      "metadata": {
        "id": "mq7171aBZHJE"
      },
      "outputs": [],
      "source": [
        "tbl1 = table(coord$localisation, resBIC3$classification)\n",
        "tbl2 = table(coord$bonus, resBIC3$classification)\n",
        "\n",
        "options(repr.plot.width = 10, repr.plot.height = 6)\n",
        "grid.arrange(\n",
        "  mosaicplot(tbl1, color=c(2:4), main=\"Mosaicplot clusters-Seine\"),\n",
        "  mosaicplot(tbl2, color=c(2:4), main=\"Mosaicplot clusters-altitude\"),\n",
        "  ncol=2\n",
        ")\n",
        "\n",
        "options(repr.plot.width = 20, repr.plot.height = 6)\n",
        "grid.arrange(\n",
        "    fviz_pca_ind(pca, axes=c(1,2), geom=c(\"point\"), habillage=as.factor(resBIC3$classification), palette=c(2:4)) + ggtitle(\"Individuals factor map - PCA \"),\n",
        "    fviz_pca_ind(pca, geom = c(\"point\"), col.ind = coord$couleurs2, palette = c(\"green\",\"red\")) + ggtitle(\"Individuals factor map - PCA\"),\n",
        "    fviz_pca_ind(pca, geom = c(\"point\"), col.ind = coord$couleurs1, palette = c(\"yellow\",\"blue\")) + ggtitle(\"Individuals factor map - PCA \"),\n",
        "    ncol=3\n",
        ")"
      ]
    },
    {
      "cell_type": "markdown",
      "id": "Ccg-vU0P_vmb",
      "metadata": {
        "id": "Ccg-vU0P_vmb"
      },
      "source": [
        "### Comparaison des méthodes"
      ]
    },
    {
      "cell_type": "code",
      "execution_count": null,
      "id": "TfOlUox5_vmr",
      "metadata": {
        "id": "TfOlUox5_vmr"
      },
      "outputs": [],
      "source": [
        "matchClasses <- function(classif1, classif2) {\n",
        "  cm <- table(classif1, classif2)\n",
        "  K <- nrow(cm)\n",
        "  a <- integer(K)\n",
        "  b <- integer(K)\n",
        "\n",
        "  for (j in 1:K) {\n",
        "    for (i in 1:K) {\n",
        "      if (a[j] < cm[i, j]) {\n",
        "        a[j] <- cm[i, j]\n",
        "        b[j] <- i\n",
        "      }\n",
        "    }\n",
        "  }\n",
        "\n",
        "  clusters <- classif2\n",
        "  n <- length(classif2)\n",
        "  for (i in 1:n) {\n",
        "    for (j in 1:K) {\n",
        "      if (classif2[i] == j) {\n",
        "        clusters[i] <- b[j]\n",
        "      }\n",
        "    }\n",
        "  }\n",
        "\n",
        "  return (clusters)\n",
        "}"
      ]
    },
    {
      "cell_type": "markdown",
      "id": "heYSdsq6_vms",
      "metadata": {
        "id": "heYSdsq6_vms"
      },
      "source": [
        "#### Avec 6 clusters"
      ]
    },
    {
      "cell_type": "code",
      "execution_count": null,
      "id": "MF11gCfG_vms",
      "metadata": {
        "id": "MF11gCfG_vms"
      },
      "outputs": [],
      "source": [
        "grid.arrange(\n",
        "    fviz_pca_ind(pca, axes=c(1,2), geom=c(\"point\"), habillage=as.factor(reskmeans1$cluster), palette=c(2:7)) + ggtitle(\"K-means pour 6 clusters\"),\n",
        "    fviz_pca_ind(pca, axes=c(1,2), geom=c(\"point\"), habillage=as.factor(reshclust1), palette=c(2:7)) + ggtitle(\"CAH pour 6 clusters\"),\n",
        "    fviz_pca_ind(pca, axes=c(1,2), geom=c(\"point\"), habillage=as.factor(resBIC1$classification), palette=c(2:7)) + ggtitle(\"GMM pour 6 clusters\"),\n",
        "    ncol=3\n",
        ")"
      ]
    },
    {
      "cell_type": "markdown",
      "id": "EFv9SRDB_vmt",
      "metadata": {
        "id": "EFv9SRDB_vmt"
      },
      "source": [
        "##### k-means Vs GMM"
      ]
    },
    {
      "cell_type": "code",
      "execution_count": null,
      "id": "Kh--VIWy_vmt",
      "metadata": {
        "id": "Kh--VIWy_vmt"
      },
      "outputs": [],
      "source": [
        "new_cluster1 <- matchClasses(resBIC1$classification, reskmeans1$cluster)\n",
        "conf_mat = confusion_matrix(targets=resBIC1$classification, predictions=new_cluster1)\n",
        "plot_confusion_matrix(conf_mat)"
      ]
    },
    {
      "cell_type": "code",
      "execution_count": null,
      "id": "bqJdKLO5_vmu",
      "metadata": {
        "id": "bqJdKLO5_vmu"
      },
      "outputs": [],
      "source": [
        "options(repr.plot.width = 10, repr.plot.height = 7)\n",
        "\n",
        "cluster1_kmeans_62 <- which(new_cluster1 == 1)\n",
        "cluster2_kmeans_62 <- which(new_cluster1 == 2)\n",
        "cluster3_kmeans_62 <- which(new_cluster1 == 3)\n",
        "cluster4_kmeans_62 <- which(new_cluster1 == 4)\n",
        "cluster5_kmeans_62 <- which(new_cluster1 == 5)\n",
        "cluster6_kmeans_62 <- which(new_cluster1 == 6)\n",
        "\n",
        "ggplot(coord, aes(x = longitude, y = latitude)) +\n",
        "  geom_point(data = coord[cluster1_kmeans_62, ], aes(shape = \"cluster1\"), color = 2, size = 2) +\n",
        "  geom_point(data = coord[cluster2_kmeans_62, ], aes(shape = \"cluster2\"), color = 3, size = 2) +\n",
        "  geom_point(data = coord[cluster3_kmeans_62, ], aes(shape = \"cluster3\"), color = 4, size = 2) +\n",
        "  geom_point(data = coord[cluster4_kmeans_62, ], aes(shape = \"cluster4\"), color = 5, size = 2) +\n",
        "  geom_point(data = coord[cluster5_kmeans_62, ], aes(shape = \"cluster5\"), color = 6, size = 2) +\n",
        "  geom_point(data = coord[cluster6_kmeans_62, ], aes(shape = \"cluster6\"), color = 7, size = 2) +\n",
        "  scale_shape_manual(name = \"Legend\", values = c(\"cluster1\" = 18, \"cluster2\" = 18, \"cluster3\" = 18, \"cluster4\" = 18, \"cluster5\" = 18, \"cluster6\" = 18)) +\n",
        "  labs(title = \"Stations loading - 6 Clusters - Méthode K-means\") +\n",
        "  theme(plot.title = element_text(size = 15, hjust = 0.5))\n",
        "\n",
        "ggplot(coord, aes(x = longitude, y = latitude)) +\n",
        "  geom_point(data = coord[cluster1_gmm_6, ], aes(shape = \"cluster1\"), color = 2, size = 2) +\n",
        "  geom_point(data = coord[cluster2_gmm_6, ], aes(shape = \"cluster2\"), color = 3, size = 2) +\n",
        "  geom_point(data = coord[cluster3_gmm_6, ], aes(shape = \"cluster3\"), color = 4, size = 2) +\n",
        "  geom_point(data = coord[cluster4_gmm_6, ], aes(shape = \"cluster4\"), color = 5, size = 2) +\n",
        "  geom_point(data = coord[cluster5_gmm_6, ], aes(shape = \"cluster5\"), color = 6, size = 2) +\n",
        "  geom_point(data = coord[cluster6_gmm_6, ], aes(shape = \"cluster6\"), color = 7, size = 2) +\n",
        "  scale_shape_manual(name = \"Legend\", values = c(\"cluster1\" = 18, \"cluster2\" = 18, \"cluster3\" = 18, \"cluster4\" = 18, \"cluster5\" = 18, \"cluster6\" = 18)) +\n",
        "  labs(title = \"Stations loading - 6 Clusters - Méthode GMM\") +\n",
        "  theme(plot.title = element_text(size = 15, hjust = 0.5))\n",
        "\n",
        "\n",
        "n <- length(new_cluster1)\n",
        "clusters <- new_cluster1\n",
        "idx <- (new_cluster1 != resBIC1$classification)\n",
        "clusters[idx] <- 7\n",
        "cluster7 <- which(clusters == 7)\n",
        "nb_diff <- length(cluster7)\n",
        "ratio <- nb_diff/n\n",
        "\n",
        "cat(\"Ratio du nb de points classés différemment:\", ratio, \"\\n\")\n",
        "cat(\"Nb de stations classées différemment:\", nb_diff, \"\\n\")\n",
        "\n",
        "ggplot(coord, aes(x = longitude, y = latitude)) +\n",
        "  geom_point(data = coord[cluster1_kmeans_62, ], aes(shape = \"cluster1\"), color = 2, size = 2) +\n",
        "  geom_point(data = coord[cluster2_kmeans_62, ], aes(shape = \"cluster2\"), color = 3, size = 2) +\n",
        "  geom_point(data = coord[cluster3_kmeans_62, ], aes(shape = \"cluster3\"), color = 4, size = 2) +\n",
        "  geom_point(data = coord[cluster4_kmeans_62, ], aes(shape = \"cluster4\"), color = 5, size = 2) +\n",
        "  geom_point(data = coord[cluster5_kmeans_62, ], aes(shape = \"cluster5\"), color = 6, size = 2) +\n",
        "  geom_point(data = coord[cluster6_kmeans_62, ], aes(shape = \"cluster6\"), color = 7, size = 2) +\n",
        "  geom_point(data = coord[cluster7, ], aes(shape = \"différence\"), color = 1, size = 2) +\n",
        "  scale_shape_manual(name = \"Legend\", values = c(\"cluster1\" = 18, \"cluster2\" = 18, \"cluster3\" = 18, \"cluster4\" = 18, \"cluster5\" = 18, \"cluster6\" = 18, \"différence\" = 18)) +\n",
        "  labs(title = \"Stations loading - 6 Clusters - Comparaison K-means vs GMM\") +\n",
        "  theme(plot.title = element_text(size = 15, hjust = 0.5))"
      ]
    },
    {
      "cell_type": "markdown",
      "id": "J8RB08WU_vmv",
      "metadata": {
        "id": "J8RB08WU_vmv"
      },
      "source": [
        "##### k-means Vs CAH"
      ]
    },
    {
      "cell_type": "code",
      "execution_count": null,
      "id": "AMXskBPW_vmv",
      "metadata": {
        "id": "AMXskBPW_vmv"
      },
      "outputs": [],
      "source": [
        "new_cluster2 <- matchClasses(reshclust1, reskmeans1$cluster)\n",
        "conf_mat = confusion_matrix(targets=reshclust1, predictions=new_cluster2)\n",
        "plot_confusion_matrix(conf_mat)"
      ]
    },
    {
      "cell_type": "code",
      "execution_count": null,
      "id": "0OpFB7tb_vmw",
      "metadata": {
        "id": "0OpFB7tb_vmw"
      },
      "outputs": [],
      "source": [
        "options(repr.plot.width = 10, repr.plot.height = 7)\n",
        "\n",
        "cluster1_kmeans_63 <- which(new_cluster2 == 1)\n",
        "cluster2_kmeans_63 <- which(new_cluster2 == 2)\n",
        "cluster3_kmeans_63 <- which(new_cluster2 == 3)\n",
        "cluster5_kmeans_63 <- which(new_cluster2 == 5)\n",
        "\n",
        "ggplot(coord, aes(x = longitude, y = latitude)) +\n",
        "  geom_point(data = coord[cluster1_kmeans_63, ], aes(shape = \"cluster1\"), color = 2, size = 2) +\n",
        "  geom_point(data = coord[cluster2_kmeans_63, ], aes(shape = \"cluster2\"), color = 3, size = 2) +\n",
        "  geom_point(data = coord[cluster3_kmeans_63, ], aes(shape = \"cluster3\"), color = 4, size = 2) +\n",
        "  geom_point(data = coord[cluster5_kmeans_63, ], aes(shape = \"cluster5\"), color = 6, size = 2) +\n",
        "  scale_shape_manual(name = \"Legend\", values = c(\"cluster1\" = 18, \"cluster2\" = 18, \"cluster3\" = 18, \"cluster5\" = 18)) +\n",
        "  labs(title = \"Stations loading - 6 Clusters - Méthode K-means\") +\n",
        "  theme(plot.title = element_text(size = 15, hjust = 0.5))\n",
        "\n",
        "ggplot(coord, aes(x = longitude, y = latitude)) +\n",
        "  geom_point(data = coord[cluster1_cah_6, ], aes(shape = \"cluster1\"), color = 2, size = 2) +\n",
        "  geom_point(data = coord[cluster2_cah_6, ], aes(shape = \"cluster2\"), color = 3, size = 2) +\n",
        "  geom_point(data = coord[cluster3_cah_6, ], aes(shape = \"cluster3\"), color = 4, size = 2) +\n",
        "  geom_point(data = coord[cluster4_cah_6, ], aes(shape = \"cluster4\"), color = 5, size = 2) +\n",
        "  geom_point(data = coord[cluster5_cah_6, ], aes(shape = \"cluster5\"), color = 6, size = 2) +\n",
        "  geom_point(data = coord[cluster6_cah_6, ], aes(shape = \"cluster6\"), color = 7, size = 2) +\n",
        "  scale_shape_manual(name = \"Legend\", values = c(\"cluster1\" = 18, \"cluster2\" = 18, \"cluster3\" = 18, \"cluster4\" = 18, \"cluster5\" = 18, \"cluster6\" = 18)) +\n",
        "  labs(title = \"Stations loading - 6 Clusters - Méthode CAH\") +\n",
        "  theme(plot.title = element_text(size = 15, hjust = 0.5))\n",
        "\n",
        "\n",
        "n <- length(new_cluster2)\n",
        "clusters <- new_cluster2\n",
        "idx <- (new_cluster2 != reshclust1)\n",
        "clusters[idx] <- 7\n",
        "cluster7 <- which(clusters == 7)\n",
        "nb_diff <- length(cluster7)\n",
        "ratio <- nb_diff/n\n",
        "\n",
        "cat(\"Ratio du nb de points classés différemment:\", ratio, \"\\n\")\n",
        "cat(\"Nb de stations classées différemment:\", nb_diff, \"\\n\")\n",
        "\n",
        "ggplot(coord, aes(x = longitude, y = latitude)) +\n",
        "  geom_point(data = coord[cluster1_kmeans_63, ], aes(shape = \"cluster1\"), color = 2, size = 2) +\n",
        "  geom_point(data = coord[cluster2_kmeans_63, ], aes(shape = \"cluster2\"), color = 3, size = 2) +\n",
        "  geom_point(data = coord[cluster3_kmeans_63, ], aes(shape = \"cluster3\"), color = 4, size = 2) +\n",
        "  geom_point(data = coord[cluster5_kmeans_63, ], aes(shape = \"cluster5\"), color = 6, size = 2) +\n",
        "  geom_point(data = coord[cluster7, ], aes(shape = \"différence\"), color = 1, size = 2) +\n",
        "  scale_shape_manual(name = \"Legend\", values = c(\"cluster1\" = 18, \"cluster2\" = 18, \"cluster3\" = 18, \"cluster5\" = 18, \"différence\" = 18)) +\n",
        "  labs(title = \"Stations loading - 6 Clusters - Comparaison K-means vs CAH\") +\n",
        "  theme(plot.title = element_text(size = 15, hjust = 0.5))"
      ]
    },
    {
      "cell_type": "markdown",
      "id": "UpOMOsok_vmw",
      "metadata": {
        "id": "UpOMOsok_vmw"
      },
      "source": [
        "##### CAH Vs GMM"
      ]
    },
    {
      "cell_type": "code",
      "execution_count": null,
      "id": "7HAea2MV_vmx",
      "metadata": {
        "id": "7HAea2MV_vmx"
      },
      "outputs": [],
      "source": [
        "new_cluster3 <- matchClasses(resBIC1$classification, reshclust1)\n",
        "conf_mat = confusion_matrix(targets=resBIC1$classification, predictions=new_cluster3)\n",
        "plot_confusion_matrix(conf_mat)"
      ]
    },
    {
      "cell_type": "code",
      "execution_count": null,
      "id": "Xurw6A10_vmx",
      "metadata": {
        "id": "Xurw6A10_vmx"
      },
      "outputs": [],
      "source": [
        "options(repr.plot.width = 10, repr.plot.height = 7)\n",
        "\n",
        "cluster1_cah_62 <- which(new_cluster3 == 1)\n",
        "cluster2_cah_62 <- which(new_cluster3 == 2)\n",
        "cluster3_cah_62 <- which(new_cluster3 == 3)\n",
        "cluster4_cah_62 <- which(new_cluster3 == 4)\n",
        "cluster5_cah_62 <- which(new_cluster3 == 5)\n",
        "\n",
        "ggplot(coord, aes(x = longitude, y = latitude)) +\n",
        "  geom_point(data = coord[cluster1_cah_62, ], aes(shape = \"cluster1\"), color = 2, size = 2) +\n",
        "  geom_point(data = coord[cluster2_cah_62, ], aes(shape = \"cluster2\"), color = 3, size = 2) +\n",
        "  geom_point(data = coord[cluster3_cah_62, ], aes(shape = \"cluster3\"), color = 4, size = 2) +\n",
        "  geom_point(data = coord[cluster4_cah_62, ], aes(shape = \"cluster4\"), color = 5, size = 2) +\n",
        "  geom_point(data = coord[cluster5_cah_62, ], aes(shape = \"cluster5\"), color = 6, size = 2) +\n",
        "  scale_shape_manual(name = \"Legend\", values = c(\"cluster1\" = 18, \"cluster2\" = 18, \"cluster3\" = 18, \"cluster4\" = 18, \"cluster5\" = 18)) +\n",
        "  labs(title = \"Stations loading - 6 Clusters - Méthode CAH\") +\n",
        "  theme(plot.title = element_text(size = 15, hjust = 0.5))\n",
        "\n",
        "ggplot(coord, aes(x = longitude, y = latitude)) +\n",
        "  geom_point(data = coord[cluster1_gmm_6, ], aes(shape = \"cluster1\"), color = 2, size = 2) +\n",
        "  geom_point(data = coord[cluster2_gmm_6, ], aes(shape = \"cluster2\"), color = 3, size = 2) +\n",
        "  geom_point(data = coord[cluster3_gmm_6, ], aes(shape = \"cluster3\"), color = 4, size = 2) +\n",
        "  geom_point(data = coord[cluster4_gmm_6, ], aes(shape = \"cluster4\"), color = 5, size = 2) +\n",
        "  geom_point(data = coord[cluster5_gmm_6, ], aes(shape = \"cluster5\"), color = 6, size = 2) +\n",
        "  geom_point(data = coord[cluster6_gmm_6, ], aes(shape = \"cluster6\"), color = 7, size = 2) +\n",
        "  scale_shape_manual(name = \"Legend\", values = c(\"cluster1\" = 18, \"cluster2\" = 18, \"cluster3\" = 18, \"cluster4\" = 18, \"cluster5\" = 18, \"cluster6\" = 18)) +\n",
        "  labs(title = \"Stations loading - 6 Clusters - Méthode GMM\") +\n",
        "  theme(plot.title = element_text(size = 15, hjust = 0.5))\n",
        "\n",
        "\n",
        "n <- length(new_cluster3)\n",
        "clusters <- new_cluster3\n",
        "idx <- (new_cluster3 != resBIC1$classification)\n",
        "clusters[idx] <- 7\n",
        "cluster7 <- which(clusters == 7)\n",
        "nb_diff <- length(cluster7)\n",
        "ratio <- nb_diff/n\n",
        "\n",
        "cat(\"Ratio du nb de points classés différemment:\", ratio, \"\\n\")\n",
        "cat(\"Nb de stations classées différemment:\", nb_diff, \"\\n\")\n",
        "\n",
        "ggplot(coord, aes(x = longitude, y = latitude)) +\n",
        "  geom_point(data = coord[cluster1_cah_62, ], aes(shape = \"cluster1\"), color = 2, size = 2) +\n",
        "  geom_point(data = coord[cluster2_cah_62, ], aes(shape = \"cluster2\"), color = 3, size = 2) +\n",
        "  geom_point(data = coord[cluster3_cah_62, ], aes(shape = \"cluster3\"), color = 4, size = 2) +\n",
        "  geom_point(data = coord[cluster4_cah_62, ], aes(shape = \"cluster4\"), color = 5, size = 2) +\n",
        "  geom_point(data = coord[cluster5_cah_62, ], aes(shape = \"cluster5\"), color = 6, size = 2) +\n",
        "  geom_point(data = coord[cluster7, ], aes(shape = \"différence\"), color = 1, size = 2) +\n",
        "  scale_shape_manual(name = \"Legend\", values = c(\"cluster1\" = 18, \"cluster2\" = 18, \"cluster3\" = 18, \"cluster4\" = 18, \"cluster5\" = 18, \"différence\" = 18)) +\n",
        "  labs(title = \"Stations loading - 6 Clusters - Comparaison CAH vs GMM\") +\n",
        "  theme(plot.title = element_text(size = 15, hjust = 0.5))"
      ]
    },
    {
      "cell_type": "markdown",
      "id": "xj3f58K1KyyV",
      "metadata": {
        "id": "xj3f58K1KyyV"
      },
      "source": [
        "#### Avec 4 clusters"
      ]
    },
    {
      "cell_type": "code",
      "execution_count": null,
      "id": "c53cKB3aKyyY",
      "metadata": {
        "id": "c53cKB3aKyyY"
      },
      "outputs": [],
      "source": [
        "grid.arrange(\n",
        "    fviz_pca_ind(pca, axes=c(1,2), geom=c(\"point\"), habillage=as.factor(reskmeans2$cluster), palette=c(2:5)) + ggtitle(\"K-means pour 4 clusters\"),\n",
        "    fviz_pca_ind(pca, axes=c(1,2), geom=c(\"point\"), habillage=as.factor(reshclust2), palette=c(2:5)) + ggtitle(\"CAH pour 4 clusters\"),\n",
        "    fviz_pca_ind(pca, axes=c(1,2), geom=c(\"point\"), habillage=as.factor(resBIC2$classification), palette=c(2:5)) + ggtitle(\"GMM pour 4 clusters\"),\n",
        "    ncol=3\n",
        ")"
      ]
    },
    {
      "cell_type": "markdown",
      "id": "JQ45eVzXKyyY",
      "metadata": {
        "id": "JQ45eVzXKyyY"
      },
      "source": [
        "##### k-means Vs GMM"
      ]
    },
    {
      "cell_type": "code",
      "execution_count": null,
      "id": "6ywWrcEnKyyZ",
      "metadata": {
        "id": "6ywWrcEnKyyZ"
      },
      "outputs": [],
      "source": [
        "new_cluster1 <- matchClasses(resBIC2$classification, reskmeans2$cluster)\n",
        "conf_mat = confusion_matrix(targets=resBIC2$classification, predictions=new_cluster1)\n",
        "plot_confusion_matrix(conf_mat)"
      ]
    },
    {
      "cell_type": "code",
      "execution_count": null,
      "id": "LAqzRywPKyya",
      "metadata": {
        "id": "LAqzRywPKyya"
      },
      "outputs": [],
      "source": [
        "options(repr.plot.width = 10, repr.plot.height = 7)\n",
        "\n",
        "cluster2_kmeans_42 <- which(new_cluster1 == 2)\n",
        "cluster4_kmeans_42 <- which(new_cluster1 == 4)\n",
        "\n",
        "ggplot(coord, aes(x = longitude, y = latitude)) +\n",
        "  geom_point(data = coord[cluster2_kmeans_42, ], aes(shape = \"cluster2\"), color = 3, size = 2) +\n",
        "  geom_point(data = coord[cluster4_kmeans_42, ], aes(shape = \"cluster4\"), color = 5, size = 2) +\n",
        "  scale_shape_manual(name = \"Legend\", values = c(\"cluster2\" = 18, \"cluster4\" = 18)) +\n",
        "  labs(title = \"Stations loading - 4 Clusters - Méthode K-means\") +\n",
        "  theme(plot.title = element_text(size = 15, hjust = 0.5))\n",
        "\n",
        "ggplot(coord, aes(x = longitude, y = latitude)) +\n",
        "  geom_point(data = coord[cluster1_gmm_4, ], aes(shape = \"cluster1\"), color = 2, size = 2) +\n",
        "  geom_point(data = coord[cluster2_gmm_4, ], aes(shape = \"cluster2\"), color = 3, size = 2) +\n",
        "  geom_point(data = coord[cluster3_gmm_4, ], aes(shape = \"cluster3\"), color = 4, size = 2) +\n",
        "  geom_point(data = coord[cluster4_gmm_4, ], aes(shape = \"cluster4\"), color = 5, size = 2) +\n",
        "  scale_shape_manual(name = \"Legend\", values = c(\"cluster1\" = 18, \"cluster2\" = 18, \"cluster3\" = 18, \"cluster4\" = 18)) +\n",
        "  labs(title = \"Stations loading - 4 Clusters - Méthode GMM\") +\n",
        "  theme(plot.title = element_text(size = 15, hjust = 0.5))\n",
        "\n",
        "\n",
        "n <- length(new_cluster1)\n",
        "clusters <- new_cluster1\n",
        "idx <- (new_cluster1 != resBIC2$classification)\n",
        "clusters[idx] <- 7\n",
        "cluster7 <- which(clusters == 7)\n",
        "nb_diff <- length(cluster7)\n",
        "ratio <- nb_diff/n\n",
        "\n",
        "cat(\"Ratio du nb de points classés différemment:\", ratio, \"\\n\")\n",
        "cat(\"Nb de stations classées différemment:\", nb_diff, \"\\n\")\n",
        "\n",
        "ggplot(coord, aes(x = longitude, y = latitude)) +\n",
        "  geom_point(data = coord[cluster2_kmeans_42, ], aes(shape = \"cluster2\"), color = 3, size = 2) +\n",
        "  geom_point(data = coord[cluster4_kmeans_42, ], aes(shape = \"cluster4\"), color = 5, size = 2) +\n",
        "  geom_point(data = coord[cluster7, ], aes(shape = \"différence\"), color = 1, size = 2) +\n",
        "  scale_shape_manual(name = \"Legend\", values = c(\"cluster2\" = 18, \"cluster4\" = 18, \"différence\" = 18)) +\n",
        "  labs(title = \"Stations loading - 4 Clusters - Comparaison K-means vs GMM\") +\n",
        "  theme(plot.title = element_text(size = 15, hjust = 0.5))"
      ]
    },
    {
      "cell_type": "markdown",
      "id": "MjHnH2BKKyya",
      "metadata": {
        "id": "MjHnH2BKKyya"
      },
      "source": [
        "##### k-means Vs CAH"
      ]
    },
    {
      "cell_type": "code",
      "execution_count": null,
      "id": "f0wUJQQRKyyb",
      "metadata": {
        "id": "f0wUJQQRKyyb"
      },
      "outputs": [],
      "source": [
        "new_cluster2 <- matchClasses(reshclust2, reskmeans2$cluster)\n",
        "conf_mat = confusion_matrix(targets=reshclust2, predictions=new_cluster2)\n",
        "plot_confusion_matrix(conf_mat)"
      ]
    },
    {
      "cell_type": "code",
      "execution_count": null,
      "id": "8L9uemaiKyyb",
      "metadata": {
        "id": "8L9uemaiKyyb"
      },
      "outputs": [],
      "source": [
        "options(repr.plot.width = 10, repr.plot.height = 7)\n",
        "\n",
        "cluster1_kmeans_43 <- which(new_cluster2 == 1)\n",
        "cluster3_kmeans_43 <- which(new_cluster2 == 3)\n",
        "cluster4_kmeans_43 <- which(new_cluster2 == 4)\n",
        "\n",
        "ggplot(coord, aes(x = longitude, y = latitude)) +\n",
        "  geom_point(data = coord[cluster1_kmeans_43, ], aes(shape = \"cluster1\"), color = 2, size = 2) +\n",
        "  geom_point(data = coord[cluster3_kmeans_43, ], aes(shape = \"cluster3\"), color = 4, size = 2) +\n",
        "  geom_point(data = coord[cluster4_kmeans_43, ], aes(shape = \"cluster4\"), color = 5, size = 2) +\n",
        "  scale_shape_manual(name = \"Legend\", values = c(\"cluster1\" = 18, \"cluster3\" = 18, \"cluster4\" = 18)) +\n",
        "  labs(title = \"Stations loading - 4 Clusters - Méthode K-means\") +\n",
        "  theme(plot.title = element_text(size = 15, hjust = 0.5))\n",
        "\n",
        "ggplot(coord, aes(x = longitude, y = latitude)) +\n",
        "  geom_point(data = coord[cluster1_cah_4, ], aes(shape = \"cluster1\"), color = 2, size = 2) +\n",
        "  geom_point(data = coord[cluster2_cah_4, ], aes(shape = \"cluster2\"), color = 3, size = 2) +\n",
        "  geom_point(data = coord[cluster3_cah_4, ], aes(shape = \"cluster3\"), color = 4, size = 2) +\n",
        "  geom_point(data = coord[cluster4_cah_4, ], aes(shape = \"cluster4\"), color = 5, size = 2) +\n",
        "  scale_shape_manual(name = \"Legend\", values = c(\"cluster1\" = 18, \"cluster2\" = 18, \"cluster3\" = 18, \"cluster4\" = 18)) +\n",
        "  labs(title = \"Stations loading - 4 Clusters - Méthode CAH\") +\n",
        "  theme(plot.title = element_text(size = 15, hjust = 0.5))\n",
        "\n",
        "\n",
        "n <- length(new_cluster2)\n",
        "clusters <- new_cluster2\n",
        "idx <- (new_cluster2 != reshclust2)\n",
        "clusters[idx] <- 7\n",
        "cluster7 <- which(clusters == 7)\n",
        "nb_diff <- length(cluster7)\n",
        "ratio <- nb_diff/n\n",
        "\n",
        "cat(\"Ratio du nb de points classés différemment:\", ratio, \"\\n\")\n",
        "cat(\"Nb de stations classées différemment:\", nb_diff, \"\\n\")\n",
        "\n",
        "ggplot(coord, aes(x = longitude, y = latitude)) +\n",
        "  geom_point(data = coord[cluster1_kmeans_43, ], aes(shape = \"cluster1\"), color = 2, size = 2) +\n",
        "  geom_point(data = coord[cluster3_kmeans_43, ], aes(shape = \"cluster3\"), color = 4, size = 2) +\n",
        "  geom_point(data = coord[cluster4_kmeans_43, ], aes(shape = \"cluster4\"), color = 5, size = 2) +\n",
        "  geom_point(data = coord[cluster7, ], aes(shape = \"différence\"), color = 1, size = 2) +\n",
        "  scale_shape_manual(name = \"Legend\", values = c(\"cluster1\" = 18, \"cluster3\" = 18, \"cluster4\" = 18, \"différence\" = 18)) +\n",
        "  labs(title = \"Stations loading - 4 Clusters - Comparaison K-means vs CAH\") +\n",
        "  theme(plot.title = element_text(size = 15, hjust = 0.5))"
      ]
    },
    {
      "cell_type": "markdown",
      "id": "FtCM3Us_Kyyc",
      "metadata": {
        "id": "FtCM3Us_Kyyc"
      },
      "source": [
        "##### CAH Vs GMM"
      ]
    },
    {
      "cell_type": "code",
      "execution_count": null,
      "id": "1cpx_F6eKyyc",
      "metadata": {
        "id": "1cpx_F6eKyyc"
      },
      "outputs": [],
      "source": [
        "new_cluster3 <- matchClasses(resBIC2$classification, reshclust2)\n",
        "conf_mat = confusion_matrix(targets=resBIC2$classification, predictions=new_cluster3)\n",
        "plot_confusion_matrix(conf_mat)"
      ]
    },
    {
      "cell_type": "code",
      "execution_count": null,
      "id": "3Apn2g5VKyyc",
      "metadata": {
        "id": "3Apn2g5VKyyc"
      },
      "outputs": [],
      "source": [
        "options(repr.plot.width = 10, repr.plot.height = 7)\n",
        "\n",
        "cluster1_cah_42 <- which(new_cluster3 == 1)\n",
        "cluster2_cah_42 <- which(new_cluster3 == 2)\n",
        "\n",
        "ggplot(coord, aes(x = longitude, y = latitude)) +\n",
        "  geom_point(data = coord[cluster1_cah_42, ], aes(shape = \"cluster1\"), color = 2, size = 2) +\n",
        "  geom_point(data = coord[cluster2_cah_42, ], aes(shape = \"cluster2\"), color = 3, size = 2) +\n",
        "  scale_shape_manual(name = \"Legend\", values = c(\"cluster1\" = 18, \"cluster2\" = 18)) +\n",
        "  labs(title = \"Stations loading - 4 Clusters - Méthode CAH\") +\n",
        "  theme(plot.title = element_text(size = 15, hjust = 0.5))\n",
        "\n",
        "ggplot(coord, aes(x = longitude, y = latitude)) +\n",
        "  geom_point(data = coord[cluster1_gmm_4, ], aes(shape = \"cluster1\"), color = 2, size = 2) +\n",
        "  geom_point(data = coord[cluster2_gmm_4, ], aes(shape = \"cluster2\"), color = 3, size = 2) +\n",
        "  geom_point(data = coord[cluster3_gmm_4, ], aes(shape = \"cluster3\"), color = 4, size = 2) +\n",
        "  geom_point(data = coord[cluster4_gmm_4, ], aes(shape = \"cluster4\"), color = 5, size = 2) +\n",
        "  scale_shape_manual(name = \"Legend\", values = c(\"cluster1\" = 18, \"cluster2\" = 18, \"cluster3\" = 18, \"cluster4\" = 18)) +\n",
        "  labs(title = \"Stations loading - 4 Clusters - Méthode GMM\") +\n",
        "  theme(plot.title = element_text(size = 15, hjust = 0.5))\n",
        "\n",
        "\n",
        "n <- length(new_cluster3)\n",
        "clusters <- new_cluster3\n",
        "idx <- (new_cluster3 != resBIC2$classification)\n",
        "clusters[idx] <- 7\n",
        "cluster7 <- which(clusters == 7)\n",
        "nb_diff <- length(cluster7)\n",
        "ratio <- nb_diff/n\n",
        "\n",
        "cat(\"Ratio du nb de points classés différemment:\", ratio, \"\\n\")\n",
        "cat(\"Nb de stations classées différemment:\", nb_diff, \"\\n\")\n",
        "\n",
        "ggplot(coord, aes(x = longitude, y = latitude)) +\n",
        "  geom_point(data = coord[cluster1_cah_42, ], aes(shape = \"cluster1\"), color = 2, size = 2) +\n",
        "  geom_point(data = coord[cluster2_cah_42, ], aes(shape = \"cluster2\"), color = 3, size = 2) +\n",
        "  geom_point(data = coord[cluster7, ], aes(shape = \"différence\"), color = 1, size = 2) +\n",
        "  scale_shape_manual(name = \"Legend\", values = c(\"cluster1\" = 18, \"cluster2\" = 18, \"différence\" = 18)) +\n",
        "  labs(title = \"Stations loading - 4 Clusters - Comparaison CAH vs GMM\") +\n",
        "  theme(plot.title = element_text(size = 15, hjust = 0.5))"
      ]
    },
    {
      "cell_type": "markdown",
      "id": "a-ZzSXtg_vmy",
      "metadata": {
        "id": "a-ZzSXtg_vmy"
      },
      "source": [
        "#### Avec 3 clusters"
      ]
    },
    {
      "cell_type": "code",
      "execution_count": null,
      "id": "86jmFhuP_vmy",
      "metadata": {
        "id": "86jmFhuP_vmy"
      },
      "outputs": [],
      "source": [
        "grid.arrange(\n",
        "    fviz_pca_ind(pca, axes=c(1,2), geom=c(\"point\"), habillage=as.factor(reskmeans3$cluster), palette=c(2:7)) + ggtitle(\"K-means pour 6 clusters\"),\n",
        "    fviz_pca_ind(pca, axes=c(1,2), geom=c(\"point\"), habillage=as.factor(reshclust3), palette=c(2:7)) + ggtitle(\"CAH pour 6 clusters\"),\n",
        "    fviz_pca_ind(pca, axes=c(1,2), geom=c(\"point\"), habillage=as.factor(resBIC3$classification), palette=c(2:7)) + ggtitle(\"GMM pour 6 clusters\"),\n",
        "    ncol=3\n",
        ")"
      ]
    },
    {
      "cell_type": "markdown",
      "id": "h4IkM_Tw_vmy",
      "metadata": {
        "id": "h4IkM_Tw_vmy"
      },
      "source": [
        "##### k-means Vs GMM"
      ]
    },
    {
      "cell_type": "code",
      "execution_count": null,
      "id": "pm0MkKFp_vmz",
      "metadata": {
        "id": "pm0MkKFp_vmz"
      },
      "outputs": [],
      "source": [
        "new_cluster1 <- matchClasses(resBIC3$classification, reskmeans3$cluster)\n",
        "conf_mat = confusion_matrix(targets=resBIC3$classification, predictions=new_cluster1)\n",
        "plot_confusion_matrix(conf_mat)"
      ]
    },
    {
      "cell_type": "code",
      "execution_count": null,
      "id": "zwsA-ozM_vmz",
      "metadata": {
        "id": "zwsA-ozM_vmz"
      },
      "outputs": [],
      "source": [
        "options(repr.plot.width = 10, repr.plot.height = 7)\n",
        "\n",
        "cluster2_kmeans_32 <- which(new_cluster1 == 2)\n",
        "cluster3_kmeans_32 <- which(new_cluster1 == 3)\n",
        "\n",
        "ggplot(coord, aes(x = longitude, y = latitude)) +\n",
        "  geom_point(data = coord[cluster2_kmeans_32, ], aes(shape = \"cluster2\"), color = 3, size = 2) +\n",
        "  geom_point(data = coord[cluster3_kmeans_32, ], aes(shape = \"cluster3\"), color = 4, size = 2) +\n",
        "  scale_shape_manual(name = \"Legend\", values = c(\"cluster2\" = 18, \"cluster3\" = 18)) +\n",
        "  labs(title = \"Stations loading - 3 Clusters - Méthode K-means\") +\n",
        "  theme(plot.title = element_text(size = 15, hjust = 0.5))\n",
        "\n",
        "ggplot(coord, aes(x = longitude, y = latitude)) +\n",
        "  geom_point(data = coord[cluster1_gmm_3, ], aes(shape = \"cluster1\"), color = 2, size = 2) +\n",
        "  geom_point(data = coord[cluster2_gmm_3, ], aes(shape = \"cluster2\"), color = 3, size = 2) +\n",
        "  geom_point(data = coord[cluster3_gmm_3, ], aes(shape = \"cluster3\"), color = 4, size = 2) +\n",
        "  scale_shape_manual(name = \"Legend\", values = c(\"cluster1\" = 18, \"cluster2\" = 18, \"cluster3\" = 18)) +\n",
        "  labs(title = \"Stations loading - 3 Clusters - Méthode GMM\") +\n",
        "  theme(plot.title = element_text(size = 15, hjust = 0.5))\n",
        "\n",
        "\n",
        "n <- length(new_cluster1)\n",
        "clusters <- new_cluster1\n",
        "idx <- (new_cluster1 != resBIC2$classification)\n",
        "clusters[idx] <- 7\n",
        "cluster7 <- which(clusters == 7)\n",
        "nb_diff <- length(cluster7)\n",
        "ratio <- nb_diff/n\n",
        "\n",
        "cat(\"Ratio du nb de points classés différemment:\", ratio, \"\\n\")\n",
        "cat(\"Nb de stations classées différemment:\", nb_diff, \"\\n\")\n",
        "\n",
        "ggplot(coord, aes(x = longitude, y = latitude)) +\n",
        "  geom_point(data = coord[cluster2_kmeans_32, ], aes(shape = \"cluster2\"), color = 3, size = 2) +\n",
        "  geom_point(data = coord[cluster3_kmeans_32, ], aes(shape = \"cluster3\"), color = 4, size = 2) +\n",
        "  geom_point(data = coord[cluster7, ], aes(shape = \"différence\"), color = 1, size = 2) +\n",
        "  scale_shape_manual(name = \"Legend\", values = c(\"cluster2\" = 18, \"cluster3\" = 18, \"différence\" = 18)) +\n",
        "  labs(title = \"Stations loading - 3 Clusters - Comparaison K-means vs GMM\") +\n",
        "  theme(plot.title = element_text(size = 15, hjust = 0.5))"
      ]
    },
    {
      "cell_type": "markdown",
      "id": "C4cOcu5m_vm0",
      "metadata": {
        "id": "C4cOcu5m_vm0"
      },
      "source": [
        "##### k-means Vs CAH"
      ]
    },
    {
      "cell_type": "code",
      "execution_count": null,
      "id": "yWBkupeo_vm0",
      "metadata": {
        "id": "yWBkupeo_vm0"
      },
      "outputs": [],
      "source": [
        "new_cluster2 <- matchClasses(reshclust3, reskmeans3$cluster)\n",
        "conf_mat = confusion_matrix(targets=reshclust3, predictions=new_cluster2)\n",
        "plot_confusion_matrix(conf_mat)"
      ]
    },
    {
      "cell_type": "code",
      "execution_count": null,
      "id": "kpC4aBcg_vm1",
      "metadata": {
        "id": "kpC4aBcg_vm1"
      },
      "outputs": [],
      "source": [
        "options(repr.plot.width = 10, repr.plot.height = 7)\n",
        "\n",
        "cluster1_kmeans_33 <- which(new_cluster2 == 1)\n",
        "cluster2_kmeans_33 <- which(new_cluster2 == 2)\n",
        "cluster3_kmeans_33 <- which(new_cluster2 == 3)\n",
        "\n",
        "ggplot(coord, aes(x = longitude, y = latitude)) +\n",
        "  geom_point(data = coord[cluster1_kmeans_33, ], aes(shape = \"cluster1\"), color = 2, size = 2) +\n",
        "  geom_point(data = coord[cluster2_kmeans_33, ], aes(shape = \"cluster2\"), color = 3, size = 2) +\n",
        "  geom_point(data = coord[cluster3_kmeans_33, ], aes(shape = \"cluster3\"), color = 4, size = 2) +\n",
        "  scale_shape_manual(name = \"Legend\", values = c(\"cluster1\" = 18, \"cluster2\" = 18, \"cluster3\" = 18)) +\n",
        "  labs(title = \"Stations loading - 3 Clusters - Méthode K-means\") +\n",
        "  theme(plot.title = element_text(size = 15, hjust = 0.5))\n",
        "\n",
        "ggplot(coord, aes(x = longitude, y = latitude)) +\n",
        "  geom_point(data = coord[cluster1_cah_3, ], aes(shape = \"cluster1\"), color = 2, size = 2) +\n",
        "  geom_point(data = coord[cluster2_cah_3, ], aes(shape = \"cluster2\"), color = 3, size = 2) +\n",
        "  geom_point(data = coord[cluster3_cah_3, ], aes(shape = \"cluster3\"), color = 4, size = 2) +\n",
        "  scale_shape_manual(name = \"Legend\", values = c(\"cluster1\" = 18, \"cluster2\" = 18, \"cluster3\" = 18)) +\n",
        "  labs(title = \"Stations loading - 3 Clusters - Méthode CAH\") +\n",
        "  theme(plot.title = element_text(size = 15, hjust = 0.5))\n",
        "\n",
        "\n",
        "n <- length(new_cluster2)\n",
        "clusters <- new_cluster2\n",
        "idx <- (new_cluster2 != reshclust2)\n",
        "clusters[idx] <- 7\n",
        "cluster7 <- which(clusters == 7)\n",
        "nb_diff <- length(cluster7)\n",
        "ratio <- nb_diff/n\n",
        "\n",
        "cat(\"Ratio du nb de points classés différemment:\", ratio, \"\\n\")\n",
        "cat(\"Nb de stations classées différemment:\", nb_diff, \"\\n\")\n",
        "\n",
        "ggplot(coord, aes(x = longitude, y = latitude)) +\n",
        "  geom_point(data = coord[cluster1_kmeans_33, ], aes(shape = \"cluster1\"), color = 2, size = 2) +\n",
        "  geom_point(data = coord[cluster2_kmeans_33, ], aes(shape = \"cluster2\"), color = 3, size = 2) +\n",
        "  geom_point(data = coord[cluster3_kmeans_33, ], aes(shape = \"cluster3\"), color = 4, size = 2) +\n",
        "  geom_point(data = coord[cluster7, ], aes(shape = \"différence\"), color = 1, size = 2) +\n",
        "  scale_shape_manual(name = \"Legend\", values = c(\"cluster1\" = 18, \"cluster2\" = 18, \"cluster3\" = 18, \"différence\" = 18)) +\n",
        "  labs(title = \"Stations loading - 3 Clusters - Comparaison K-means vs CAH\") +\n",
        "  theme(plot.title = element_text(size = 15, hjust = 0.5))"
      ]
    },
    {
      "cell_type": "markdown",
      "id": "y4tBQ2aL_vm1",
      "metadata": {
        "id": "y4tBQ2aL_vm1"
      },
      "source": [
        "##### CAH Vs GMM"
      ]
    },
    {
      "cell_type": "code",
      "execution_count": null,
      "id": "ZWh1ND9K_vm2",
      "metadata": {
        "id": "ZWh1ND9K_vm2"
      },
      "outputs": [],
      "source": [
        "new_cluster3 <- matchClasses(resBIC3$classification, reshclust3)\n",
        "conf_mat = confusion_matrix(targets=resBIC3$classification, predictions=new_cluster3)\n",
        "plot_confusion_matrix(conf_mat)"
      ]
    },
    {
      "cell_type": "code",
      "execution_count": null,
      "id": "2TzyXznH_vm2",
      "metadata": {
        "id": "2TzyXznH_vm2"
      },
      "outputs": [],
      "source": [
        "options(repr.plot.width = 10, repr.plot.height = 7)\n",
        "\n",
        "cluster2_cah_32 <- which(new_cluster3 == 2)\n",
        "cluster3_cah_32 <- which(new_cluster3 == 3)\n",
        "\n",
        "ggplot(coord, aes(x = longitude, y = latitude)) +\n",
        "  geom_point(data = coord[cluster2_cah_32, ], aes(shape = \"cluster2\"), color = 3, size = 2) +\n",
        "  geom_point(data = coord[cluster3_cah_32, ], aes(shape = \"cluster3\"), color = 4, size = 2) +\n",
        "  scale_shape_manual(name = \"Legend\", values = c(\"cluster2\" = 18, \"cluster3\" = 18)) +\n",
        "  labs(title = \"Stations loading - 3 Clusters - Méthode CAH\") +\n",
        "  theme(plot.title = element_text(size = 15, hjust = 0.5))\n",
        "\n",
        "ggplot(coord, aes(x = longitude, y = latitude)) +\n",
        "  geom_point(data = coord[cluster1_gmm_3, ], aes(shape = \"cluster1\"), color = 2, size = 2) +\n",
        "  geom_point(data = coord[cluster2_gmm_3, ], aes(shape = \"cluster2\"), color = 3, size = 2) +\n",
        "  geom_point(data = coord[cluster3_gmm_3, ], aes(shape = \"cluster3\"), color = 4, size = 2) +\n",
        "  scale_shape_manual(name = \"Legend\", values = c(\"cluster1\" = 18, \"cluster2\" = 18, \"cluster3\" = 18)) +\n",
        "  labs(title = \"Stations loading - 3 Clusters - Méthode GMM\") +\n",
        "  theme(plot.title = element_text(size = 15, hjust = 0.5))\n",
        "\n",
        "\n",
        "n <- length(new_cluster3)\n",
        "clusters <- new_cluster3\n",
        "idx <- (new_cluster3 != resBIC2$classification)\n",
        "clusters[idx] <- 7\n",
        "cluster7 <- which(clusters == 7)\n",
        "nb_diff <- length(cluster7)\n",
        "ratio <- nb_diff/n\n",
        "\n",
        "cat(\"Ratio du nb de points classés différemment:\", ratio, \"\\n\")\n",
        "cat(\"Nb de stations classées différemment:\", nb_diff, \"\\n\")\n",
        "\n",
        "ggplot(coord, aes(x = longitude, y = latitude)) +\n",
        "  geom_point(data = coord[cluster2_cah_32, ], aes(shape = \"cluster2\"), color = 3, size = 2) +\n",
        "  geom_point(data = coord[cluster3_cah_32, ], aes(shape = \"cluster3\"), color = 4, size = 2) +\n",
        "  geom_point(data = coord[cluster7, ], aes(shape = \"différence\"), color = 1, size = 2) +\n",
        "  scale_shape_manual(name = \"Legend\", values = c(\"cluster2\" = 18, \"cluster3\" = 18, \"différence\" = 18)) +\n",
        "  labs(title = \"Stations loading - 3 Clusters - Comparaison CAH vs GMM\") +\n",
        "  theme(plot.title = element_text(size = 15, hjust = 0.5))"
      ]
    },
    {
      "cell_type": "markdown",
      "id": "qofUNDcCgo_r",
      "metadata": {
        "id": "qofUNDcCgo_r"
      },
      "source": [
        "## Jeu de données complet"
      ]
    },
    {
      "cell_type": "code",
      "execution_count": null,
      "id": "HBGUFUPWnn7U",
      "metadata": {
        "id": "HBGUFUPWnn7U"
      },
      "outputs": [],
      "source": [
        "loading_total <- as.data.frame(loading)"
      ]
    },
    {
      "cell_type": "code",
      "execution_count": null,
      "id": "WbpTDfz9Q492",
      "metadata": {
        "id": "WbpTDfz9Q492"
      },
      "outputs": [],
      "source": [
        "head(loading_total)"
      ]
    },
    {
      "cell_type": "markdown",
      "id": "OwdMaivgi3uF",
      "metadata": {
        "id": "OwdMaivgi3uF"
      },
      "source": [
        "### Clustering avec la méthode $k$-means"
      ]
    },
    {
      "cell_type": "code",
      "execution_count": null,
      "id": "k1RIVmKJlB_1",
      "metadata": {
        "id": "k1RIVmKJlB_1"
      },
      "outputs": [],
      "source": [
        "options(repr.plot.width = 9, repr.plot.height = 6)\n",
        "\n",
        "fviz_nbclust(loading_total, FUNcluster=kmeans, method=\"wss\") +\n",
        "    ggtitle(\"Within sum of square (WSS) according to the number of clusters\")"
      ]
    },
    {
      "cell_type": "code",
      "execution_count": null,
      "id": "jjGdB1e4lQyX",
      "metadata": {
        "id": "jjGdB1e4lQyX"
      },
      "outputs": [],
      "source": [
        "fviz_nbclust(loading_total, FUNcluster=kmeans, method=\"silhouette\") +\n",
        "    ggtitle(\"Silhouette score according to the number of clusters\")"
      ]
    },
    {
      "cell_type": "code",
      "execution_count": null,
      "id": "z52U6EqMliIr",
      "metadata": {
        "id": "z52U6EqMliIr"
      },
      "outputs": [],
      "source": [
        "# Silhouette plots, according to the number of clusters\n",
        "options(repr.plot.width = 15, repr.plot.height = 6)\n",
        "\n",
        "# With 2 clusters\n",
        "reskmeans = kmeans(loading_total, centers=2)\n",
        "sil = silhouette(reskmeans$cluster, dist(loading_total))\n",
        "p1 = fviz_silhouette(sil)\n",
        "\n",
        "# With 3 clusters\n",
        "reskmeans = kmeans(loading_total, centers=3)\n",
        "sil = silhouette(reskmeans$cluster, dist(loading_total))\n",
        "p2 = fviz_silhouette(sil)\n",
        "\n",
        "# With 4 clusters\n",
        "reskmeans = kmeans(loading_total, centers=4)\n",
        "sil = silhouette(reskmeans$cluster, dist(loading_total))\n",
        "p3 = fviz_silhouette(sil)\n",
        "\n",
        "grid.arrange(p1,p2,p3,ncol=2)"
      ]
    },
    {
      "cell_type": "code",
      "execution_count": null,
      "id": "923o1nKLBBjq",
      "metadata": {
        "id": "923o1nKLBBjq"
      },
      "outputs": [],
      "source": [
        "options(repr.plot.width = 15, repr.plot.height = 6)\n",
        "\n",
        "reskmeans1 = kmeans(loading_total, centers=6)\n",
        "reskmeans2 = kmeans(loading_total, centers=3)\n",
        "reskmeans3 = kmeans(loading_total, centers=2)\n",
        "\n",
        "cluster_counts1 <- table(reskmeans1$cluster)\n",
        "cluster_counts2 <- table(reskmeans2$cluster)\n",
        "cluster_counts3 <- table(reskmeans3$cluster)\n",
        "\n",
        "barplot(cluster_counts1, main = \"Répartition des stations pour 6 clusters - K-means\", xlab = \"Cluster\", ylab = \"Nombre de stations\", col = c(2:7))\n",
        "barplot(cluster_counts2, main = \"Répartition des stations pour 3 clusters - K-means\", xlab = \"Cluster\", ylab = \"Nombre de stations\", col = c(2:4))\n",
        "barplot(cluster_counts3, main = \"Répartition des stations pour 2 clusters - K-means\", xlab = \"Cluster\", ylab = \"Nombre de stations\", col = c(2,4))"
      ]
    },
    {
      "cell_type": "markdown",
      "id": "54vq2wB1jAn-",
      "metadata": {
        "id": "54vq2wB1jAn-"
      },
      "source": [
        "#### Avec 6 clusters"
      ]
    },
    {
      "cell_type": "code",
      "execution_count": null,
      "id": "dNRCfOVrxInd",
      "metadata": {
        "id": "dNRCfOVrxInd"
      },
      "outputs": [],
      "source": [
        "options(repr.plot.width = 10, repr.plot.height = 7)\n",
        "\n",
        "cluster1_kmeans_6 <- which(reskmeans1$cluster == 1)\n",
        "cluster2_kmeans_6 <- which(reskmeans1$cluster == 2)\n",
        "cluster3_kmeans_6 <- which(reskmeans1$cluster == 3)\n",
        "cluster4_kmeans_6 <- which(reskmeans1$cluster == 4)\n",
        "cluster5_kmeans_6 <- which(reskmeans1$cluster == 5)\n",
        "cluster6_kmeans_6 <- which(reskmeans1$cluster == 6)\n",
        "\n",
        "mean1_kmeans_6 <- colMeans(loading[cluster1_kmeans_6,])\n",
        "mean2_kmeans_6 <- colMeans(loading[cluster2_kmeans_6,])\n",
        "mean3_kmeans_6 <- colMeans(loading[cluster3_kmeans_6,])\n",
        "mean4_kmeans_6 <- colMeans(loading[cluster4_kmeans_6,])\n",
        "mean5_kmeans_6 <- colMeans(loading[cluster5_kmeans_6,])\n",
        "mean6_kmeans_6 <- colMeans(loading[cluster6_kmeans_6,])\n",
        "\n",
        "x <- 1:168\n",
        "\n",
        "# Affichage des courbes\n",
        "plot(x, mean1_kmeans_6, type = \"l\", col = 2, xlab = \"Heures de la semaine\", ylab = \"Valeur mesurée\", main = \"Valeur mesurée pour 6 clusters - K-means\", xlim = c(1, 168), ylim = c(0, 1))\n",
        "lines(x, mean2_kmeans_6, col = 3)\n",
        "lines(x, mean3_kmeans_6, col = 4)\n",
        "lines(x, mean4_kmeans_6, col = 5)\n",
        "lines(x, mean5_kmeans_6, col = 6)\n",
        "lines(x, mean6_kmeans_6, col = 7)\n",
        "\n",
        "# Légende\n",
        "legend(\"topright\", legend = paste(\"Cluster\", 1:6), col = c(2:7), lty = 1)\n",
        "\n",
        "fviz_pca_ind(pca, axes=c(1,2), geom=c(\"point\"), habillage=as.factor(reskmeans1$cluster), palette=c(2:7)) + ggtitle(\"Graphe des individus de l'ACP pour 6 clusters\")\n",
        "\n",
        "ggplot(coord, aes(x = longitude, y = latitude)) +\n",
        "  geom_point(data = coord[cluster1_kmeans_6, ], aes(shape = \"cluster1\"), color = 2, size = 2) +\n",
        "  geom_point(data = coord[cluster2_kmeans_6, ], aes(shape = \"cluster2\"), color = 3, size = 2) +\n",
        "  geom_point(data = coord[cluster3_kmeans_6, ], aes(shape = \"cluster3\"), color = 4, size = 2) +\n",
        "  geom_point(data = coord[cluster4_kmeans_6, ], aes(shape = \"cluster4\"), color = 5, size = 2) +\n",
        "  geom_point(data = coord[cluster5_kmeans_6, ], aes(shape = \"cluster5\"), color = 6, size = 2) +\n",
        "  geom_point(data = coord[cluster6_kmeans_6, ], aes(shape = \"cluster6\"), color = 7, size = 2) +\n",
        "  scale_shape_manual(name = \"Legend\", values = c(\"cluster1\" = 18, \"cluster2\" = 18, \"cluster3\" = 18, \"cluster4\" = 18, \"cluster5\" = 18, \"cluster6\" = 18)) +\n",
        "  labs(title = \"Stations loading - 6 Clusters - Méthode K-means\") +\n",
        "  theme(plot.title = element_text(size = 15, hjust = 0.5))"
      ]
    },
    {
      "cell_type": "code",
      "execution_count": null,
      "id": "jpl2ya5QViNO",
      "metadata": {
        "id": "jpl2ya5QViNO"
      },
      "outputs": [],
      "source": [
        "x <- 1:168\n",
        "\n",
        "#timeTick = 1 + 24* (0:6)\n",
        "#abline(v=timeTick, col=\"#048B9A\") + abline(h=0, col=\"#A10684\") + abline(v=timeTick+11, col='pink')\n",
        "\n",
        "plot(x, mean1_kmeans_6, type = \"l\", col = 2, xlab = \"Heures de la semaine\", ylab = \"Valeur mesurée\", main = \"Cluster 1\", xlim = c(1, 168), ylim = c(0, 1))\n",
        "plot(x, mean2_kmeans_6, type = \"l\", col = 3, xlab = \"Heures de la semaine\", ylab = \"Valeur mesurée\", main = \"Cluster 2\", xlim = c(1, 168), ylim = c(0, 1))\n",
        "plot(x, mean3_kmeans_6, type = \"l\", col = 4, xlab = \"Heures de la semaine\", ylab = \"Valeur mesurée\", main = \"Cluster 3\", xlim = c(1, 168), ylim = c(0, 1))\n",
        "plot(x, mean4_kmeans_6, type = \"l\", col = 5, xlab = \"Heures de la semaine\", ylab = \"Valeur mesurée\", main = \"Cluster 4\", xlim = c(1, 168), ylim = c(0, 1))\n",
        "plot(x, mean5_kmeans_6, type = \"l\", col = 6, xlab = \"Heures de la semaine\", ylab = \"Valeur mesurée\", main = \"Cluster 5\", xlim = c(1, 168), ylim = c(0, 1))\n",
        "plot(x, mean6_kmeans_6, type = \"l\", col = 7, xlab = \"Heures de la semaine\", ylab = \"Valeur mesurée\", main = \"Cluster 6\", xlim = c(1, 168), ylim = c(0, 1))"
      ]
    },
    {
      "cell_type": "code",
      "execution_count": null,
      "id": "euEp1wrgN83T",
      "metadata": {
        "id": "euEp1wrgN83T"
      },
      "outputs": [],
      "source": [
        "options(repr.plot.width = 20, repr.plot.height = 5)\n",
        "\n",
        "grid.arrange(\n",
        "  ggplot(coord, aes(x = longitude, y = latitude)) +\n",
        "    geom_point(data = coord[cluster1_kmeans_6, ], aes(shape = \"cluster1\"), color = 2, size = 2) +\n",
        "    geom_point(data = coord[cluster2_kmeans_6, ], aes(shape = \"cluster2\"), color = 3, size = 2) +\n",
        "    geom_point(data = coord[cluster3_kmeans_6, ], aes(shape = \"cluster3\"), color = 4, size = 2) +\n",
        "    geom_point(data = coord[cluster4_kmeans_6, ], aes(shape = \"cluster4\"), color = 5, size = 2) +\n",
        "    geom_point(data = coord[cluster5_kmeans_6, ], aes(shape = \"cluster5\"), color = 6, size = 2) +\n",
        "    geom_point(data = coord[cluster6_kmeans_6, ], aes(shape = \"cluster6\"), color = 7, size = 2) +\n",
        "    scale_shape_manual(name = \"Legend\", values = c(\"cluster1\" = 18, \"cluster2\" = 18, \"cluster3\" = 18, \"cluster4\" = 18, \"cluster5\" = 18, \"cluster6\" = 18)) +\n",
        "    labs(title = \"Stations loading - 6 Clusters - Méthode K-means\") +\n",
        "    theme(plot.title = element_text(size = 15, hjust = 0.5)),\n",
        "\n",
        "  ggplot(coord, aes(x = longitude, y = latitude)) +\n",
        "    geom_point(data = coord[indices_bas, ], aes(shape = \"Vallée\"), color = \"green\", size = 2) +\n",
        "    geom_point(data = coord[indices_haut, ], aes(shape = \"Colline\"), color = \"red\", size = 2) +\n",
        "    scale_shape_manual(name = \"Legend\", values = c(\"Vallée\" = 18, \"Colline\" = 18)) +\n",
        "    labs(title = \"Altitude des stations\") +\n",
        "    theme(plot.title = element_text(size = 15, hjust = 0.5)),\n",
        "\n",
        "  ggplot(coord, aes(x = longitude, y = latitude)) +\n",
        "    geom_point(data = coord[indices_autres, ], aes(shape = \"Autres\"), color = \"yellow\", size = 2) +\n",
        "    geom_point(data = coord[indices_seine, ], aes(shape = \"Proche de la Seine\"), color = \"blue\", size = 2) +\n",
        "    scale_shape_manual(name = \"Legend\", values = c(\"Autres\" = 18, \"Proche de la Seine\" = 18)) +\n",
        "    labs(title = \"Stations proches ou non de la Seine\") +\n",
        "    theme(plot.title = element_text(size = 15, hjust = 0.5)),\n",
        "\n",
        "  ncol=3\n",
        ")"
      ]
    },
    {
      "cell_type": "code",
      "execution_count": null,
      "id": "ANvv2csfoESb",
      "metadata": {
        "id": "ANvv2csfoESb"
      },
      "outputs": [],
      "source": [
        "tbl1 = table(coord$localisation, reskmeans1$cluster)\n",
        "tbl2 = table(coord$bonus, reskmeans1$cluster)\n",
        "\n",
        "options(repr.plot.width = 10, repr.plot.height = 6)\n",
        "grid.arrange(\n",
        "  mosaicplot(tbl1, color=c(2:7), main=\"Mosaicplot clusters-Seine\"),\n",
        "  mosaicplot(tbl2, color=c(2:7), main=\"Mosaicplot clusters-altitude\"),\n",
        "  ncol=2\n",
        ")\n",
        "\n",
        "options(repr.plot.width = 20, repr.plot.height = 6)\n",
        "grid.arrange(\n",
        "    fviz_pca_ind(pca, axes=c(1,2), geom=c(\"point\"), habillage=as.factor(reskmeans1$cluster), palette=c(2:7)) + ggtitle(\"Individuals factor map - PCA \"),\n",
        "    fviz_pca_ind(pca, geom = c(\"point\"), col.ind = coord$couleurs2, palette = c(\"green\",\"red\")) + ggtitle(\"Individuals factor map - PCA\"),\n",
        "    fviz_pca_ind(pca, geom = c(\"point\"), col.ind = coord$couleurs1, palette = c(\"yellow\",\"blue\")) + ggtitle(\"Individuals factor map - PCA \"),\n",
        "\n",
        "    ncol=3\n",
        ")"
      ]
    },
    {
      "cell_type": "markdown",
      "id": "cHON2rLTjB56",
      "metadata": {
        "id": "cHON2rLTjB56"
      },
      "source": [
        "#### Avec 3 clusters"
      ]
    },
    {
      "cell_type": "code",
      "execution_count": null,
      "id": "PKX6L2DDy_vz",
      "metadata": {
        "id": "PKX6L2DDy_vz"
      },
      "outputs": [],
      "source": [
        "options(repr.plot.width = 10, repr.plot.height = 7)\n",
        "\n",
        "cluster1_kmeans_3 <- which(reskmeans2$cluster == 1)\n",
        "cluster2_kmeans_3 <- which(reskmeans2$cluster == 2)\n",
        "cluster3_kmeans_3 <- which(reskmeans2$cluster == 3)\n",
        "\n",
        "mean1_kmeans_3 <- colMeans(loading[cluster1_kmeans_3,])\n",
        "mean2_kmeans_3 <- colMeans(loading[cluster2_kmeans_3,])\n",
        "mean3_kmeans_3 <- colMeans(loading[cluster3_kmeans_3,])\n",
        "\n",
        "x <- 1:168\n",
        "\n",
        "# Affichage des courbes\n",
        "plot(x, mean1_kmeans_3, type = \"l\", col = 2, xlab = \"Heures de la semaine\", ylab = \"Valeur mesurée\", main = \"Valeur mesurée pour 3 clusters - K-means\", xlim = c(1, 168), ylim = c(0, 1))\n",
        "lines(x, mean2_kmeans_3, col = 3)\n",
        "lines(x, mean3_kmeans_3, col = 4)\n",
        "\n",
        "# Légende\n",
        "legend(\"topright\", legend = paste(\"Cluster\", 1:3), col = c(2:4), lty = 1)\n",
        "\n",
        "fviz_pca_ind(pca, axes=c(1,2), geom=c(\"point\"), habillage=as.factor(reskmeans2$cluster), palette=c(2:4)) + ggtitle(\"Graphe des individus de l'ACP pour 3 clusters\")\n",
        "\n",
        "ggplot(coord, aes(x = longitude, y = latitude)) +\n",
        "  geom_point(data = coord[cluster1_kmeans_3, ], aes(shape = \"cluster1\"), color = 2, size = 2) +\n",
        "  geom_point(data = coord[cluster2_kmeans_3, ], aes(shape = \"cluster2\"), color = 3, size = 2) +\n",
        "  geom_point(data = coord[cluster3_kmeans_3, ], aes(shape = \"cluster3\"), color = 4, size = 2) +\n",
        "  scale_shape_manual(name = \"Legend\", values = c(\"cluster1\" = 18, \"cluster2\" = 18, \"cluster3\" = 18)) +\n",
        "  labs(title = \"Stations loading - 3 Clusters - Méthode K-means\") +\n",
        "  theme(plot.title = element_text(size = 15, hjust = 0.5))"
      ]
    },
    {
      "cell_type": "code",
      "execution_count": null,
      "id": "ydbRE-vkpO7U",
      "metadata": {
        "id": "ydbRE-vkpO7U"
      },
      "outputs": [],
      "source": [
        "#timeTick = 1 + 24* (0:6)\n",
        "#abline(v=timeTick, col=\"#048B9A\") + abline(h=0, col=\"#A10684\") + abline(v=timeTick+11, col='pink')\n",
        "\n",
        "x <- 1:168\n",
        "\n",
        "# Affichage des courbes\n",
        "plot(x, mean1_kmeans_3, type = \"l\", col = 2, xlab = \"Heures de la semaine\", ylab = \"Valeur mesurée\", main = \"Cluster 1\", xlim = c(1, 168), ylim = c(0, 1))\n",
        "plot(x, mean2_kmeans_3, type = \"l\", col = 3, xlab = \"Heures de la semaine\", ylab = \"Valeur mesurée\", main = \"Cluster 2\", xlim = c(1, 168), ylim = c(0, 1))\n",
        "plot(x, mean3_kmeans_3, type = \"l\", col = 4, xlab = \"Heures de la semaine\", ylab = \"Valeur mesurée\", main = \"Cluster 3\", xlim = c(1, 168), ylim = c(0, 1))"
      ]
    },
    {
      "cell_type": "code",
      "execution_count": null,
      "id": "vvVFFKf0qcDc",
      "metadata": {
        "id": "vvVFFKf0qcDc"
      },
      "outputs": [],
      "source": [
        "options(repr.plot.width = 20, repr.plot.height = 5)\n",
        "\n",
        "grid.arrange(\n",
        "  ggplot(coord, aes(x = longitude, y = latitude)) +\n",
        "    geom_point(data = coord[cluster1_kmeans_3, ], aes(shape = \"cluster1\"), color = 2, size = 2) +\n",
        "    geom_point(data = coord[cluster2_kmeans_3, ], aes(shape = \"cluster2\"), color = 3, size = 2) +\n",
        "    geom_point(data = coord[cluster3_kmeans_3, ], aes(shape = \"cluster3\"), color = 4, size = 2) +\n",
        "    scale_shape_manual(name = \"Legend\", values = c(\"cluster1\" = 18, \"cluster2\" = 18, \"cluster3\" = 18)) +\n",
        "    labs(title = \"Stations loading - 3 Clusters - Méthode K-means\") +\n",
        "    theme(plot.title = element_text(size = 15, hjust = 0.5)),\n",
        "\n",
        "  ggplot(coord, aes(x = longitude, y = latitude)) +\n",
        "    geom_point(data = coord[indices_bas, ], aes(shape = \"Vallée\"), color = \"green\", size = 2) +\n",
        "    geom_point(data = coord[indices_haut, ], aes(shape = \"Colline\"), color = \"red\", size = 2) +\n",
        "    scale_shape_manual(name = \"Legend\", values = c(\"Vallée\" = 18, \"Colline\" = 18)) +\n",
        "    labs(title = \"Altitude des stations\") +\n",
        "    theme(plot.title = element_text(size = 15, hjust = 0.5)),\n",
        "\n",
        "  ggplot(coord, aes(x = longitude, y = latitude)) +\n",
        "  geom_point(data = coord[indices_autres, ], aes(shape = \"Autres\"), color = \"yellow\", size = 2) +\n",
        "  geom_point(data = coord[indices_seine, ], aes(shape = \"Proche de la Seine\"), color = \"blue\", size = 2) +\n",
        "  scale_shape_manual(name = \"Legend\", values = c(\"Autres\" = 18, \"Proche de la Seine\" = 18)) +\n",
        "  labs(title = \"Stations proches ou non de la Seine\") +\n",
        "  theme(plot.title = element_text(size = 15, hjust = 0.5)),\n",
        "\n",
        "  ncol=3\n",
        ")"
      ]
    },
    {
      "cell_type": "code",
      "execution_count": null,
      "id": "NMZHCVBDrFz_",
      "metadata": {
        "id": "NMZHCVBDrFz_"
      },
      "outputs": [],
      "source": [
        "tbl1 = table(coord$localisation, reskmeans2$cluster)\n",
        "tbl2 = table(coord$bonus, reskmeans2$cluster)\n",
        "\n",
        "options(repr.plot.width = 10, repr.plot.height = 6)\n",
        "grid.arrange(\n",
        "  mosaicplot(tbl1, color=c(2:4), main=\"Mosaicplot clusters-Seine\"),\n",
        "  mosaicplot(tbl2, color=c(2:4), main=\"Mosaicplot clusters-altitude\"),\n",
        "  ncol=2\n",
        ")\n",
        "\n",
        "options(repr.plot.width = 20, repr.plot.height = 6)\n",
        "grid.arrange(\n",
        "    fviz_pca_ind(pca, axes=c(1,2), geom=c(\"point\"), habillage=as.factor(reskmeans2$cluster), palette=c(2:4)) + ggtitle(\"Individuals factor map - PCA \"),\n",
        "    fviz_pca_ind(pca, geom = c(\"point\"), col.ind = coord$couleurs2, palette = c(\"green\",\"red\")) + ggtitle(\"Individuals factor map - PCA\"),\n",
        "    fviz_pca_ind(pca, geom = c(\"point\"), col.ind = coord$couleurs1, palette = c(\"yellow\",\"blue\")) + ggtitle(\"Individuals factor map - PCA \"),\n",
        "    ncol=3\n",
        ")"
      ]
    },
    {
      "cell_type": "markdown",
      "id": "fdroxoM6jHB5",
      "metadata": {
        "id": "fdroxoM6jHB5"
      },
      "source": [
        "#### Avec 2 clusters"
      ]
    },
    {
      "cell_type": "code",
      "execution_count": null,
      "id": "Krzgo7KSzNLG",
      "metadata": {
        "id": "Krzgo7KSzNLG"
      },
      "outputs": [],
      "source": [
        "options(repr.plot.width = 10, repr.plot.height = 7)\n",
        "\n",
        "cluster1_kmeans_2 <- which(reskmeans3$cluster == 1)\n",
        "cluster2_kmeans_2 <- which(reskmeans3$cluster == 2)\n",
        "\n",
        "mean1_kmeans_2 <- colMeans(loading[cluster1_kmeans_2,])\n",
        "mean2_kmeans_2 <- colMeans(loading[cluster2_kmeans_2,])\n",
        "\n",
        "x <- 1:168\n",
        "\n",
        "# Affichage des courbes\n",
        "plot(x, mean1_kmeans_2, type = \"l\", col = 2, xlab = \"Heures de la semaine\", ylab = \"Valeur mesurée\", main = \"Valeur mesurée pour 2 clusters - K-means\", xlim = c(1, 168), ylim = c(0, 1))\n",
        "lines(x, mean2_kmeans_2, col = 4)\n",
        "\n",
        "# Légende\n",
        "legend(\"topright\", legend = paste(\"Cluster\", 1:2), col = c(2,4), lty = 1)\n",
        "\n",
        "fviz_pca_ind(pca, axes=c(1,2), geom=c(\"point\"), habillage=as.factor(reskmeans3$cluster), palette=c(2,4)) + ggtitle(\"Graphe des individus de l'ACP pour 2 clusters\")\n",
        "\n",
        "ggplot(coord, aes(x = longitude, y = latitude)) +\n",
        "  geom_point(data = coord[cluster1_kmeans_2, ], aes(shape = \"cluster1\"), color = 2, size = 2) +\n",
        "  geom_point(data = coord[cluster2_kmeans_2, ], aes(shape = \"cluster2\"), color = 4, size = 2) +\n",
        "  scale_shape_manual(name = \"Legend\", values = c(\"cluster1\" = 18, \"cluster2\" = 18)) +\n",
        "  labs(title = \"Stations loading - 2 Clusters - Méthode K-means\") +\n",
        "  theme(plot.title = element_text(size = 15, hjust = 0.5))"
      ]
    },
    {
      "cell_type": "code",
      "execution_count": null,
      "id": "sRyvXX6Crvnd",
      "metadata": {
        "id": "sRyvXX6Crvnd"
      },
      "outputs": [],
      "source": [
        "x <- 1:168\n",
        "\n",
        "# Affichage des courbes\n",
        "plot(x, mean1_kmeans_2, type = \"l\", col = 2, xlab = \"Heures de la semaine\", ylab = \"Valeur mesurée\", main = \"Cluster 1\", xlim = c(1, 168), ylim = c(0, 1))\n",
        "plot(x, mean2_kmeans_2, type = \"l\", col = 4, xlab = \"Heures de la semaine\", ylab = \"Valeur mesurée\", main = \"Cluster 2\", xlim = c(1, 168), ylim = c(0, 1))"
      ]
    },
    {
      "cell_type": "code",
      "execution_count": null,
      "id": "x-6JkQMxsTz2",
      "metadata": {
        "id": "x-6JkQMxsTz2"
      },
      "outputs": [],
      "source": [
        "options(repr.plot.width = 20, repr.plot.height = 5)\n",
        "\n",
        "grid.arrange(\n",
        "  ggplot(coord, aes(x = longitude, y = latitude)) +\n",
        "    geom_point(data = coord[cluster1_kmeans_2, ], aes(shape = \"cluster1\"), color = 2, size = 2) +\n",
        "    geom_point(data = coord[cluster2_kmeans_2, ], aes(shape = \"cluster2\"), color = 4, size = 2) +\n",
        "    scale_shape_manual(name = \"Legend\", values = c(\"cluster1\" = 18, \"cluster2\" = 18)) +\n",
        "    labs(title = \"Stations loading - 2 Clusters - Méthode K-means\") +\n",
        "    theme(plot.title = element_text(size = 15, hjust = 0.5)),\n",
        "\n",
        "  ggplot(coord, aes(x = longitude, y = latitude)) +\n",
        "    geom_point(data = coord[indices_bas, ], aes(shape = \"Vallée\"), color = \"green\", size = 2) +\n",
        "    geom_point(data = coord[indices_haut, ], aes(shape = \"Colline\"), color = \"red\", size = 2) +\n",
        "    scale_shape_manual(name = \"Legend\", values = c(\"Vallée\" = 18, \"Colline\" = 18)) +\n",
        "    labs(title = \"Altitude des stations\") +\n",
        "    theme(plot.title = element_text(size = 15, hjust = 0.5)),\n",
        "\n",
        "  ggplot(coord, aes(x = longitude, y = latitude)) +\n",
        "  geom_point(data = coord[indices_autres, ], aes(shape = \"Autres\"), color = \"yellow\", size = 2) +\n",
        "  geom_point(data = coord[indices_seine, ], aes(shape = \"Proche de la Seine\"), color = \"blue\", size = 2) +\n",
        "  scale_shape_manual(name = \"Legend\", values = c(\"Autres\" = 18, \"Proche de la Seine\" = 18)) +\n",
        "  labs(title = \"Stations proches ou non de la Seine\") +\n",
        "  theme(plot.title = element_text(size = 15, hjust = 0.5)),\n",
        "\n",
        "  ncol=3\n",
        ")"
      ]
    },
    {
      "cell_type": "code",
      "execution_count": null,
      "id": "JfEKaq7_tUS7",
      "metadata": {
        "id": "JfEKaq7_tUS7"
      },
      "outputs": [],
      "source": [
        "tbl1 = table(coord$localisation, reskmeans3$cluster)\n",
        "tbl2 = table(coord$bonus, reskmeans3$cluster)\n",
        "\n",
        "options(repr.plot.width = 10, repr.plot.height = 6)\n",
        "grid.arrange(\n",
        "  mosaicplot(tbl1, color=c(2,4), main=\"Mosaicplot clusters-Seine\"),\n",
        "  mosaicplot(tbl2, color=c(2,4), main=\"Mosaicplot clusters-altitude\"),\n",
        "  ncol=2\n",
        ")\n",
        "\n",
        "options(repr.plot.width = 20, repr.plot.height = 6)\n",
        "grid.arrange(\n",
        "    fviz_pca_ind(pca, axes=c(1,2), geom=c(\"point\"), habillage=as.factor(reskmeans3$cluster), palette=c(2,4)) + ggtitle(\"Individuals factor map - PCA \"),\n",
        "    fviz_pca_ind(pca, geom = c(\"point\"), col.ind = coord$couleurs2, palette = c(\"green\",\"red\")) + ggtitle(\"Individuals factor map - PCA\"),\n",
        "    fviz_pca_ind(pca, geom = c(\"point\"), col.ind = coord$couleurs1, palette = c(\"yellow\",\"blue\")) + ggtitle(\"Individuals factor map - PCA \"),\n",
        "    ncol=3\n",
        ")"
      ]
    },
    {
      "cell_type": "markdown",
      "id": "oEEpsN8YjT5r",
      "metadata": {
        "id": "oEEpsN8YjT5r"
      },
      "source": [
        "### Clustering agglomérant avec la méthode CAH"
      ]
    },
    {
      "cell_type": "code",
      "execution_count": null,
      "id": "uY4_nTMcrvj4",
      "metadata": {
        "id": "uY4_nTMcrvj4"
      },
      "outputs": [],
      "source": [
        "d = dist(loading_total, method=\"euclidean\")\n",
        "\n",
        "# Clustering\n",
        "hclustsingle = hclust(d, method=\"single\")\n",
        "hclustcomplete = hclust(d, method=\"complete\")\n",
        "hclustaverage = hclust(d, method=\"average\")\n",
        "\n",
        "#Dendograms visualization\n",
        "options(repr.plot.width=10, repr.plot.height=10)\n",
        "fviz_dend(hclustsingle, show_labels=FALSE, main='Dendrogram - Single linkage')\n",
        "fviz_dend(hclustcomplete, show_labels=FALSE, main='Dendrogram - Complete linkage')\n",
        "fviz_dend(hclustaverage, show_labels=FALSE, main='Dendrogram - Average linkage')"
      ]
    },
    {
      "cell_type": "code",
      "execution_count": null,
      "id": "5_mbWpc1r2b6",
      "metadata": {
        "id": "5_mbWpc1r2b6"
      },
      "outputs": [],
      "source": [
        "options(repr.plot.width = 12, repr.plot.height = 6)\n",
        "\n",
        "grid.arrange(\n",
        "    fviz_nbclust(loading_total, FUNcluster=hcut, method=\"wss\") + ggtitle(\"WSS according to nb of clusters\"),\n",
        "    fviz_nbclust(loading_total, FUNcluster=hcut, method=\"silhouette\") + ggtitle(\"silhouette according to nb of clusters\"),\n",
        "    ncol=2\n",
        ")"
      ]
    },
    {
      "cell_type": "code",
      "execution_count": null,
      "id": "_jxhQmSM3yWu",
      "metadata": {
        "id": "_jxhQmSM3yWu"
      },
      "outputs": [],
      "source": [
        "reshclust1 = cutree(hclustcomplete, 6)\n",
        "reshclust2 = cutree(hclustcomplete, 3)\n",
        "reshclust3 = cutree(hclustcomplete, 2)\n",
        "\n",
        "cluster_counts1 <- table(reshclust1)\n",
        "cluster_counts2 <- table(reshclust2)\n",
        "cluster_counts3 <- table(reshclust3)\n",
        "\n",
        "barplot(cluster_counts1, main = \"Répartition des stations pour 6 clusters - CAH\", xlab = \"Cluster\", ylab = \"Nombre de stations\", col = c(2:7))\n",
        "barplot(cluster_counts2, main = \"Répartition des stations pour 3 clusters - CAH\", xlab = \"Cluster\", ylab = \"Nombre de stations\", col = c(2:4))\n",
        "barplot(cluster_counts3, main = \"Répartition des stations pour 2 clusters - CAH\", xlab = \"Cluster\", ylab = \"Nombre de stations\", col = c(2,4))"
      ]
    },
    {
      "cell_type": "markdown",
      "id": "abrfTSiIj3w_",
      "metadata": {
        "id": "abrfTSiIj3w_"
      },
      "source": [
        "#### Avec 6 clusters"
      ]
    },
    {
      "cell_type": "code",
      "execution_count": null,
      "id": "VfL2FEumr-bo",
      "metadata": {
        "id": "VfL2FEumr-bo"
      },
      "outputs": [],
      "source": [
        "reshclust1 = cutree(hclustcomplete, 6)\n",
        "fviz_dend(hclustcomplete, k=6, show_labels=FALSE, rect=TRUE, palette=c(2:7))"
      ]
    },
    {
      "cell_type": "code",
      "execution_count": null,
      "id": "ACuy4sLt51eZ",
      "metadata": {
        "id": "ACuy4sLt51eZ"
      },
      "outputs": [],
      "source": [
        "options(repr.plot.width = 10, repr.plot.height = 7)\n",
        "\n",
        "cluster1_cah_6 <- which(reshclust1 == 1)\n",
        "cluster2_cah_6 <- which(reshclust1 == 2)\n",
        "cluster3_cah_6 <- which(reshclust1 == 3)\n",
        "cluster4_cah_6 <- which(reshclust1 == 4)\n",
        "cluster5_cah_6 <- which(reshclust1 == 5)\n",
        "cluster6_cah_6 <- which(reshclust1 == 6)\n",
        "\n",
        "mean1_cah_6 <- colMeans(loading[cluster1_cah_6,])\n",
        "mean2_cah_6 <- colMeans(loading[cluster2_cah_6,])\n",
        "mean3_cah_6 <- colMeans(loading[cluster3_cah_6,])\n",
        "mean4_cah_6 <- colMeans(loading[cluster4_cah_6,])\n",
        "mean5_cah_6 <- colMeans(loading[cluster5_cah_6,])\n",
        "mean6_cah_6 <- colMeans(loading[cluster6_cah_6,])\n",
        "\n",
        "x <- 1:168\n",
        "\n",
        "# Affichage des courbes\n",
        "plot(x, mean1_cah_6, type = \"l\", col = 2, xlab = \"Heures de la semaine\", ylab = \"Valeur mesurée\", main = \"Valeur mesurée pour 6 clusters - CAH\", xlim = c(1, 168), ylim = c(0, 1))\n",
        "lines(x, mean2_cah_6, col = 3)\n",
        "lines(x, mean3_cah_6, col = 4)\n",
        "lines(x, mean4_cah_6, col = 5)\n",
        "lines(x, mean5_cah_6, col = 6)\n",
        "lines(x, mean6_cah_6, col = 7)\n",
        "\n",
        "# Légende\n",
        "legend(\"topright\", legend = paste(\"Cluster\", 1:6), col = c(2:7), lty = 1)\n",
        "\n",
        "fviz_pca_ind(pca, axes=c(1,2), geom=c(\"point\"), habillage=as.factor(reshclust1), palette=c(2:7)) + ggtitle(\"Graphe des individus de l'ACP pour 6 clusters\")\n",
        "\n",
        "ggplot(coord, aes(x = longitude, y = latitude)) +\n",
        "  geom_point(data = coord[cluster1_cah_6, ], aes(shape = \"cluster1\"), color = 2, size = 2) +\n",
        "  geom_point(data = coord[cluster2_cah_6, ], aes(shape = \"cluster2\"), color = 3, size = 2) +\n",
        "  geom_point(data = coord[cluster3_cah_6, ], aes(shape = \"cluster3\"), color = 4, size = 2) +\n",
        "  geom_point(data = coord[cluster4_cah_6, ], aes(shape = \"cluster4\"), color = 5, size = 2) +\n",
        "  geom_point(data = coord[cluster5_cah_6, ], aes(shape = \"cluster5\"), color = 6, size = 2) +\n",
        "  geom_point(data = coord[cluster6_cah_6, ], aes(shape = \"cluster6\"), color = 7, size = 2) +\n",
        "  scale_shape_manual(name = \"Legend\", values = c(\"cluster1\" = 18, \"cluster2\" = 18, \"cluster3\" = 18, \"cluster4\" = 18, \"cluster5\" = 18, \"cluster6\" = 18)) +\n",
        "  labs(title = \"Stations loading - 6 Clusters - Méthode CAH\") +\n",
        "  theme(plot.title = element_text(size = 15, hjust = 0.5))"
      ]
    },
    {
      "cell_type": "code",
      "execution_count": null,
      "id": "FE4G1Muf8YsT",
      "metadata": {
        "id": "FE4G1Muf8YsT"
      },
      "outputs": [],
      "source": [
        "x <- 1:168\n",
        "\n",
        "#timeTick = 1 + 24* (0:6)\n",
        "#abline(v=timeTick, col=\"#048B9A\") + abline(h=0, col=\"#A10684\") + abline(v=timeTick+11, col='pink')\n",
        "\n",
        "plot(x, mean1_cah_6, type = \"l\", col = 2, xlab = \"Heures de la semaine\", ylab = \"Valeur mesurée\", main = \"Cluster 1\", xlim = c(1, 168), ylim = c(0, 1))\n",
        "plot(x, mean2_cah_6, type = \"l\", col = 3, xlab = \"Heures de la semaine\", ylab = \"Valeur mesurée\", main = \"Cluster 2\", xlim = c(1, 168), ylim = c(0, 1))\n",
        "plot(x, mean3_cah_6, type = \"l\", col = 4, xlab = \"Heures de la semaine\", ylab = \"Valeur mesurée\", main = \"Cluster 3\", xlim = c(1, 168), ylim = c(0, 1))\n",
        "plot(x, mean4_cah_6, type = \"l\", col = 5, xlab = \"Heures de la semaine\", ylab = \"Valeur mesurée\", main = \"Cluster 4\", xlim = c(1, 168), ylim = c(0, 1))\n",
        "plot(x, mean5_cah_6, type = \"l\", col = 6, xlab = \"Heures de la semaine\", ylab = \"Valeur mesurée\", main = \"Cluster 5\", xlim = c(1, 168), ylim = c(0, 1))\n",
        "plot(x, mean6_cah_6, type = \"l\", col = 7, xlab = \"Heures de la semaine\", ylab = \"Valeur mesurée\", main = \"Cluster 6\", xlim = c(1, 168), ylim = c(0, 1))"
      ]
    },
    {
      "cell_type": "code",
      "execution_count": null,
      "id": "OdnbC8Lm8j1N",
      "metadata": {
        "id": "OdnbC8Lm8j1N"
      },
      "outputs": [],
      "source": [
        "options(repr.plot.width = 20, repr.plot.height = 5)\n",
        "\n",
        "grid.arrange(\n",
        "  ggplot(coord, aes(x = longitude, y = latitude)) +\n",
        "    geom_point(data = coord[cluster1_cah_6, ], aes(shape = \"cluster1\"), color = 2, size = 2) +\n",
        "    geom_point(data = coord[cluster2_cah_6, ], aes(shape = \"cluster2\"), color = 3, size = 2) +\n",
        "    geom_point(data = coord[cluster3_cah_6, ], aes(shape = \"cluster3\"), color = 4, size = 2) +\n",
        "    geom_point(data = coord[cluster4_cah_6, ], aes(shape = \"cluster4\"), color = 5, size = 2) +\n",
        "    geom_point(data = coord[cluster5_cah_6, ], aes(shape = \"cluster5\"), color = 6, size = 2) +\n",
        "    geom_point(data = coord[cluster6_cah_6, ], aes(shape = \"cluster6\"), color = 7, size = 2) +\n",
        "    scale_shape_manual(name = \"Legend\", values = c(\"cluster1\" = 18, \"cluster2\" = 18, \"cluster3\" = 18, \"cluster4\" = 18, \"cluster5\" = 18, \"cluster6\" = 18)) +\n",
        "    labs(title = \"Stations loading - 6 Clusters - Méthode CAH\") +\n",
        "    theme(plot.title = element_text(size = 15, hjust = 0.5)),\n",
        "\n",
        "  ggplot(coord, aes(x = longitude, y = latitude)) +\n",
        "    geom_point(data = coord[indices_bas, ], aes(shape = \"Vallée\"), color = \"green\", size = 2) +\n",
        "    geom_point(data = coord[indices_haut, ], aes(shape = \"Colline\"), color = \"red\", size = 2) +\n",
        "    scale_shape_manual(name = \"Legend\", values = c(\"Vallée\" = 18, \"Colline\" = 18)) +\n",
        "    labs(title = \"Altitude des stations\") +\n",
        "    theme(plot.title = element_text(size = 15, hjust = 0.5)),\n",
        "\n",
        "  ggplot(coord, aes(x = longitude, y = latitude)) +\n",
        "    geom_point(data = coord[indices_autres, ], aes(shape = \"Autres\"), color = \"yellow\", size = 2) +\n",
        "    geom_point(data = coord[indices_seine, ], aes(shape = \"Proche de la Seine\"), color = \"blue\", size = 2) +\n",
        "    scale_shape_manual(name = \"Legend\", values = c(\"Autres\" = 18, \"Proche de la Seine\" = 18)) +\n",
        "    labs(title = \"Stations proches ou non de la Seine\") +\n",
        "    theme(plot.title = element_text(size = 15, hjust = 0.5)),\n",
        "\n",
        "  ncol=3\n",
        ")"
      ]
    },
    {
      "cell_type": "code",
      "execution_count": null,
      "id": "BuIdbDSy8v5v",
      "metadata": {
        "id": "BuIdbDSy8v5v"
      },
      "outputs": [],
      "source": [
        "tbl1 = table(coord$localisation, reshclust1)\n",
        "tbl2 = table(coord$bonus, reshclust1)\n",
        "\n",
        "options(repr.plot.width = 10, repr.plot.height = 6)\n",
        "grid.arrange(\n",
        "  mosaicplot(tbl1, color=c(2:7), main=\"Mosaicplot clusters-Seine\"),\n",
        "  mosaicplot(tbl2, color=c(2:7), main=\"Mosaicplot clusters-altitude\"),\n",
        "  ncol=2\n",
        ")\n",
        "\n",
        "options(repr.plot.width = 20, repr.plot.height = 6)\n",
        "grid.arrange(\n",
        "    fviz_pca_ind(pca, axes=c(1,2), geom=c(\"point\"), habillage=as.factor(reshclust1), palette=c(2:7)) + ggtitle(\"Individuals factor map - PCA \"),\n",
        "    fviz_pca_ind(pca, geom = c(\"point\"), col.ind = coord$couleurs2, palette = c(\"green\",\"red\")) + ggtitle(\"Individuals factor map - PCA\"),\n",
        "    fviz_pca_ind(pca, geom = c(\"point\"), col.ind = coord$couleurs1, palette = c(\"yellow\",\"blue\")) + ggtitle(\"Individuals factor map - PCA \"),\n",
        "\n",
        "    ncol=3\n",
        ")"
      ]
    },
    {
      "cell_type": "markdown",
      "id": "EO-j1Adxj_RF",
      "metadata": {
        "id": "EO-j1Adxj_RF"
      },
      "source": [
        "#### Avec 3 clusters"
      ]
    },
    {
      "cell_type": "code",
      "execution_count": null,
      "id": "ft5RGDlbsHxL",
      "metadata": {
        "id": "ft5RGDlbsHxL"
      },
      "outputs": [],
      "source": [
        "reshclust2 = cutree(hclustcomplete, 3)\n",
        "fviz_dend(hclustcomplete, k=3, show_labels=FALSE, rect=TRUE, palette=c(2:4))"
      ]
    },
    {
      "cell_type": "code",
      "execution_count": null,
      "id": "ObW7D4Og9b-t",
      "metadata": {
        "id": "ObW7D4Og9b-t"
      },
      "outputs": [],
      "source": [
        "options(repr.plot.width = 10, repr.plot.height = 7)\n",
        "\n",
        "cluster1_cah_3 <- which(reshclust2 == 1)\n",
        "cluster2_cah_3 <- which(reshclust2 == 2)\n",
        "cluster3_cah_3 <- which(reshclust2 == 3)\n",
        "\n",
        "mean1_cah_3 <- colMeans(loading[cluster1_cah_3,])\n",
        "mean2_cah_3 <- colMeans(loading[cluster2_cah_3,])\n",
        "mean3_cah_3 <- colMeans(loading[cluster3_cah_3,])\n",
        "\n",
        "x <- 1:168\n",
        "\n",
        "# Affichage des courbes\n",
        "plot(x, mean1_cah_3, type = \"l\", col = 2, xlab = \"Heures de la semaine\", ylab = \"Valeur mesurée\", main = \"Valeur mesurée pour 3 clusters - CAH\", xlim = c(1, 168), ylim = c(0, 1))\n",
        "lines(x, mean2_cah_3, col = 3)\n",
        "lines(x, mean3_cah_3, col = 4)\n",
        "\n",
        "# Légende\n",
        "legend(\"topright\", legend = paste(\"Cluster\", 1:3), col = c(2:4), lty = 1)\n",
        "\n",
        "fviz_pca_ind(pca, axes=c(1,2), geom=c(\"point\"), habillage=as.factor(reshclust2), palette=c(2:4)) + ggtitle(\"Graphe des individus de l'ACP pour 3 clusters\")\n",
        "\n",
        "ggplot(coord, aes(x = longitude, y = latitude)) +\n",
        "  geom_point(data = coord[cluster1_cah_3, ], aes(shape = \"cluster1\"), color = 2, size = 2) +\n",
        "  geom_point(data = coord[cluster2_cah_3, ], aes(shape = \"cluster2\"), color = 3, size = 2) +\n",
        "  geom_point(data = coord[cluster3_cah_3, ], aes(shape = \"cluster3\"), color = 4, size = 2) +\n",
        "  scale_shape_manual(name = \"Legend\", values = c(\"cluster1\" = 18, \"cluster2\" = 18, \"cluster3\" = 18)) +\n",
        "  labs(title = \"Stations loading - 3 Clusters - Méthode CAH\") +\n",
        "  theme(plot.title = element_text(size = 15, hjust = 0.5))"
      ]
    },
    {
      "cell_type": "code",
      "execution_count": null,
      "id": "syNyC-N79gDI",
      "metadata": {
        "id": "syNyC-N79gDI"
      },
      "outputs": [],
      "source": [
        "#timeTick = 1 + 24* (0:6)\n",
        "#abline(v=timeTick, col=\"#048B9A\") + abline(h=0, col=\"#A10684\") + abline(v=timeTick+11, col='pink')\n",
        "\n",
        "x <- 1:168\n",
        "\n",
        "# Affichage des courbes\n",
        "plot(x, mean1_cah_3, type = \"l\", col = 2, xlab = \"Heures de la semaine\", ylab = \"Valeur mesurée\", main = \"Cluster 1\", xlim = c(1, 168), ylim = c(0, 1))\n",
        "plot(x, mean2_cah_3, type = \"l\", col = 3, xlab = \"Heures de la semaine\", ylab = \"Valeur mesurée\", main = \"Cluster 2\", xlim = c(1, 168), ylim = c(0, 1))\n",
        "plot(x, mean3_cah_3, type = \"l\", col = 4, xlab = \"Heures de la semaine\", ylab = \"Valeur mesurée\", main = \"Cluster 3\", xlim = c(1, 168), ylim = c(0, 1))"
      ]
    },
    {
      "cell_type": "code",
      "execution_count": null,
      "id": "770c7I0V9jxZ",
      "metadata": {
        "id": "770c7I0V9jxZ"
      },
      "outputs": [],
      "source": [
        "options(repr.plot.width = 20, repr.plot.height = 5)\n",
        "\n",
        "grid.arrange(\n",
        "  ggplot(coord, aes(x = longitude, y = latitude)) +\n",
        "    geom_point(data = coord[cluster1_cah_3, ], aes(shape = \"cluster1\"), color = 2, size = 2) +\n",
        "    geom_point(data = coord[cluster2_cah_3, ], aes(shape = \"cluster2\"), color = 3, size = 2) +\n",
        "    geom_point(data = coord[cluster3_cah_3, ], aes(shape = \"cluster3\"), color = 4, size = 2) +\n",
        "    scale_shape_manual(name = \"Legend\", values = c(\"cluster1\" = 18, \"cluster2\" = 18, \"cluster3\" = 18)) +\n",
        "    labs(title = \"Stations loading - 3 Clusters - CAH\") +\n",
        "    theme(plot.title = element_text(size = 15, hjust = 0.5)),\n",
        "\n",
        "  ggplot(coord, aes(x = longitude, y = latitude)) +\n",
        "    geom_point(data = coord[indices_bas, ], aes(shape = \"Vallée\"), color = \"green\", size = 2) +\n",
        "    geom_point(data = coord[indices_haut, ], aes(shape = \"Colline\"), color = \"red\", size = 2) +\n",
        "    scale_shape_manual(name = \"Legend\", values = c(\"Vallée\" = 18, \"Colline\" = 18)) +\n",
        "    labs(title = \"Altitude des stations\") +\n",
        "    theme(plot.title = element_text(size = 15, hjust = 0.5)),\n",
        "\n",
        "  ggplot(coord, aes(x = longitude, y = latitude)) +\n",
        "  geom_point(data = coord[indices_autres, ], aes(shape = \"Autres\"), color = \"yellow\", size = 2) +\n",
        "  geom_point(data = coord[indices_seine, ], aes(shape = \"Proche de la Seine\"), color = \"blue\", size = 2) +\n",
        "  scale_shape_manual(name = \"Legend\", values = c(\"Autres\" = 18, \"Proche de la Seine\" = 18)) +\n",
        "  labs(title = \"Stations proches ou non de la Seine\") +\n",
        "  theme(plot.title = element_text(size = 15, hjust = 0.5)),\n",
        "\n",
        "  ncol=3\n",
        ")"
      ]
    },
    {
      "cell_type": "code",
      "execution_count": null,
      "id": "GAM9DivH9oEc",
      "metadata": {
        "id": "GAM9DivH9oEc"
      },
      "outputs": [],
      "source": [
        "tbl1 = table(coord$localisation, reshclust2)\n",
        "tbl2 = table(coord$bonus, reshclust2)\n",
        "\n",
        "options(repr.plot.width = 10, repr.plot.height = 6)\n",
        "grid.arrange(\n",
        "  mosaicplot(tbl1, color=c(2:4), main=\"Mosaicplot clusters-Seine\"),\n",
        "  mosaicplot(tbl2, color=c(2:4), main=\"Mosaicplot clusters-altitude\"),\n",
        "  ncol=2\n",
        ")\n",
        "\n",
        "options(repr.plot.width = 20, repr.plot.height = 6)\n",
        "grid.arrange(\n",
        "    fviz_pca_ind(pca, axes=c(1,2), geom=c(\"point\"), habillage=as.factor(reshclust2), palette=c(2:4)) + ggtitle(\"Individuals factor map - PCA \"),\n",
        "    fviz_pca_ind(pca, geom = c(\"point\"), col.ind = coord$couleurs2, palette = c(\"green\",\"red\")) + ggtitle(\"Individuals factor map - PCA\"),\n",
        "    fviz_pca_ind(pca, geom = c(\"point\"), col.ind = coord$couleurs1, palette = c(\"yellow\",\"blue\")) + ggtitle(\"Individuals factor map - PCA \"),\n",
        "    ncol=3\n",
        ")"
      ]
    },
    {
      "cell_type": "markdown",
      "id": "orjiMWXNkEFU",
      "metadata": {
        "id": "orjiMWXNkEFU"
      },
      "source": [
        "#### Avec 2 clusters"
      ]
    },
    {
      "cell_type": "code",
      "execution_count": null,
      "id": "BVqjpAjssJHm",
      "metadata": {
        "id": "BVqjpAjssJHm"
      },
      "outputs": [],
      "source": [
        "reshclust3 = cutree(hclustcomplete, 2)\n",
        "fviz_dend(hclustcomplete, k=2, show_labels=FALSE, rect=TRUE, palette=c(2:3))"
      ]
    },
    {
      "cell_type": "code",
      "execution_count": null,
      "id": "YE5y5mKS-N0g",
      "metadata": {
        "id": "YE5y5mKS-N0g"
      },
      "outputs": [],
      "source": [
        "options(repr.plot.width = 10, repr.plot.height = 7)\n",
        "\n",
        "cluster1_cah_2 <- which(reshclust3 == 1)\n",
        "cluster2_cah_2 <- which(reshclust3 == 2)\n",
        "\n",
        "mean1_cah_2 <- colMeans(loading[cluster1_cah_2,])\n",
        "mean2_cah_2 <- colMeans(loading[cluster2_cah_2,])\n",
        "\n",
        "x <- 1:168\n",
        "\n",
        "# Affichage des courbes\n",
        "plot(x, mean1_cah_2, type = \"l\", col = 2, xlab = \"Heures de la semaine\", ylab = \"Valeur mesurée\", main = \"Valeur mesurée pour 2 clusters - CAH\", xlim = c(1, 168), ylim = c(0, 1))\n",
        "lines(x, mean2_cah_2, col = 4)\n",
        "\n",
        "# Légende\n",
        "legend(\"topright\", legend = paste(\"Cluster\", 1:2), col = c(2,4), lty = 1)\n",
        "\n",
        "fviz_pca_ind(pca, axes=c(1,2), geom=c(\"point\"), habillage=as.factor(reshclust3), palette=c(2,4)) + ggtitle(\"Graphe des individus de l'ACP pour 2 clusters\")\n",
        "\n",
        "ggplot(coord, aes(x = longitude, y = latitude)) +\n",
        "  geom_point(data = coord[cluster1_cah_2, ], aes(shape = \"cluster1\"), color = 2, size = 2) +\n",
        "  geom_point(data = coord[cluster2_cah_2, ], aes(shape = \"cluster2\"), color = 4, size = 2) +\n",
        "  scale_shape_manual(name = \"Legend\", values = c(\"cluster1\" = 18, \"cluster2\" = 18)) +\n",
        "  labs(title = \"Stations loading - 2 Clusters - CAH\") +\n",
        "  theme(plot.title = element_text(size = 15, hjust = 0.5))"
      ]
    },
    {
      "cell_type": "code",
      "execution_count": null,
      "id": "lYrLc90m-RIJ",
      "metadata": {
        "id": "lYrLc90m-RIJ"
      },
      "outputs": [],
      "source": [
        "x <- 1:168\n",
        "\n",
        "# Affichage des courbes\n",
        "plot(x, mean1_cah_2, type = \"l\", col = 2, xlab = \"Heures de la semaine\", ylab = \"Valeur mesurée\", main = \"Cluster 1\", xlim = c(1, 168), ylim = c(0, 1))\n",
        "plot(x, mean2_cah_2, type = \"l\", col = 4, xlab = \"Heures de la semaine\", ylab = \"Valeur mesurée\", main = \"Cluster 2\", xlim = c(1, 168), ylim = c(0, 1))"
      ]
    },
    {
      "cell_type": "code",
      "execution_count": null,
      "id": "BYrzPD7v-R9y",
      "metadata": {
        "id": "BYrzPD7v-R9y"
      },
      "outputs": [],
      "source": [
        "options(repr.plot.width = 20, repr.plot.height = 5)\n",
        "\n",
        "grid.arrange(\n",
        "  ggplot(coord, aes(x = longitude, y = latitude)) +\n",
        "    geom_point(data = coord[cluster1_cah_2, ], aes(shape = \"cluster1\"), color = 2, size = 2) +\n",
        "    geom_point(data = coord[cluster2_cah_2, ], aes(shape = \"cluster2\"), color = 4, size = 2) +\n",
        "    scale_shape_manual(name = \"Legend\", values = c(\"cluster1\" = 18, \"cluster2\" = 18)) +\n",
        "    labs(title = \"Stations loading - 2 Clusters - CAH\") +\n",
        "    theme(plot.title = element_text(size = 15, hjust = 0.5)),\n",
        "\n",
        "  ggplot(coord, aes(x = longitude, y = latitude)) +\n",
        "    geom_point(data = coord[indices_bas, ], aes(shape = \"Vallée\"), color = \"green\", size = 2) +\n",
        "    geom_point(data = coord[indices_haut, ], aes(shape = \"Colline\"), color = \"red\", size = 2) +\n",
        "    scale_shape_manual(name = \"Legend\", values = c(\"Vallée\" = 18, \"Colline\" = 18)) +\n",
        "    labs(title = \"Altitude des stations\") +\n",
        "    theme(plot.title = element_text(size = 15, hjust = 0.5)),\n",
        "\n",
        "  ggplot(coord, aes(x = longitude, y = latitude)) +\n",
        "  geom_point(data = coord[indices_autres, ], aes(shape = \"Autres\"), color = \"yellow\", size = 2) +\n",
        "  geom_point(data = coord[indices_seine, ], aes(shape = \"Proche de la Seine\"), color = \"blue\", size = 2) +\n",
        "  scale_shape_manual(name = \"Legend\", values = c(\"Autres\" = 18, \"Proche de la Seine\" = 18)) +\n",
        "  labs(title = \"Stations proches ou non de la Seine\") +\n",
        "  theme(plot.title = element_text(size = 15, hjust = 0.5)),\n",
        "\n",
        "  ncol=3\n",
        ")"
      ]
    },
    {
      "cell_type": "code",
      "execution_count": null,
      "id": "VmuAZvcX-WQH",
      "metadata": {
        "id": "VmuAZvcX-WQH"
      },
      "outputs": [],
      "source": [
        "tbl1 = table(coord$localisation, reshclust3)\n",
        "tbl2 = table(coord$bonus, reshclust3)\n",
        "\n",
        "options(repr.plot.width = 10, repr.plot.height = 6)\n",
        "grid.arrange(\n",
        "  mosaicplot(tbl1, color=c(2,4), main=\"Mosaicplot clusters-Seine\"),\n",
        "  mosaicplot(tbl2, color=c(2,4), main=\"Mosaicplot clusters-altitude\"),\n",
        "  ncol=2\n",
        ")\n",
        "\n",
        "options(repr.plot.width = 20, repr.plot.height = 6)\n",
        "grid.arrange(\n",
        "    fviz_pca_ind(pca, axes=c(1,2), geom=c(\"point\"), habillage=as.factor(reshclust3), palette=c(2,4)) + ggtitle(\"Individuals factor map - PCA \"),\n",
        "    fviz_pca_ind(pca, geom = c(\"point\"), col.ind = coord$couleurs2, palette = c(\"green\",\"red\")) + ggtitle(\"Individuals factor map - PCA\"),\n",
        "    fviz_pca_ind(pca, geom = c(\"point\"), col.ind = coord$couleurs1, palette = c(\"yellow\",\"blue\")) + ggtitle(\"Individuals factor map - PCA \"),\n",
        "    ncol=3\n",
        ")"
      ]
    },
    {
      "cell_type": "markdown",
      "id": "nhAUx8DcjcnX",
      "metadata": {
        "id": "nhAUx8DcjcnX"
      },
      "source": [
        "### Clustering avec les Modèles Mixtes Gaussiens (GMM)"
      ]
    },
    {
      "cell_type": "code",
      "execution_count": null,
      "id": "73uMuQH7tLlb",
      "metadata": {
        "id": "73uMuQH7tLlb"
      },
      "outputs": [],
      "source": [
        "resBICall = mclustBIC(loading_total, G=2:20)\n",
        "summary(resBICall)\n",
        "\n",
        "resBICall = Mclust(loading_total, G=2:20)\n",
        "summary(resBICall)\n",
        "\n",
        "fviz_mclust(resBICall, what=\"BIC\")"
      ]
    },
    {
      "cell_type": "code",
      "execution_count": null,
      "id": "Yap3MNlBLhyb",
      "metadata": {
        "id": "Yap3MNlBLhyb"
      },
      "outputs": [],
      "source": [
        "resBIC1 = Mclust(loading_total, G=6, modelNames = \"EEI\")\n",
        "resBIC2 = Mclust(loading_total, G=3, modelNames = \"EEI\")\n",
        "resBIC3 = Mclust(loading_total, G=2, modelNames = \"EEE\")\n",
        "\n",
        "cluster_counts1 <- table(resBIC1$classification)\n",
        "cluster_counts2 <- table(resBIC2$classification)\n",
        "cluster_counts3 <- table(resBIC3$classification)\n",
        "\n",
        "barplot(cluster_counts1, main = \"Répartition des stations pour 6 clusters - GMM\", xlab = \"Cluster\", ylab = \"Nombre de stations\", col = c(2:7))\n",
        "barplot(cluster_counts2, main = \"Répartition des stations pour 3 clusters - GMM\", xlab = \"Cluster\", ylab = \"Nombre de stations\", col = c(2:4))\n",
        "barplot(cluster_counts3, main = \"Répartition des stations pour 2 clusters - GMM\", xlab = \"Cluster\", ylab = \"Nombre de stations\", col = c(2,4))"
      ]
    },
    {
      "cell_type": "markdown",
      "id": "FHsygJTq7r3c",
      "metadata": {
        "id": "FHsygJTq7r3c"
      },
      "source": [
        "Ici, on ne fait que la méthode avec BIC et non ICL car les résultats des deux méthodes sont identiques"
      ]
    },
    {
      "cell_type": "markdown",
      "id": "Xnxb1lAyj4zC",
      "metadata": {
        "id": "Xnxb1lAyj4zC"
      },
      "source": [
        "#### Avec 6 clusters"
      ]
    },
    {
      "cell_type": "code",
      "execution_count": null,
      "id": "AsLkyL1eMNVR",
      "metadata": {
        "id": "AsLkyL1eMNVR"
      },
      "outputs": [],
      "source": [
        "options(repr.plot.width = 10, repr.plot.height = 7)\n",
        "\n",
        "cluster1_gmm_6 <- which(resBIC1$classification == 1)\n",
        "cluster2_gmm_6 <- which(resBIC1$classification == 2)\n",
        "cluster3_gmm_6 <- which(resBIC1$classification == 3)\n",
        "cluster4_gmm_6 <- which(resBIC1$classification == 4)\n",
        "cluster5_gmm_6 <- which(resBIC1$classification == 5)\n",
        "cluster6_gmm_6 <- which(resBIC1$classification == 6)\n",
        "\n",
        "mean1_gmm_6 <- colMeans(loading[cluster1_gmm_6,])\n",
        "mean2_gmm_6 <- colMeans(loading[cluster2_gmm_6,])\n",
        "mean3_gmm_6 <- colMeans(loading[cluster3_gmm_6,])\n",
        "mean4_gmm_6 <- colMeans(loading[cluster4_gmm_6,])\n",
        "mean5_gmm_6 <- colMeans(loading[cluster5_gmm_6,])\n",
        "mean6_gmm_6 <- colMeans(loading[cluster6_gmm_6,])\n",
        "\n",
        "x <- 1:168\n",
        "\n",
        "# Affichage des courbes\n",
        "plot(x, mean1_gmm_6, type = \"l\", col = 2, xlab = \"Heures de la semaine\", ylab = \"Valeur mesurée\", main = \"Valeur mesurée pour 6 clusters - GMM\", xlim = c(1, 168), ylim = c(0, 1))\n",
        "lines(x, mean2_gmm_6, col = 3)\n",
        "lines(x, mean3_gmm_6, col = 4)\n",
        "lines(x, mean4_gmm_6, col = 5)\n",
        "lines(x, mean5_gmm_6, col = 6)\n",
        "lines(x, mean6_gmm_6, col = 7)\n",
        "\n",
        "# Légende\n",
        "legend(\"topright\", legend = paste(\"Cluster\", 1:6), col = c(2:7), lty = 1)\n",
        "\n",
        "fviz_pca_ind(pca, axes=c(1,2), geom=c(\"point\"), habillage=as.factor(resBIC1$classification), palette=c(2:7)) + ggtitle(\"Graphe des individus de l'ACP pour 6 clusters\")\n",
        "\n",
        "ggplot(coord, aes(x = longitude, y = latitude)) +\n",
        "  geom_point(data = coord[cluster1_gmm_6, ], aes(shape = \"cluster1\"), color = 2, size = 2) +\n",
        "  geom_point(data = coord[cluster2_gmm_6, ], aes(shape = \"cluster2\"), color = 3, size = 2) +\n",
        "  geom_point(data = coord[cluster3_gmm_6, ], aes(shape = \"cluster3\"), color = 4, size = 2) +\n",
        "  geom_point(data = coord[cluster4_gmm_6, ], aes(shape = \"cluster4\"), color = 5, size = 2) +\n",
        "  geom_point(data = coord[cluster5_gmm_6, ], aes(shape = \"cluster5\"), color = 6, size = 2) +\n",
        "  geom_point(data = coord[cluster6_gmm_6, ], aes(shape = \"cluster6\"), color = 7, size = 2) +\n",
        "  scale_shape_manual(name = \"Legend\", values = c(\"cluster1\" = 18, \"cluster2\" = 18, \"cluster3\" = 18, \"cluster4\" = 18, \"cluster5\" = 18, \"cluster6\" = 18)) +\n",
        "  labs(title = \"Stations loading - 6 Clusters - Méthode GMM\") +\n",
        "  theme(plot.title = element_text(size = 15, hjust = 0.5))"
      ]
    },
    {
      "cell_type": "code",
      "execution_count": null,
      "id": "N12-GKUNMXHI",
      "metadata": {
        "id": "N12-GKUNMXHI"
      },
      "outputs": [],
      "source": [
        "x <- 1:168\n",
        "\n",
        "#timeTick = 1 + 24* (0:6)\n",
        "#abline(v=timeTick, col=\"#048B9A\") + abline(h=0, col=\"#A10684\") + abline(v=timeTick+11, col='pink')\n",
        "\n",
        "plot(x, mean1_gmm_6, type = \"l\", col = 2, xlab = \"Heures de la semaine\", ylab = \"Valeur mesurée\", main = \"Cluster 1\", xlim = c(1, 168), ylim = c(0, 1))\n",
        "plot(x, mean2_gmm_6, type = \"l\", col = 3, xlab = \"Heures de la semaine\", ylab = \"Valeur mesurée\", main = \"Cluster 2\", xlim = c(1, 168), ylim = c(0, 1))\n",
        "plot(x, mean3_gmm_6, type = \"l\", col = 4, xlab = \"Heures de la semaine\", ylab = \"Valeur mesurée\", main = \"Cluster 3\", xlim = c(1, 168), ylim = c(0, 1))\n",
        "plot(x, mean4_gmm_6, type = \"l\", col = 5, xlab = \"Heures de la semaine\", ylab = \"Valeur mesurée\", main = \"Cluster 4\", xlim = c(1, 168), ylim = c(0, 1))\n",
        "plot(x, mean5_gmm_6, type = \"l\", col = 6, xlab = \"Heures de la semaine\", ylab = \"Valeur mesurée\", main = \"Cluster 5\", xlim = c(1, 168), ylim = c(0, 1))\n",
        "plot(x, mean6_gmm_6, type = \"l\", col = 7, xlab = \"Heures de la semaine\", ylab = \"Valeur mesurée\", main = \"Cluster 6\", xlim = c(1, 168), ylim = c(0, 1))"
      ]
    },
    {
      "cell_type": "code",
      "execution_count": null,
      "id": "x6wm-xoBMXrv",
      "metadata": {
        "id": "x6wm-xoBMXrv"
      },
      "outputs": [],
      "source": [
        "options(repr.plot.width = 20, repr.plot.height = 5)\n",
        "\n",
        "grid.arrange(\n",
        "  ggplot(coord, aes(x = longitude, y = latitude)) +\n",
        "    geom_point(data = coord[cluster1_gmm_6, ], aes(shape = \"cluster1\"), color = 2, size = 2) +\n",
        "    geom_point(data = coord[cluster2_gmm_6, ], aes(shape = \"cluster2\"), color = 3, size = 2) +\n",
        "    geom_point(data = coord[cluster3_gmm_6, ], aes(shape = \"cluster3\"), color = 4, size = 2) +\n",
        "    geom_point(data = coord[cluster4_gmm_6, ], aes(shape = \"cluster4\"), color = 5, size = 2) +\n",
        "    geom_point(data = coord[cluster5_gmm_6, ], aes(shape = \"cluster5\"), color = 6, size = 2) +\n",
        "    geom_point(data = coord[cluster6_gmm_6, ], aes(shape = \"cluster6\"), color = 7, size = 2) +\n",
        "    scale_shape_manual(name = \"Legend\", values = c(\"cluster1\" = 18, \"cluster2\" = 18, \"cluster3\" = 18, \"cluster4\" = 18, \"cluster5\" = 18, \"cluster6\" = 18)) +\n",
        "    labs(title = \"Stations loading - 6 Clusters - Méthode GMM\") +\n",
        "    theme(plot.title = element_text(size = 15, hjust = 0.5)),\n",
        "\n",
        "  ggplot(coord, aes(x = longitude, y = latitude)) +\n",
        "    geom_point(data = coord[indices_bas, ], aes(shape = \"Vallée\"), color = \"green\", size = 2) +\n",
        "    geom_point(data = coord[indices_haut, ], aes(shape = \"Colline\"), color = \"red\", size = 2) +\n",
        "    scale_shape_manual(name = \"Legend\", values = c(\"Vallée\" = 18, \"Colline\" = 18)) +\n",
        "    labs(title = \"Altitude des stations\") +\n",
        "    theme(plot.title = element_text(size = 15, hjust = 0.5)),\n",
        "\n",
        "  ggplot(coord, aes(x = longitude, y = latitude)) +\n",
        "    geom_point(data = coord[indices_autres, ], aes(shape = \"Autres\"), color = \"yellow\", size = 2) +\n",
        "    geom_point(data = coord[indices_seine, ], aes(shape = \"Proche de la Seine\"), color = \"blue\", size = 2) +\n",
        "    scale_shape_manual(name = \"Legend\", values = c(\"Autres\" = 18, \"Proche de la Seine\" = 18)) +\n",
        "    labs(title = \"Stations proches ou non de la Seine\") +\n",
        "    theme(plot.title = element_text(size = 15, hjust = 0.5)),\n",
        "\n",
        "  ncol=3\n",
        ")"
      ]
    },
    {
      "cell_type": "code",
      "execution_count": null,
      "id": "njYoteT_MeCE",
      "metadata": {
        "id": "njYoteT_MeCE"
      },
      "outputs": [],
      "source": [
        "tbl1 = table(coord$localisation, resBIC1$classification)\n",
        "tbl2 = table(coord$bonus, resBIC1$classification)\n",
        "\n",
        "options(repr.plot.width = 10, repr.plot.height = 6)\n",
        "grid.arrange(\n",
        "  mosaicplot(tbl1, color=c(2:7), main=\"Mosaicplot clusters-Seine\"),\n",
        "  mosaicplot(tbl2, color=c(2:7), main=\"Mosaicplot clusters-altitude\"),\n",
        "  ncol=2\n",
        ")\n",
        "\n",
        "options(repr.plot.width = 20, repr.plot.height = 6)\n",
        "grid.arrange(\n",
        "    fviz_pca_ind(pca, axes=c(1,2), geom=c(\"point\"), habillage=as.factor(resBIC1$classification), palette=c(2:7)) + ggtitle(\"Individuals factor map - PCA \"),\n",
        "    fviz_pca_ind(pca, geom = c(\"point\"), col.ind = coord$couleurs2, palette = c(\"green\",\"red\")) + ggtitle(\"Individuals factor map - PCA\"),\n",
        "    fviz_pca_ind(pca, geom = c(\"point\"), col.ind = coord$couleurs1, palette = c(\"yellow\",\"blue\")) + ggtitle(\"Individuals factor map - PCA \"),\n",
        "\n",
        "    ncol=3\n",
        ")"
      ]
    },
    {
      "cell_type": "markdown",
      "id": "gvmV3sZqkAR4",
      "metadata": {
        "id": "gvmV3sZqkAR4"
      },
      "source": [
        "#### Avec 3 clusters"
      ]
    },
    {
      "cell_type": "code",
      "execution_count": null,
      "id": "rwZL6QPrNVPw",
      "metadata": {
        "id": "rwZL6QPrNVPw"
      },
      "outputs": [],
      "source": [
        "options(repr.plot.width = 10, repr.plot.height = 7)\n",
        "\n",
        "cluster1_gmm_3 <- which(resBIC2$classification == 1)\n",
        "cluster2_gmm_3 <- which(resBIC2$classification == 2)\n",
        "cluster3_gmm_3 <- which(resBIC2$classification == 3)\n",
        "\n",
        "mean1_gmm_3 <- colMeans(loading[cluster1_gmm_3,])\n",
        "mean2_gmm_3 <- colMeans(loading[cluster2_gmm_3,])\n",
        "mean3_gmm_3 <- colMeans(loading[cluster3_gmm_3,])\n",
        "\n",
        "x <- 1:168\n",
        "\n",
        "# Affichage des courbes\n",
        "plot(x, mean1_gmm_3, type = \"l\", col = 2, xlab = \"Heures de la semaine\", ylab = \"Valeur mesurée\", main = \"Valeur mesurée pour 3 clusters - GMM\", xlim = c(1, 168), ylim = c(0, 1))\n",
        "lines(x, mean2_gmm_3, col = 3)\n",
        "lines(x, mean3_gmm_3, col = 4)\n",
        "\n",
        "# Légende\n",
        "legend(\"topright\", legend = paste(\"Cluster\", 1:3), col = c(2:4), lty = 1)\n",
        "\n",
        "fviz_pca_ind(pca, axes=c(1,2), geom=c(\"point\"), habillage=as.factor(resBIC2$classification), palette=c(2:4)) + ggtitle(\"Graphe des individus de l'ACP pour 3 clusters\")\n",
        "\n",
        "ggplot(coord, aes(x = longitude, y = latitude)) +\n",
        "  geom_point(data = coord[cluster1_gmm_3, ], aes(shape = \"cluster1\"), color = 2, size = 2) +\n",
        "  geom_point(data = coord[cluster2_gmm_3, ], aes(shape = \"cluster2\"), color = 3, size = 2) +\n",
        "  geom_point(data = coord[cluster3_gmm_3, ], aes(shape = \"cluster3\"), color = 4, size = 2) +\n",
        "  scale_shape_manual(name = \"Legend\", values = c(\"cluster1\" = 18, \"cluster2\" = 18, \"cluster3\" = 18)) +\n",
        "  labs(title = \"Stations loading - 3 Clusters - Méthode GMM\") +\n",
        "  theme(plot.title = element_text(size = 15, hjust = 0.5))"
      ]
    },
    {
      "cell_type": "code",
      "execution_count": null,
      "id": "v1vPkNuoNb6A",
      "metadata": {
        "id": "v1vPkNuoNb6A"
      },
      "outputs": [],
      "source": [
        "#timeTick = 1 + 24* (0:6)\n",
        "#abline(v=timeTick, col=\"#048B9A\") + abline(h=0, col=\"#A10684\") + abline(v=timeTick+11, col='pink')\n",
        "\n",
        "x <- 1:168\n",
        "\n",
        "# Affichage des courbes\n",
        "plot(x, mean1_gmm_3, type = \"l\", col = 2, xlab = \"Heures de la semaine\", ylab = \"Valeur mesurée\", main = \"Cluster 1\", xlim = c(1, 168), ylim = c(0, 1))\n",
        "plot(x, mean2_gmm_3, type = \"l\", col = 3, xlab = \"Heures de la semaine\", ylab = \"Valeur mesurée\", main = \"Cluster 2\", xlim = c(1, 168), ylim = c(0, 1))\n",
        "plot(x, mean3_gmm_3, type = \"l\", col = 4, xlab = \"Heures de la semaine\", ylab = \"Valeur mesurée\", main = \"Cluster 3\", xlim = c(1, 168), ylim = c(0, 1))"
      ]
    },
    {
      "cell_type": "code",
      "execution_count": null,
      "id": "NlBWGDAKNl5b",
      "metadata": {
        "id": "NlBWGDAKNl5b"
      },
      "outputs": [],
      "source": [
        "options(repr.plot.width = 20, repr.plot.height = 5)\n",
        "\n",
        "grid.arrange(\n",
        "  ggplot(coord, aes(x = longitude, y = latitude)) +\n",
        "    geom_point(data = coord[cluster1_gmm_3, ], aes(shape = \"cluster1\"), color = 2, size = 2) +\n",
        "    geom_point(data = coord[cluster2_gmm_3, ], aes(shape = \"cluster2\"), color = 3, size = 2) +\n",
        "    geom_point(data = coord[cluster3_gmm_3, ], aes(shape = \"cluster3\"), color = 4, size = 2) +\n",
        "    scale_shape_manual(name = \"Legend\", values = c(\"cluster1\" = 18, \"cluster2\" = 18, \"cluster3\" = 18)) +\n",
        "    labs(title = \"Stations loading - 3 Clusters - Méthode GMM\") +\n",
        "    theme(plot.title = element_text(size = 15, hjust = 0.5)),\n",
        "\n",
        "  ggplot(coord, aes(x = longitude, y = latitude)) +\n",
        "    geom_point(data = coord[indices_bas, ], aes(shape = \"Vallée\"), color = \"green\", size = 2) +\n",
        "    geom_point(data = coord[indices_haut, ], aes(shape = \"Colline\"), color = \"red\", size = 2) +\n",
        "    scale_shape_manual(name = \"Legend\", values = c(\"Vallée\" = 18, \"Colline\" = 18)) +\n",
        "    labs(title = \"Altitude des stations\") +\n",
        "    theme(plot.title = element_text(size = 15, hjust = 0.5)),\n",
        "\n",
        "  ggplot(coord, aes(x = longitude, y = latitude)) +\n",
        "  geom_point(data = coord[indices_autres, ], aes(shape = \"Autres\"), color = \"yellow\", size = 2) +\n",
        "  geom_point(data = coord[indices_seine, ], aes(shape = \"Proche de la Seine\"), color = \"blue\", size = 2) +\n",
        "  scale_shape_manual(name = \"Legend\", values = c(\"Autres\" = 18, \"Proche de la Seine\" = 18)) +\n",
        "  labs(title = \"Stations proches ou non de la Seine\") +\n",
        "  theme(plot.title = element_text(size = 15, hjust = 0.5)),\n",
        "\n",
        "  ncol=3\n",
        ")"
      ]
    },
    {
      "cell_type": "code",
      "execution_count": null,
      "id": "OU-VGAXANshQ",
      "metadata": {
        "id": "OU-VGAXANshQ"
      },
      "outputs": [],
      "source": [
        "tbl1 = table(coord$localisation, resBIC2$classification)\n",
        "tbl2 = table(coord$bonus, resBIC2$classification)\n",
        "\n",
        "options(repr.plot.width = 10, repr.plot.height = 6)\n",
        "grid.arrange(\n",
        "  mosaicplot(tbl1, color=c(2:4), main=\"Mosaicplot clusters-Seine\"),\n",
        "  mosaicplot(tbl2, color=c(2:4), main=\"Mosaicplot clusters-altitude\"),\n",
        "  ncol=2\n",
        ")\n",
        "\n",
        "options(repr.plot.width = 20, repr.plot.height = 6)\n",
        "grid.arrange(\n",
        "    fviz_pca_ind(pca, axes=c(1,2), geom=c(\"point\"), habillage=as.factor(resBIC2$classification), palette=c(2:4)) + ggtitle(\"Individuals factor map - PCA \"),\n",
        "    fviz_pca_ind(pca, geom = c(\"point\"), col.ind = coord$couleurs2, palette = c(\"green\",\"red\")) + ggtitle(\"Individuals factor map - PCA\"),\n",
        "    fviz_pca_ind(pca, geom = c(\"point\"), col.ind = coord$couleurs1, palette = c(\"yellow\",\"blue\")) + ggtitle(\"Individuals factor map - PCA \"),\n",
        "    ncol=3\n",
        ")"
      ]
    },
    {
      "cell_type": "markdown",
      "id": "2ele-0l-kFkg",
      "metadata": {
        "id": "2ele-0l-kFkg"
      },
      "source": [
        "#### Avec 2 clusters"
      ]
    },
    {
      "cell_type": "code",
      "execution_count": null,
      "id": "0DCnhjM2O_sE",
      "metadata": {
        "id": "0DCnhjM2O_sE"
      },
      "outputs": [],
      "source": [
        "options(repr.plot.width = 10, repr.plot.height = 7)\n",
        "\n",
        "cluster1_gmm_2 <- which(resBIC3$classification == 1)\n",
        "cluster2_gmm_2 <- which(resBIC3$classification == 2)\n",
        "\n",
        "mean1_gmm_2 <- colMeans(loading[cluster1_gmm_2,])\n",
        "mean2_gmm_2 <- colMeans(loading[cluster2_gmm_2,])\n",
        "\n",
        "x <- 1:168\n",
        "\n",
        "# Affichage des courbes\n",
        "plot(x, mean1_gmm_2, type = \"l\", col = 2, xlab = \"Heures de la semaine\", ylab = \"Valeur mesurée\", main = \"Valeur mesurée pour 2 clusters - GMM\", xlim = c(1, 168), ylim = c(0, 1))\n",
        "lines(x, mean2_gmm_2, col = 4)\n",
        "\n",
        "# Légende\n",
        "legend(\"topright\", legend = paste(\"Cluster\", 1:2), col = c(2,4), lty = 1)\n",
        "\n",
        "fviz_pca_ind(pca, axes=c(1,2), geom=c(\"point\"), habillage=as.factor(resBIC3$classification), palette=c(2,4)) + ggtitle(\"Graphe des individus de l'ACP pour 2 clusters\")\n",
        "\n",
        "ggplot(coord, aes(x = longitude, y = latitude)) +\n",
        "  geom_point(data = coord[cluster1_gmm_2, ], aes(shape = \"cluster1\"), color = 2, size = 2) +\n",
        "  geom_point(data = coord[cluster2_gmm_2, ], aes(shape = \"cluster2\"), color = 4, size = 2) +\n",
        "  scale_shape_manual(name = \"Legend\", values = c(\"cluster1\" = 18, \"cluster2\" = 18)) +\n",
        "  labs(title = \"Stations loading - 2 Clusters - GMM\") +\n",
        "  theme(plot.title = element_text(size = 15, hjust = 0.5))"
      ]
    },
    {
      "cell_type": "code",
      "execution_count": null,
      "id": "D1bMKlSyPAa3",
      "metadata": {
        "id": "D1bMKlSyPAa3"
      },
      "outputs": [],
      "source": [
        "x <- 1:168\n",
        "\n",
        "# Affichage des courbes\n",
        "plot(x, mean1_gmm_2, type = \"l\", col = 2, xlab = \"Heures de la semaine\", ylab = \"Valeur mesurée\", main = \"Cluster 1\", xlim = c(1, 168), ylim = c(0, 1))\n",
        "plot(x, mean2_gmm_2, type = \"l\", col = 4, xlab = \"Heures de la semaine\", ylab = \"Valeur mesurée\", main = \"Cluster 2\", xlim = c(1, 168), ylim = c(0, 1))"
      ]
    },
    {
      "cell_type": "code",
      "execution_count": null,
      "id": "D6yuIMCMTLr0",
      "metadata": {
        "id": "D6yuIMCMTLr0"
      },
      "outputs": [],
      "source": [
        "options(repr.plot.width = 20, repr.plot.height = 5)\n",
        "\n",
        "grid.arrange(\n",
        "  ggplot(coord, aes(x = longitude, y = latitude)) +\n",
        "    geom_point(data = coord[cluster1_gmm_2, ], aes(shape = \"cluster1\"), color = 2, size = 2) +\n",
        "    geom_point(data = coord[cluster2_gmm_2, ], aes(shape = \"cluster2\"), color = 4, size = 2) +\n",
        "    scale_shape_manual(name = \"Legend\", values = c(\"cluster1\" = 18, \"cluster2\" = 18)) +\n",
        "    labs(title = \"Stations loading - 2 Clusters - Méthode GMM\") +\n",
        "    theme(plot.title = element_text(size = 15, hjust = 0.5)),\n",
        "\n",
        "  ggplot(coord, aes(x = longitude, y = latitude)) +\n",
        "    geom_point(data = coord[indices_bas, ], aes(shape = \"Vallée\"), color = \"green\", size = 2) +\n",
        "    geom_point(data = coord[indices_haut, ], aes(shape = \"Colline\"), color = \"red\", size = 2) +\n",
        "    scale_shape_manual(name = \"Legend\", values = c(\"Vallée\" = 18, \"Colline\" = 18)) +\n",
        "    labs(title = \"Altitude des stations\") +\n",
        "    theme(plot.title = element_text(size = 15, hjust = 0.5)),\n",
        "\n",
        "  ggplot(coord, aes(x = longitude, y = latitude)) +\n",
        "  geom_point(data = coord[indices_autres, ], aes(shape = \"Autres\"), color = \"yellow\", size = 2) +\n",
        "  geom_point(data = coord[indices_seine, ], aes(shape = \"Proche de la Seine\"), color = \"blue\", size = 2) +\n",
        "  scale_shape_manual(name = \"Legend\", values = c(\"Autres\" = 18, \"Proche de la Seine\" = 18)) +\n",
        "  labs(title = \"Stations proches ou non de la Seine\") +\n",
        "  theme(plot.title = element_text(size = 15, hjust = 0.5)),\n",
        "\n",
        "  ncol=3\n",
        ")"
      ]
    },
    {
      "cell_type": "code",
      "execution_count": null,
      "id": "bJfn2le3TULI",
      "metadata": {
        "id": "bJfn2le3TULI"
      },
      "outputs": [],
      "source": [
        "tbl1 = table(coord$localisation, resBIC3$classification)\n",
        "tbl2 = table(coord$bonus, resBIC3$classification)\n",
        "\n",
        "options(repr.plot.width = 10, repr.plot.height = 6)\n",
        "grid.arrange(\n",
        "  mosaicplot(tbl1, color=c(2,4), main=\"Mosaicplot clusters-Seine\"),\n",
        "  mosaicplot(tbl2, color=c(2,4), main=\"Mosaicplot clusters-altitude\"),\n",
        "  ncol=2\n",
        ")\n",
        "\n",
        "options(repr.plot.width = 20, repr.plot.height = 6)\n",
        "grid.arrange(\n",
        "    fviz_pca_ind(pca, axes=c(1,2), geom=c(\"point\"), habillage=as.factor(resBIC3$classification), palette=c(2,4)) + ggtitle(\"Individuals factor map - PCA \"),\n",
        "    fviz_pca_ind(pca, geom = c(\"point\"), col.ind = coord$couleurs2, palette = c(\"green\",\"red\")) + ggtitle(\"Individuals factor map - PCA\"),\n",
        "    fviz_pca_ind(pca, geom = c(\"point\"), col.ind = coord$couleurs1, palette = c(\"yellow\",\"blue\")) + ggtitle(\"Individuals factor map - PCA \"),\n",
        "    ncol=3\n",
        ")"
      ]
    },
    {
      "cell_type": "markdown",
      "id": "hsnWtnHvc_NW",
      "metadata": {
        "id": "hsnWtnHvc_NW"
      },
      "source": [
        "### Comparaison des méthodes"
      ]
    },
    {
      "cell_type": "code",
      "execution_count": null,
      "id": "lhaViD0CrZnH",
      "metadata": {
        "id": "lhaViD0CrZnH"
      },
      "outputs": [],
      "source": [
        "matchClasses <- function(classif1, classif2) {\n",
        "  cm <- table(classif1, classif2)\n",
        "  K <- nrow(cm)\n",
        "  a <- integer(K)\n",
        "  b <- integer(K)\n",
        "\n",
        "  for (j in 1:K) {\n",
        "    for (i in 1:K) {\n",
        "      if (a[j] < cm[i, j]) {\n",
        "        a[j] <- cm[i, j]\n",
        "        b[j] <- i\n",
        "      }\n",
        "    }\n",
        "  }\n",
        "\n",
        "  clusters <- classif2\n",
        "  n <- length(classif2)\n",
        "  for (i in 1:n) {\n",
        "    for (j in 1:K) {\n",
        "      if (classif2[i] == j) {\n",
        "        clusters[i] <- b[j]\n",
        "      }\n",
        "    }\n",
        "  }\n",
        "\n",
        "  return (clusters)\n",
        "}"
      ]
    },
    {
      "cell_type": "markdown",
      "id": "HbgFHP9Jc_NY",
      "metadata": {
        "id": "HbgFHP9Jc_NY"
      },
      "source": [
        "#### Avec 6 clusters"
      ]
    },
    {
      "cell_type": "code",
      "execution_count": null,
      "id": "d37s0ByPc_NZ",
      "metadata": {
        "id": "d37s0ByPc_NZ"
      },
      "outputs": [],
      "source": [
        "grid.arrange(\n",
        "    fviz_pca_ind(pca, axes=c(1,2), geom=c(\"point\"), habillage=as.factor(reskmeans1$cluster), palette=c(2:7)) + ggtitle(\"K-means pour 6 clusters\"),\n",
        "    fviz_pca_ind(pca, axes=c(1,2), geom=c(\"point\"), habillage=as.factor(reshclust1), palette=c(2:7)) + ggtitle(\"CAH pour 6 clusters\"),\n",
        "    fviz_pca_ind(pca, axes=c(1,2), geom=c(\"point\"), habillage=as.factor(resBIC1$classification), palette=c(2:7)) + ggtitle(\"GMM pour 6 clusters\"),\n",
        "    ncol=3\n",
        ")"
      ]
    },
    {
      "cell_type": "markdown",
      "id": "nKF8KIi8c_Nb",
      "metadata": {
        "id": "nKF8KIi8c_Nb"
      },
      "source": [
        "##### k-means Vs GMM"
      ]
    },
    {
      "cell_type": "code",
      "execution_count": null,
      "id": "ZAM5LdwmX5s6",
      "metadata": {
        "id": "ZAM5LdwmX5s6"
      },
      "outputs": [],
      "source": [
        "new_cluster1 <- matchClasses(resBIC1$classification, reskmeans1$cluster)\n",
        "conf_mat = confusion_matrix(targets=resBIC1$classification, predictions=new_cluster1)\n",
        "plot_confusion_matrix(conf_mat)"
      ]
    },
    {
      "cell_type": "code",
      "execution_count": null,
      "id": "IwzLwm3bZlrM",
      "metadata": {
        "id": "IwzLwm3bZlrM"
      },
      "outputs": [],
      "source": [
        "options(repr.plot.width = 10, repr.plot.height = 7)\n",
        "\n",
        "cluster1_kmeans_62 <- which(new_cluster1 == 1)\n",
        "cluster2_kmeans_62 <- which(new_cluster1 == 2)\n",
        "cluster3_kmeans_62 <- which(new_cluster1 == 3)\n",
        "cluster4_kmeans_62 <- which(new_cluster1 == 4)\n",
        "cluster5_kmeans_62 <- which(new_cluster1 == 5)\n",
        "cluster6_kmeans_62 <- which(new_cluster1 == 6)\n",
        "\n",
        "ggplot(coord, aes(x = longitude, y = latitude)) +\n",
        "  geom_point(data = coord[cluster1_kmeans_62, ], aes(shape = \"cluster1\"), color = 2, size = 2) +\n",
        "  geom_point(data = coord[cluster2_kmeans_62, ], aes(shape = \"cluster2\"), color = 3, size = 2) +\n",
        "  geom_point(data = coord[cluster3_kmeans_62, ], aes(shape = \"cluster3\"), color = 4, size = 2) +\n",
        "  geom_point(data = coord[cluster4_kmeans_62, ], aes(shape = \"cluster4\"), color = 5, size = 2) +\n",
        "  geom_point(data = coord[cluster5_kmeans_62, ], aes(shape = \"cluster5\"), color = 6, size = 2) +\n",
        "  geom_point(data = coord[cluster6_kmeans_62, ], aes(shape = \"cluster6\"), color = 7, size = 2) +\n",
        "  scale_shape_manual(name = \"Legend\", values = c(\"cluster1\" = 18, \"cluster2\" = 18, \"cluster3\" = 18, \"cluster4\" = 18, \"cluster5\" = 18, \"cluster6\" = 18)) +\n",
        "  labs(title = \"Stations loading - 6 Clusters - Méthode K-means\") +\n",
        "  theme(plot.title = element_text(size = 15, hjust = 0.5))\n",
        "\n",
        "ggplot(coord, aes(x = longitude, y = latitude)) +\n",
        "  geom_point(data = coord[cluster1_gmm_6, ], aes(shape = \"cluster1\"), color = 2, size = 2) +\n",
        "  geom_point(data = coord[cluster2_gmm_6, ], aes(shape = \"cluster2\"), color = 3, size = 2) +\n",
        "  geom_point(data = coord[cluster3_gmm_6, ], aes(shape = \"cluster3\"), color = 4, size = 2) +\n",
        "  geom_point(data = coord[cluster4_gmm_6, ], aes(shape = \"cluster4\"), color = 5, size = 2) +\n",
        "  geom_point(data = coord[cluster5_gmm_6, ], aes(shape = \"cluster5\"), color = 6, size = 2) +\n",
        "  geom_point(data = coord[cluster6_gmm_6, ], aes(shape = \"cluster6\"), color = 7, size = 2) +\n",
        "  scale_shape_manual(name = \"Legend\", values = c(\"cluster1\" = 18, \"cluster2\" = 18, \"cluster3\" = 18, \"cluster4\" = 18, \"cluster5\" = 18, \"cluster6\" = 18)) +\n",
        "  labs(title = \"Stations loading - 6 Clusters - Méthode GMM\") +\n",
        "  theme(plot.title = element_text(size = 15, hjust = 0.5))\n",
        "\n",
        "\n",
        "n <- length(new_cluster1)\n",
        "clusters <- new_cluster1\n",
        "idx <- (new_cluster1 != resBIC1$classification)\n",
        "clusters[idx] <- 7\n",
        "cluster7 <- which(clusters == 7)\n",
        "nb_diff <- length(cluster7)\n",
        "ratio <- nb_diff/n\n",
        "\n",
        "cat(\"Ratio du nb de points classés différemment:\", ratio, \"\\n\")\n",
        "cat(\"Nb de stations classées différemment:\", nb_diff, \"\\n\")\n",
        "\n",
        "ggplot(coord, aes(x = longitude, y = latitude)) +\n",
        "  geom_point(data = coord[cluster1_kmeans_62, ], aes(shape = \"cluster1\"), color = 2, size = 2) +\n",
        "  geom_point(data = coord[cluster2_kmeans_62, ], aes(shape = \"cluster2\"), color = 3, size = 2) +\n",
        "  geom_point(data = coord[cluster3_kmeans_62, ], aes(shape = \"cluster3\"), color = 4, size = 2) +\n",
        "  geom_point(data = coord[cluster4_kmeans_62, ], aes(shape = \"cluster4\"), color = 5, size = 2) +\n",
        "  geom_point(data = coord[cluster5_kmeans_62, ], aes(shape = \"cluster5\"), color = 6, size = 2) +\n",
        "  geom_point(data = coord[cluster6_kmeans_62, ], aes(shape = \"cluster6\"), color = 7, size = 2) +\n",
        "  geom_point(data = coord[cluster7, ], aes(shape = \"différence\"), color = 1, size = 2) +\n",
        "  scale_shape_manual(name = \"Legend\", values = c(\"cluster1\" = 18, \"cluster2\" = 18, \"cluster3\" = 18, \"cluster4\" = 18, \"cluster5\" = 18, \"cluster6\" = 18, \"différence\" = 18)) +\n",
        "  labs(title = \"Stations loading - 6 Clusters - Comparaison K-means vs GMM\") +\n",
        "  theme(plot.title = element_text(size = 15, hjust = 0.5))"
      ]
    },
    {
      "cell_type": "markdown",
      "id": "nxCu0yrtc_Nc",
      "metadata": {
        "id": "nxCu0yrtc_Nc"
      },
      "source": [
        "##### k-means Vs CAH"
      ]
    },
    {
      "cell_type": "code",
      "execution_count": null,
      "id": "ee3BEM5gYPic",
      "metadata": {
        "id": "ee3BEM5gYPic"
      },
      "outputs": [],
      "source": [
        "new_cluster2 <- matchClasses(reshclust1, reskmeans1$cluster)\n",
        "conf_mat = confusion_matrix(targets=reshclust1, predictions=new_cluster2)\n",
        "plot_confusion_matrix(conf_mat)"
      ]
    },
    {
      "cell_type": "code",
      "execution_count": null,
      "id": "rMyA4Y2ElV-U",
      "metadata": {
        "id": "rMyA4Y2ElV-U"
      },
      "outputs": [],
      "source": [
        "options(repr.plot.width = 10, repr.plot.height = 7)\n",
        "\n",
        "cluster1_kmeans_63 <- which(new_cluster2 == 1)\n",
        "cluster2_kmeans_63 <- which(new_cluster2 == 2)\n",
        "cluster3_kmeans_63 <- which(new_cluster2 == 3)\n",
        "cluster4_kmeans_63 <- which(new_cluster2 == 4)\n",
        "cluster5_kmeans_63 <- which(new_cluster2 == 5)\n",
        "\n",
        "ggplot(coord, aes(x = longitude, y = latitude)) +\n",
        "  geom_point(data = coord[cluster1_kmeans_63, ], aes(shape = \"cluster1\"), color = 2, size = 2) +\n",
        "  geom_point(data = coord[cluster2_kmeans_63, ], aes(shape = \"cluster2\"), color = 3, size = 2) +\n",
        "  geom_point(data = coord[cluster3_kmeans_63, ], aes(shape = \"cluster3\"), color = 4, size = 2) +\n",
        "  geom_point(data = coord[cluster4_kmeans_63, ], aes(shape = \"cluster4\"), color = 5, size = 2) +\n",
        "  geom_point(data = coord[cluster5_kmeans_63, ], aes(shape = \"cluster5\"), color = 6, size = 2) +\n",
        "  scale_shape_manual(name = \"Legend\", values = c(\"cluster1\" = 18, \"cluster2\" = 18, \"cluster3\" = 18, \"cluster4\" = 18, \"cluster5\" = 18)) +\n",
        "  labs(title = \"Stations loading - 6 Clusters - Méthode K-means\") +\n",
        "  theme(plot.title = element_text(size = 15, hjust = 0.5))\n",
        "\n",
        "ggplot(coord, aes(x = longitude, y = latitude)) +\n",
        "  geom_point(data = coord[cluster1_cah_6, ], aes(shape = \"cluster1\"), color = 2, size = 2) +\n",
        "  geom_point(data = coord[cluster2_cah_6, ], aes(shape = \"cluster2\"), color = 3, size = 2) +\n",
        "  geom_point(data = coord[cluster3_cah_6, ], aes(shape = \"cluster3\"), color = 4, size = 2) +\n",
        "  geom_point(data = coord[cluster4_cah_6, ], aes(shape = \"cluster4\"), color = 5, size = 2) +\n",
        "  geom_point(data = coord[cluster5_cah_6, ], aes(shape = \"cluster5\"), color = 6, size = 2) +\n",
        "  geom_point(data = coord[cluster6_cah_6, ], aes(shape = \"cluster6\"), color = 7, size = 2) +\n",
        "  scale_shape_manual(name = \"Legend\", values = c(\"cluster1\" = 18, \"cluster2\" = 18, \"cluster3\" = 18, \"cluster4\" = 18, \"cluster5\" = 18, \"cluster6\" = 18)) +\n",
        "  labs(title = \"Stations loading - 6 Clusters - Méthode CAH\") +\n",
        "  theme(plot.title = element_text(size = 15, hjust = 0.5))\n",
        "\n",
        "\n",
        "n <- length(new_cluster2)\n",
        "clusters <- new_cluster2\n",
        "idx <- (new_cluster2 != reshclust1)\n",
        "clusters[idx] <- 7\n",
        "cluster7 <- which(clusters == 7)\n",
        "nb_diff <- length(cluster7)\n",
        "ratio <- nb_diff/n\n",
        "\n",
        "cat(\"Ratio du nb de points classés différemment:\", ratio, \"\\n\")\n",
        "cat(\"Nb de stations classées différemment:\", nb_diff, \"\\n\")\n",
        "\n",
        "ggplot(coord, aes(x = longitude, y = latitude)) +\n",
        "  geom_point(data = coord[cluster1_kmeans_63, ], aes(shape = \"cluster1\"), color = 2, size = 2) +\n",
        "  geom_point(data = coord[cluster2_kmeans_63, ], aes(shape = \"cluster2\"), color = 3, size = 2) +\n",
        "  geom_point(data = coord[cluster3_kmeans_63, ], aes(shape = \"cluster3\"), color = 4, size = 2) +\n",
        "  geom_point(data = coord[cluster4_kmeans_63, ], aes(shape = \"cluster4\"), color = 5, size = 2) +\n",
        "  geom_point(data = coord[cluster5_kmeans_63, ], aes(shape = \"cluster5\"), color = 6, size = 2) +\n",
        "  geom_point(data = coord[cluster7, ], aes(shape = \"différence\"), color = 1, size = 2) +\n",
        "  scale_shape_manual(name = \"Legend\", values = c(\"cluster1\" = 18, \"cluster2\" = 18, \"cluster3\" = 18, \"cluster4\" = 18, \"cluster5\" = 18, \"différence\" = 18)) +\n",
        "  labs(title = \"Stations loading - 6 Clusters - Comparaison K-means vs CAH\") +\n",
        "  theme(plot.title = element_text(size = 15, hjust = 0.5))"
      ]
    },
    {
      "cell_type": "markdown",
      "id": "uhHBMQAyc_Nc",
      "metadata": {
        "id": "uhHBMQAyc_Nc"
      },
      "source": [
        "##### CAH Vs GMM"
      ]
    },
    {
      "cell_type": "code",
      "execution_count": null,
      "id": "_L38mkODYV6i",
      "metadata": {
        "id": "_L38mkODYV6i"
      },
      "outputs": [],
      "source": [
        "new_cluster3 <- matchClasses(resBIC1$classification, reshclust1)\n",
        "conf_mat = confusion_matrix(targets=resBIC1$classification, predictions=new_cluster3)\n",
        "plot_confusion_matrix(conf_mat)"
      ]
    },
    {
      "cell_type": "code",
      "execution_count": null,
      "id": "sddQdL9r0ICK",
      "metadata": {
        "id": "sddQdL9r0ICK"
      },
      "outputs": [],
      "source": [
        "options(repr.plot.width = 10, repr.plot.height = 7)\n",
        "\n",
        "cluster1_cah_62 <- which(new_cluster3 == 1)\n",
        "cluster2_cah_62 <- which(new_cluster3 == 2)\n",
        "cluster4_cah_62 <- which(new_cluster3 == 4)\n",
        "cluster5_cah_62 <- which(new_cluster3 == 5)\n",
        "cluster6_cah_62 <- which(new_cluster3 == 6)\n",
        "\n",
        "ggplot(coord, aes(x = longitude, y = latitude)) +\n",
        "  geom_point(data = coord[cluster1_cah_62, ], aes(shape = \"cluster1\"), color = 2, size = 2) +\n",
        "  geom_point(data = coord[cluster2_cah_62, ], aes(shape = \"cluster2\"), color = 3, size = 2) +\n",
        "  geom_point(data = coord[cluster4_cah_62, ], aes(shape = \"cluster4\"), color = 5, size = 2) +\n",
        "  geom_point(data = coord[cluster5_cah_62, ], aes(shape = \"cluster5\"), color = 6, size = 2) +\n",
        "  geom_point(data = coord[cluster6_cah_62, ], aes(shape = \"cluster6\"), color = 7, size = 2) +\n",
        "  scale_shape_manual(name = \"Legend\", values = c(\"cluster1\" = 18, \"cluster2\" = 18, \"cluster4\" = 18, \"cluster5\" = 18, \"cluster6\" = 18)) +\n",
        "  labs(title = \"Stations loading - 6 Clusters - Méthode CAH\") +\n",
        "  theme(plot.title = element_text(size = 15, hjust = 0.5))\n",
        "\n",
        "ggplot(coord, aes(x = longitude, y = latitude)) +\n",
        "  geom_point(data = coord[cluster1_gmm_6, ], aes(shape = \"cluster1\"), color = 2, size = 2) +\n",
        "  geom_point(data = coord[cluster2_gmm_6, ], aes(shape = \"cluster2\"), color = 3, size = 2) +\n",
        "  geom_point(data = coord[cluster3_gmm_6, ], aes(shape = \"cluster3\"), color = 4, size = 2) +\n",
        "  geom_point(data = coord[cluster4_gmm_6, ], aes(shape = \"cluster4\"), color = 5, size = 2) +\n",
        "  geom_point(data = coord[cluster5_gmm_6, ], aes(shape = \"cluster5\"), color = 6, size = 2) +\n",
        "  geom_point(data = coord[cluster6_gmm_6, ], aes(shape = \"cluster6\"), color = 7, size = 2) +\n",
        "  scale_shape_manual(name = \"Legend\", values = c(\"cluster1\" = 18, \"cluster2\" = 18, \"cluster3\" = 18, \"cluster4\" = 18, \"cluster5\" = 18, \"cluster6\" = 18)) +\n",
        "  labs(title = \"Stations loading - 6 Clusters - Méthode GMM\") +\n",
        "  theme(plot.title = element_text(size = 15, hjust = 0.5))\n",
        "\n",
        "\n",
        "n <- length(new_cluster3)\n",
        "clusters <- new_cluster3\n",
        "idx <- (new_cluster3 != resBIC1$classification)\n",
        "clusters[idx] <- 7\n",
        "cluster7 <- which(clusters == 7)\n",
        "nb_diff <- length(cluster7)\n",
        "ratio <- nb_diff/n\n",
        "\n",
        "cat(\"Ratio du nb de points classés différemment:\", ratio, \"\\n\")\n",
        "cat(\"Nb de stations classées différemment:\", nb_diff, \"\\n\")\n",
        "\n",
        "ggplot(coord, aes(x = longitude, y = latitude)) +\n",
        "  geom_point(data = coord[cluster1_cah_62, ], aes(shape = \"cluster1\"), color = 2, size = 2) +\n",
        "  geom_point(data = coord[cluster2_cah_62, ], aes(shape = \"cluster2\"), color = 3, size = 2) +\n",
        "  geom_point(data = coord[cluster4_cah_62, ], aes(shape = \"cluster4\"), color = 5, size = 2) +\n",
        "  geom_point(data = coord[cluster5_cah_62, ], aes(shape = \"cluster5\"), color = 6, size = 2) +\n",
        "  geom_point(data = coord[cluster6_cah_62, ], aes(shape = \"cluster6\"), color = 7, size = 2) +\n",
        "  geom_point(data = coord[cluster7, ], aes(shape = \"différence\"), color = 1, size = 2) +\n",
        "  scale_shape_manual(name = \"Legend\", values = c(\"cluster1\" = 18, \"cluster2\" = 18, \"cluster4\" = 18, \"cluster5\" = 18, \"cluster6\" = 18, \"différence\" = 18)) +\n",
        "  labs(title = \"Stations loading - 6 Clusters - Comparaison CAH vs GMM\") +\n",
        "  theme(plot.title = element_text(size = 15, hjust = 0.5))"
      ]
    },
    {
      "cell_type": "markdown",
      "id": "rFgZDPVnc_Ne",
      "metadata": {
        "id": "rFgZDPVnc_Ne"
      },
      "source": [
        "#### Avec 3 clusters"
      ]
    },
    {
      "cell_type": "code",
      "execution_count": null,
      "id": "NKtsj-WUdMmN",
      "metadata": {
        "id": "NKtsj-WUdMmN"
      },
      "outputs": [],
      "source": [
        "grid.arrange(\n",
        "    fviz_pca_ind(pca, axes=c(1,2), geom=c(\"point\"), habillage=as.factor(reskmeans2$cluster), palette=c(2:7)) + ggtitle(\"K-means pour 6 clusters\"),\n",
        "    fviz_pca_ind(pca, axes=c(1,2), geom=c(\"point\"), habillage=as.factor(reshclust2), palette=c(2:7)) + ggtitle(\"CAH pour 6 clusters\"),\n",
        "    fviz_pca_ind(pca, axes=c(1,2), geom=c(\"point\"), habillage=as.factor(resBIC2$classification), palette=c(2:7)) + ggtitle(\"GMM pour 6 clusters\"),\n",
        "    ncol=3\n",
        ")"
      ]
    },
    {
      "cell_type": "markdown",
      "id": "aLBF0X-042qg",
      "metadata": {
        "id": "aLBF0X-042qg"
      },
      "source": [
        "##### k-means Vs GMM"
      ]
    },
    {
      "cell_type": "code",
      "execution_count": null,
      "id": "rvVsMzbj42qg",
      "metadata": {
        "id": "rvVsMzbj42qg"
      },
      "outputs": [],
      "source": [
        "new_cluster1 <- matchClasses(resBIC2$classification, reskmeans2$cluster)\n",
        "conf_mat = confusion_matrix(targets=resBIC2$classification, predictions=new_cluster1)\n",
        "plot_confusion_matrix(conf_mat)"
      ]
    },
    {
      "cell_type": "code",
      "execution_count": null,
      "id": "zoi_BMPl42qg",
      "metadata": {
        "id": "zoi_BMPl42qg"
      },
      "outputs": [],
      "source": [
        "options(repr.plot.width = 10, repr.plot.height = 7)\n",
        "\n",
        "cluster1_kmeans_32 <- which(new_cluster1 == 1)\n",
        "cluster3_kmeans_32 <- which(new_cluster1 == 3)\n",
        "\n",
        "ggplot(coord, aes(x = longitude, y = latitude)) +\n",
        "  geom_point(data = coord[cluster1_kmeans_32, ], aes(shape = \"cluster1\"), color = 2, size = 2) +\n",
        "  geom_point(data = coord[cluster3_kmeans_32, ], aes(shape = \"cluster3\"), color = 4, size = 2) +\n",
        "  scale_shape_manual(name = \"Legend\", values = c(\"cluster1\" = 18, \"cluster3\" = 18)) +\n",
        "  labs(title = \"Stations loading - 3 Clusters - Méthode K-means\") +\n",
        "  theme(plot.title = element_text(size = 15, hjust = 0.5))\n",
        "\n",
        "ggplot(coord, aes(x = longitude, y = latitude)) +\n",
        "  geom_point(data = coord[cluster1_gmm_3, ], aes(shape = \"cluster1\"), color = 2, size = 2) +\n",
        "  geom_point(data = coord[cluster2_gmm_3, ], aes(shape = \"cluster2\"), color = 3, size = 2) +\n",
        "  geom_point(data = coord[cluster3_gmm_3, ], aes(shape = \"cluster3\"), color = 4, size = 2) +\n",
        "  scale_shape_manual(name = \"Legend\", values = c(\"cluster1\" = 18, \"cluster2\" = 18, \"cluster3\" = 18)) +\n",
        "  labs(title = \"Stations loading - 3 Clusters - Méthode GMM\") +\n",
        "  theme(plot.title = element_text(size = 15, hjust = 0.5))\n",
        "\n",
        "\n",
        "n <- length(new_cluster1)\n",
        "clusters <- new_cluster1\n",
        "idx <- (new_cluster1 != resBIC2$classification)\n",
        "clusters[idx] <- 7\n",
        "cluster7 <- which(clusters == 7)\n",
        "nb_diff <- length(cluster7)\n",
        "ratio <- nb_diff/n\n",
        "\n",
        "cat(\"Ratio du nb de points classés différemment:\", ratio, \"\\n\")\n",
        "cat(\"Nb de stations classées différemment:\", nb_diff, \"\\n\")\n",
        "\n",
        "ggplot(coord, aes(x = longitude, y = latitude)) +\n",
        "  geom_point(data = coord[cluster1_kmeans_32, ], aes(shape = \"cluster1\"), color = 2, size = 2) +\n",
        "  geom_point(data = coord[cluster3_kmeans_32, ], aes(shape = \"cluster3\"), color = 4, size = 2) +\n",
        "  geom_point(data = coord[cluster7, ], aes(shape = \"différence\"), color = 1, size = 2) +\n",
        "  scale_shape_manual(name = \"Legend\", values = c(\"cluster1\" = 18, \"cluster3\" = 18, \"différence\" = 18)) +\n",
        "  labs(title = \"Stations loading - 3 Clusters - Comparaison K-means vs GMM\") +\n",
        "  theme(plot.title = element_text(size = 15, hjust = 0.5))"
      ]
    },
    {
      "cell_type": "markdown",
      "id": "oWWkTcM642qh",
      "metadata": {
        "id": "oWWkTcM642qh"
      },
      "source": [
        "##### k-means Vs CAH"
      ]
    },
    {
      "cell_type": "code",
      "execution_count": null,
      "id": "DZVmJ4qF42qh",
      "metadata": {
        "id": "DZVmJ4qF42qh"
      },
      "outputs": [],
      "source": [
        "new_cluster2 <- matchClasses(reshclust2, reskmeans2$cluster)\n",
        "conf_mat = confusion_matrix(targets=reshclust2, predictions=new_cluster2)\n",
        "plot_confusion_matrix(conf_mat)"
      ]
    },
    {
      "cell_type": "code",
      "execution_count": null,
      "id": "mVaCI-DM42qh",
      "metadata": {
        "id": "mVaCI-DM42qh"
      },
      "outputs": [],
      "source": [
        "options(repr.plot.width = 10, repr.plot.height = 7)\n",
        "\n",
        "cluster1_kmeans_33 <- which(new_cluster2 == 1)\n",
        "cluster2_kmeans_33 <- which(new_cluster2 == 2)\n",
        "cluster3_kmeans_33 <- which(new_cluster2 == 3)\n",
        "\n",
        "ggplot(coord, aes(x = longitude, y = latitude)) +\n",
        "  geom_point(data = coord[cluster1_kmeans_33, ], aes(shape = \"cluster1\"), color = 2, size = 2) +\n",
        "  geom_point(data = coord[cluster2_kmeans_33, ], aes(shape = \"cluster2\"), color = 3, size = 2) +\n",
        "  geom_point(data = coord[cluster3_kmeans_33, ], aes(shape = \"cluster3\"), color = 4, size = 2) +\n",
        "  scale_shape_manual(name = \"Legend\", values = c(\"cluster1\" = 18, \"cluster2\" = 18, \"cluster3\" = 18)) +\n",
        "  labs(title = \"Stations loading - 3 Clusters - Méthode K-means\") +\n",
        "  theme(plot.title = element_text(size = 15, hjust = 0.5))\n",
        "\n",
        "ggplot(coord, aes(x = longitude, y = latitude)) +\n",
        "  geom_point(data = coord[cluster1_cah_3, ], aes(shape = \"cluster1\"), color = 2, size = 2) +\n",
        "  geom_point(data = coord[cluster2_cah_3, ], aes(shape = \"cluster2\"), color = 3, size = 2) +\n",
        "  geom_point(data = coord[cluster3_cah_3, ], aes(shape = \"cluster3\"), color = 4, size = 2) +\n",
        "  scale_shape_manual(name = \"Legend\", values = c(\"cluster1\" = 18, \"cluster2\" = 18, \"cluster3\" = 18)) +\n",
        "  labs(title = \"Stations loading - 3 Clusters - Méthode CAH\") +\n",
        "  theme(plot.title = element_text(size = 15, hjust = 0.5))\n",
        "\n",
        "\n",
        "n <- length(new_cluster2)\n",
        "clusters <- new_cluster2\n",
        "idx <- (new_cluster2 != reshclust2)\n",
        "clusters[idx] <- 7\n",
        "cluster7 <- which(clusters == 7)\n",
        "nb_diff <- length(cluster7)\n",
        "ratio <- nb_diff/n\n",
        "\n",
        "cat(\"Ratio du nb de points classés différemment:\", ratio, \"\\n\")\n",
        "cat(\"Nb de stations classées différemment:\", nb_diff, \"\\n\")\n",
        "\n",
        "ggplot(coord, aes(x = longitude, y = latitude)) +\n",
        "  geom_point(data = coord[cluster1_kmeans_33, ], aes(shape = \"cluster1\"), color = 2, size = 2) +\n",
        "  geom_point(data = coord[cluster2_kmeans_33, ], aes(shape = \"cluster2\"), color = 3, size = 2) +\n",
        "  geom_point(data = coord[cluster3_kmeans_33, ], aes(shape = \"cluster3\"), color = 4, size = 2) +\n",
        "  geom_point(data = coord[cluster7, ], aes(shape = \"différence\"), color = 1, size = 2) +\n",
        "  scale_shape_manual(name = \"Legend\", values = c(\"cluster1\" = 18, \"cluster2\" = 18, \"cluster3\" = 18, \"différence\" = 18)) +\n",
        "  labs(title = \"Stations loading - 3 Clusters - Comparaison K-means vs CAH\") +\n",
        "  theme(plot.title = element_text(size = 15, hjust = 0.5))"
      ]
    },
    {
      "cell_type": "markdown",
      "id": "3rK9nOnO42qh",
      "metadata": {
        "id": "3rK9nOnO42qh"
      },
      "source": [
        "##### CAH Vs GMM"
      ]
    },
    {
      "cell_type": "code",
      "execution_count": null,
      "id": "1DleeGBs42qh",
      "metadata": {
        "id": "1DleeGBs42qh"
      },
      "outputs": [],
      "source": [
        "new_cluster3 <- matchClasses(resBIC2$classification, reshclust2)\n",
        "conf_mat = confusion_matrix(targets=resBIC2$classification, predictions=new_cluster3)\n",
        "plot_confusion_matrix(conf_mat)"
      ]
    },
    {
      "cell_type": "code",
      "execution_count": null,
      "id": "Iuo3hdQp42qh",
      "metadata": {
        "id": "Iuo3hdQp42qh"
      },
      "outputs": [],
      "source": [
        "options(repr.plot.width = 10, repr.plot.height = 7)\n",
        "\n",
        "cluster1_cah_32 <- which(new_cluster3 == 1)\n",
        "cluster2_cah_32 <- which(new_cluster3 == 2)\n",
        "cluster3_cah_32 <- which(new_cluster3 == 3)\n",
        "\n",
        "ggplot(coord, aes(x = longitude, y = latitude)) +\n",
        "  geom_point(data = coord[cluster1_cah_32, ], aes(shape = \"cluster1\"), color = 2, size = 2) +\n",
        "  geom_point(data = coord[cluster2_cah_32, ], aes(shape = \"cluster2\"), color = 3, size = 2) +\n",
        "  geom_point(data = coord[cluster3_cah_32, ], aes(shape = \"cluster3\"), color = 4, size = 2) +\n",
        "  scale_shape_manual(name = \"Legend\", values = c(\"cluster1\" = 18, \"cluster2\" = 18, \"cluster3\" = 18)) +\n",
        "  labs(title = \"Stations loading - 3 Clusters - Méthode CAH\") +\n",
        "  theme(plot.title = element_text(size = 15, hjust = 0.5))\n",
        "\n",
        "ggplot(coord, aes(x = longitude, y = latitude)) +\n",
        "  geom_point(data = coord[cluster1_gmm_3, ], aes(shape = \"cluster1\"), color = 2, size = 2) +\n",
        "  geom_point(data = coord[cluster2_gmm_3, ], aes(shape = \"cluster2\"), color = 3, size = 2) +\n",
        "  geom_point(data = coord[cluster3_gmm_3, ], aes(shape = \"cluster3\"), color = 4, size = 2) +\n",
        "  scale_shape_manual(name = \"Legend\", values = c(\"cluster1\" = 18, \"cluster2\" = 18, \"cluster3\" = 18)) +\n",
        "  labs(title = \"Stations loading - 3 Clusters - Méthode GMM\") +\n",
        "  theme(plot.title = element_text(size = 15, hjust = 0.5))\n",
        "\n",
        "\n",
        "n <- length(new_cluster3)\n",
        "clusters <- new_cluster3\n",
        "idx <- (new_cluster3 != resBIC2$classification)\n",
        "clusters[idx] <- 7\n",
        "cluster7 <- which(clusters == 7)\n",
        "nb_diff <- length(cluster7)\n",
        "ratio <- nb_diff/n\n",
        "\n",
        "cat(\"Ratio du nb de points classés différemment:\", ratio, \"\\n\")\n",
        "cat(\"Nb de stations classées différemment:\", nb_diff, \"\\n\")\n",
        "\n",
        "ggplot(coord, aes(x = longitude, y = latitude)) +\n",
        "  geom_point(data = coord[cluster1_cah_32, ], aes(shape = \"cluster1\"), color = 2, size = 2) +\n",
        "  geom_point(data = coord[cluster2_cah_32, ], aes(shape = \"cluster2\"), color = 3, size = 2) +\n",
        "  geom_point(data = coord[cluster3_cah_32, ], aes(shape = \"cluster3\"), color = 4, size = 2) +\n",
        "  geom_point(data = coord[cluster7, ], aes(shape = \"différence\"), color = 1, size = 2) +\n",
        "  scale_shape_manual(name = \"Legend\", values = c(\"cluster1\" = 18, \"cluster2\" = 18, \"cluster3\" = 18, \"différence\" = 18)) +\n",
        "  labs(title = \"Stations loading - 3 Clusters - Comparaison CAH vs GMM\") +\n",
        "  theme(plot.title = element_text(size = 15, hjust = 0.5))"
      ]
    },
    {
      "cell_type": "markdown",
      "id": "aPGFCl2SdEhZ",
      "metadata": {
        "id": "aPGFCl2SdEhZ"
      },
      "source": [
        "#### Avec 2 clusters"
      ]
    },
    {
      "cell_type": "code",
      "execution_count": null,
      "id": "ru6Dc-fEdQB1",
      "metadata": {
        "id": "ru6Dc-fEdQB1"
      },
      "outputs": [],
      "source": [
        "grid.arrange(\n",
        "    fviz_pca_ind(pca, axes=c(1,2), geom=c(\"point\"), habillage=as.factor(reskmeans3$cluster), palette=c(2:7)) + ggtitle(\"K-means pour 6 clusters\"),\n",
        "    fviz_pca_ind(pca, axes=c(1,2), geom=c(\"point\"), habillage=as.factor(reshclust3), palette=c(2:7)) + ggtitle(\"CAH pour 6 clusters\"),\n",
        "    fviz_pca_ind(pca, axes=c(1,2), geom=c(\"point\"), habillage=as.factor(resBIC3$classification), palette=c(2:7)) + ggtitle(\"GMM pour 6 clusters\"),\n",
        "    ncol=3\n",
        ")"
      ]
    },
    {
      "cell_type": "markdown",
      "id": "xhB3Xhor8yvp",
      "metadata": {
        "id": "xhB3Xhor8yvp"
      },
      "source": [
        "##### k-means Vs GMM"
      ]
    },
    {
      "cell_type": "code",
      "execution_count": null,
      "id": "KHuR_qoC8yvp",
      "metadata": {
        "id": "KHuR_qoC8yvp"
      },
      "outputs": [],
      "source": [
        "new_cluster1 <- matchClasses(resBIC3$classification, reskmeans3$cluster)\n",
        "conf_mat = confusion_matrix(targets=resBIC3$classification, predictions=new_cluster1)\n",
        "plot_confusion_matrix(conf_mat)"
      ]
    },
    {
      "cell_type": "code",
      "execution_count": null,
      "id": "n-Lko0_D8yvp",
      "metadata": {
        "id": "n-Lko0_D8yvp"
      },
      "outputs": [],
      "source": [
        "options(repr.plot.width = 10, repr.plot.height = 7)\n",
        "\n",
        "cluster1_kmeans_22 <- which(new_cluster1 == 1)\n",
        "cluster2_kmeans_22 <- which(new_cluster1 == 2)\n",
        "\n",
        "ggplot(coord, aes(x = longitude, y = latitude)) +\n",
        "  geom_point(data = coord[cluster1_kmeans_22, ], aes(shape = \"cluster1\"), color = 2, size = 2) +\n",
        "  geom_point(data = coord[cluster2_kmeans_22, ], aes(shape = \"cluster2\"), color = 3, size = 2) +\n",
        "  scale_shape_manual(name = \"Legend\", values = c(\"cluster1\" = 18, \"cluster2\" = 18)) +\n",
        "  labs(title = \"Stations loading - 2 Clusters - Méthode K-means\") +\n",
        "  theme(plot.title = element_text(size = 15, hjust = 0.5))\n",
        "\n",
        "ggplot(coord, aes(x = longitude, y = latitude)) +\n",
        "  geom_point(data = coord[cluster1_gmm_2, ], aes(shape = \"cluster1\"), color = 2, size = 2) +\n",
        "  geom_point(data = coord[cluster2_gmm_2, ], aes(shape = \"cluster2\"), color = 3, size = 2) +\n",
        "  scale_shape_manual(name = \"Legend\", values = c(\"cluster1\" = 18, \"cluster2\" = 18)) +\n",
        "  labs(title = \"Stations loading - 2 Clusters - Méthode GMM\") +\n",
        "  theme(plot.title = element_text(size = 15, hjust = 0.5))\n",
        "\n",
        "\n",
        "n <- length(new_cluster1)\n",
        "clusters <- new_cluster1\n",
        "idx <- (new_cluster1 != resBIC3$classification)\n",
        "clusters[idx] <- 7\n",
        "cluster7 <- which(clusters == 7)\n",
        "nb_diff <- length(cluster7)\n",
        "ratio <- nb_diff/n\n",
        "\n",
        "cat(\"Ratio du nb de points classés différemment:\", ratio, \"\\n\")\n",
        "cat(\"Nb de stations classées différemment:\", nb_diff, \"\\n\")\n",
        "\n",
        "ggplot(coord, aes(x = longitude, y = latitude)) +\n",
        "  geom_point(data = coord[cluster1_kmeans_22, ], aes(shape = \"cluster1\"), color = 2, size = 2) +\n",
        "  geom_point(data = coord[cluster2_kmeans_22, ], aes(shape = \"cluster2\"), color = 3, size = 2) +\n",
        "  geom_point(data = coord[cluster7, ], aes(shape = \"différence\"), color = 1, size = 2) +\n",
        "  scale_shape_manual(name = \"Legend\", values = c(\"cluster1\" = 18, \"cluster2\" = 18, \"différence\" = 18)) +\n",
        "  labs(title = \"Stations loading - 2 Clusters - Comparaison K-means vs GMM\") +\n",
        "  theme(plot.title = element_text(size = 15, hjust = 0.5))"
      ]
    },
    {
      "cell_type": "markdown",
      "id": "tlmyrEpP8yvq",
      "metadata": {
        "id": "tlmyrEpP8yvq"
      },
      "source": [
        "##### k-means Vs CAH"
      ]
    },
    {
      "cell_type": "code",
      "execution_count": null,
      "id": "3V956LkC8yvq",
      "metadata": {
        "id": "3V956LkC8yvq"
      },
      "outputs": [],
      "source": [
        "new_cluster2 <- matchClasses(reshclust3, reskmeans3$cluster)\n",
        "conf_mat = confusion_matrix(targets=reshclust3, predictions=new_cluster2)\n",
        "plot_confusion_matrix(conf_mat)"
      ]
    },
    {
      "cell_type": "code",
      "execution_count": null,
      "id": "CMtlsn2l8yvq",
      "metadata": {
        "id": "CMtlsn2l8yvq"
      },
      "outputs": [],
      "source": [
        "options(repr.plot.width = 10, repr.plot.height = 7)\n",
        "\n",
        "cluster1_kmeans_23 <- which(new_cluster2 == 1)\n",
        "cluster2_kmeans_23 <- which(new_cluster2 == 2)\n",
        "\n",
        "ggplot(coord, aes(x = longitude, y = latitude)) +\n",
        "  geom_point(data = coord[cluster1_kmeans_23, ], aes(shape = \"cluster1\"), color = 2, size = 2) +\n",
        "  geom_point(data = coord[cluster2_kmeans_23, ], aes(shape = \"cluster2\"), color = 3, size = 2) +\n",
        "  scale_shape_manual(name = \"Legend\", values = c(\"cluster1\" = 18, \"cluster2\" = 18)) +\n",
        "  labs(title = \"Stations loading - 2 Clusters - Méthode K-means\") +\n",
        "  theme(plot.title = element_text(size = 15, hjust = 0.5))\n",
        "\n",
        "ggplot(coord, aes(x = longitude, y = latitude)) +\n",
        "  geom_point(data = coord[cluster1_cah_2, ], aes(shape = \"cluster1\"), color = 2, size = 2) +\n",
        "  geom_point(data = coord[cluster2_cah_2, ], aes(shape = \"cluster2\"), color = 3, size = 2) +\n",
        "  scale_shape_manual(name = \"Legend\", values = c(\"cluster1\" = 18, \"cluster2\" = 18)) +\n",
        "  labs(title = \"Stations loading - 2 Clusters - Méthode CAH\") +\n",
        "  theme(plot.title = element_text(size = 15, hjust = 0.5))\n",
        "\n",
        "\n",
        "n <- length(new_cluster2)\n",
        "clusters <- new_cluster2\n",
        "idx <- (new_cluster2 != reshclust3)\n",
        "clusters[idx] <- 7\n",
        "cluster7 <- which(clusters == 7)\n",
        "nb_diff <- length(cluster7)\n",
        "ratio <- nb_diff/n\n",
        "\n",
        "cat(\"Ratio du nb de points classés différemment:\", ratio, \"\\n\")\n",
        "cat(\"Nb de stations classées différemment:\", nb_diff, \"\\n\")\n",
        "\n",
        "ggplot(coord, aes(x = longitude, y = latitude)) +\n",
        "  geom_point(data = coord[cluster1_kmeans_23, ], aes(shape = \"cluster1\"), color = 2, size = 2) +\n",
        "  geom_point(data = coord[cluster2_kmeans_23, ], aes(shape = \"cluster2\"), color = 3, size = 2) +\n",
        "  geom_point(data = coord[cluster7, ], aes(shape = \"différence\"), color = 1, size = 2) +\n",
        "  scale_shape_manual(name = \"Legend\", values = c(\"cluster1\" = 18, \"cluster2\" = 18, \"différence\" = 18)) +\n",
        "  labs(title = \"Stations loading - 2 Clusters - Comparaison K-means vs CAH\") +\n",
        "  theme(plot.title = element_text(size = 15, hjust = 0.5))"
      ]
    },
    {
      "cell_type": "markdown",
      "id": "nCVE9Ckf8yvr",
      "metadata": {
        "id": "nCVE9Ckf8yvr"
      },
      "source": [
        "##### CAH Vs GMM"
      ]
    },
    {
      "cell_type": "code",
      "execution_count": null,
      "id": "3HB7-eX38yvr",
      "metadata": {
        "id": "3HB7-eX38yvr"
      },
      "outputs": [],
      "source": [
        "new_cluster3 <- matchClasses(resBIC3$classification, reshclust3)\n",
        "conf_mat = confusion_matrix(targets=resBIC3$classification, predictions=new_cluster3)\n",
        "plot_confusion_matrix(conf_mat)"
      ]
    },
    {
      "cell_type": "code",
      "execution_count": null,
      "id": "ZfA_Nefv8yvr",
      "metadata": {
        "id": "ZfA_Nefv8yvr"
      },
      "outputs": [],
      "source": [
        "options(repr.plot.width = 10, repr.plot.height = 7)\n",
        "\n",
        "cluster1_cah_22 <- which(new_cluster3 == 1)\n",
        "cluster2_cah_22 <- which(new_cluster3 == 2)\n",
        "\n",
        "ggplot(coord, aes(x = longitude, y = latitude)) +\n",
        "  geom_point(data = coord[cluster1_cah_22, ], aes(shape = \"cluster1\"), color = 2, size = 2) +\n",
        "  geom_point(data = coord[cluster2_cah_22, ], aes(shape = \"cluster2\"), color = 3, size = 2) +\n",
        "  scale_shape_manual(name = \"Legend\", values = c(\"cluster1\" = 18, \"cluster2\" = 18)) +\n",
        "  labs(title = \"Stations loading - 2 Clusters - Méthode CAH\") +\n",
        "  theme(plot.title = element_text(size = 15, hjust = 0.5))\n",
        "\n",
        "ggplot(coord, aes(x = longitude, y = latitude)) +\n",
        "  geom_point(data = coord[cluster1_gmm_2, ], aes(shape = \"cluster1\"), color = 2, size = 2) +\n",
        "  geom_point(data = coord[cluster2_gmm_2, ], aes(shape = \"cluster2\"), color = 3, size = 2) +\n",
        "  scale_shape_manual(name = \"Legend\", values = c(\"cluster1\" = 18, \"cluster2\" = 18)) +\n",
        "  labs(title = \"Stations loading - 2 Clusters - Méthode GMM\") +\n",
        "  theme(plot.title = element_text(size = 15, hjust = 0.5))\n",
        "\n",
        "\n",
        "n <- length(new_cluster3)\n",
        "clusters <- new_cluster3\n",
        "idx <- (new_cluster3 != resBIC3$classification)\n",
        "clusters[idx] <- 7\n",
        "cluster7 <- which(clusters == 7)\n",
        "nb_diff <- length(cluster7)\n",
        "ratio <- nb_diff/n\n",
        "\n",
        "cat(\"Ratio du nb de points classés différemment:\", ratio, \"\\n\")\n",
        "cat(\"Nb de stations classées différemment:\", nb_diff, \"\\n\")\n",
        "\n",
        "ggplot(coord, aes(x = longitude, y = latitude)) +\n",
        "  geom_point(data = coord[cluster1_cah_22, ], aes(shape = \"cluster1\"), color = 2, size = 2) +\n",
        "  geom_point(data = coord[cluster2_cah_22, ], aes(shape = \"cluster2\"), color = 3, size = 2) +\n",
        "  geom_point(data = coord[cluster7, ], aes(shape = \"différence\"), color = 1, size = 2) +\n",
        "  scale_shape_manual(name = \"Legend\", values = c(\"cluster1\" = 18, \"cluster2\" = 18, \"différence\" = 18)) +\n",
        "  labs(title = \"Stations loading - 2 Clusters - Comparaison CAH vs GMM\") +\n",
        "  theme(plot.title = element_text(size = 15, hjust = 0.5))"
      ]
    },
    {
      "cell_type": "markdown",
      "id": "p1HJvqemWMhG",
      "metadata": {
        "id": "p1HJvqemWMhG"
      },
      "source": [
        "# Analyse en correspondances multiples (ACM)"
      ]
    },
    {
      "cell_type": "markdown",
      "id": "u6rZU5ltxHvT",
      "metadata": {
        "id": "u6rZU5ltxHvT"
      },
      "source": [
        "## Sélection des variables"
      ]
    },
    {
      "cell_type": "code",
      "execution_count": null,
      "id": "ejSl4_xVMkyF",
      "metadata": {
        "id": "ejSl4_xVMkyF"
      },
      "outputs": [],
      "source": [
        "# Sélection des colonnes pour chaque plage horaire et calcul de leur moyenne\n",
        "loading_heure <- data.frame(\n",
        "  Moyenne_00h_03h = rowMeans(loading[, 1:4]),\n",
        "  Moyenne_04h_06h = rowMeans(loading[, 5:7]),\n",
        "  Moyenne_07h_09h = rowMeans(loading[, 8:10]),\n",
        "  Moyenne_10h_12h = rowMeans(loading[, 11:13]),\n",
        "  Moyenne_13h_16h = rowMeans(loading[, 14:17]),\n",
        "  Moyenne_17h_19h = rowMeans(loading[, 18:20]),\n",
        "  Moyenne_20h_23h = rowMeans(loading[, 21:24])\n",
        ")\n",
        "\n",
        "# Concaténation des dataframes loading_heure et coord\n",
        "loading_heure <- cbind(loading_heure, coord[c('bonus', 'localisation')])\n",
        "\n",
        "head(loading_heure)"
      ]
    },
    {
      "cell_type": "code",
      "execution_count": null,
      "id": "TREzikCHM4Ae",
      "metadata": {
        "id": "TREzikCHM4Ae"
      },
      "outputs": [],
      "source": [
        "# Variables qu'on ne veut pas affecter\n",
        "colonnes_non_numeriques <- c('localisation', 'bonus')\n",
        "\n",
        "# Création des classes d'intervalles\n",
        "assign_class <- function(value) {\n",
        "    if (value < 0.25) {\n",
        "        return(\"[0;0.25]\")\n",
        "    } else if (value < 0.5) {\n",
        "        return(\"[0.25;0.5]\")\n",
        "    } else if (value < 0.75) {\n",
        "        return(\"[0.5;0.75]\")\n",
        "    } else {\n",
        "        return(\"[0.75;1]\")\n",
        "    }\n",
        "}\n",
        "\n",
        "# Création d'une copie du dataframe loading_heure avec les classes d'intervalles\n",
        "loading_heure_factor <- loading_heure\n",
        "\n",
        "# Appliquer la fonction assign_class à toutes les colonnes sauf les colonnes non numériques\n",
        "loading_heure_factor[, !names(loading_heure_factor) %in% colonnes_non_numeriques] <-\n",
        "    apply(loading_heure_factor[, !names(loading_heure_factor) %in% colonnes_non_numeriques], 2, function(x) sapply(x, assign_class))\n",
        "\n",
        "print(head(loading_heure_factor))"
      ]
    },
    {
      "cell_type": "code",
      "execution_count": null,
      "id": "AwIFQb--NFtA",
      "metadata": {
        "id": "AwIFQb--NFtA"
      },
      "outputs": [],
      "source": [
        "# Convertir les colonnes en catégorielles non ordonnées\n",
        "loading_heure_factor$Moyenne_00h_03h <- as.factor(loading_heure_factor$Moyenne_00h_03h)\n",
        "loading_heure_factor$Moyenne_04h_06h <- as.factor(loading_heure_factor$Moyenne_04h_06h)\n",
        "loading_heure_factor$Moyenne_07h_09h <- as.factor(loading_heure_factor$Moyenne_07h_09h)\n",
        "loading_heure_factor$Moyenne_10h_12h <- as.factor(loading_heure_factor$Moyenne_10h_12h)\n",
        "loading_heure_factor$Moyenne_13h_16h <- as.factor(loading_heure_factor$Moyenne_13h_16h)\n",
        "loading_heure_factor$Moyenne_17h_19h <- as.factor(loading_heure_factor$Moyenne_17h_19h)\n",
        "loading_heure_factor$Moyenne_20h_23h <- as.factor(loading_heure_factor$Moyenne_20h_23h)\n",
        "loading_heure_factor$bonus <- as.factor(loading_heure_factor$bonus)\n",
        "loading_heure_factor$localisation <- as.factor(loading_heure_factor$localisation)\n",
        "\n",
        "# Afficher les types de données\n",
        "print(sapply(loading_heure_factor, class))"
      ]
    },
    {
      "cell_type": "code",
      "execution_count": null,
      "id": "9wG2wfOrR-gP",
      "metadata": {
        "id": "9wG2wfOrR-gP"
      },
      "outputs": [],
      "source": [
        "head(loading_heure_factor)"
      ]
    },
    {
      "cell_type": "code",
      "execution_count": null,
      "id": "efwE0WSMSI7t",
      "metadata": {
        "id": "efwE0WSMSI7t"
      },
      "outputs": [],
      "source": [
        "# Loading\n",
        "par(mfrow=c(2,4))\n",
        "I = 7\n",
        "for (i in 1:I) {\n",
        "  plot(loading_heure_factor[,i], main=colnames(loading_heure_factor)[i],\n",
        "       ylab = \"Count\", col=\"steelblue\", las = 2)\n",
        "  }\n",
        "\n",
        "# -- #\n",
        "\n",
        "# Location\n",
        "par(mfrow=c(1,2))\n",
        "I = 2\n",
        "for (i in 7+1:I) {\n",
        "  plot(loading_heure_factor[,i], main=colnames(loading_heure_factor)[i],\n",
        "       ylab = \"Count\", col=\"steelblue\", las = 2)\n",
        "  }"
      ]
    },
    {
      "cell_type": "markdown",
      "id": "uf_RoWwPpiTU",
      "metadata": {
        "id": "uf_RoWwPpiTU"
      },
      "source": [
        "En moyenne et ce, quelle que soit l'heure de la journée, la plupart des stations sont vides ou contiennent peu de vélos. Ceci peut s'expliquer non seulement par le fait qu'il y a en permancence des usagers utilisant des Vélib', mais aussi par le fait qu'une partie des Vélib' peut être hors service (Vélib' non ramenés aux stations, en réparation...).\n",
        "\n",
        "De plus, on remarque qu'entre 10h et 19h (et même un peu au delà visiblement), le nombre de stations peu remplies (remplissage entre 0 et 0.25) augmente. Ces horaires regroupent la fin de matinée, l'après-midi et le début de soirée. Ce sont des horaires d'activités. Il semble donc normal qu'un plus grand nombre d'usagers aient recours aux Vélib' pour se déplacer (pour le travail, pour aller d'une activité à une autre, changer de mode de transport....).\n",
        "\n",
        "Enfin on remarque que les stations situées en altitude ou proches de la Seine sont une minorité par rapport à l'ensemble des stations."
      ]
    },
    {
      "cell_type": "markdown",
      "id": "ijcM7HFhxSce",
      "metadata": {
        "id": "ijcM7HFhxSce"
      },
      "source": [
        "## Représentation de l'ACM"
      ]
    },
    {
      "cell_type": "code",
      "execution_count": null,
      "id": "1sphass1TCOz",
      "metadata": {
        "id": "1sphass1TCOz"
      },
      "outputs": [],
      "source": [
        "res.mca = MCA(loading_heure_factor[c(1:7)], graph=FALSE)\n",
        "print(res.mca)"
      ]
    },
    {
      "cell_type": "code",
      "execution_count": null,
      "id": "Zl5V5a0JTMnz",
      "metadata": {
        "id": "Zl5V5a0JTMnz"
      },
      "outputs": [],
      "source": [
        "head(res.mca$eig)\n",
        "\n",
        "fviz_screeplot(res.mca, addlabels=TRUE)"
      ]
    },
    {
      "cell_type": "markdown",
      "id": "ieeIJdCOsf2L",
      "metadata": {
        "id": "ieeIJdCOsf2L"
      },
      "source": [
        "La première dimension permet de conserver près de 19.6% de l'information et la seconde 10.6%. On obtient donc un peu plus de 30% de l'information initiale avec les deux premières dimensions seulement, ce qui est correct pour une Analyse en Correpondances Multpiles. Si on voulait conserver près de 80% de l'information comme on a l'habitude de le faire avec une ACP, alors il faudrait travailler avec les dix premières dimensions. On se rend bien sûr compte que cela deviendrait trop contraignant. Nous allons dans la suite uniquement travailler les dimensions 1 et 2 de notre ACM."
      ]
    },
    {
      "cell_type": "code",
      "execution_count": null,
      "id": "XxG1cQ6xTea2",
      "metadata": {
        "id": "XxG1cQ6xTea2"
      },
      "outputs": [],
      "source": [
        "fviz_mca_var(res.mca, choice=\"mca.cor\", repel=TRUE)"
      ]
    },
    {
      "cell_type": "markdown",
      "id": "QyUmpSvmuKoS",
      "metadata": {
        "id": "QyUmpSvmuKoS"
      },
      "source": [
        "Excepté le créneau de 20h à 23h, toutes les plages horaires semblent très corrélées à la première dimension.\n",
        "\n",
        "La seconde dimension semble quant à elle discriminer les heures en fonction du moment de la journée : les horaires \"tôt\" ou horaires \"du matin\" (de minuit à 9h) sont très corrélés à cette dimension, au contraire des autres tranches horaires."
      ]
    },
    {
      "cell_type": "code",
      "execution_count": null,
      "id": "qRVsKCR6W6h-",
      "metadata": {
        "id": "qRVsKCR6W6h-"
      },
      "outputs": [],
      "source": [
        "fviz_mca_var(res.mca, col.var = rep(c(\"vide\",\"presque vide\",\"presque pleine\",\"pleine\"),7),\n",
        "             title = \"Graph des loading par heure\",\n",
        "             repel = TRUE)"
      ]
    },
    {
      "cell_type": "markdown",
      "id": "KsCm3_nCwgV-",
      "metadata": {
        "id": "KsCm3_nCwgV-"
      },
      "source": [
        "Graphiquement on constate une réparition parabolique de la densité de Vélib' (par valeurs croissantes du remplissage) :\n",
        "- pour toutes les plages horaire, les stations très peu remplies [0;0.25] sont globalement situées dans le troisème cadrant du graphe\n",
        "- les stations peu remplies [0.25;0.5] sont majoritairement dans le quatrième cadrant\n",
        "- les stations remplies [0.5;0.75] appartiennent au premier cadrant\n",
        "- les stations très remplies sont situées au niveau du second cadrant\n"
      ]
    },
    {
      "cell_type": "markdown",
      "id": "OO-orpwnwqAY",
      "metadata": {
        "id": "OO-orpwnwqAY"
      },
      "source": [
        "## Qualité de représentation des variables et des individus"
      ]
    },
    {
      "cell_type": "code",
      "execution_count": null,
      "id": "cAWasYNfTrRP",
      "metadata": {
        "id": "cAWasYNfTrRP"
      },
      "outputs": [],
      "source": [
        "head(res.mca$var$cos2)\n",
        "\n",
        "# --- #\n",
        "\n",
        "i = c(1:2)\n",
        "\n",
        "idx = which.max(rowSums(res.mca$var$cos2[,i]) )\n",
        "loading_heure_f = row.names(res.mca$var$cos2)[idx]\n",
        "\n",
        "print(paste(\"L'heure et le chargement des stations les mieux représentés dans le plan\", i[1], '-', i[2], \"sont\", loading_heure_f))\n",
        "\n",
        "idx = which.min( rowSums(res.mca$var$cos2[,i]) )\n",
        "loading_heure_f = row.names(res.mca$var$cos2)[idx]\n",
        "\n",
        "print(paste(\"L'heure et le chargement des stations les moins bien représentés dans le plan\", i[1], '-', i[2], \"sont\", loading_heure_f))"
      ]
    },
    {
      "cell_type": "code",
      "execution_count": null,
      "id": "45WzKBizWKWF",
      "metadata": {
        "id": "45WzKBizWKWF"
      },
      "outputs": [],
      "source": [
        "fviz_mca_var(res.mca, col.var = \"cos2\",\n",
        "             gradient.cols = c(\"blue\", \"yellow\", \"red\"),\n",
        "             repel = TRUE )\n",
        "\n",
        "fviz_cos2(res.mca, choice = \"var\", axes = 1:2)"
      ]
    },
    {
      "cell_type": "markdown",
      "id": "WNJhjeaHytqu",
      "metadata": {
        "id": "WNJhjeaHytqu"
      },
      "source": [
        "Les variables sont mieux représentées pour des valeurs extrêmes de la densité de Vélib', à savoir [0;0.25] ou [0.75;1]. En particulier, les horaires les mieux représentés sont ceux du \"matin\" (au sens défini plus tôt à savoir entre minuit et 9h), ce qui semble cohérent puisque nous avons vu précédemment qu'ils étaient corrélés à la fois à la dimension 1 et à la dimension 2."
      ]
    },
    {
      "cell_type": "code",
      "execution_count": null,
      "id": "GsETDEAuWS9I",
      "metadata": {
        "id": "GsETDEAuWS9I"
      },
      "outputs": [],
      "source": [
        "fviz_mca_ind(res.mca, col.ind = \"cos2\",\n",
        "             gradient.cols = c(\"blue\", \"yellow\", \"red\"))"
      ]
    },
    {
      "cell_type": "markdown",
      "id": "B88jE4HnzsJD",
      "metadata": {
        "id": "B88jE4HnzsJD"
      },
      "source": [
        "Les individus les mieux représentés sont ceux situés \"au bord\" du graphe, en particulier en bas à gauche du troisème cadrant et en bas à droite du second cadrant (tout comme le sont les variables finalement)."
      ]
    },
    {
      "cell_type": "markdown",
      "id": "IAuazOgOwzfg",
      "metadata": {
        "id": "IAuazOgOwzfg"
      },
      "source": [
        "## Contribution des variables à l'ACM"
      ]
    },
    {
      "cell_type": "code",
      "execution_count": null,
      "id": "4St3OHsPWieM",
      "metadata": {
        "id": "4St3OHsPWieM"
      },
      "outputs": [],
      "source": [
        "fviz_contrib(res.mca, choice=\"var\", axes=1, top=20)\n",
        "\n",
        "fviz_contrib(res.mca, choice=\"var\", axes=2, top=20)"
      ]
    },
    {
      "cell_type": "markdown",
      "id": "NQNqw0Xh0iy1",
      "metadata": {
        "id": "NQNqw0Xh0iy1"
      },
      "source": [
        "En analysant les deux graphes ci-dessus, on constate que pour la dimension 1, les variables qui contribuent le plus sont celles associées aux valeurs extrêmes de la densité de Vélib', et ce quels que soient les horaires. Pour la dimension 2, il s'agit des variables \"du matin\", là encore pour les valeurs extrêmes du remplissage. Ainsi, dans notre cas, les variables qui contribuent le plus à l'ACM sont celles qui sont le mieux représentées."
      ]
    },
    {
      "cell_type": "code",
      "execution_count": null,
      "id": "nKsjf9PjWmvP",
      "metadata": {
        "id": "nKsjf9PjWmvP"
      },
      "outputs": [],
      "source": [
        "fviz_mca_var(res.mca, col.var = \"contrib\",\n",
        "             gradient.cols = c(\"blue\", \"yellow\", \"red\"),\n",
        "             repel = TRUE)"
      ]
    },
    {
      "cell_type": "markdown",
      "id": "Ji_pOuiZ1vzr",
      "metadata": {
        "id": "Ji_pOuiZ1vzr"
      },
      "source": [
        "Le graphe des variables colorié en fonction de la contribution des points permet d'avoir une confirmation visuelle des affirmations précédentes."
      ]
    },
    {
      "cell_type": "markdown",
      "id": "QFx_mzGVxnTe",
      "metadata": {
        "id": "QFx_mzGVxnTe"
      },
      "source": [
        "## Habillage en fonction des variables supplémentaires : bonus et localisation"
      ]
    },
    {
      "cell_type": "code",
      "execution_count": null,
      "id": "DkcXcOrd59Hn",
      "metadata": {
        "id": "DkcXcOrd59Hn"
      },
      "outputs": [],
      "source": [
        "res.mca = MCA(loading_heure_factor, quali.sup=8:9, graph=FALSE)"
      ]
    },
    {
      "cell_type": "code",
      "execution_count": null,
      "id": "aRkAPrJ47Qqu",
      "metadata": {
        "id": "aRkAPrJ47Qqu"
      },
      "outputs": [],
      "source": [
        "fviz_mca_var(res.mca)"
      ]
    },
    {
      "cell_type": "markdown",
      "id": "brzBWUHt3SQf",
      "metadata": {
        "id": "brzBWUHt3SQf"
      },
      "source": [
        "Le graphe des variables semble indiquer qu'un bonus de 1 est plutôt corrélé à de faibles valeurs de la densité de Vélib'. Concrètement, cela signifie que les stations situées en altitude ont tendance à être plus souvent vides que les autres. Ceci confirme ce que nous avons vu dans les méthodes de clustering : ces stations sont plus difficiles d'accès donc moins sollicitées par les usagers.\n",
        "\n",
        "Quant à la variable localisation, il semblerait que les stations proches de la Seine soient plus souvent remplies. Là encore, cela corroborre nos propos de l'analyse exploratoire et des méthodes de clustering : la Seine regroupe des zones de travail, d'activités, de transitions dans les modes de transport... Ce qui nécessite régulièrement l'usage des Vélib', notamment pour de courts trajets."
      ]
    },
    {
      "cell_type": "code",
      "execution_count": null,
      "id": "zHyGez__0hv8",
      "metadata": {
        "id": "zHyGez__0hv8"
      },
      "outputs": [],
      "source": [
        "fviz_mca_ind(res.mca, label = \"none\", col.ind = coord$couleurs1, palette = c(\"yellow\",\"blue\"), title = \"Graphe des individus - ACM\")\n",
        "\n",
        "fviz_mca_ind(res.mca,label = \"none\", col.ind = coord$couleurs2, palette = c(\"green\",\"red\"), title = \"Graphe des individus - ACM\")"
      ]
    },
    {
      "cell_type": "markdown",
      "id": "lfdbRmmE0Gbs",
      "metadata": {
        "id": "lfdbRmmE0Gbs"
      },
      "source": [
        "Pour localisation, on constate que les stations proches de la Seine sont positivement corrélées à la première dimension qui, on le rappelle, est associée aux plus fortes valeurs de densité de Vélib' (>0.5). Ceci confirme donc ce que l'on voit avec le graphe des variables.\n",
        "\n",
        "En revanche, il est difficle d'émettre la moindre conclusion pour la variable bonus (du fait notamment du faible effectif de la modalité \"Colline\")."
      ]
    },
    {
      "cell_type": "code",
      "execution_count": null,
      "id": "tkc3Pf3U-V4h",
      "metadata": {
        "id": "tkc3Pf3U-V4h"
      },
      "outputs": [],
      "source": [
        "res.mca$quali.sup$cos2"
      ]
    },
    {
      "cell_type": "code",
      "execution_count": null,
      "id": "irZVpmGr-PY_",
      "metadata": {
        "id": "irZVpmGr-PY_"
      },
      "outputs": [],
      "source": [
        "fviz_mca_var(res.mca, choice=\"mca.cor\", repel=TRUE)"
      ]
    },
    {
      "cell_type": "markdown",
      "id": "TqABhD6ZoTpY",
      "metadata": {
        "id": "TqABhD6ZoTpY"
      },
      "source": [
        "En afffichant la qualité de représentation des variables supplémentaires, on constate que localisation et bonus sont assez mal représentées par notre ACM (elles sont très peu corrélées à la première dimension et ne le sont pas du tout avec la seconde). Ceci explique en partie la difficulté de tirer de l'information du graphe des individus avec l'habillage en fonction de l'altitude (bonus). La qualité de représentation n'est donc en théorie pas suffisante pour pouvoir s'assurer de la validité de nos hypothèses sur localisation et bonus. Malgré tout, puisque ces dernières vont dans le même sens que les observations des sections précédentes, cela laisse à penser qu'elles sont plutôt cohérentes et intéressantes."
      ]
    },
    {
      "cell_type": "markdown",
      "id": "MFrJz5g5kJSN",
      "metadata": {
        "id": "MFrJz5g5kJSN"
      },
      "source": [
        "# Conclusion"
      ]
    },
    {
      "cell_type": "markdown",
      "id": "175V2nhkkEjk",
      "metadata": {
        "id": "175V2nhkkEjk"
      },
      "source": [
        "L'analyse exploratoire, les méthodes de clustering et l'Analyse en Correspondances Multiples ont toutes permis d'identifier les mêmes comportements récurrents chez les utilisateurs de Vélib' à Paris.\n",
        "\n",
        "En effet, les habitudes des usagers sont d'une part influencées par les heures et les jours de la semaine avec principalement une discrimination heures d'activités/ heures de repos et une autre jours du lundi au vendredi / weekend.\n",
        "\n",
        "D'autre part, la densité de Vélib' est dépendante de critères géographiques : stations proches de la Seine ou non, stations en altitude, etc.\n",
        "\n",
        "En utilisant les données recueillies sur ces facteurs pour une station précise, il est possible d'anticiper sa densité de Vélib' à un moment spécifique de la semaine. Cela est particulièrement pratique pour la compagnie en charge de la maintenance de ces modes de transport : anticiper le comportement des usagers permet de réguler plus facilement la densité de Vélib' dans la ville (stations ayant besoin d'être réapprovisionnées à certains moments par exemple) et de fait d'avoir plus de contrôle."
      ]
    }
  ],
  "metadata": {
    "colab": {
      "provenance": []
    },
    "kernelspec": {
      "display_name": "R",
      "name": "ir"
    },
    "language_info": {
      "name": "R"
    }
  },
  "nbformat": 4,
  "nbformat_minor": 5
}