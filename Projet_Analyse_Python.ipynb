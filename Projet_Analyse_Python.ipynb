{
 "cells": [
  {
   "cell_type": "markdown",
   "id": "0fe014ed",
   "metadata": {
    "id": "0fe014ed"
   },
   "source": [
    "# Analyse de données - Projet Vélib' en [Python](https://www.python.org/) <a href=\"https://www.python.org/\"><img src=\"https://s3.dualstack.us-east-2.amazonaws.com/pythondotorg-assets/media/community/logos/python-logo-only.png\" style=\"max-width: 35px; display: inline\" alt=\"Python\"/></a>&nbsp;\n",
    "\n",
    "---\n",
    "_Etudiantes (<small>INSA Toulouse</small>) :_ Nina Moser , Cassandra Jan, Illana Rabasquinho , Manon Lacave-Pistaa"
   ]
  },
  {
   "cell_type": "markdown",
   "id": "MTEefTOMsZ9l",
   "metadata": {
    "id": "MTEefTOMsZ9l"
   },
   "source": [
    "Nous avons choisi d'interprêter ce notebook plutôt que celui codé en R, mis à part pour la dernière partie (ACM)."
   ]
  },
  {
   "cell_type": "markdown",
   "id": "6f3becd6",
   "metadata": {
    "id": "6f3becd6"
   },
   "source": [
    "# Introduction"
   ]
  },
  {
   "cell_type": "markdown",
   "id": "C_8Y1ynuMbCY",
   "metadata": {
    "id": "C_8Y1ynuMbCY"
   },
   "source": [
    "On s'intéresse dans cette étude à deux jeux de données : loading et coord. Le premier est composé de 1189 individus représentant des stations de Vélib' dans la ville de Paris. Les variables correspondent quant à elles à la densité de vélos présents à la station pour chaque heure de la semaine, du lundi au dimanche (soit un total de 168 créneaux donc 168 variables). Le second jeu de données regroupe ces mêmes stations Vélib' et permet d'obtenir des informations supplémentaires pour chacune d'elles : leur nom, leur latitude, leur longitude ainsi qu'une variable dite bonus (liée à leur altitude).\n",
    "\n",
    "L'objectif est alors d'essayer de repérer des comportements/ habitudes de vie chez les utilisateurs permettant d'expliquer ce qui influence la présence ou non des Vélib' au niveau d'une station à un créneau donné."
   ]
  },
  {
   "cell_type": "code",
   "execution_count": null,
   "id": "91461f91",
   "metadata": {
    "id": "91461f91"
   },
   "outputs": [],
   "source": [
    "# Importation\n",
    "!pip install dash\n",
    "! pip install prince\n",
    "\n",
    "import pandas as pd\n",
    "import numpy as np\n",
    "import random as rd\n",
    "\n",
    "import matplotlib.pyplot as plt\n",
    "import seaborn as sns\n",
    "sns.set_style('darkgrid')\n",
    "\n",
    "import plotly.express as px\n",
    "import dash\n",
    "from dash import dcc, html, Input, Output\n",
    "from dash.dependencies import Input, Output\n",
    "\n",
    "from sklearn.cluster import KMeans\n",
    "from sklearn.metrics import silhouette_score\n",
    "from matplotlib import colors\n",
    "\n",
    "from yellowbrick.cluster import KElbowVisualizer, SilhouetteVisualizer\n",
    "\n",
    "from scipy.spatial.distance import cdist\n",
    "from matplotlib.patches import Ellipse\n",
    "from sklearn.metrics import  confusion_matrix, ConfusionMatrixDisplay\n",
    "\n",
    "import matplotlib.cm as cm\n",
    "import matplotlib.patches as mpatches\n",
    "import plotly.express as px\n",
    "\n",
    "import folium\n",
    "import numpy as np\n",
    "from scipy.optimize import curve_fit\n",
    "\n",
    "from sklearn.decomposition import PCA\n",
    "from sklearn.preprocessing import StandardScaler\n",
    "\n",
    "from sklearn.cluster import AgglomerativeClustering\n",
    "import scipy.cluster.hierarchy as sch\n",
    "\n",
    "from sklearn.mixture import GaussianMixture\n",
    "from sklearn.metrics import silhouette_score\n",
    "\n",
    "import prince\n",
    "\n",
    "import statsmodels.graphics.mosaicplot as sp\n",
    "\n",
    "from matplotlib.lines import Line2D\n",
    "\n",
    "from scipy.cluster.hierarchy import dendrogram, linkage, fcluster, cut_tree\n",
    "\n",
    "from scipy.spatial.distance import squareform, pdist\n",
    "\n",
    "%matplotlib inline"
   ]
  },
  {
   "cell_type": "code",
   "execution_count": null,
   "id": "pz4MvcoNlxw2",
   "metadata": {
    "id": "pz4MvcoNlxw2"
   },
   "outputs": [],
   "source": [
    "!pip install scikit-learn\n",
    "from sklearn.cluster import KMeans"
   ]
  },
  {
   "cell_type": "code",
   "execution_count": null,
   "id": "44f96075",
   "metadata": {
    "id": "44f96075"
   },
   "outputs": [],
   "source": [
    "loading = pd.read_csv('velibLoading.csv', sep = \" \")\n",
    "loading.head()"
   ]
  },
  {
   "cell_type": "code",
   "execution_count": null,
   "id": "0ac357e6",
   "metadata": {
    "id": "0ac357e6"
   },
   "outputs": [],
   "source": [
    "coord = pd.read_csv('velibCoord.csv', sep= \" \")\n",
    "coord.head()"
   ]
  },
  {
   "cell_type": "code",
   "execution_count": null,
   "id": "B_5344nLkznT",
   "metadata": {
    "id": "B_5344nLkznT"
   },
   "outputs": [],
   "source": [
    "loading.describe()"
   ]
  },
  {
   "cell_type": "code",
   "execution_count": null,
   "id": "r-8FWoNKk3tr",
   "metadata": {
    "id": "r-8FWoNKk3tr"
   },
   "outputs": [],
   "source": [
    "coord.describe()"
   ]
  },
  {
   "cell_type": "markdown",
   "id": "8b0c242d",
   "metadata": {
    "id": "8b0c242d"
   },
   "source": [
    "# Analyse exploratoire\n"
   ]
  },
  {
   "cell_type": "markdown",
   "id": "4d22392c-8084-40ef-81a9-4a249be55b89",
   "metadata": {
    "id": "4d22392c-8084-40ef-81a9-4a249be55b89"
   },
   "source": [
    "On veut dans un premier temps s'assurer qu'il n'y ait aucune valeur manquante dans notre jeu de données et qu'il n'y ait pas non plus de valeur duppliquée."
   ]
  },
  {
   "cell_type": "code",
   "execution_count": null,
   "id": "dce177b7",
   "metadata": {
    "id": "dce177b7"
   },
   "outputs": [],
   "source": [
    "loading_missing_value = loading.isna().sum().sort_values(ascending=False)\n",
    "\n",
    "print('Nombre de valeur(s) manquante(s) dans le jeu de données  Loading :')\n",
    "print(loading_missing_value.sum())\n",
    "\n",
    "print('')\n",
    "\n",
    "coord_missing_value = coord.isna().sum().sort_values(ascending=False)\n",
    "\n",
    "print('Nombre de valeur(s) manquante(s) pour chaque variable de Coord :')\n",
    "print(coord_missing_value)"
   ]
  },
  {
   "cell_type": "code",
   "execution_count": null,
   "id": "108d1d61",
   "metadata": {
    "id": "108d1d61"
   },
   "outputs": [],
   "source": [
    "print('Nombre de valeur(s) dupliquée(s) dans Loading :')\n",
    "print(loading.duplicated().sum())\n",
    "\n",
    "print('')\n",
    "\n",
    "print('Nombre de valeur(s) dupliquée(s) dans Coord :')\n",
    "print(coord.duplicated().sum())"
   ]
  },
  {
   "cell_type": "markdown",
   "id": "bdb7081e-54c7-4f26-b978-6806bddcb13f",
   "metadata": {
    "id": "bdb7081e-54c7-4f26-b978-6806bddcb13f"
   },
   "source": [
    "On veut ensuite savoir si certaines stations sont présentes plusieurs fois."
   ]
  },
  {
   "cell_type": "code",
   "execution_count": null,
   "id": "fadefb8d",
   "metadata": {
    "id": "fadefb8d"
   },
   "outputs": [],
   "source": [
    "# On classe les stations par ordre décroissant du nombre d'occurences de leur nom\n",
    "station_names = coord.names.value_counts().sort_values(ascending=False)\n",
    "print(station_names)\n",
    "\n",
    "print('')\n",
    "\n",
    "# On affiche en particulier la station apparaissant le plus, ainsi que les informations fournies par coord à chaque occurence\n",
    "name = station_names.index[0]\n",
    "coord[coord.names == name]"
   ]
  },
  {
   "cell_type": "markdown",
   "id": "685dbe1e-17a5-41ae-a5b1-ab9a6770b352",
   "metadata": {
    "id": "685dbe1e-17a5-41ae-a5b1-ab9a6770b352"
   },
   "source": [
    "L'affichage obtenu nous permet de savoir que certaines des stations sont répertoriées dans plusieurs lignes du tableau coord. Cependant l'affichage des coordonnées géographiques des stations portant le même nom nous révèle qu'elles ont en fait des coordonnées géographiques différentes. Par exemple la station \"Porte des Lilas\" regroupe trois pôles de dépot/récupération des Vélib' situés dans un même secteur géographique mais distincts les uns des autres."
   ]
  },
  {
   "cell_type": "markdown",
   "id": "9d9de130-415b-44bd-b9c0-a922079372cf",
   "metadata": {
    "id": "9d9de130-415b-44bd-b9c0-a922079372cf"
   },
   "source": [
    "# Evolution de la densité de Vélib' (loading) des stations"
   ]
  },
  {
   "cell_type": "markdown",
   "id": "61ae84e0-46e3-420f-b713-7060d977c557",
   "metadata": {
    "id": "61ae84e0-46e3-420f-b713-7060d977c557"
   },
   "source": [
    "On s'intéresse dans un premier temps à l'évolution au cours du temps de la densité de Vélib' d'une station quelconque de notre jeu de données afin de repérer une éventuelle tendance ou périodicité. On choisit de manière arbitraire la première station (parmi les 1189)."
   ]
  },
  {
   "cell_type": "code",
   "execution_count": null,
   "id": "1a73d614-9820-4f11-a5b6-f15593604ed4",
   "metadata": {
    "id": "1a73d614-9820-4f11-a5b6-f15593604ed4"
   },
   "outputs": [],
   "source": [
    "i = 1 #numéro de la station\n",
    "loading_data = loading.to_numpy() #transforme le tableau de données (type dataframe) en numpy (tableau)\n",
    "\n",
    "n_steps    = loading.shape[1]  # on récupère le nombre de colonnes de loading donc le nombre de variables (temps d'observation)\n",
    "time_range = np.linspace(1, n_steps, n_steps)\n",
    "time_tick  = np.linspace(1, n_steps, 8)\n",
    "\n",
    "# --- #\n",
    "\n",
    "plt.figure(figsize = (20, 6))\n",
    "\n",
    "plt.plot(time_range, loading_data[i, :], linewidth = 2, color = 'purple') #on represente heure par heure l'evolution du loading de la i ème station\n",
    "plt.vlines(x = time_tick, ymin = 0, ymax = 1,\n",
    "           colors = \"orange\", linestyle = \"dotted\", linewidth = 3) #le début d'une nouvelle journée est délimité par une ligne en pointillés\n",
    "\n",
    "plt.xlabel('Time', fontsize = 20)\n",
    "plt.ylabel('Loading', fontsize = 20)\n",
    "plt.title(coord.names[1 + i], fontsize = 25) #nom station = numéro de colonne +1 puisque la premiere colonne est une etiquette\n",
    "plt.xticks(fontsize = 15)\n",
    "plt.yticks(fontsize = 15)\n",
    "plt.tight_layout()\n",
    "plt.show()"
   ]
  },
  {
   "cell_type": "markdown",
   "id": "80a700a2-2fed-437a-b27f-8fdab97b2292",
   "metadata": {
    "id": "80a700a2-2fed-437a-b27f-8fdab97b2292"
   },
   "source": [
    "L'observation effectuée sur la station Lemercier semble révéler une certaine périodicité : en effet au début de chaque journée (minuit) beaucoup de vélos ont été ramenés à la station (la station est même totalement remplie à minuit entre mardi et samedi).\n",
    "Du lundi au vendredi la présence ou non des vélos semble être en adéquation avec des horaires de travail dits \"de bureau\" : les vélos sont récupérés par les usagers en début de matinée, la station se retrouve alors très largement vidée la majorité de la journée puis les vélos sont ramenés le soir. Ceci expliquerait les brutaux changements de valeur du loading.\n",
    "\n",
    "Une étude d'un plus grand nombre de stations nous permettra de savoir si les observations précédentes se généralisent aux autres stations."
   ]
  },
  {
   "cell_type": "code",
   "execution_count": null,
   "id": "65995c1e-e2a6-4c7c-866d-995e89073384",
   "metadata": {
    "id": "65995c1e-e2a6-4c7c-866d-995e89073384"
   },
   "outputs": [],
   "source": [
    "stations = np.arange(loading.shape[0])\n",
    "fig, axs = plt.subplots(4, 4, figsize = (15,12))\n",
    "\n",
    "for i in range(4):\n",
    "    for j in range(4):\n",
    "        k_station = stations[4 * i + j]\n",
    "        axs[i, j].plot(time_range, loading_data[k_station, :], linewidth = 1, color = 'purple')\n",
    "        axs[i, j].vlines(x = time_tick, ymin = 0, ymax = 1, colors = \"orange\", linestyle = \"dotted\", linewidth = 3)\n",
    "        axs[i, j].set_title(coord.names[1 + k_station], fontsize = 12)\n",
    "\n",
    "for ax in axs.flat:\n",
    "    ax.set_xlabel('Time', fontsize = 12)\n",
    "    ax.set_ylabel('Loading', fontsize = 12)\n",
    "    ax.tick_params(axis='x', labelsize=10)\n",
    "    ax.tick_params(axis='y', labelsize=10)\n",
    "\n",
    "plt.tight_layout()\n",
    "plt.show()\n"
   ]
  },
  {
   "cell_type": "markdown",
   "id": "6382a6fb-1e7f-409b-bad8-1fdb63cdfa95",
   "metadata": {
    "id": "6382a6fb-1e7f-409b-bad8-1fdb63cdfa95"
   },
   "source": [
    "Les résultats obtenus nous permettent de remarquer que la station de Stalingrad par exemple a un comportement relativement proche de celui de Lemercier : la station est remplie le matin avant les horaires \"de bureau\" et le soir après les horaires de travail. Au contraire, elle est plutôt vide entre ces deux créneaux. Enfin on a de nouveau une variation relativement cyclique vis-à-vis des jours de la semaine (comportement similaire observé tous les jours).\n",
    "\n",
    "\n",
    "Par ailleurs chez certaines stations telles que Rivoli Musée du Louvre ou Quai de la Rapée, si l'on semble pouvoir repérer à nouveau une périodicité, cette fois-ci le cycle est inversé par rapport aux stations évoquées précedemment : les stations sont relativement remplies en pleine journée.\n",
    "Cela laisse à penser que les usagers vivent dans des quartiers proches de Lemercier et Stalingrad, prennent le Vélib' au matin pour venir travailler, effectuer des activités ou changer de mode de transport au niveau des stations comme Rivoli ou Quai de la Rapée, puis reprennent le vélo le soir pour rentrer. Cela peut donc être un marqueur du dynamisme ou de l'attractivité de certains quartiers, selon le moment de la journée.\n",
    "\n",
    "De plus, pour beaucoup de stations la densité de Vélib' semble être différente le weekend des autres jours de la semaine. Par exemple, au niveau des stations Pelleport, Evangile et Euryale Dehaynin on remarque très nettement que les stations sont beaucoup moins remplies le samedi et le dimanche que le reste de la semaine. Les habitudes des usagers semblent donc différer ces jours-là. Il sera intéressant de le vérifier par la suite."
   ]
  },
  {
   "cell_type": "markdown",
   "id": "084c1ec0-34a0-43f6-a55c-f0043331113b",
   "metadata": {
    "id": "084c1ec0-34a0-43f6-a55c-f0043331113b"
   },
   "source": [
    "La represéntation de l'occupation des stations heure par heure (avec affichage des premier et troisième quartile ainsi que de la médiane via la fonction boxplot) devrait nous permettre de déceler ou non certains comportements récurrents :"
   ]
  },
  {
   "cell_type": "code",
   "execution_count": null,
   "id": "a1688d87-577d-46cd-9bb3-d499a7cbef62",
   "metadata": {
    "id": "a1688d87-577d-46cd-9bb3-d499a7cbef62"
   },
   "outputs": [],
   "source": [
    "plt.figure(figsize = (20,6))\n",
    "\n",
    "bp = plt.boxplot(loading_data, widths = 0.75, patch_artist = True) #utilise la version numpy des données\n",
    "\n",
    "for box in bp['boxes']:\n",
    "    box.set_alpha(0.8) #définit l'opacité de la boîte\n",
    "\n",
    "for median in bp['medians']:\n",
    "    median.set(color = \"Purple\", linewidth=5)\n",
    "\n",
    "plt.vlines(x = time_tick, ymin = 0, ymax = 1,\n",
    "           colors = \"Orange\", linestyle = \"dotted\", linewidth = 5) #à nouveau marque le début d'une journée\n",
    "\n",
    "\n",
    "plt.xlabel('Time', fontsize = 20)\n",
    "plt.ylabel('Loading', fontsize = 20)\n",
    "plt.title(\"Boxplots représentant le chargement des stations en fonction des heures de la semaine\", fontsize = 25)\n",
    "plt.xticks(ticks = np.arange(0, 168, 5), labels=np.arange(0, 168, 5), fontsize = 15)\n",
    "plt.yticks(fontsize = 15)\n",
    "\n",
    "plt.tight_layout()\n",
    "plt.show()"
   ]
  },
  {
   "cell_type": "markdown",
   "id": "6f242fe4-dd8c-43fc-be38-8df9e078c126",
   "metadata": {
    "id": "6f242fe4-dd8c-43fc-be38-8df9e078c126"
   },
   "source": [
    "Si l'on s'appuie sur l'évolution de la médiane au cours du temps, on relève à nouveau une certaine périodicité : du lundi au vendredi globalement la médiane augmente sur les 8 premières heures de la journée. S'en suit une rupture soudaine (\"chute\" de la médiane et des premiers et troisièmes quartiles) vers 9h. Cela signifie que beaucoup d'usagers utilisent simultanément des Vélib' entre 8h et 9h ce qui semble logique puisque beaucoup d'entreprises et de lieux touristiques ouvrent vers 9h. D'autre part on observe un autre point bas vers 19h ce qui est à nouveau cohérent : beaucoup d'activités cessent vers 18h-19h ce qui entraine un retour des usagers à leur domicile.\n",
    "\n",
    "Le comportement est cependant différent le samedi et le dimanche : pas de rupture nette dans les valeurs de la médiane et le pic \"bas\" de la médiane est cette fois-ci situé vers 17h."
   ]
  },
  {
   "cell_type": "code",
   "execution_count": null,
   "id": "a313f664-9f27-4480-b335-f43135aac520",
   "metadata": {
    "id": "a313f664-9f27-4480-b335-f43135aac520"
   },
   "outputs": [],
   "source": [
    "mean_per_hour_per_day = loading.mean(axis = 0).to_numpy() #moyenne heure par heure transformée en numpy\n",
    "mean_per_hour_per_day = mean_per_hour_per_day.reshape((7, 24))\n",
    "#passe d'un tableau de 1 ligne 168 colonnes à un tableau de 7 lignes 24 colonnes\n",
    "#chaque jour de la semaine se retrouve donc sur une ligne différente\n",
    "\n",
    "mean_per_hour = mean_per_hour_per_day.mean(axis=0) #fait la moyenne des 7 jours de la semaine, heure par heure\n",
    "\n",
    "# --- #\n",
    "\n",
    "days = [\"Monday\", \"Tuesday\", \"Wednesday\",\"Thursday\", \"Friday\", \"Saturday\", \"Sunday\"]\n",
    "plt.figure(figsize = (15,7))\n",
    "\n",
    "plt.plot(mean_per_hour_per_day.transpose())\n",
    "plt.plot(mean_per_hour, color = \"black\", linewidth = 3)\n",
    "\n",
    "plt.xlabel('Heure de la journée', fontsize = 20)\n",
    "plt.ylabel(\"Densité moyenne de Vélib'\", fontsize = 20)\n",
    "plt.title(\"Densité moyenne de Vélib' par jour de la semaine\")\n",
    "plt.legend(days + ['Weekly'])\n",
    "plt.xticks(ticks = np.arange(0,24,4), labels=np.arange(0,24,4), fontsize = 15)\n",
    "\n",
    "plt.tight_layout\n",
    "plt.show()"
   ]
  },
  {
   "cell_type": "markdown",
   "id": "f9b0eb34-297b-495b-8a38-20f07f87b947",
   "metadata": {
    "id": "f9b0eb34-297b-495b-8a38-20f07f87b947"
   },
   "source": [
    "Le tracé de l'évolution moyenne de l'occupation des stations permet de confirmer les observations précédentes : on a une forte baisse de diponibilité des Vélib' sur l'ensemble des stations entre 7h et 9h et entre 17h et 19h du lundi au vendredi.\n",
    "En revanche les courbes du samedi et du dimanche diffèrent. On constate qu'entre minuit et 19h, si les courbes du lundi au vendredi sont au-dessus de la courbe hebdomadaire alors samedi et dimanche sont en-dessous de cette même courbe et inversement. Ainsi si la tendance moyenne de toutes les courbes se ressemble, c'est-à-dire que quel que soit le jour de la semaine étudié les courbes croissent et décroissent à peu près en même temps (exepté entre 9h et 10h), les fluctuations sont beaucoup plus harmonieuses/douces avec les courbes du weekend. Il n'y a pas en fait cet effet de rupture, correspondant à ce que l'on appelle communément les \"heures de pointe\", dû au fait que beaucoup d'utilisateurs ont besoin d'un Vélib' pour se déplacer au même moment."
   ]
  },
  {
   "cell_type": "code",
   "execution_count": null,
   "id": "283bd8be-2c5b-49f2-a4ba-574999e376f4",
   "metadata": {
    "id": "283bd8be-2c5b-49f2-a4ba-574999e376f4"
   },
   "outputs": [],
   "source": [
    "loading_mean = pd.Series(loading.mean(axis=1)) #Associe à chaque station sa densité moyenne\n",
    "\n",
    "n_stations = loading.shape[0]  # on récupère le nombre de stations total\n",
    "stations   = np.arange(n_stations)\n",
    "\n",
    "plt.figure(figsize = (20,6))\n",
    "plt.plot(loading_mean) #on affiche cette fois-ci la densité moyenne de vélibs sans distinction parmi les jours\n",
    "\n",
    "plt.hlines(y = loading.mean().mean(), xmin=0, xmax=n_stations,\n",
    "           colors = \"OrangeRed\", linewidth = 3)\n",
    "plt.xlabel('Numéro de la station', fontsize = 20)\n",
    "plt.ylabel('Densité moyenne de vélibs', fontsize = 20)\n",
    "plt.title(\"Densité moyenne de vélibs par station, sans distinction de jour ou d'horaire\", fontsize = 25)\n",
    "plt.xticks(fontsize = 15)\n",
    "plt.yticks(fontsize = 15)\n",
    "\n",
    "plt.tight_layout()\n",
    "plt.show()"
   ]
  },
  {
   "cell_type": "markdown",
   "id": "918ff2f4-5ae0-4cc7-b99e-7cc2af84ecb6",
   "metadata": {
    "id": "918ff2f4-5ae0-4cc7-b99e-7cc2af84ecb6"
   },
   "source": [
    "L'occupation moyenne des stations révèle de fortes disparités : tandis que certaines stations sont pratiquement tout le temps remplies, d'autres au contraire demeurent très souvent vides. Il sera donc intéressant de chercher à déterminer quelles raisons peuvent justifier de telles différences d'utilisation."
   ]
  },
  {
   "cell_type": "markdown",
   "id": "ffe55a69-d24b-4e59-b6a6-2b6c3cbafa20",
   "metadata": {
    "id": "ffe55a69-d24b-4e59-b6a6-2b6c3cbafa20"
   },
   "source": [
    "En représentant sur une carte les différentes stations de Vélib' en fonction de leurs coordonées géographiques et de leur remplissage, cela va nous permettre d'identifier les déplacements des usagers au sein de la ville et de tenter d'expliquer pourquoi certaines stations sont plus occupées que d'autres."
   ]
  },
  {
   "cell_type": "code",
   "execution_count": null,
   "id": "c300aa44-7832-47c4-b132-8606f859ea66",
   "metadata": {
    "id": "c300aa44-7832-47c4-b132-8606f859ea66"
   },
   "outputs": [],
   "source": [
    "# Comparaison de la densité de vélibs des stations pour un même jour en fonction de l'heure de la journée\n",
    "\n",
    "hours = [6, 20, 23] #en dehors des heures d'activités\n",
    "hours2 = [10, 14, 18] #pendant les heures d'activités (travail de bureau, loisirs...)\n",
    "\n",
    "s, n = 10, len(hours)\n",
    "fig, axs = plt.subplots(1,n, figsize = (s*n, s))\n",
    "\n",
    "for (i,h) in enumerate(hours):\n",
    "    im = axs[i].scatter(coord.longitude, coord.latitude, c = loading_data[:,h], cmap = cm.plasma_r)\n",
    "    axs[i].set_title('Densité de vélibs des stations - Lundi {} h'.format(h), fontsize = 25)\n",
    "    plt.colorbar(im, ax=axs[i])\n",
    "\n",
    "for ax in axs.flat:\n",
    "    ax.set_xlabel('Longitude', fontsize = 20)\n",
    "    ax.set_ylabel('Latitude', fontsize = 20)\n",
    "    ax.tick_params(axis='x', labelsize=15)\n",
    "    ax.tick_params(axis='y', labelsize=15)\n",
    "\n",
    "plt.tight_layout()\n",
    "plt.show()\n",
    "\n",
    "n2 = len(hours2)\n",
    "fig, axs = plt.subplots(1,n2, figsize = (s*n2, s))\n",
    "\n",
    "for (i,h) in enumerate(hours2):\n",
    "    im = axs[i].scatter(coord.longitude, coord.latitude, c = loading_data[:,h], cmap = cm.plasma_r)\n",
    "    axs[i].set_title('Densité de vélibs des stations - Lundi {} h'.format(h), fontsize = 25)\n",
    "    plt.colorbar(im, ax=axs[i])\n",
    "\n",
    "for ax in axs.flat:\n",
    "    ax.set_xlabel('Longitude', fontsize = 20)\n",
    "    ax.set_ylabel('Latitude', fontsize = 20)\n",
    "    ax.tick_params(axis='x', labelsize=15)\n",
    "    ax.tick_params(axis='y', labelsize=15)\n",
    "\n",
    "plt.tight_layout()\n",
    "plt.show()"
   ]
  },
  {
   "cell_type": "markdown",
   "id": "76225690-c3cc-4632-9971-90d886f5911d",
   "metadata": {
    "id": "76225690-c3cc-4632-9971-90d886f5911d"
   },
   "source": [
    "Entre 10h et 19h, les stations les plus occupées sont celles qui suivent le cours de la Seine, tandis que les stations plus en périphéries sont beaucoup plus désertes (notamment au Sud et au Nord-Est). Ceci s'explique par le fait que le bord de Seine rassemle d'avantage d'activités touristiques et de bureaux d'entreprises au niveau desquels les usagers viennent travailler. En revanche le soir et tôt le matin, d'avantage de stations sont remplies en périphérie ce qui laisse penser qu'il s'agit de quartiers plus résidentiels."
   ]
  },
  {
   "cell_type": "code",
   "execution_count": null,
   "id": "1_O6dqQumULq",
   "metadata": {
    "id": "1_O6dqQumULq"
   },
   "outputs": [],
   "source": [
    "# Comparaison de la densité de vélibs des stations pour un même horaire en fonction du jour de la semaine\n",
    "\n",
    "h = 16\n",
    "hours = np.arange(h, 168, 24)\n",
    "\n",
    "load_per_hour = loading_data[:, hours]\n",
    "\n",
    "days = [\"Lundi\", \"Mardi\", \"Mercredi\", \"Jeudi\", \"Vendredi\", \"Samedi\", \"Dimanche\"]\n",
    "\n",
    "s, m = 10, 3\n",
    "k = 1 + len(days)//m\n",
    "\n",
    "fig = plt.figure(figsize=(s+1, s))\n",
    "fig.subplots_adjust(left=0, right=1, bottom=0, top=1, hspace=.3, wspace=.25)\n",
    "\n",
    "for (i,d) in enumerate(days):\n",
    "    ax = fig.add_subplot(k, m, i+1)\n",
    "    im = ax.scatter(coord.longitude, coord.latitude, c = load_per_hour[:,i], cmap = cm.plasma_r, s=5)\n",
    "    plt.colorbar(im)\n",
    "\n",
    "    ax.set_title('Densité de vélibs des stations - ' + d + ' {} h'.format(h))\n",
    "    ax.set_xlabel('Longitude')\n",
    "    ax.set_ylabel('Latitude')\n",
    "    ax.tick_params(axis='x')\n",
    "    ax.tick_params(axis='y')\n",
    "\n",
    "plt.show()"
   ]
  },
  {
   "cell_type": "markdown",
   "id": "LINMMG2oqzFo",
   "metadata": {
    "id": "LINMMG2oqzFo"
   },
   "source": [
    "En comparant la densité de présence des vélos aux différentes stations sur un même horaire (ici 16h), on constate que le comportement est globalement le même pour tous les jours de la semaine avec comme évoqué précédemment une forte densité pour les stations proches de la Seine et beaucoup plus faible lorsque l'on s'en éloigne. On relève tout de même que certaines stations situées au bord de la Seine, côté Nord, regroupent un peu plus de Vélib' en semaine que le weekend.\n"
   ]
  },
  {
   "cell_type": "code",
   "execution_count": null,
   "id": "a442e7e5-ec67-4f81-af5c-a30a4335eaab",
   "metadata": {
    "id": "a442e7e5-ec67-4f81-af5c-a30a4335eaab"
   },
   "outputs": [],
   "source": [
    "loading_mean = loading.mean(axis=1)\n",
    "index_station_moins_remplie = loading_mean.idxmin() #station la moins remplie en moyenne\n",
    "index_station_plus_remplie = loading_mean.idxmax() #station la plus remplie en moyenne\n",
    "\n",
    "fig, ax = plt.subplots(figsize=(8, 6))\n",
    "\n",
    "im = ax.scatter(coord.longitude, coord.latitude, c='pink', alpha=0.5, label='Autres stations')\n",
    "\n",
    "ax.scatter(coord.loc[index_station_moins_remplie, 'longitude'],\n",
    "           coord.loc[index_station_moins_remplie, 'latitude'],\n",
    "           c='yellow', label='Station la moins remplie en moyenne')#station la moins remplie en jaune\n",
    "\n",
    "ax.scatter(coord.loc[index_station_plus_remplie, 'longitude'],\n",
    "           coord.loc[index_station_plus_remplie, 'latitude'],\n",
    "           c='blue', label='Station la plus remplie en moyenne')#station la plus remplie en violet\n",
    "\n",
    "ax.legend()\n",
    "ax.set_title('Carte des stations Velib à Paris')\n",
    "ax.set_xlabel('Longitude')\n",
    "ax.set_ylabel('Latitude')\n",
    "\n",
    "plt.show()\n"
   ]
  },
  {
   "cell_type": "markdown",
   "id": "pFMFqbO4hHOq",
   "metadata": {
    "id": "pFMFqbO4hHOq"
   },
   "source": [
    "La station la plus occupée en moyenne se trouve dans la zone en bord de Seine, qui se trouve être la zone la plus occupée en journée. La station la moins occupée en moyenne, quant à elle, se situe dans la zone la plus déserte en journée, c'est-à-dire en périphérie Nord-Est. Cela confirme nos précédentes observations, car même en dehors des heures dites \"de bureau\", la répartition de l'occupation des stations reste environ la même, quoique moins marquée."
   ]
  },
  {
   "cell_type": "code",
   "execution_count": null,
   "id": "RyIf-Lai9NrB",
   "metadata": {
    "id": "RyIf-Lai9NrB"
   },
   "outputs": [],
   "source": [
    "# Définition des heures et des jours de la semaine\n",
    "hours = np.arange(0, 24)\n",
    "days = ['Lundi', 'Mardi', 'Mercredi', 'Jeudi', 'Vendredi', 'Samedi', 'Dimanche']\n",
    "\n",
    "# Création de l'application Dash\n",
    "app = dash.Dash(__name__)\n",
    "\n",
    "# Mise en page de l'application\n",
    "app.layout = html.Div([\n",
    "    html.Label('Jour de la semaine'),\n",
    "    dcc.Slider(\n",
    "        id='day-slider',\n",
    "        min=0,\n",
    "        max=6,\n",
    "        step=1,\n",
    "        marks={i: days[i] for i in range(len(days))},\n",
    "        value=0\n",
    "    ),\n",
    "    html.Label('Heure du jour'),\n",
    "    dcc.Slider(\n",
    "        id='hour-slider',\n",
    "        min=0,\n",
    "        max=23,\n",
    "        step=1,\n",
    "        marks={i: str(i) + 'h' for i in range(24)},\n",
    "        value=18\n",
    "    ),\n",
    "    dcc.Graph(id='bike-station-map')\n",
    "])\n",
    "\n",
    "# Callback pour mettre à jour la carte en fonction des curseurs\n",
    "@app.callback(\n",
    "    Output('bike-station-map', 'figure'),\n",
    "    [Input('day-slider', 'value'),\n",
    "     Input('hour-slider', 'value')]\n",
    ")\n",
    "def update_map(day, hour):\n",
    "    selected_hour_index = day * 24 + hour\n",
    "    load_per_hour = loading_data[:, selected_hour_index]\n",
    "    fig = px.scatter_mapbox(coord, lat='latitude', lon='longitude',\n",
    "                            mapbox_style=\"carto-positron\",\n",
    "                            color=load_per_hour,\n",
    "                            color_continuous_scale=px.colors.sequential.Plasma_r,\n",
    "                            zoom=10, opacity=0.9,\n",
    "                            title='Stations loading at {}h on {}'.format(hour, days[day]))\n",
    "    return fig\n",
    "\n",
    "# Exécution de l'application\n",
    "if __name__ == '__main__':\n",
    "    app.run_server(debug=True)"
   ]
  },
  {
   "cell_type": "markdown",
   "id": "l1aANBMHyWqL",
   "metadata": {
    "id": "l1aANBMHyWqL"
   },
   "source": [
    "Pour la suite de notre étude et afin d'essayer d'en tirer une information quelconque, nous avons rajouté au jeu de données coord une nouvelle variable \"localisation\". Cette variable comporte deux modalités : 1 et 0. La valeur 1 indique que la station est située près de la Seine tandis que la valeur 0 signifie que la station en est éloignée. Pour déterminer si la station est proche ou non de la Seine, nous avons arbitrairement défini une parabole \"haute\" passant au Nord de la Seine, ainsi qu'une parabole \"basse\" passant au \"Sud\"."
   ]
  },
  {
   "cell_type": "code",
   "execution_count": null,
   "id": "e-FxQAjsjgEc",
   "metadata": {
    "id": "e-FxQAjsjgEc"
   },
   "outputs": [],
   "source": [
    "# Coordonnées de points le long de la Seine à Paris (choix arbitraire) respectivement au Nord et au Sud\n",
    "seine_paris_dessus = [\n",
    "    (48.829, 2.246),\n",
    "    (48.841, 2.258),\n",
    "    (48.851, 2.272),\n",
    "    (48.864, 2.286),\n",
    "    (48.872, 2.299),\n",
    "    (48.874, 2.316),\n",
    "    (48.871, 2.334),\n",
    "    (48.865, 2.346),\n",
    "    (48.859, 2.359),\n",
    "    (48.849, 2.371),\n",
    "    (48.840, 2.382),\n",
    "    (48.834, 2.389),\n",
    "    (48.824, 2.400)\n",
    "]\n",
    "\n",
    "seine_paris_dessous = [\n",
    "    (48.821, 2.261),\n",
    "    (48.833, 2.277),\n",
    "    (48.843, 2.283),\n",
    "    (48.850, 2.295),\n",
    "    (48.856, 2.302),\n",
    "    (48.857, 2.310),\n",
    "    (48.858, 2.319),\n",
    "    (48.855, 2.326),\n",
    "    (48.852, 2.336),\n",
    "    (48.847, 2.347),\n",
    "    (48.841, 2.355),\n",
    "    (48.835, 2.367),\n",
    "    (48.829, 2.374),\n",
    "    (48.814, 2.391)\n",
    "]\n",
    "\n",
    "latitudes_dessus, longitudes_dessus = zip(*seine_paris_dessus)\n",
    "latitudes_dessous, longitudes_dessous = zip(*seine_paris_dessous)\n",
    "\n",
    "def parabole(x, a, b, c):\n",
    "    return a * x ** 2 + b * x + c\n",
    "\n",
    "popt_dessus, _ = curve_fit(parabole, longitudes_dessus, latitudes_dessus)\n",
    "popt_dessous, _ = curve_fit(parabole, longitudes_dessous, latitudes_dessous)\n",
    "\n",
    "longitudes_parabole_dessus = np.linspace(min(longitudes_dessus)-0.05, max(longitudes_dessus)+0.05, 100)\n",
    "latitudes_parabole_dessus = parabole(longitudes_parabole_dessus, *popt_dessus)\n",
    "\n",
    "longitudes_parabole_dessous = np.linspace(min(longitudes_dessous)-0.05, max(longitudes_dessous)+0.05, 100)\n",
    "latitudes_parabole_dessous = parabole(longitudes_parabole_dessous, *popt_dessous)\n",
    "\n",
    "carte = folium.Map(location=[48.8566, 2.3522], zoom_start=13)\n",
    "\n",
    "for lat, lon in zip(latitudes_parabole_dessus, longitudes_parabole_dessus):\n",
    "    folium.CircleMarker(\n",
    "        location=[lat, lon],\n",
    "        radius=1,\n",
    "        color='blue'\n",
    "    ).add_to(carte)\n",
    "\n",
    "for lat, lon in zip(latitudes_parabole_dessous, longitudes_parabole_dessous):\n",
    "    folium.CircleMarker(\n",
    "        location=[lat, lon],\n",
    "        radius=1,\n",
    "        color='red'\n",
    "    ).add_to(carte)\n",
    "\n",
    "display(carte)"
   ]
  },
  {
   "cell_type": "code",
   "execution_count": null,
   "id": "-UH2r10beMPU",
   "metadata": {
    "id": "-UH2r10beMPU"
   },
   "outputs": [],
   "source": [
    "def point_entre_paraboles(x, y, a1, b1, c1, a2, b2, c2):\n",
    "    y1 = a1 * x ** 2 + b1 * x + c1\n",
    "    y2 = a2 * x ** 2 + b2 * x + c2\n",
    "    return min(y1, y2) < y < max(y1, y2)\n",
    "\n",
    "localisation = [] #creation de la variable localisation\n",
    "for i in range (coord.shape[0]):\n",
    "  if point_entre_paraboles(coord.iloc[i,0], coord.iloc[i,1], *popt_dessus, *popt_dessous):\n",
    "    localisation.append(1) #on affecte 1 aux stations situees entre les deux paraboles\n",
    "  else :\n",
    "    localisation.append(0) #0 en dehors des paraboles\n",
    "\n",
    "coord['localisation'] = localisation"
   ]
  },
  {
   "cell_type": "markdown",
   "id": "Js1M4o6Girjd",
   "metadata": {
    "id": "Js1M4o6Girjd"
   },
   "source": [
    "On veut maintenant représenter les stations de Vélib' en les discriminant par rapport à leur altitude en distinguant deux catégories : collines et vallées."
   ]
  },
  {
   "cell_type": "code",
   "execution_count": null,
   "id": "0lGnAd80mYfZ",
   "metadata": {
    "id": "0lGnAd80mYfZ"
   },
   "outputs": [],
   "source": [
    "plt.figure(figsize=(15, 6))\n",
    "\n",
    "plt.subplot(1,2,1)\n",
    "couleurs = {1: 'blue', 0: 'yellow'}\n",
    "sctrplt = plt.scatter(coord['longitude'], coord['latitude'], c=coord['localisation'].map(couleurs))\n",
    "plt.xlabel('Longitude', fontsize=10)\n",
    "plt.ylabel('Latitude', fontsize=10)\n",
    "plt.title('Stations proches ou non de la Seine', fontsize=15)\n",
    "legend_elements = [Line2D([0], [0], marker='o', color='w', markerfacecolor=color, markersize=10, label=label) for label, color in couleurs.items()]\n",
    "plt.legend(handles=legend_elements, labels=[\"Seine\", \"Autre\"], fontsize=10)\n",
    "\n",
    "plt.subplot(1,2,2)\n",
    "couleurs = {1: 'red', 0: 'lightgreen'}\n",
    "sctrplt = plt.scatter(coord['longitude'], coord['latitude'], c=coord['bonus'].map(couleurs))\n",
    "plt.xlabel('Longitude', fontsize=10)\n",
    "plt.ylabel('Latitude', fontsize=10)\n",
    "plt.title('Altitude des stations', fontsize=15)\n",
    "legend_elements = [Line2D([0], [0], marker='o', color='w', markerfacecolor=color, markersize=10, label=label) for label, color in couleurs.items()]\n",
    "plt.legend(handles=legend_elements, labels=[\"Colline\", \"Vallée\"], fontsize=10)\n",
    "plt.show()"
   ]
  },
  {
   "cell_type": "markdown",
   "id": "rfQU3ku9kECs",
   "metadata": {
    "id": "rfQU3ku9kECs"
   },
   "source": [
    "La représentation des stations de la ville en fonction de l'altitude ne révèle ici aucune information particulière. Cependant son analyse combinée avec la suite de notre étude pourra se révéler intéressante. Il en va de même avec la modalité \"localisation\"."
   ]
  },
  {
   "cell_type": "markdown",
   "id": "bGo0ZR64kB2f",
   "metadata": {
    "id": "bGo0ZR64kB2f"
   },
   "source": [
    "# Analyse en Composantes Principales (ACP)"
   ]
  },
  {
   "cell_type": "code",
   "execution_count": null,
   "id": "UBOI4OQyoKH8",
   "metadata": {
    "id": "UBOI4OQyoKH8"
   },
   "outputs": [],
   "source": [
    "ss = StandardScaler()\n",
    "loading_scaled = ss.fit_transform(loading_data) #standardisation des données\n",
    "pca = PCA()\n",
    "loading_pca = pca.fit_transform(loading_scaled)"
   ]
  },
  {
   "cell_type": "code",
   "execution_count": null,
   "id": "pCpOhCMSoACx",
   "metadata": {
    "id": "pCpOhCMSoACx"
   },
   "outputs": [],
   "source": [
    "explained_variance_ratio = 100*pca.explained_variance_ratio_\n",
    "\n",
    "plt.subplot(1,2,1)\n",
    "n_bars=10\n",
    "bars = plt.bar(np.arange(1, n_bars+1), pca.explained_variance_ratio_[:n_bars], color='skyblue')\n",
    "for bar, percentage in zip(bars, 100*pca.explained_variance_ratio_):\n",
    "    plt.text(bar.get_x() + bar.get_width() / 2, bar.get_height(), f'{percentage:.3g}%',\n",
    "             ha='center', color='black', fontsize=10)\n",
    "plt.title('Pourcentage de variance expliquée par composante principale')\n",
    "plt.xlabel('Composantes Principales')\n",
    "plt.ylabel('Pourcentage de Variance Expliquée')\n",
    "\n",
    "\n",
    "plt.subplot(1,2,2)\n",
    "plt.plot(np.cumsum(explained_variance_ratio), color='skyblue')\n",
    "plt.xlabel('Nombre de composantes')\n",
    "plt.ylabel('Pourcentages cumulés de variance');\n",
    "\n",
    "plt.tight_layout()\n",
    "plt.show()\n",
    "\n",
    "print(\"Variance cumulée des 5 premières composantes:\", round(sum([explained_variance_ratio[i] for i in range(5)]),2))"
   ]
  },
  {
   "cell_type": "markdown",
   "id": "LJd9W0D1tq3e",
   "metadata": {
    "id": "LJd9W0D1tq3e"
   },
   "source": [
    "Le graphe ci-dessus permet de connaître le pourcentage d'inertie de chacune des composantes principales de notre ACP et donc de déterminer avec lesquelles nous allons travailler pour la suite de notre étude. D'après la méthode du coude, on ne garde que 5 composantes principales car la 5ème composante explique 3.28% de la variance tandis que la 6ème explique seulement 1.93% de la variance. Le coude se situe donc à cet endroit. De plus les cinq premières composantes cumulent 76.22% de l'inertie totale ce qui est satisfaisant."
   ]
  },
  {
   "cell_type": "code",
   "execution_count": null,
   "id": "zEldjVGPxI4Q",
   "metadata": {
    "id": "zEldjVGPxI4Q"
   },
   "outputs": [],
   "source": [
    "box = plt.boxplot(loading_pca[:,:5], patch_artist=True)\n",
    "plt.setp(box[\"boxes\"], facecolor=\"skyblue\", alpha=.5)\n",
    "plt.title(\"Boxplots des 5 premières composantes principales\")\n",
    "plt.tight_layout()\n",
    "plt.show()"
   ]
  },
  {
   "cell_type": "markdown",
   "id": "4ulQ6BHU27i9",
   "metadata": {
    "id": "4ulQ6BHU27i9"
   },
   "source": [
    "## Corrélations des variables"
   ]
  },
  {
   "cell_type": "code",
   "execution_count": null,
   "id": "h5AAG0CeyAnl",
   "metadata": {
    "id": "h5AAG0CeyAnl"
   },
   "outputs": [],
   "source": [
    "coord1 = pca.components_[0] * np.sqrt(pca.explained_variance_[0])\n",
    "coord2 = pca.components_[1] * np.sqrt(pca.explained_variance_[1])\n",
    "coord3 = pca.components_[2] * np.sqrt(pca.explained_variance_[2])\n",
    "coord4 = pca.components_[3] * np.sqrt(pca.explained_variance_[3])\n",
    "coord5 = pca.components_[4] * np.sqrt(pca.explained_variance_[4])\n",
    "\n",
    "fig = plt.figure(figsize=(12, 12))\n",
    "ax = fig.add_subplot(3, 2, 1)\n",
    "for i, j, nom in zip(coord1, coord2, loading.columns):\n",
    "    plt.text(i, j, nom, fontsize=10)\n",
    "    plt.arrow(0, 0, i, j, color = 'purple', alpha=0.7, width = 0.0001)\n",
    "plt.axis((-1, 1, -1, 1))\n",
    "plt.gcf().gca().add_artist(plt.Circle((0, 0), radius = 1, color = 'cornflowerblue', fill = False))\n",
    "plt.xlabel('Principal Component 1')\n",
    "plt.ylabel('Principal Component 2')\n",
    "\n",
    "#----------------------------------------\n",
    "\n",
    "ax = fig.add_subplot(3, 2, 2)\n",
    "for i, j, nom in zip(coord1, coord3, loading.columns):\n",
    "    plt.text(i, j, nom, fontsize=10)\n",
    "    plt.arrow(0, 0, i, j, color = 'purple', alpha=0.7, width = 0.0001)\n",
    "plt.axis((-1, 1, -1, 1))\n",
    "plt.gcf().gca().add_artist(plt.Circle((0, 0), radius = 1, color = 'cornflowerblue', fill = False))\n",
    "plt.xlabel('Principal Component 1')\n",
    "plt.ylabel('Principal Component 3')\n",
    "\n",
    "#----------------------------------------\n",
    "\n",
    "ax = fig.add_subplot(3, 2, 3)\n",
    "for i, j, nom in zip(coord1, coord4, loading.columns):\n",
    "    plt.text(i, j, nom, fontsize=10)\n",
    "    plt.arrow(0, 0, i, j, color = 'purple', alpha=0.7, width = 0.0001)\n",
    "plt.axis((-1, 1, -1, 1))\n",
    "plt.gcf().gca().add_artist(plt.Circle((0, 0), radius = 1, color = 'cornflowerblue', fill = False))\n",
    "plt.xlabel('Principal Component 1')\n",
    "plt.ylabel('Principal Component 4')\n",
    "\n",
    "#----------------------------------------\n",
    "\n",
    "ax = fig.add_subplot(3, 2, 4)\n",
    "for i, j, nom in zip(coord1, coord5, loading.columns):\n",
    "    plt.text(i, j, nom, fontsize=10)\n",
    "    plt.arrow(0, 0, i, j, color = 'purple', alpha=0.7, width = 0.0001)\n",
    "plt.axis((-1, 1, -1, 1))\n",
    "plt.gcf().gca().add_artist(plt.Circle((0, 0), radius = 1, color = 'cornflowerblue', fill = False))\n",
    "plt.xlabel('Principal Component 1')\n",
    "plt.ylabel('Principal Component 5')\n",
    "\n",
    "#----------------------------------------\n",
    "\n",
    "ax = fig.add_subplot(3, 2, 5)\n",
    "for i, j, nom in zip(coord2, coord3, loading.columns):\n",
    "    plt.text(i, j, nom, fontsize=10)\n",
    "    plt.arrow(0, 0, i, j, color = 'purple', alpha=0.7, width = 0.0001)\n",
    "plt.axis((-1, 1, -1, 1))\n",
    "plt.gcf().gca().add_artist(plt.Circle((0, 0), radius = 1, color = 'cornflowerblue', fill = False))\n",
    "plt.xlabel('Principal Component 2')\n",
    "plt.ylabel('Principal Component 3')\n",
    "\n",
    "#----------------------------------------\n",
    "\n",
    "ax = fig.add_subplot(3, 2, 6)\n",
    "for i, j, nom in zip(coord2, coord4, loading.columns):\n",
    "    plt.text(i, j, nom, fontsize=10)\n",
    "    plt.arrow(0, 0, i, j, color = 'purple', alpha=0.7, width = 0.0001)\n",
    "plt.axis((-1, 1, -1, 1))\n",
    "plt.gcf().gca().add_artist(plt.Circle((0, 0), radius = 1, color = 'cornflowerblue', fill = False))\n",
    "plt.xlabel('Principal Component 2')\n",
    "plt.ylabel('Principal Component 4')\n",
    "\n",
    "#----------------------------------------\n",
    "\n",
    "plt.grid(True)\n",
    "fig.suptitle('Variables factor map - PCA')\n",
    "plt.show()"
   ]
  },
  {
   "cell_type": "markdown",
   "id": "HPCfbrVbfC2x",
   "metadata": {
    "id": "HPCfbrVbfC2x"
   },
   "source": [
    "La représentation des graphes des variables selon les différentes composantes principales est difficile à exploiter : il y a beaucoup de variables ce qui rend illisibles les graphes. Afin de pouvoir mieux comprendre à quoi est corrélée chacune des dimensions, nous avons représenté pour chaque composante sa corrélation avec chaque variable. Comme les variables sont triées par ordre chronologique dans notre tableau de données, cela facilite les interprétations."
   ]
  },
  {
   "cell_type": "code",
   "execution_count": null,
   "id": "dolsQ05n5b6n",
   "metadata": {
    "id": "dolsQ05n5b6n"
   },
   "outputs": [],
   "source": [
    "# Définition du vecteur de jours\n",
    "time_tick = 1 + 24 * np.arange(0, 7)\n",
    "\n",
    "# Tracer pour la première dimension\n",
    "plt.plot(coord1, color='black')\n",
    "plt.xlabel(\"Heures de la semaine\")\n",
    "plt.ylabel(\"Corrélation avec dim 1\")\n",
    "plt.ylim(-1, 1)\n",
    "plt.axhline(0, color='#A10684') # Ajout d'une ligne horizontale à y=0\n",
    "for t in time_tick :\n",
    "  plt.axvline(t, color='#048B9A') # Ajout de lignes verticales pour les jours\n",
    "  plt.axvline(t+11, color='pink', linestyle='--')\n",
    "plt.show()\n",
    "\n",
    "# Tracer pour la deuxième dimension\n",
    "plt.plot(coord2, color='black')\n",
    "plt.xlabel(\"Heures de la semaine\")\n",
    "plt.ylabel(\"Corrélation avec dim 2\")\n",
    "plt.ylim(-1, 1)\n",
    "plt.axhline(0, color='#A10684')\n",
    "for t in time_tick :\n",
    "  plt.axvline(t, color='#048B9A')\n",
    "  plt.axvline(t+8, color='pink', linestyle='--') #on trace des lignes en pointillés aux heures 'de pointe'\n",
    "  plt.axvline(t+19, color='pink', linestyle='--')\n",
    "plt.show()\n",
    "\n",
    "# Tracer pour la troisième dimension\n",
    "plt.plot(coord3, color='black')\n",
    "plt.xlabel(\"Heures de la semaine\")\n",
    "plt.ylabel(\"Corrélation avec dim 3\")\n",
    "plt.ylim(-1, 1)\n",
    "plt.axhline(0, color='#A10684')\n",
    "for t in time_tick :\n",
    "  plt.axvline(t, color='#048B9A')\n",
    "plt.show()\n",
    "\n",
    "# Tracer pour la deuxième dimension\n",
    "plt.plot(coord4, color='black')\n",
    "plt.xlabel(\"Heures de la semaine\")\n",
    "plt.ylabel(\"Corrélation avec dim 4\")\n",
    "plt.ylim(-1, 1)\n",
    "plt.axhline(0, color='#A10684')\n",
    "for t in time_tick :\n",
    "  plt.axvline(t, color='#048B9A')\n",
    "plt.show()\n",
    "\n",
    "# Tracer pour la troisième dimension\n",
    "plt.plot(coord5,color='black')\n",
    "plt.xlabel(\"Heures de la semaine\")\n",
    "plt.ylabel(\"Corrélation avec dim 5\")\n",
    "plt.ylim(-1, 1)\n",
    "plt.axhline(0, color='#A10684')\n",
    "for t in time_tick :\n",
    "  plt.axvline(t, color='#048B9A')\n",
    "plt.show()\n"
   ]
  },
  {
   "cell_type": "markdown",
   "id": "N7L8vFG1c4hP",
   "metadata": {
    "id": "N7L8vFG1c4hP"
   },
   "source": [
    "La dimension 2 est corrélée positivement aux heures d'activités c'est-à-dire de 8h à 19h et négativement aux heures en dehors. Elle permet donc de distinguer les \"horaires de bureaux\" du reste de la journée.\n",
    "\n",
    "La dimension 1, elle, est corrélée positivement à toutes les heures de la semaine mais les horaires du samedi et du dimanche ont un plus fort taux de corrélation.  Par ailleurs, en semaine les valeurs des corrélations ont tendance à baisser de minuit à 11h puis à remonter le reste de la journée.\n",
    "\n",
    "Les dimensions 3 et 4 permettent plutôt de dissocier les jours de la semaine : globalement la dimension 3 est positivement corrélée au weekend tandis que la dimension 4 l'est pour les jours du lundi au vendredi."
   ]
  },
  {
   "cell_type": "markdown",
   "id": "nGjI-uIYcqJq",
   "metadata": {
    "id": "nGjI-uIYcqJq"
   },
   "source": [
    "NB : Certaines composantes principales peuvent être de signe opposé entre les codages python et R (dépend du choix du signe du vecteur unitaire effectué par l'algorithme). Cela n'impacte cependant pas les dissociations effectuées par chacune des composantes et relevées précédemment."
   ]
  },
  {
   "cell_type": "markdown",
   "id": "MyIQdFNa3Bt3",
   "metadata": {
    "id": "MyIQdFNa3Bt3"
   },
   "source": [
    "## Analyse des individus et habillages"
   ]
  },
  {
   "cell_type": "markdown",
   "id": "n7F8RIxviPxc",
   "metadata": {
    "id": "n7F8RIxviPxc"
   },
   "source": [
    "Pour les graphes des individus nous avons ensuite essayé de représenter les points selon différents habillages afin de repérer certains clusters. Nous avons notamment essayé d'exploiter les variables bonus et localisation faisant respectivement les distinctions entre stations plus en altitude ou non et entre stations près de la Seine ou non."
   ]
  },
  {
   "cell_type": "code",
   "execution_count": null,
   "id": "fBQXEV5A_Aiw",
   "metadata": {
    "id": "fBQXEV5A_Aiw"
   },
   "outputs": [],
   "source": [
    "## Pour les dimensions 1 et 2 ##\n",
    "\n",
    "plt.figure(figsize=(20,15))\n",
    "\n",
    "# Graphe des individus sans habillage\n",
    "plt.subplot(2,2,1)\n",
    "plt.scatter(loading_pca[:, 0], loading_pca[:, 1], s=3, linewidths=2, alpha=0.7)\n",
    "plt.title(\"Graphe des individus\")\n",
    "plt.xlabel('Composante Principale 1')\n",
    "plt.ylabel('Composante Principale 2')\n",
    "plt.grid(True)\n",
    "\n",
    "# Graphe des individus habillage = localisation\n",
    "plt.subplot(2,2,2)\n",
    "couleurs = ['yellow' if valeur == 0 else 'blue' for valeur in coord['localisation']]\n",
    "plt.scatter(loading_pca[:, 0], loading_pca[:, 1], c=couleurs, s=3, linewidths=2, alpha=0.7)\n",
    "proxy_blue = mpatches.Patch(color='yellow', label='Autre')\n",
    "proxy_red = mpatches.Patch(color='blue', label='Seine')\n",
    "plt.legend(handles=[proxy_blue, proxy_red])\n",
    "plt.title(\"Graphe des individus\")\n",
    "plt.xlabel('Composante Principale 1')\n",
    "plt.ylabel('Composante Principale 2')\n",
    "plt.grid(True)\n",
    "\n",
    "# Graphe des individus habillage = bonus\n",
    "plt.subplot(2,2,3)\n",
    "couleurs = ['lightgreen' if valeur == 0 else 'red' for valeur in coord['bonus']]\n",
    "plt.scatter(loading_pca[:, 0], loading_pca[:, 1], c=couleurs, s=3, linewidths=2, alpha=0.7)\n",
    "proxy_green = mpatches.Patch(color='lightgreen', label='Vallée')\n",
    "proxy_yellow = mpatches.Patch(color='red', label='Colline')\n",
    "plt.legend(handles=[proxy_green, proxy_yellow])\n",
    "plt.title(\"Graphe des individus\")\n",
    "plt.xlabel('Composante Principale 1')\n",
    "plt.ylabel('Composante Principale 2')\n",
    "plt.grid(True)\n",
    "\n",
    "plt.show()"
   ]
  },
  {
   "cell_type": "code",
   "execution_count": null,
   "id": "DrouirMrq5hA",
   "metadata": {
    "id": "DrouirMrq5hA"
   },
   "outputs": [],
   "source": [
    "plt.figure(figsize=(20, 8))\n",
    "\n",
    "\n",
    "# Graphe des individus habillage = latitude\n",
    "plt.subplot(1,2,1)\n",
    "cmap = cm.get_cmap('viridis')\n",
    "plt.scatter(loading_pca[:, 0], loading_pca[:, 1], c=coord['latitude'], cmap=cmap, s=30, alpha=0.7)\n",
    "plt.colorbar(label='Latitude')\n",
    "plt.title(\"Graphe des individus avec coloriage par latitude\")\n",
    "plt.xlabel('Composante Principale 1')\n",
    "plt.ylabel('Composante Principale 2')\n",
    "plt.grid(True)\n",
    "\n",
    "# Graphe des individus habillage = longitude\n",
    "plt.subplot(1,2,2)\n",
    "cmap = cm.get_cmap('viridis')\n",
    "plt.scatter(loading_pca[:, 0], loading_pca[:, 1], c=coord['longitude'], cmap=cmap, s=30, alpha=0.7)\n",
    "plt.colorbar(label='Longitude')\n",
    "plt.title(\"Graphe des individus avec coloriage par longitude\")\n",
    "plt.xlabel('Composante Principale 1')\n",
    "plt.ylabel('Composante Principale 2')\n",
    "plt.grid(True)\n",
    "\n",
    "plt.show()\n"
   ]
  },
  {
   "cell_type": "code",
   "execution_count": null,
   "id": "LoZ4S42coRgZ",
   "metadata": {
    "id": "LoZ4S42coRgZ"
   },
   "outputs": [],
   "source": [
    "## Pour les dimensions 1 et 3 ##\n",
    "\n",
    "plt.figure(figsize=(20,15))\n",
    "\n",
    "# Graphe des individus sans habillage\n",
    "plt.subplot(2,2,1)\n",
    "plt.scatter(loading_pca[:,0], loading_pca[:, 2], s=3, linewidths=2, alpha=0.7)\n",
    "plt.title(\"Graphe des individus\")\n",
    "plt.xlabel('Composante Principale 1')\n",
    "plt.ylabel('Composante Principale 3')\n",
    "plt.grid(True)\n",
    "\n",
    "# Graphe des individus habillage = localisation\n",
    "plt.subplot(2,2,2)\n",
    "couleurs = ['yellow' if valeur == 0 else 'blue' for valeur in coord['localisation']]\n",
    "plt.scatter(loading_pca[:, 0], loading_pca[:, 2], c=couleurs, s=3, linewidths=2, alpha=0.7)\n",
    "proxy_blue = mpatches.Patch(color='yellow', label='Autre')\n",
    "proxy_red = mpatches.Patch(color='blue', label='Seine')\n",
    "plt.legend(handles=[proxy_blue, proxy_red])\n",
    "plt.title(\"Graphe des individus\")\n",
    "plt.xlabel('Composante Principale 1')\n",
    "plt.ylabel('Composante Principale 3')\n",
    "plt.grid(True)\n",
    "\n",
    "# Graphe des individus habillage = bonus\n",
    "plt.subplot(2,2,3)\n",
    "couleurs = ['lightgreen' if valeur == 0 else 'red' for valeur in coord['bonus']]\n",
    "plt.scatter(loading_pca[:, 0], loading_pca[:, 2], c=couleurs, s=3, linewidths=2, alpha=0.7)\n",
    "proxy_green = mpatches.Patch(color='lightgreen', label='Vallée')\n",
    "proxy_yellow = mpatches.Patch(color='red', label='Colline')\n",
    "plt.legend(handles=[proxy_green, proxy_yellow])\n",
    "plt.title(\"Graphe des individus\")\n",
    "plt.xlabel('Composante Principale 1')\n",
    "plt.ylabel('Composante Principale 3')\n",
    "plt.grid(True)\n",
    "\n",
    "plt.show()"
   ]
  },
  {
   "cell_type": "code",
   "execution_count": null,
   "id": "PqEZjPPto-K1",
   "metadata": {
    "id": "PqEZjPPto-K1"
   },
   "outputs": [],
   "source": [
    "## Pour les dimensions 2 et 3 ##\n",
    "\n",
    "plt.figure(figsize=(20,15))\n",
    "\n",
    "# Graphe des individus sans habillage\n",
    "plt.subplot(2,2,1)\n",
    "plt.scatter(loading_pca[:,1], loading_pca[:, 2], s=3, linewidths=2, alpha=0.7)\n",
    "plt.title(\"Graphe des individus\")\n",
    "plt.xlabel('Composante Principale 2')\n",
    "plt.ylabel('Composante Principale 3')\n",
    "plt.grid(True)\n",
    "\n",
    "# Graphe des individus habillage = localisation\n",
    "plt.subplot(2,2,2)\n",
    "couleurs = ['yellow' if valeur == 0 else 'blue' for valeur in coord['localisation']]\n",
    "plt.scatter(loading_pca[:, 1], loading_pca[:, 2], c=couleurs, s=3, linewidths=2, alpha=0.7)\n",
    "proxy_blue = mpatches.Patch(color='yellow', label='Autre')\n",
    "proxy_red = mpatches.Patch(color='blue', label='Seine')\n",
    "plt.legend(handles=[proxy_blue, proxy_red])\n",
    "plt.title(\"Graphe des individus\")\n",
    "plt.xlabel('Composante Principale 2')\n",
    "plt.ylabel('Composante Principale 3')\n",
    "plt.grid(True)\n",
    "\n",
    "# Graphe des individus habillage = bonus\n",
    "plt.subplot(2,2,3)\n",
    "couleurs = ['lightgreen' if valeur == 0 else 'red' for valeur in coord['bonus']]\n",
    "plt.scatter(loading_pca[:, 1], loading_pca[:, 2], c=couleurs, s=3, linewidths=2, alpha=0.7)\n",
    "proxy_green = mpatches.Patch(color='lightgreen', label='Vallée')\n",
    "proxy_yellow = mpatches.Patch(color='red', label='Colline')\n",
    "plt.legend(handles=[proxy_green, proxy_yellow])\n",
    "plt.title(\"Graphe des individus\")\n",
    "plt.xlabel('Composante Principale 2')\n",
    "plt.ylabel('Composante Principale 3')\n",
    "plt.grid(True)\n",
    "\n",
    "plt.show()"
   ]
  },
  {
   "cell_type": "code",
   "execution_count": null,
   "id": "-1aiXGSj1C89",
   "metadata": {
    "id": "-1aiXGSj1C89"
   },
   "outputs": [],
   "source": [
    "## Pour les dimensions 2 et 4 ##\n",
    "\n",
    "plt.figure(figsize=(20,15))\n",
    "\n",
    "# Graphe des individus sans habillage\n",
    "plt.subplot(2,2,1)\n",
    "plt.scatter(loading_pca[:,1], loading_pca[:, 3], s=3, linewidths=2, alpha=0.7)\n",
    "plt.title(\"Graphe des individus\")\n",
    "plt.xlabel('Composante Principale 2')\n",
    "plt.ylabel('Composante Principale 4')\n",
    "plt.grid(True)\n",
    "\n",
    "# Graphe des individus habillage = localisation\n",
    "plt.subplot(2,2,2)\n",
    "couleurs = ['yellow' if valeur == 0 else 'blue' for valeur in coord['localisation']]\n",
    "plt.scatter(loading_pca[:, 1], loading_pca[:, 3], c=couleurs, s=3, linewidths=2, alpha=0.7)\n",
    "proxy_blue = mpatches.Patch(color='yellow', label='Autre')\n",
    "proxy_red = mpatches.Patch(color='blue', label='Seine')\n",
    "plt.legend(handles=[proxy_blue, proxy_red])\n",
    "plt.title(\"Graphe des individus\")\n",
    "plt.xlabel('Composante Principale 2')\n",
    "plt.ylabel('Composante Principale 4')\n",
    "plt.grid(True)\n",
    "\n",
    "# Graphe des individus habillage = bonus\n",
    "plt.subplot(2,2,3)\n",
    "couleurs = ['lightgreen' if valeur == 0 else 'red' for valeur in coord['bonus']]\n",
    "plt.scatter(loading_pca[:, 1], loading_pca[:, 3], c=couleurs, s=3, linewidths=2, alpha=0.7)\n",
    "proxy_green = mpatches.Patch(color='lightgreen', label='Vallée')\n",
    "proxy_yellow = mpatches.Patch(color='red', label='Colline')\n",
    "plt.legend(handles=[proxy_green, proxy_yellow])\n",
    "plt.title(\"Graphe des individus\")\n",
    "plt.xlabel('Composante Principale 2')\n",
    "plt.ylabel('Composante Principale 4')\n",
    "plt.grid(True)\n",
    "\n",
    "plt.show()"
   ]
  },
  {
   "cell_type": "markdown",
   "id": "vc6c1xgzu6EZ",
   "metadata": {
    "id": "vc6c1xgzu6EZ"
   },
   "source": [
    "La première dimension semble être corrélée négativement avec les stations situées en altitude. Cependant il y a trop d'individus qui se superposent pour pouvoir identifier nettement un cluster.\n",
    "\n",
    "La représentation de la dimension 3 en fonction de la dimension 2 semble indiquer que la seconde composante a tendance, pour une majorité de points, à être corrélée positivement avec les stations situées près de la Seine. L'idée est intéressante puisque nous avons dit précédemment que la seconde dimension était postivement corrélée aux heures d'activités (8h-19h). Cela irait donc en faveur de notre hypothèse : les lieux de travail et de loisirs ouverts à ces heures là sont situés à proximités de la Seine. Cependant, là encore il y a  trop de superpositions des individus pour pouvoir relever une séparation nette entre clusters. Cela peut notamment s'expliquer par le fait que les choix des stations classées proches ou non de le Seine ont été arbitraires.\n",
    "\n",
    "Les dimensions 3 et 4 ne mettent en évidence aucune distinction des individus avec les habillages utilisés.\n",
    "\n",
    "De même, les habillages selon la latitude ou la longitude ne fournissent aucune information."
   ]
  },
  {
   "cell_type": "markdown",
   "id": "UHxiZGgB0HsR",
   "metadata": {
    "id": "UHxiZGgB0HsR"
   },
   "source": [
    "# Méthodes de Clustering"
   ]
  },
  {
   "cell_type": "markdown",
   "id": "qofUNDcCgo_r",
   "metadata": {
    "id": "qofUNDcCgo_r"
   },
   "source": [
    "## Jeu de données réduit"
   ]
  },
  {
   "cell_type": "markdown",
   "id": "dnmFjdiMAwT1",
   "metadata": {
    "id": "dnmFjdiMAwT1"
   },
   "source": [
    "Pour nos méthodes de clustering, on ne gardera que les 5 premières composantes principales."
   ]
  },
  {
   "cell_type": "code",
   "execution_count": null,
   "id": "uXS34f7EAvov",
   "metadata": {
    "id": "uXS34f7EAvov"
   },
   "outputs": [],
   "source": [
    "loading_reduced = loading_pca[:,:5]"
   ]
  },
  {
   "cell_type": "markdown",
   "id": "1xRHHZQxkfLK",
   "metadata": {
    "id": "1xRHHZQxkfLK"
   },
   "source": [
    "### Clustering avec la méthode $k$-means\n",
    "\n"
   ]
  },
  {
   "cell_type": "markdown",
   "id": "QbA0xCF31Ppa",
   "metadata": {
    "id": "QbA0xCF31Ppa"
   },
   "source": [
    "On va d'abord chercher à déterminer le nombre de clusters optimal sur notre jeu de données réduit. Pour cela nous allons comparer les valeurs obtenues via la méthode du coude d'une part et le score silhouette d'autre part."
   ]
  },
  {
   "cell_type": "code",
   "execution_count": null,
   "id": "BEMKoRo80A4-",
   "metadata": {
    "id": "BEMKoRo80A4-"
   },
   "outputs": [],
   "source": [
    "kmeans = KMeans(init='k-means++', n_init='auto', max_iter=100, random_state=42)\n",
    "visualizer = KElbowVisualizer(kmeans, k=(3,12)) # on teste une initialisation à 3\n",
    "\n",
    "visualizer.fit(loading_reduced)\n",
    "visualizer.show()"
   ]
  },
  {
   "cell_type": "code",
   "execution_count": null,
   "id": "JPNw0FpkG4xv",
   "metadata": {
    "id": "JPNw0FpkG4xv"
   },
   "outputs": [],
   "source": [
    "kmeans2 = KMeans(init='k-means++', n_init='auto', max_iter=100, random_state=42)\n",
    "visualizer2 = KElbowVisualizer(kmeans2, k=(2,12)) # on teste une initialisation à deux cette fois-ci\n",
    "\n",
    "visualizer2.fit(loading_reduced)\n",
    "visualizer2.show()"
   ]
  },
  {
   "cell_type": "markdown",
   "id": "ZAsW4pUXTR1F",
   "metadata": {
    "id": "ZAsW4pUXTR1F"
   },
   "source": [
    "En utilisant la méthode du coude, on remarque que le nombre de clusters est optimal pour k=6, c'est-à-dire lorsque l'on a 6 classes, si l'initialisation est faite à k=3. En revanche, si elle est faite à k=2, alors le nombre de clusters optimal est 2."
   ]
  },
  {
   "cell_type": "code",
   "execution_count": null,
   "id": "-7ZPV_ql3m-X",
   "metadata": {
    "id": "-7ZPV_ql3m-X"
   },
   "outputs": [],
   "source": [
    "fig, ax = plt.subplots(4, 2, figsize=(15,8))\n",
    "\n",
    "for k in range(2, 10):\n",
    "    kmeans = KMeans(n_clusters=k, init='k-means++', n_init='auto', max_iter=100, random_state=42)\n",
    "    q, mod = divmod(k, 2) #fait une division euclidiennne et renvoie le quotient et le reste\n",
    "\n",
    "    visualizer = SilhouetteVisualizer(kmeans, colors='yellowbrick', ax=ax[q-1][mod])\n",
    "    visualizer.fit(loading_reduced)\n",
    "\n",
    "    silhouette_scores = visualizer.silhouette_score_ #recuperation du score silhouette moyen\n",
    "\n",
    "    ax[q-1][mod].text(0.5, 0, f'Silhouette Score: {silhouette_scores:.2f}',\n",
    "                       transform=ax[q-1][mod].transAxes,\n",
    "                       ha='center')"
   ]
  },
  {
   "cell_type": "markdown",
   "id": "UUemTErl4NKs",
   "metadata": {
    "id": "UUemTErl4NKs"
   },
   "source": [
    "Le score silhouette étant le plus élevé pour k = 3, il nous donne cette fois-ci un nombre de clusters plus faible."
   ]
  },
  {
   "cell_type": "markdown",
   "id": "vgwxxhGM38UE",
   "metadata": {
    "id": "vgwxxhGM38UE"
   },
   "source": [
    "Pour la suite, nous déciderons donc de comparer la méthode $k$-means appliquée respectivement à 6, 4 et 3 clusters afin de voir quelles informations il est possible de tirer de chaque et quel nombre de clusters nous semble le plus pertinent."
   ]
  },
  {
   "cell_type": "code",
   "execution_count": null,
   "id": "dlfyQMoplYr4",
   "metadata": {
    "id": "dlfyQMoplYr4"
   },
   "outputs": [],
   "source": [
    "plt.figure(figsize=(20, 6))\n",
    "\n",
    "plt.subplot(1,3,1)\n",
    "K = 6 #nb de clusters choisis = nb de classes\n",
    "kmeans_pca = KMeans(n_clusters=K, init='k-means++', n_init='auto', random_state=0)\n",
    "#n_init = auto -> par defaut l'algo va tourner 10 fois puis garde le \"tour\" qui lui semble le meilleur\n",
    "clusters_pca = kmeans_pca.fit_predict(loading_reduced)\n",
    "cmap = plt.get_cmap('Set3',K)\n",
    "plt.bar(*np.unique(clusters_pca, return_counts=True), color=cmap.colors) #représente les clusters sous forme de barplot + compte le nombre d'occurences de toutes les classes\n",
    "plt.ylabel(\"Occurences\")\n",
    "plt.title('Répartition des stations pour 6 clusters')\n",
    "\n",
    "plt.subplot(1,3,2)\n",
    "K4 = 4\n",
    "kmeans_pca_4 = KMeans(n_clusters=K4, init='k-means++', n_init='auto', random_state=0)\n",
    "clusters_pca_4 = kmeans_pca_4.fit_predict(loading_reduced)\n",
    "cmap4 = plt.get_cmap('Set3',K4)\n",
    "plt.bar(*np.unique(clusters_pca_4, return_counts=True), color=cmap4.colors)\n",
    "plt.ylabel(\"Occurences\")\n",
    "plt.title('Répartition des stations pour 4 clusters')\n",
    "\n",
    "plt.subplot(1,3,3)\n",
    "K3 = 3\n",
    "kmeans_pca_3 = KMeans(n_clusters=K3, init='k-means++', n_init='auto', random_state=0)\n",
    "clusters_pca_3 = kmeans_pca_3.fit_predict(loading_reduced)\n",
    "cmap3 = plt.get_cmap('Set3',K3)\n",
    "plt.bar(*np.unique(clusters_pca_3, return_counts=True), color=cmap3.colors)\n",
    "plt.ylabel(\"Occurences\")\n",
    "plt.title('Répartition des stations pour 3 clusters')\n",
    "\n",
    "plt.show()"
   ]
  },
  {
   "cell_type": "markdown",
   "id": "NgVZ-XUgTxfX",
   "metadata": {
    "id": "NgVZ-XUgTxfX"
   },
   "source": [
    "**En utilisant 6 classes:**\n",
    "\n",
    "Les clusters formés en utilisant 6 classes regroupent un nombre d'individus relativement homogène pour les classes 0, 1, 2 et 4.\n",
    "\n",
    "En revanche la classe 5 concentre un plus grand nombre d'individus que les autres, par opposition à la classe 3 qui en rassemble le moins (deux fois moins que la 4 et trois fois moins que la 1). On peut donc s'attendre à ce que la classe trois soit plus hétérogène et au contraire que la classe 3 ait des caractéristiques \"atypiques\" permettant aux individus en faisant partie de se distinguer.\n",
    "\n",
    "**En utilisant 4 classes :**\n",
    "\n",
    "Les trois premières classes concentrent là encore un nombre de stations assez homogène tandis que la classe 4 en compte d'avantage, on pourra donc s'attendre à une classe plus \"généraliste\".\n",
    "\n",
    "**En utilisant 3 classes :**\n",
    "\n",
    "Comme précédemment deux classes ont des effectifs assez proches tandis que la dernière regroupe un plus grand nombre d'individus.\n",
    "\n",
    "----\n",
    "\n",
    "\n",
    "Ainsi peu importe le nombre total de clusters, il y a toujours une classe qui rassemble plus de stations que les autres."
   ]
  },
  {
   "cell_type": "markdown",
   "id": "EqdMi86Y6gOc",
   "metadata": {
    "id": "EqdMi86Y6gOc"
   },
   "source": [
    "#### Avec 6 clusters"
   ]
  },
  {
   "cell_type": "code",
   "execution_count": null,
   "id": "EWz7dzvoxqgO",
   "metadata": {
    "id": "EWz7dzvoxqgO"
   },
   "outputs": [],
   "source": [
    "plt.figure(figsize=(20, 6))\n",
    "\n",
    "plt.subplot(1,3,1)\n",
    "plt.scatter(loading_pca[:, 0], loading_pca[:, 1], s=8, linewidths=1, alpha=0.7, c=clusters_pca, cmap = cmap)\n",
    "plt.title(\"Graphe des individus de l'ACP pour 6 clusters\")\n",
    "plt.xlabel('Composante Principale 1')\n",
    "plt.ylabel('Composante Principale 2')\n",
    "\n",
    "plt.subplot(1,3,2)\n",
    "im = plt.scatter(coord.longitude, coord.latitude, c=clusters_pca, cmap=cmap, s= 15)\n",
    "plt.title('Stations loading - 6 Clusters - Méthode K-means', fontsize=15)\n",
    "plt.colorbar(im)\n",
    "plt.xlabel('Longitude', fontsize=10)\n",
    "plt.ylabel('Latitude', fontsize=10)\n",
    "plt.tick_params(axis='x', labelsize=10)\n",
    "plt.tick_params(axis='y', labelsize=10)\n",
    "\n",
    "plt.subplot(1,3,3)\n",
    "x = np.arange(0, 168)\n",
    "for i in range(K):\n",
    "    plt.plot(x, np.mean(loading.to_numpy()[clusters_pca == i], axis = 0), color=cmap.colors[i])\n",
    "plt.xlabel(\"Heures de la semaine\")\n",
    "plt.ylabel(\"Valeur mesurée\")\n",
    "plt.title(\"Valeur mesurée pour 6 clusters - K-means\")\n",
    "\n",
    "plt.show()"
   ]
  },
  {
   "cell_type": "markdown",
   "id": "TXHa-EsUEoGo",
   "metadata": {
    "id": "TXHa-EsUEoGo"
   },
   "source": [
    "On va essayer de caractériser chaque cluster :"
   ]
  },
  {
   "cell_type": "code",
   "execution_count": null,
   "id": "5mfYUrlvI9Zn",
   "metadata": {
    "id": "5mfYUrlvI9Zn"
   },
   "outputs": [],
   "source": [
    "plt.figure(figsize=(20, 10))\n",
    "\n",
    "plt.subplot(2,3,1)\n",
    "plt.plot(x, np.mean(loading.to_numpy()[clusters_pca == 0], axis = 0), color=cmap.colors[0])\n",
    "for t in time_tick:\n",
    "    plt.axvline(t+8, color='black', linestyle='--')  # Lignes verticales en pointillés noirs\n",
    "    plt.axvline(t+18, color='green', linestyle='--')  # Lignes verticales en pointillés verts\n",
    "plt.xlabel(\"Heures de la semaine\")\n",
    "plt.ylabel(\"Valeur mesurée\")\n",
    "plt.title(\"Cluster 0\")\n",
    "\n",
    "plt.subplot(2,3,2)\n",
    "plt.plot(x, np.mean(loading.to_numpy()[clusters_pca == 1], axis = 0), color=cmap.colors[1])\n",
    "for t in time_tick:\n",
    "    plt.axvline(t+8, color='black', linestyle='--')  # Lignes verticales en pointillés noirs\n",
    "    plt.axvline(t+18, color='green', linestyle='--')  # Lignes verticales en pointillés verts\n",
    "plt.xlabel(\"Heures de la semaine\")\n",
    "plt.ylabel(\"Valeur mesurée\")\n",
    "plt.title(\"Cluster 1\")\n",
    "\n",
    "plt.subplot(2,3,3)\n",
    "plt.plot(x, np.mean(loading.to_numpy()[clusters_pca == 2], axis = 0), color=cmap.colors[2])\n",
    "for t in time_tick:\n",
    "    plt.axvline(t+8, color='black', linestyle='--')  # Lignes verticales en pointillés noirs\n",
    "    plt.axvline(t+18, color='green', linestyle='--')  # Lignes verticales en pointillés verts\n",
    "plt.xlabel(\"Heures de la semaine\")\n",
    "plt.ylabel(\"Valeur mesurée\")\n",
    "plt.title(\"Cluster 2\")\n",
    "\n",
    "plt.subplot(2,3,4)\n",
    "plt.plot(x, np.mean(loading.to_numpy()[clusters_pca == 3], axis = 0), color=cmap.colors[3])\n",
    "for t in time_tick:\n",
    "    plt.axvline(t, color='black', linestyle='--')  # Lignes verticales en pointillés noirs\n",
    "plt.xlabel(\"Heures de la semaine\")\n",
    "plt.ylabel(\"Valeur mesurée\")\n",
    "plt.title(\"Cluster 3\")\n",
    "\n",
    "plt.subplot(2,3,5)\n",
    "plt.plot(x, np.mean(loading.to_numpy()[clusters_pca == 4], axis = 0), color=cmap.colors[4])\n",
    "for t in time_tick:\n",
    "    plt.axvline(t+8, color='black', linestyle='--')  # Lignes verticales en pointillés noirs\n",
    "    plt.axvline(t+18, color='green', linestyle='--')  # Lignes verticales en pointillés verts\n",
    "plt.xlabel(\"Heures de la semaine\")\n",
    "plt.ylabel(\"Valeur mesurée\")\n",
    "plt.title(\"Cluster 4\")\n",
    "\n",
    "plt.subplot(2,3,6)\n",
    "plt.plot(x, np.mean(loading.to_numpy()[clusters_pca == 5], axis = 0), color=cmap.colors[5])\n",
    "plt.xlabel(\"Heures de la semaine\")\n",
    "plt.ylabel(\"Valeur mesurée\")\n",
    "plt.title(\"Cluster 5\")\n",
    "\n",
    "plt.show()"
   ]
  },
  {
   "cell_type": "code",
   "execution_count": null,
   "id": "8DAHogWYIy9J",
   "metadata": {
    "id": "8DAHogWYIy9J"
   },
   "outputs": [],
   "source": [
    "plt.figure(figsize=(20, 6))\n",
    "\n",
    "plt.subplot(1,3,1)\n",
    "im = plt.scatter(coord.longitude, coord.latitude, c=clusters_pca, cmap=cmap, s= 15)\n",
    "plt.title('Stations loading - 6 Clusters - Méthode K-means', fontsize=15)\n",
    "plt.colorbar(im)\n",
    "plt.xlabel('Longitude', fontsize=10)\n",
    "plt.ylabel('Latitude', fontsize=10)\n",
    "plt.tick_params(axis='x', labelsize=10)\n",
    "plt.tick_params(axis='y', labelsize=10)\n",
    "plt.tight_layout()\n",
    "\n",
    "plt.subplot(1,3,2)\n",
    "couleurs = {1: 'blue', 0: 'yellow'}\n",
    "sctrplt = plt.scatter(coord['longitude'], coord['latitude'], c=coord['localisation'].map(couleurs))\n",
    "plt.xlabel('Longitude', fontsize=10)\n",
    "plt.ylabel('Latitude', fontsize=10)\n",
    "plt.title('Stations proches ou non de la Seine', fontsize=15)\n",
    "legend_elements = [Line2D([0], [0], marker='o', color='w', markerfacecolor=color, markersize=10, label=label) for label, color in couleurs.items()]\n",
    "plt.legend(handles=legend_elements, labels=[\"Seine\", \"Autre\"], fontsize=10)\n",
    "\n",
    "plt.subplot(1,3,3)\n",
    "couleurs = {1: 'red', 0: 'lightgreen'}\n",
    "sctrplt = plt.scatter(coord['longitude'], coord['latitude'], c=coord['bonus'].map(couleurs))\n",
    "plt.xlabel('Longitude', fontsize=10)\n",
    "plt.ylabel('Latitude', fontsize=10)\n",
    "plt.title('Altitude des stations', fontsize=15)\n",
    "legend_elements = [Line2D([0], [0], marker='o', color='w', markerfacecolor=color, markersize=10, label=label) for label, color in couleurs.items()]\n",
    "plt.legend(handles=legend_elements, labels=[\"Colline\", \"Vallée\"], fontsize=10)\n",
    "plt.show()\n"
   ]
  },
  {
   "cell_type": "markdown",
   "id": "jzgXz_YfXyma",
   "metadata": {
    "id": "jzgXz_YfXyma"
   },
   "source": [
    "<p> <B> Cluster 0 : </B> Ce sont des zones où la densité de vélos est plus faible entre 8h et 18h, mais sans trop grande variation. On peut penser qu'il s'agit de zones de transition (sorties de métro, gares...) : les utilisateurs sollicitent beaucoup les vélos aux horaires de début et fin de journée de travail (c'est-à-dire 8h et 18h) ce qui explique une baisse du nombre de vélos plus à importante à ces horaires précis. Certaines stations du cluster sont donc à proximité des lieux de travail. De plus, la légère baisse observée entre 8h et 18h peut être dû à de courts trajets effectués par les utilisateurs en journée, pour se déplacer d'une activité du centre ville à une autre, ou d'un point de transport (gare par exemple) à un autre. Au delà de 18h et avant le lendemain matin, les Vélib' des stations ne sont pas spécialement sollicités.</p>"
   ]
  },
  {
   "cell_type": "markdown",
   "id": "mdmy2QFUHLVN",
   "metadata": {
    "id": "mdmy2QFUHLVN"
   },
   "source": [
    "<p> <B> Cluster 1 : </B>\n",
    "Regroupe des individus ayant une forte densité sur les heures d'activités (8h-18h) du lundi au vendredi et une faible densité en dehors. De plus, leur densité globale est plus faible le weekend. En essayant de faire le lien avec la partie exploratoire, on peut penser qu'il s'agit des lieux de travail des habitants. <p>"
   ]
  },
  {
   "cell_type": "markdown",
   "id": "lECuTu6iHuZJ",
   "metadata": {
    "id": "lECuTu6iHuZJ"
   },
   "source": [
    "<p> <B> Cluster 2 : </B>\n",
    "Au contraire ce cluster regroupe des individus ayant une faible densité pendant les horaires d'activités du lundi au vendredi, et une densité plus forte en dehors (les valeurs mesurées augmentent de manière croissante entre 18h et 5h le lendemain). De plus, les tendances restent les mêmes le weekend mais avec, comme pour le cluster 1, des valeurs mesurées globalement plus faibles. Cette fois-ci on peut donc penser qu'au contraire il s'agit des zones résidentielles de la ville. </p>"
   ]
  },
  {
   "cell_type": "markdown",
   "id": "OQP5knjua1p-",
   "metadata": {
    "id": "OQP5knjua1p-"
   },
   "source": [
    " <p>  <B> Cluster 3 : </B>\n",
    " Ce cluster fait une distinction entre jours \"ouvrés\" et weekend.\n",
    "\n",
    "Il regroupe des individus pour lesquels la densité de Vélib' est relativement faible du lundi au jeudi et au contraire assez importante le samedi et le dimanche (le vendredi étant une sorte de \"jour de transition\").\n",
    "\n",
    "On peut penser qu'il s'agit de zones d'activités et de loisirs (centres commerciaux, parcs d'attractions, salles de sport...) soit qui ne sont ouvertes que le weekend, soit dans lesquelles d'avantage de personnes peuvent se rendre le weekend. Comme supposé précédemment, ce cluster semble bien rassembler des individus \"atypiques\", justifiant son plus faible effectif.</p>"
   ]
  },
  {
   "cell_type": "markdown",
   "id": "fxgjSLZLSp7x",
   "metadata": {
    "id": "fxgjSLZLSp7x"
   },
   "source": [
    "<p> <B> Cluster 4 : </B>\n",
    "Tendance très proche du cluster 2.  \n",
    "\n",
    "- Même comportement du lundi au vendredi (avec des valeurs mesurées globalement un peu plus élevées).\n",
    "- En revanche cette fois-ci il n'y a pas de dissociation forte avec les jours du weekend. Ce cluster regroupe donc des individus pour lesquels le comportement en weekend diffère peu du reste de la semaine. On peut par exemple supposer qu'il s'agit de zones résidentielles dans lesquelles les habitants travaillent également le weekend (artisanats notamment).\n",
    "\n",
    "De plus les valeurs mesurées maximales sont un peu plus élevées que le cluster 2 indiquant qu'il y a davantage de Vélib' disponibles pendant les heures d'activités. </p>"
   ]
  },
  {
   "cell_type": "markdown",
   "id": "-t_LvJ4mXHMF",
   "metadata": {
    "id": "-t_LvJ4mXHMF"
   },
   "source": [
    "<p> <B> Cluster 5 : </B>\n",
    "Les valeurs mesurées restent globalement relativement faibles : il s'agit donc de stations où il y a souvent peu de vélos (et peu de variations dans le nombre de vélos). On peut penser qu'il s'agit de zones difficiles d'accès en vélo (exemple : en haut des côtes). Cette supposition est d'ailleurs corroborrée par la visualisation du graphe d'altitude des stations, ainsi que par le graphe en mosaïques qui suit.</p>"
   ]
  },
  {
   "cell_type": "code",
   "execution_count": null,
   "id": "TU-N5Q0FYCUa",
   "metadata": {
    "id": "TU-N5Q0FYCUa"
   },
   "outputs": [],
   "source": [
    "def no_label(*args):\n",
    "    return ''\n",
    "\n",
    "plt.figure(figsize=(8, 6))\n",
    "crosstable = pd.crosstab(clusters_pca,coord['bonus'])\n",
    "sp.mosaic(crosstable.stack(),title='Mosaicplot clusters-altitude', labelizer=no_label)\n",
    "plt.show()"
   ]
  },
  {
   "cell_type": "code",
   "execution_count": null,
   "id": "E1jcCkluvlbl",
   "metadata": {
    "id": "E1jcCkluvlbl"
   },
   "outputs": [],
   "source": [
    "plt.figure(figsize=(8, 6))\n",
    "crosstable = pd.crosstab(clusters_pca,coord['localisation'])\n",
    "sp.mosaic(crosstable.stack(),title='Mosaicplot clusters-Seine', labelizer=no_label)\n",
    "plt.show()"
   ]
  },
  {
   "cell_type": "markdown",
   "id": "o1jfVxs_gaUT",
   "metadata": {
    "id": "o1jfVxs_gaUT"
   },
   "source": [
    "En comparant le cluster 5 avec la carte discriminant les stations en fonction de leur altitude, nos hypothèses précédentes semblent cohérentes : la plupart des stations situées plus en hauteur (colline) appartiennent au cluster 5. En effet, étant plus élevées donc situées sûrement en haut d'une côte, ces stations restent plus souvent vides (car les utilisateurs n'ont pas forcément envie de remonter les vélos).\n",
    "\n",
    "Par ailleurs les points du cluster 3 sont relativement éparpillés sur la carte. Donc les hypothèses faites précédemment restent plausibles : ces stations seraient caractérisées par leurs activités plutôt que par leur localisation.\n",
    "\n",
    "Enfin, pour les autres clusters, les remarques précédentes paraissent relativement correctes et en adéquation avec la carte."
   ]
  },
  {
   "cell_type": "markdown",
   "id": "jkLHqr256mEh",
   "metadata": {
    "id": "jkLHqr256mEh"
   },
   "source": [
    "#### Avec 4 clusters"
   ]
  },
  {
   "cell_type": "code",
   "execution_count": null,
   "id": "RVK6s0dwyEqG",
   "metadata": {
    "id": "RVK6s0dwyEqG"
   },
   "outputs": [],
   "source": [
    "plt.figure(figsize=(20, 6))\n",
    "\n",
    "plt.subplot(1,3,1)\n",
    "plt.scatter(loading_pca[:, 0], loading_pca[:, 1], s=8, linewidths=1, alpha=0.7, c=clusters_pca_4, cmap = cmap4)\n",
    "plt.title(\"Graphe des individus de l'ACP pour 4 clusters\")\n",
    "plt.xlabel('Composante Principale 1')\n",
    "plt.ylabel('Composante Principale 2')\n",
    "\n",
    "plt.subplot(1,3,2)\n",
    "im = plt.scatter(coord.longitude, coord.latitude, c=clusters_pca_4, cmap=cmap4, s= 15)\n",
    "plt.title('Stations loading - 4 Clusters - Méthode K-means', fontsize=15)\n",
    "plt.colorbar(im)\n",
    "plt.xlabel('Longitude', fontsize=10)\n",
    "plt.ylabel('Latitude', fontsize=10)\n",
    "plt.tick_params(axis='x', labelsize=10)\n",
    "plt.tick_params(axis='y', labelsize=10)\n",
    "\n",
    "plt.subplot(1,3,3)\n",
    "x = np.arange(0, 168)\n",
    "for i in range(K4):\n",
    "    plt.plot(x, np.mean(loading.to_numpy()[clusters_pca_4 == i], axis = 0), color=cmap4.colors[i])\n",
    "plt.xlabel(\"Heures de la semaine\")\n",
    "plt.ylabel(\"Valeur mesurée\")\n",
    "plt.title(\"Valeur mesurée pour 4 clusters - K-means\")\n",
    "\n",
    "plt.tight_layout()\n",
    "plt.show()"
   ]
  },
  {
   "cell_type": "code",
   "execution_count": null,
   "id": "ao6Iab_RdDuQ",
   "metadata": {
    "id": "ao6Iab_RdDuQ"
   },
   "outputs": [],
   "source": [
    "plt.figure(figsize=(20, 10))\n",
    "\n",
    "plt.subplot(2,2,1)\n",
    "plt.plot(x, np.mean(loading.to_numpy()[clusters_pca_4 == 0], axis = 0), color=cmap4.colors[0])\n",
    "for t in time_tick:\n",
    "    plt.axvline(t+8, color='black', linestyle='--')  # Lignes verticales en pointillés noirs\n",
    "    plt.axvline(t+18, color='green', linestyle='--')  # Lignes verticales en pointillés verts\n",
    "plt.xlabel(\"Heures de la semaine\")\n",
    "plt.ylabel(\"Valeur mesurée\")\n",
    "plt.title(\"Cluster 0\")\n",
    "\n",
    "plt.subplot(2,2,2)\n",
    "plt.plot(x, np.mean(loading.to_numpy()[clusters_pca_4 == 1], axis = 0), color=cmap4.colors[1])\n",
    "for t in time_tick:\n",
    "    plt.axvline(t+8, color='black', linestyle='--')  # Lignes verticales en pointillés noirs\n",
    "    plt.axvline(t+18, color='green', linestyle='--')  # Lignes verticales en pointillés verts\n",
    "plt.xlabel(\"Heures de la semaine\")\n",
    "plt.ylabel(\"Valeur mesurée\")\n",
    "plt.title(\"Cluster 1\")\n",
    "\n",
    "plt.subplot(2,2,3)\n",
    "plt.plot(x, np.mean(loading.to_numpy()[clusters_pca_4 == 2], axis = 0), color=cmap4.colors[2])\n",
    "for t in time_tick:\n",
    "    plt.axvline(t+8, color='black', linestyle='--')  # Lignes verticales en pointillés noirs\n",
    "    plt.axvline(t+18, color='green', linestyle='--')  # Lignes verticales en pointillés verts\n",
    "plt.xlabel(\"Heures de la semaine\")\n",
    "plt.ylabel(\"Valeur mesurée\")\n",
    "plt.title(\"Cluster 2\")\n",
    "\n",
    "plt.subplot(2,2,4)\n",
    "plt.plot(x, np.mean(loading.to_numpy()[clusters_pca_4 == 3], axis = 0), color=cmap4.colors[3])\n",
    "for t in time_tick:\n",
    "    plt.axvline(t+5, color='black', linestyle='--')  # Lignes verticales en pointillés noirs\n",
    "plt.xlabel(\"Heures de la semaine\")\n",
    "plt.ylabel(\"Valeur mesurée\")\n",
    "plt.title(\"Cluster 3\")\n",
    "\n",
    "plt.show()"
   ]
  },
  {
   "cell_type": "code",
   "execution_count": null,
   "id": "K6uMeJt9dy47",
   "metadata": {
    "id": "K6uMeJt9dy47"
   },
   "outputs": [],
   "source": [
    "plt.figure(figsize=(20, 6))\n",
    "\n",
    "plt.subplot(1,3,1)\n",
    "im = plt.scatter(coord.longitude, coord.latitude, c=clusters_pca_4, cmap=cmap4, s= 15)\n",
    "plt.title('Stations loading - 4 Clusters - Méthode K-means', fontsize=15)\n",
    "plt.colorbar(im)\n",
    "plt.xlabel('Longitude', fontsize=10)\n",
    "plt.ylabel('Latitude', fontsize=10)\n",
    "plt.tick_params(axis='x', labelsize=10)\n",
    "plt.tick_params(axis='y', labelsize=10)\n",
    "plt.tight_layout()\n",
    "\n",
    "plt.subplot(1,3,2)\n",
    "couleurs = {1: 'blue', 0: 'yellow'}\n",
    "sctrplt = plt.scatter(coord['longitude'], coord['latitude'], c=coord['localisation'].map(couleurs))\n",
    "plt.xlabel('Longitude', fontsize=10)\n",
    "plt.ylabel('Latitude', fontsize=10)\n",
    "plt.title('Stations proches ou non de la Seine', fontsize=15)\n",
    "legend_elements = [Line2D([0], [0], marker='o', color='w', markerfacecolor=color, markersize=10, label=label) for label, color in couleurs.items()]\n",
    "plt.legend(handles=legend_elements, labels=[\"Seine\", \"Autre\"], fontsize=10)\n",
    "\n",
    "plt.subplot(1,3,3)\n",
    "couleurs = {1: 'red', 0: 'lightgreen'}\n",
    "sctrplt = plt.scatter(coord['longitude'], coord['latitude'], c=coord['bonus'].map(couleurs))\n",
    "plt.xlabel('Longitude', fontsize=10)\n",
    "plt.ylabel('Latitude', fontsize=10)\n",
    "plt.title('Altitude des stations', fontsize=15)\n",
    "legend_elements = [Line2D([0], [0], marker='o', color='w', markerfacecolor=color, markersize=10, label=label) for label, color in couleurs.items()]\n",
    "plt.legend(handles=legend_elements, labels=[\"Colline\", \"Vallée\"], fontsize=10)\n",
    "plt.show()"
   ]
  },
  {
   "cell_type": "markdown",
   "id": "n3fgNnW2nQbm",
   "metadata": {
    "id": "n3fgNnW2nQbm"
   },
   "source": [
    "<B> Cluster 0 : </B>\n",
    "Correspond approximativement au cluster 0 précédent : zones de transition (sorties de métro, gares...) et courts déplacements en centre-ville, avec des variations un peu moins prononcées car les clusters sont moins nombreux et donc ils se sont remélangés."
   ]
  },
  {
   "cell_type": "markdown",
   "id": "0BQIOMV_n4aT",
   "metadata": {
    "id": "0BQIOMV_n4aT"
   },
   "source": [
    "<B> Cluster 1 : </B>\n",
    "Correspond au cluster 1 précédent : lieux de travail des habitants."
   ]
  },
  {
   "cell_type": "markdown",
   "id": "qXO56k8yn_fB",
   "metadata": {
    "id": "qXO56k8yn_fB"
   },
   "source": [
    "<B> Cluster 2 : </B>\n",
    "Correspond au cluster 2 précédent : zones résidentielles de la ville."
   ]
  },
  {
   "cell_type": "markdown",
   "id": "uwGEYUBAn_0G",
   "metadata": {
    "id": "uwGEYUBAn_0G"
   },
   "source": [
    "<B> Cluster 3 : </B>\n",
    "Inclut notamment le cluster 5 précédent (c'est-à-dire comprenant les zones \"difficiles d'accès\", en hauteur) : on constate effectivement que les stations sont globalement moins remplies que dans les autres clusters.\n",
    "Par ailleurs, si on s'intéresse au graphe affichant les stations selon leurs positions dans la ville, ce cluster représente un grand nombre de stations sur la carte qui, a priori, seraient au niveau des zones résidentielles. Pourtant les valeurs de loading mesurées dans ces stations ne sont pas révélatrices de zones résidentielles (pas d'effet de cycle avec les horaires de bureau). Ceci est dû au fait que la classe 3 est, comme mentionné auparavant, plus \"généraliste\" puisque c'est elle qui renferme le plus grand nombre d'individus."
   ]
  },
  {
   "cell_type": "code",
   "execution_count": null,
   "id": "UsUwyDDH5h0O",
   "metadata": {
    "id": "UsUwyDDH5h0O"
   },
   "outputs": [],
   "source": [
    "plt.figure(figsize=(8, 6))\n",
    "crosstable = pd.crosstab(clusters_pca_4,coord['bonus'])\n",
    "sp.mosaic(crosstable.stack(),title='Mosaicplot clusters-altitude', labelizer=no_label)\n",
    "plt.show()"
   ]
  },
  {
   "cell_type": "markdown",
   "id": "eX11d3c1ejNT",
   "metadata": {
    "id": "eX11d3c1ejNT"
   },
   "source": [
    "Le graphique en mosaïques ci-dessus confirme les remarques précédentes : la plupart des stations situées en altitude sont comprises dans le cluster 3."
   ]
  },
  {
   "cell_type": "code",
   "execution_count": null,
   "id": "HOHjkcfW8GoB",
   "metadata": {
    "id": "HOHjkcfW8GoB"
   },
   "outputs": [],
   "source": [
    "plt.figure(figsize=(8, 6))\n",
    "crosstable = pd.crosstab(clusters_pca_4,coord['localisation'])\n",
    "sp.mosaic(crosstable.stack(),title='Mosaicplot clusters-Seine', labelizer=no_label)\n",
    "plt.show()"
   ]
  },
  {
   "cell_type": "markdown",
   "id": "XzfDmqQTezRC",
   "metadata": {
    "id": "XzfDmqQTezRC"
   },
   "source": [
    "Là encore le graphique en mosaïques confirme nos observations : le cluster 1, définit comme la zone de travail, regroupe beaucoup de stations en bord de Seine. La plupart des autres stations proches de la Seine appartiennent au cluster 0."
   ]
  },
  {
   "cell_type": "markdown",
   "id": "o9j26ubp6p9b",
   "metadata": {
    "id": "o9j26ubp6p9b"
   },
   "source": [
    "#### Avec 3 clusters"
   ]
  },
  {
   "cell_type": "code",
   "execution_count": null,
   "id": "WuKZD3jVyr4A",
   "metadata": {
    "id": "WuKZD3jVyr4A"
   },
   "outputs": [],
   "source": [
    "plt.figure(figsize=(20, 6))\n",
    "\n",
    "plt.subplot(1,3,1)\n",
    "plt.scatter(loading_pca[:, 0], loading_pca[:, 1], s=8, linewidths=1, alpha=0.7, c=clusters_pca_3, cmap = cmap3)\n",
    "plt.title(\"Graphe des individus de l'ACP pour 3 clusters\")\n",
    "plt.xlabel('Composante Principale 1')\n",
    "plt.ylabel('Composante Principale 2')\n",
    "\n",
    "plt.subplot(1,3,2)\n",
    "im = plt.scatter(coord.longitude, coord.latitude, c=clusters_pca_3, cmap=cmap3, s= 15)\n",
    "plt.title('Stations loading - 3 Clusters - Méthode K-means', fontsize=15)\n",
    "plt.colorbar(im)\n",
    "plt.xlabel('Longitude', fontsize=10)\n",
    "plt.ylabel('Latitude', fontsize=10)\n",
    "plt.tick_params(axis='x', labelsize=10)\n",
    "plt.tick_params(axis='y', labelsize=10)\n",
    "\n",
    "plt.subplot(1,3,3)\n",
    "x = np.arange(0, 168)\n",
    "for i in range(K3):\n",
    "    plt.plot(x, np.mean(loading.to_numpy()[clusters_pca_3 == i], axis = 0), color=cmap3.colors[i])\n",
    "plt.xlabel(\"Heures de la semaine\")\n",
    "plt.ylabel(\"Valeur mesurée\")\n",
    "plt.title(\"Valeur mesurée pour 3 clusters - K-means\")\n",
    "\n",
    "plt.show()"
   ]
  },
  {
   "cell_type": "code",
   "execution_count": null,
   "id": "vjFmVF9mtCUY",
   "metadata": {
    "id": "vjFmVF9mtCUY"
   },
   "outputs": [],
   "source": [
    "plt.figure(figsize=(20, 5))\n",
    "\n",
    "plt.subplot(1,3,1)\n",
    "plt.plot(x, np.mean(loading.to_numpy()[clusters_pca_3 == 0], axis = 0), color=cmap3.colors[0])\n",
    "for t in time_tick:\n",
    "    plt.axvline(t+8, color='black', linestyle='--')  # Lignes verticales en pointillés noirs\n",
    "    plt.axvline(t+18, color='green', linestyle='--')  # Lignes verticales en pointillés verts\n",
    "plt.xlabel(\"Heures de la semaine\")\n",
    "plt.ylabel(\"Valeur mesurée\")\n",
    "plt.title(\"Cluster 0\")\n",
    "\n",
    "plt.subplot(1,3,2)\n",
    "plt.plot(x, np.mean(loading.to_numpy()[clusters_pca_3 == 1], axis = 0), color=cmap3.colors[1])\n",
    "for t in time_tick:\n",
    "    plt.axvline(t+8, color='black', linestyle='--')  # Lignes verticales en pointillés noirs\n",
    "    plt.axvline(t+18, color='green', linestyle='--')  # Lignes verticales en pointillés verts\n",
    "plt.xlabel(\"Heures de la semaine\")\n",
    "plt.ylabel(\"Valeur mesurée\")\n",
    "plt.title(\"Cluster 1\")\n",
    "\n",
    "plt.subplot(1,3,3)\n",
    "plt.plot(x, np.mean(loading.to_numpy()[clusters_pca_3 == 2], axis = 0), color=cmap3.colors[2])\n",
    "for t in time_tick:\n",
    "    plt.axvline(t+8, color='black', linestyle='--')  # Lignes verticales en pointillés noirs\n",
    "    plt.axvline(t+18, color='green', linestyle='--')  # Lignes verticales en pointillés verts\n",
    "plt.xlabel(\"Heures de la semaine\")\n",
    "plt.ylabel(\"Valeur mesurée\")\n",
    "plt.title(\"Cluster 2\")\n",
    "\n",
    "plt.show()"
   ]
  },
  {
   "cell_type": "code",
   "execution_count": null,
   "id": "pykIMOewtoiL",
   "metadata": {
    "id": "pykIMOewtoiL"
   },
   "outputs": [],
   "source": [
    "plt.figure(figsize=(20, 6))\n",
    "\n",
    "plt.subplot(1,3,1)\n",
    "im = plt.scatter(coord.longitude, coord.latitude, c=clusters_pca_3, cmap=cmap3, s= 15)\n",
    "plt.title('Stations loading - 3 Clusters - Méthode K-means', fontsize=15)\n",
    "plt.colorbar(im)\n",
    "plt.xlabel('Longitude', fontsize=10)\n",
    "plt.ylabel('Latitude', fontsize=10)\n",
    "plt.tick_params(axis='x', labelsize=10)\n",
    "plt.tick_params(axis='y', labelsize=10)\n",
    "plt.tight_layout()\n",
    "\n",
    "plt.subplot(1,3,2)\n",
    "couleurs = {1: 'blue', 0: 'yellow'}\n",
    "sctrplt = plt.scatter(coord['longitude'], coord['latitude'], c=coord['localisation'].map(couleurs))\n",
    "plt.xlabel('Longitude', fontsize=10)\n",
    "plt.ylabel('Latitude', fontsize=10)\n",
    "plt.title('Stations proches ou non de la Seine', fontsize=15)\n",
    "legend_elements = [Line2D([0], [0], marker='o', color='w', markerfacecolor=color, markersize=10, label=label) for label, color in couleurs.items()]\n",
    "plt.legend(handles=legend_elements, labels=[\"Seine\", \"Autre\"], fontsize=10)\n",
    "\n",
    "plt.subplot(1,3,3)\n",
    "couleurs = {1: 'red', 0: 'lightgreen'}\n",
    "sctrplt = plt.scatter(coord['longitude'], coord['latitude'], c=coord['bonus'].map(couleurs))\n",
    "plt.xlabel('Longitude', fontsize=10)\n",
    "plt.ylabel('Latitude', fontsize=10)\n",
    "plt.title('Altitude des stations', fontsize=15)\n",
    "legend_elements = [Line2D([0], [0], marker='o', color='w', markerfacecolor=color, markersize=10, label=label) for label, color in couleurs.items()]\n",
    "plt.legend(handles=legend_elements, labels=[\"Colline\", \"Vallée\"], fontsize=10)\n",
    "plt.show()"
   ]
  },
  {
   "cell_type": "markdown",
   "id": "d00b3WvVup5I",
   "metadata": {
    "id": "d00b3WvVup5I"
   },
   "source": [
    "<B> Cluster 0 : </B>\n",
    "Correspond à un mélange des clusters 0 et d'une partie du cluster 2 précédents : stations peu remplies sur les horaires d'activité => zones de transition (sorties de métro, gares...) et courts déplacements en journée en centre-ville, et quelques zones résidentielles."
   ]
  },
  {
   "cell_type": "markdown",
   "id": "KIWXYluLu0uw",
   "metadata": {
    "id": "KIWXYluLu0uw"
   },
   "source": [
    "<B> Cluster 1 : </B>\n",
    "Correspond au cluster 1 précédent : stations remplies sur les horaires d'activités et peu remplies le weekend => lieux de travail."
   ]
  },
  {
   "cell_type": "markdown",
   "id": "FYzeXsh7u1sC",
   "metadata": {
    "id": "FYzeXsh7u1sC"
   },
   "source": [
    "<B> Cluster 2 : </B>\n",
    "Inclut notamment le cluster 3 du cas à 4 clusters (avec des variations d'amplitude un peu plus importante) : on constate que les stations sont globalement moins remplies que dans les autres clusters, surtout le weekend. De plus, on a une baisse de la densité de Vélib' sur les horaires d'activités : on regroupe donc les zones en altitude ainsi que des zones résidentielles (ce que l'on visualise bien sur le graphe \"Station loading\")."
   ]
  },
  {
   "cell_type": "markdown",
   "id": "t3uN3nQbxN29",
   "metadata": {
    "id": "t3uN3nQbxN29"
   },
   "source": [
    "<B> Conclusion du modèle $k$-means : </B> Après avoir analysé les 3 modèles (6 clusters, 4 clusters et 3 clusters), nous avons estimé que travailler avec 6 clusters était plus intéressant car la plus grande diversité de clusters nous permet de relever des caractéristiques plus distinctes et plus pertinentes chez chacun des clusters. On obtient un meilleur découpage de la ville et il est plus facile d'attribuer des caractéristiques à chacun des groupes. Par ailleurs le cas à 4 clusters ne semble pas apporter de réelle plus-value en terme d'interprétations par rapport au cas à 3 clusters."
   ]
  },
  {
   "cell_type": "code",
   "execution_count": null,
   "id": "HBlAwWh-8X_x",
   "metadata": {
    "id": "HBlAwWh-8X_x"
   },
   "outputs": [],
   "source": [
    "plt.figure(figsize=(8, 6))\n",
    "crosstable = pd.crosstab(clusters_pca_3,coord['bonus'])\n",
    "sp.mosaic(crosstable.stack(),title='Mosaicplot clusters-altitude', labelizer=no_label)\n",
    "plt.show()"
   ]
  },
  {
   "cell_type": "markdown",
   "id": "xHBneBW0iXTG",
   "metadata": {
    "id": "xHBneBW0iXTG"
   },
   "source": [
    "Comme dit précédemment, les zones en altitude appartiennent au troisième cluster."
   ]
  },
  {
   "cell_type": "code",
   "execution_count": null,
   "id": "Z8bYev1r8TV-",
   "metadata": {
    "id": "Z8bYev1r8TV-"
   },
   "outputs": [],
   "source": [
    "plt.figure(figsize=(8, 6))\n",
    "crosstable = pd.crosstab(clusters_pca_3,coord['localisation'])\n",
    "sp.mosaic(crosstable.stack(),title='Mosaicplot clusters-Seine', labelizer=no_label)\n",
    "plt.show()"
   ]
  },
  {
   "cell_type": "markdown",
   "id": "DS2Mo6FuhLTl",
   "metadata": {
    "id": "DS2Mo6FuhLTl"
   },
   "source": [
    "### Clustering agglomérant avec la méthode CAH"
   ]
  },
  {
   "cell_type": "code",
   "execution_count": null,
   "id": "IR8-9ffimobE",
   "metadata": {
    "id": "IR8-9ffimobE"
   },
   "outputs": [],
   "source": [
    "print(\"La taille de nos données réduites après ACP est de  : \", loading_reduced.shape)"
   ]
  },
  {
   "cell_type": "markdown",
   "id": "Q_YupFb4mVhd",
   "metadata": {
    "id": "Q_YupFb4mVhd"
   },
   "source": [
    "La méthode CAH nécessite de travailler avec une quantité de données qui ne soit pas trop élevée (car c'est une méthode plus coûteuse que le $k$-means). Ici notre matrice réduite est de taille 1189 x 5. On estimera que sa taille est correcte pour pouvoir lui appliquer la méthode CAH."
   ]
  },
  {
   "cell_type": "markdown",
   "id": "-IxYJVIWllZd",
   "metadata": {
    "id": "-IxYJVIWllZd"
   },
   "source": [
    "Là encore nous allons utliser la méthode du coude afin de choisir le nombre de clusters avec lesquels nous allons travailler."
   ]
  },
  {
   "cell_type": "code",
   "execution_count": null,
   "id": "93UYol85hrCF",
   "metadata": {
    "id": "93UYol85hrCF"
   },
   "outputs": [],
   "source": [
    "ac = AgglomerativeClustering(linkage='ward', compute_distances=True)\n",
    "visualizer = KElbowVisualizer(ac, k=(3,12))\n",
    "\n",
    "visualizer.fit(loading_reduced)\n",
    "visualizer.show()\n",
    "plt.show()"
   ]
  },
  {
   "cell_type": "markdown",
   "id": "TNADqWWKl6_A",
   "metadata": {
    "id": "TNADqWWKl6_A"
   },
   "source": [
    "Une fois encore, pour une initialisation à k=3, le nombre de clusters optimal est de 6 pour la méthode CAH. Si on décide d'initialiser à k=2, alors on obtient à nouveau une valeur optimale pour 4 classes. Comme précédemment travailler avec 6 clusters nous a semblé pertinent, nous allons faire de même ici et conserver notre initialisation à k=3."
   ]
  },
  {
   "cell_type": "code",
   "execution_count": null,
   "id": "LzbqYxkUnixk",
   "metadata": {
    "id": "LzbqYxkUnixk"
   },
   "outputs": [],
   "source": [
    "plt.figure(figsize=(20, 6))\n",
    "\n",
    "plt.subplot(1,3,1)\n",
    "ac = AgglomerativeClustering(n_clusters=K, compute_distances=True, linkage='ward')\n",
    "clusters_ac = ac.fit_predict(loading_reduced)\n",
    "plt.bar(*np.unique(clusters_ac, return_counts=True), color=cmap.colors) # représente les clusters sous forme de barplot + compte le nombre d'occurences de toutes les classes\n",
    "plt.ylabel(\"Occurences\")\n",
    "plt.title('Répartition des stations pour 6 clusters')\n",
    "\n",
    "plt.subplot(1,3,2)\n",
    "ac4 = AgglomerativeClustering(n_clusters=K4, compute_distances=True, linkage='ward')\n",
    "clusters_ac4 = ac4.fit_predict(loading_reduced)\n",
    "plt.bar(*np.unique(clusters_ac4, return_counts=True), color=cmap3.colors)\n",
    "plt.ylabel(\"Occurences\")\n",
    "plt.title('Répartition des stations pour 4 clusters')\n",
    "\n",
    "plt.subplot(1,3,3)\n",
    "ac3 = AgglomerativeClustering(n_clusters=K3, compute_distances=True, linkage='ward')\n",
    "clusters_ac3 = ac3.fit_predict(loading_reduced)\n",
    "plt.bar(*np.unique(clusters_ac3, return_counts=True), color=cmap3.colors)\n",
    "plt.ylabel(\"Occurences\")\n",
    "plt.title('Répartition des stations pour 3 clusters')\n",
    "\n",
    "plt.show()"
   ]
  },
  {
   "cell_type": "markdown",
   "id": "HI4ZV3R0VAYn",
   "metadata": {
    "id": "HI4ZV3R0VAYn"
   },
   "source": [
    "Les observations sont globalement les mêmes que pour $k$-means : dans le cas à 6 clusters on peut s'attendre à une classe 2 très \"généraliste\" et à une classe 5 très \"spécifique\" (une classe \"atypique\"). Dans le cas à 3 clusters la classe 0 risque d'être plus hétérogène que les deux autres."
   ]
  },
  {
   "cell_type": "markdown",
   "id": "8BzSPIPW511Q",
   "metadata": {
    "id": "8BzSPIPW511Q"
   },
   "source": [
    "#### Avec 6 clusters"
   ]
  },
  {
   "cell_type": "code",
   "execution_count": null,
   "id": "opYfD8Jt-E7w",
   "metadata": {
    "id": "opYfD8Jt-E7w"
   },
   "outputs": [],
   "source": [
    "Z6_CAH = linkage(squareform(pdist(loading_reduced)),method='complete',metric='euclidean')\n",
    "plt.title(\"CAH\")\n",
    "\n",
    "dendrogram(Z6_CAH,orientation='top',show_leaf_counts=False, no_labels=True, color_threshold=300)\n",
    "plt.show()"
   ]
  },
  {
   "cell_type": "code",
   "execution_count": null,
   "id": "whUITyG1l3Qa",
   "metadata": {
    "id": "whUITyG1l3Qa"
   },
   "outputs": [],
   "source": [
    "plt.figure(figsize=(20,6))\n",
    "\n",
    "plt.subplot(1,3,1)\n",
    "plt.scatter(loading_reduced[:,0], loading_reduced[:,1], c=clusters_ac, s=4, linewidths=1, cmap=cmap)\n",
    "plt.title(\"Graphe des individus - ACP\")\n",
    "plt.xlabel('Composante Principale 1')\n",
    "plt.ylabel('Composante Principale 2')\n",
    "\n",
    "plt.subplot(1,3,2)\n",
    "im = plt.scatter(coord.longitude, coord.latitude, c=clusters_ac, cmap=cmap, s=10)\n",
    "plt.title('Stations loading - 6 Clusters - Méthode CAH', fontsize=15)\n",
    "plt.colorbar(im)\n",
    "plt.xlabel('Longitude', fontsize=10)\n",
    "plt.ylabel('Latitude', fontsize=10)\n",
    "plt.tick_params(axis='x', labelsize=10)\n",
    "plt.tick_params(axis='y', labelsize=10)\n",
    "plt.grid(False)\n",
    "plt.tight_layout()\n",
    "\n",
    "plt.subplot(1,3,3)\n",
    "x = np.arange(0, 168)\n",
    "for i in range(K):\n",
    "    plt.plot(x, np.mean(loading.to_numpy()[clusters_ac == i], axis = 0), color=cmap.colors[i])\n",
    "plt.xlabel(\"Heures de la semaine\")\n",
    "plt.ylabel(\"Valeur mesurée\")\n",
    "plt.title(\"Valeur mesurée pour 6 clusters - CAH\")\n",
    "\n",
    "plt.show()"
   ]
  },
  {
   "cell_type": "code",
   "execution_count": null,
   "id": "W5OXTW3X6TS0",
   "metadata": {
    "id": "W5OXTW3X6TS0"
   },
   "outputs": [],
   "source": [
    "plt.figure(figsize=(20, 10))\n",
    "\n",
    "plt.subplot(2,3,1)\n",
    "plt.plot(x, np.mean(loading.to_numpy()[clusters_ac == 0], axis = 0), color=cmap.colors[0])\n",
    "for t in time_tick:\n",
    "    plt.axvline(t+8, color='black', linestyle='--')  # Lignes verticales en pointillés noirs\n",
    "    plt.axvline(t+18, color='green', linestyle='--')  # Lignes verticales en pointillés verts\n",
    "plt.xlabel(\"Heures de la semaine\")\n",
    "plt.ylabel(\"Valeur mesurée\")\n",
    "plt.title(\"Cluster 0\")\n",
    "\n",
    "plt.subplot(2,3,2)\n",
    "plt.plot(x, np.mean(loading.to_numpy()[clusters_ac == 1], axis = 0), color=cmap.colors[1])\n",
    "for t in time_tick:\n",
    "    plt.axvline(t+8, color='black', linestyle='--')  # Lignes verticales en pointillés noirs\n",
    "    plt.axvline(t+18, color='green', linestyle='--')  # Lignes verticales en pointillés verts\n",
    "plt.xlabel(\"Heures de la semaine\")\n",
    "plt.ylabel(\"Valeur mesurée\")\n",
    "plt.title(\"Cluster 1\")\n",
    "\n",
    "plt.subplot(2,3,3)\n",
    "plt.plot(x, np.mean(loading.to_numpy()[clusters_ac == 2], axis = 0), color=cmap.colors[2])\n",
    "for t in time_tick:\n",
    "    plt.axvline(t+8, color='black', linestyle='--')  # Lignes verticales en pointillés noirs\n",
    "    plt.axvline(t+18, color='green', linestyle='--')  # Lignes verticales en pointillés verts\n",
    "plt.xlabel(\"Heures de la semaine\")\n",
    "plt.ylabel(\"Valeur mesurée\")\n",
    "plt.title(\"Cluster 2\")\n",
    "\n",
    "plt.subplot(2,3,4)\n",
    "plt.plot(x, np.mean(loading.to_numpy()[clusters_ac == 3], axis = 0), color=cmap.colors[3])\n",
    "for t in time_tick:\n",
    "    plt.axvline(t+8, color='black', linestyle='--')  # Lignes verticales en pointillés noirs\n",
    "    plt.axvline(t+18, color='green', linestyle='--')  # Lignes verticales en pointillés verts\n",
    "plt.xlabel(\"Heures de la semaine\")\n",
    "plt.ylabel(\"Valeur mesurée\")\n",
    "plt.title(\"Cluster 3\")\n",
    "\n",
    "plt.subplot(2,3,5)\n",
    "plt.plot(x, np.mean(loading.to_numpy()[clusters_ac == 4], axis = 0), color=cmap.colors[4])\n",
    "for t in time_tick:\n",
    "    plt.axvline(t+8, color='black', linestyle='--')  # Lignes verticales en pointillés noirs\n",
    "    plt.axvline(t+18, color='green', linestyle='--')  # Lignes verticales en pointillés verts\n",
    "plt.xlabel(\"Heures de la semaine\")\n",
    "plt.ylabel(\"Valeur mesurée\")\n",
    "plt.title(\"Cluster 4\")\n",
    "\n",
    "plt.subplot(2,3,6)\n",
    "plt.plot(x, np.mean(loading.to_numpy()[clusters_ac == 5], axis = 0), color=cmap.colors[5])\n",
    "for t in time_tick:\n",
    "    plt.axvline(t+8, color='black', linestyle='--')  # Lignes verticales en pointillés noirs\n",
    "    plt.axvline(t+23, color='deeppink', linestyle='--')  # Lignes verticales en pointillés roses\n",
    "plt.xlabel(\"Heures de la semaine\")\n",
    "plt.ylabel(\"Valeur mesurée\")\n",
    "plt.title(\"Cluster 5\")\n",
    "\n",
    "plt.show()"
   ]
  },
  {
   "cell_type": "code",
   "execution_count": null,
   "id": "h-75cRn_6R3j",
   "metadata": {
    "id": "h-75cRn_6R3j"
   },
   "outputs": [],
   "source": [
    "plt.figure(figsize=(20, 6))\n",
    "\n",
    "plt.subplot(1,3,1)\n",
    "im = plt.scatter(coord.longitude, coord.latitude, c=clusters_ac, cmap=cmap, s= 15)\n",
    "plt.title('Stations loading - 6 Clusters - Méthode CAH', fontsize=15)\n",
    "plt.colorbar(im)\n",
    "plt.xlabel('Longitude', fontsize=10)\n",
    "plt.ylabel('Latitude', fontsize=10)\n",
    "plt.tick_params(axis='x', labelsize=10)\n",
    "plt.tick_params(axis='y', labelsize=10)\n",
    "plt.tight_layout()\n",
    "\n",
    "plt.subplot(1,3,2)\n",
    "couleurs = {1: 'blue', 0: 'yellow'}\n",
    "sctrplt = plt.scatter(coord['longitude'], coord['latitude'], c=coord['localisation'].map(couleurs))\n",
    "plt.xlabel('Longitude', fontsize=10)\n",
    "plt.ylabel('Latitude', fontsize=10)\n",
    "plt.title('Stations proches ou non de la Seine', fontsize=15)\n",
    "legend_elements = [Line2D([0], [0], marker='o', color='w', markerfacecolor=color, markersize=10, label=label) for label, color in couleurs.items()]\n",
    "plt.legend(handles=legend_elements, labels=[\"Seine\", \"Autre\"], fontsize=10)\n",
    "\n",
    "plt.subplot(1,3,3)\n",
    "couleurs = {1: 'red', 0: 'lightgreen'}\n",
    "sctrplt = plt.scatter(coord['longitude'], coord['latitude'], c=coord['bonus'].map(couleurs))\n",
    "plt.xlabel('Longitude', fontsize=10)\n",
    "plt.ylabel('Latitude', fontsize=10)\n",
    "plt.title('Altitude des stations', fontsize=15)\n",
    "legend_elements = [Line2D([0], [0], marker='o', color='w', markerfacecolor=color, markersize=10, label=label) for label, color in couleurs.items()]\n",
    "plt.legend(handles=legend_elements, labels=[\"Colline\", \"Vallée\"], fontsize=10)\n",
    "plt.show()"
   ]
  },
  {
   "cell_type": "markdown",
   "id": "8DuOqVDG9D89",
   "metadata": {
    "id": "8DuOqVDG9D89"
   },
   "source": [
    "<B> Cluster 0 : </B> Stations dont la densité de Vélib' diminue pendant les heures d'activités tout en restant relativement élevée, ce qui correspond aux zones de transition (sorties de métro, gares...) et aux courts déplacements en centre-ville.\n",
    "\n",
    "<B> Cluster 1 : </B> Stations remplies pendant les heures d'activités et très peu remplies le weekend. Correspond aux lieux de travail.\n",
    "\n",
    "<B> Cluster 2 : </B> Stations globalement peu remplies, comprend notamment les zones \"difficiles\" d'accès (en haut des côtes), ainsi que quelques zones résidentielles.\n",
    "\n",
    "<B> Cluster 3 : </B> Stations vides sur les heures d'activités avec une augmentation générale de la densité de Vélib' du lundi au samedi.\n",
    "\n",
    "<B> Cluster 4 : </B> Stations vides sur les heures d'activités et peu remplies le weekend, ce qui correspond d'après nos suppositions aux quartiers résidentiels avec potentiellement quelques utilisateurs qui travaillent aussi le weekend.\n",
    "\n",
    "<B> Cluster 5 : </B> Stations qui se remplissent beaucoup entre 8h et 23h et se vident \"la nuit\" : utilisateurs qui finissent leur service très tard notamment, ce qui est cohérent puisque la zone est en centre-ville, au bord de Seine donc dans la zone dite \"d'activités\". A nouveau on a bien là un cluster \"atypique\" avec un faible nombre d'individus."
   ]
  },
  {
   "cell_type": "markdown",
   "id": "6bz4ZB86j1Ge",
   "metadata": {
    "id": "6bz4ZB86j1Ge"
   },
   "source": [
    "<B> Comparaison avec $k$-means : </B> Ainsi, si on compare au cas à 6 clusters de la méthode $k$-means, les clusters 0, 1 et 2 ont des caractéristiques similaires à celles identifiées chez certains clusters de la méthode $k$-means. Le cluster 4 est lui caractéristique de zones résidentielles, tout comme l'était le cluster 2 de la méthode $k$-means. On a donc bien des similarités dans les attributs associés à chaque cluster entre les méthodes.\n",
    "\n",
    "Il existe toutefois des différences entre les deux, en témoignent les clusters 4 et 5 de la méthode CAH qu'on ne retrouve pas du tout chez $k$-means."
   ]
  },
  {
   "cell_type": "code",
   "execution_count": null,
   "id": "-kzgVm7K7gR-",
   "metadata": {
    "id": "-kzgVm7K7gR-"
   },
   "outputs": [],
   "source": [
    "plt.figure(figsize=(8, 6))\n",
    "crosstable = pd.crosstab(clusters_ac,coord['bonus'])\n",
    "sp.mosaic(crosstable.stack(),title='Mosaicplot clusters-altitude', labelizer=no_label)\n",
    "plt.show()"
   ]
  },
  {
   "cell_type": "code",
   "execution_count": null,
   "id": "pIMUNebK8ktL",
   "metadata": {
    "id": "pIMUNebK8ktL"
   },
   "outputs": [],
   "source": [
    "plt.figure(figsize=(8, 6))\n",
    "crosstable = pd.crosstab(clusters_ac,coord['localisation'])\n",
    "sp.mosaic(crosstable.stack(),title='Mosaicplot clusters-Seine', labelizer=no_label)\n",
    "plt.show()"
   ]
  },
  {
   "cell_type": "markdown",
   "id": "tc66SurIR2jd",
   "metadata": {
    "id": "tc66SurIR2jd"
   },
   "source": [
    "#### Avec 4 clusters"
   ]
  },
  {
   "cell_type": "code",
   "execution_count": null,
   "id": "XwBXUVGeR2jf",
   "metadata": {
    "id": "XwBXUVGeR2jf"
   },
   "outputs": [],
   "source": [
    "Z4_CAH = linkage(squareform(pdist(loading_reduced)),method='complete',metric='euclidean')\n",
    "plt.title(\"CAH\")\n",
    "\n",
    "dendrogram(Z4_CAH,orientation='top',show_leaf_counts=False, no_labels=True, color_threshold=390)\n",
    "plt.show()"
   ]
  },
  {
   "cell_type": "code",
   "execution_count": null,
   "id": "15l72FrdR2jg",
   "metadata": {
    "id": "15l72FrdR2jg"
   },
   "outputs": [],
   "source": [
    "plt.figure(figsize=(20,6))\n",
    "\n",
    "plt.subplot(1,3,1)\n",
    "plt.scatter(loading_reduced[:,0], loading_reduced[:,1], c=clusters_ac4, s=4, linewidths=1, cmap=cmap4)\n",
    "plt.title(\"Graphe des individus - ACP\")\n",
    "plt.xlabel('Composante Principale 1')\n",
    "plt.ylabel('Composante Principale 2')\n",
    "\n",
    "plt.subplot(1,3,2)\n",
    "im = plt.scatter(coord.longitude, coord.latitude, c=clusters_ac4, cmap=cmap4, s= 15)\n",
    "plt.title('Stations loading - 4 Clusters - Méthode CAH', fontsize=15)\n",
    "plt.colorbar(im)\n",
    "plt.xlabel('Longitude', fontsize=10)\n",
    "plt.ylabel('Latitude', fontsize=10)\n",
    "plt.tick_params(axis='x', labelsize=10)\n",
    "plt.tick_params(axis='y', labelsize=10)\n",
    "\n",
    "plt.subplot(1,3,3)\n",
    "x = np.arange(0, 168)\n",
    "for i in range(K3):\n",
    "    plt.plot(x, np.mean(loading.to_numpy()[clusters_ac4 == i], axis = 0), color=cmap4.colors[i])\n",
    "plt.xlabel(\"Heures de la semaine\")\n",
    "plt.ylabel(\"Valeur mesurée\")\n",
    "plt.title(\"Valeur mesurée pour 4 clusters - CAH\")\n",
    "\n",
    "plt.show()"
   ]
  },
  {
   "cell_type": "code",
   "execution_count": null,
   "id": "TrPNyH-BR2ji",
   "metadata": {
    "id": "TrPNyH-BR2ji"
   },
   "outputs": [],
   "source": [
    "plt.figure(figsize=(15, 10))\n",
    "\n",
    "plt.subplot(2,2,1)\n",
    "plt.plot(x, np.mean(loading.to_numpy()[clusters_ac4 == 0], axis = 0), color=cmap4.colors[0])\n",
    "for t in time_tick:\n",
    "    plt.axvline(t+8, color='black', linestyle='--')  # Lignes verticales en pointillés noirs\n",
    "    plt.axvline(t+18, color='green', linestyle='--')  # Lignes verticales en pointillés verts\n",
    "plt.xlabel(\"Heures de la semaine\")\n",
    "plt.ylabel(\"Valeur mesurée\")\n",
    "plt.title(\"Cluster 0\")\n",
    "\n",
    "plt.subplot(2,2,2)\n",
    "plt.plot(x, np.mean(loading.to_numpy()[clusters_ac4 == 1], axis = 0), color=cmap4.colors[1])\n",
    "for t in time_tick:\n",
    "    plt.axvline(t+8, color='black', linestyle='--')  # Lignes verticales en pointillés noirs\n",
    "    plt.axvline(t+18, color='green', linestyle='--')  # Lignes verticales en pointillés verts\n",
    "plt.xlabel(\"Heures de la semaine\")\n",
    "plt.ylabel(\"Valeur mesurée\")\n",
    "plt.title(\"Cluster 1\")\n",
    "\n",
    "plt.subplot(2,2,3)\n",
    "plt.plot(x, np.mean(loading.to_numpy()[clusters_ac4 == 2], axis = 0), color=cmap4.colors[2])\n",
    "for t in time_tick:\n",
    "    plt.axvline(t+8, color='black', linestyle='--')  # Lignes verticales en pointillés noirs\n",
    "plt.xlabel(\"Heures de la semaine\")\n",
    "plt.ylabel(\"Valeur mesurée\")\n",
    "plt.title(\"Cluster 2\")\n",
    "\n",
    "plt.subplot(2,2,4)\n",
    "plt.plot(x, np.mean(loading.to_numpy()[clusters_ac4 == 3], axis = 0), color=cmap4.colors[3])\n",
    "for t in time_tick:\n",
    "    plt.axvline(t+8, color='black', linestyle='--')  # Lignes verticales en pointillés noirs\n",
    "    plt.axvline(t+18, color='green', linestyle='--')  # Lignes verticales en pointillés verts\n",
    "plt.xlabel(\"Heures de la semaine\")\n",
    "plt.ylabel(\"Valeur mesurée\")\n",
    "plt.title(\"Cluster 3\")\n",
    "\n",
    "\n",
    "plt.show()"
   ]
  },
  {
   "cell_type": "code",
   "execution_count": null,
   "id": "nglBmg1AR2ji",
   "metadata": {
    "id": "nglBmg1AR2ji"
   },
   "outputs": [],
   "source": [
    "plt.figure(figsize=(20, 6))\n",
    "\n",
    "plt.subplot(1,3,1)\n",
    "im = plt.scatter(coord.longitude, coord.latitude, c=clusters_ac4, cmap=cmap4, s= 15)\n",
    "plt.title('Stations loading - 4 Clusters - Méthode CAH', fontsize=15)\n",
    "plt.colorbar(im)\n",
    "plt.xlabel('Longitude', fontsize=10)\n",
    "plt.ylabel('Latitude', fontsize=10)\n",
    "plt.tick_params(axis='x', labelsize=10)\n",
    "plt.tick_params(axis='y', labelsize=10)\n",
    "plt.tight_layout()\n",
    "\n",
    "plt.subplot(1,3,2)\n",
    "couleurs = {1: 'blue', 0: 'yellow'}\n",
    "sctrplt = plt.scatter(coord['longitude'], coord['latitude'], c=coord['localisation'].map(couleurs))\n",
    "plt.xlabel('Longitude', fontsize=10)\n",
    "plt.ylabel('Latitude', fontsize=10)\n",
    "plt.title('Stations proches ou non de la Seine', fontsize=15)\n",
    "legend_elements = [Line2D([0], [0], marker='o', color='w', markerfacecolor=color, markersize=10, label=label) for label, color in couleurs.items()]\n",
    "plt.legend(handles=legend_elements, labels=[\"Seine\", \"Autre\"], fontsize=10)\n",
    "\n",
    "plt.subplot(1,3,3)\n",
    "couleurs = {1: 'red', 0: 'lightgreen'}\n",
    "sctrplt = plt.scatter(coord['longitude'], coord['latitude'], c=coord['bonus'].map(couleurs))\n",
    "plt.xlabel('Longitude', fontsize=10)\n",
    "plt.ylabel('Latitude', fontsize=10)\n",
    "plt.title('Altitude des stations', fontsize=15)\n",
    "legend_elements = [Line2D([0], [0], marker='o', color='w', markerfacecolor=color, markersize=10, label=label) for label, color in couleurs.items()]\n",
    "plt.legend(handles=legend_elements, labels=[\"Colline\", \"Vallée\"], fontsize=10)\n",
    "plt.show()"
   ]
  },
  {
   "cell_type": "markdown",
   "id": "0XdJRug5R2jk",
   "metadata": {
    "id": "0XdJRug5R2jk"
   },
   "source": [
    "On retrouve les mêmes 4 clusters qu'avec la méthode $k$-means, dans un ordre différent.  "
   ]
  },
  {
   "cell_type": "code",
   "execution_count": null,
   "id": "923fjcYQR2jm",
   "metadata": {
    "id": "923fjcYQR2jm"
   },
   "outputs": [],
   "source": [
    "plt.figure(figsize=(8, 6))\n",
    "crosstable = pd.crosstab(clusters_ac4,coord['bonus'])\n",
    "sp.mosaic(crosstable.stack(),title='Mosaicplot clusters-altitude', labelizer=no_label)\n",
    "plt.show()"
   ]
  },
  {
   "cell_type": "code",
   "execution_count": null,
   "id": "NgjkfnudR2jn",
   "metadata": {
    "id": "NgjkfnudR2jn"
   },
   "outputs": [],
   "source": [
    "plt.figure(figsize=(8, 6))\n",
    "crosstable = pd.crosstab(clusters_ac4,coord['localisation'])\n",
    "sp.mosaic(crosstable.stack(),title='Mosaicplot clusters-Seine', labelizer=no_label)\n",
    "plt.show()"
   ]
  },
  {
   "cell_type": "markdown",
   "id": "YJ-USJR658_N",
   "metadata": {
    "id": "YJ-USJR658_N"
   },
   "source": [
    "#### Avec 3 clusters"
   ]
  },
  {
   "cell_type": "code",
   "execution_count": null,
   "id": "mud2JkMGSgYp",
   "metadata": {
    "id": "mud2JkMGSgYp"
   },
   "outputs": [],
   "source": [
    "Z3_CAH = linkage(squareform(pdist(loading_reduced)),method='complete',metric='euclidean')\n",
    "plt.title(\"CAH\")\n",
    "\n",
    "dendrogram(Z3_CAH,orientation='top',show_leaf_counts=False, no_labels=True, color_threshold=400)\n",
    "plt.show()"
   ]
  },
  {
   "cell_type": "code",
   "execution_count": null,
   "id": "HBWY5zNr5V6c",
   "metadata": {
    "id": "HBWY5zNr5V6c"
   },
   "outputs": [],
   "source": [
    "plt.figure(figsize=(20,6))\n",
    "\n",
    "plt.subplot(1,3,1)\n",
    "plt.scatter(loading_reduced[:,0], loading_reduced[:,1], c=clusters_ac3, s=4, linewidths=1, cmap=cmap3)\n",
    "plt.title(\"Graphe des individus - ACP\")\n",
    "plt.xlabel('Composante Principale 1')\n",
    "plt.ylabel('Composante Principale 2')\n",
    "\n",
    "plt.subplot(1,3,2)\n",
    "im = plt.scatter(coord.longitude, coord.latitude, c=clusters_ac3, cmap=cmap3, s= 15)\n",
    "plt.title('Stations loading - 3 Clusters - Méthode CAH', fontsize=15)\n",
    "plt.colorbar(im)\n",
    "plt.xlabel('Longitude', fontsize=10)\n",
    "plt.ylabel('Latitude', fontsize=10)\n",
    "plt.tick_params(axis='x', labelsize=10)\n",
    "plt.tick_params(axis='y', labelsize=10)\n",
    "\n",
    "plt.subplot(1,3,3)\n",
    "x = np.arange(0, 168)\n",
    "for i in range(K3):\n",
    "    plt.plot(x, np.mean(loading.to_numpy()[clusters_ac3 == i], axis = 0), color=cmap3.colors[i])\n",
    "plt.xlabel(\"Heures de la semaine\")\n",
    "plt.ylabel(\"Valeur mesurée\")\n",
    "plt.title(\"Valeur mesurée pour 3 clusters - CAH\")\n",
    "\n",
    "plt.show()"
   ]
  },
  {
   "cell_type": "code",
   "execution_count": null,
   "id": "MQWOoWeR7J6s",
   "metadata": {
    "id": "MQWOoWeR7J6s"
   },
   "outputs": [],
   "source": [
    "plt.figure(figsize=(20, 5))\n",
    "\n",
    "plt.subplot(1,3,1)\n",
    "plt.plot(x, np.mean(loading.to_numpy()[clusters_ac3 == 0], axis = 0), color=cmap3.colors[0])\n",
    "for t in time_tick:\n",
    "    plt.axvline(t+8, color='black', linestyle='--')  # Lignes verticales en pointillés noirs\n",
    "    plt.axvline(t+18, color='green', linestyle='--')  # Lignes verticales en pointillés verts\n",
    "plt.xlabel(\"Heures de la semaine\")\n",
    "plt.ylabel(\"Valeur mesurée\")\n",
    "plt.title(\"Cluster 0\")\n",
    "\n",
    "plt.subplot(1,3,2)\n",
    "plt.plot(x, np.mean(loading.to_numpy()[clusters_ac3 == 1], axis = 0), color=cmap3.colors[1])\n",
    "for t in time_tick:\n",
    "    plt.axvline(t+8, color='black', linestyle='--')  # Lignes verticales en pointillés noirs\n",
    "    plt.axvline(t+18, color='green', linestyle='--')  # Lignes verticales en pointillés verts\n",
    "plt.xlabel(\"Heures de la semaine\")\n",
    "plt.ylabel(\"Valeur mesurée\")\n",
    "plt.title(\"Cluster 1\")\n",
    "\n",
    "plt.subplot(1,3,3)\n",
    "plt.plot(x, np.mean(loading.to_numpy()[clusters_ac3 == 2], axis = 0), color=cmap3.colors[2])\n",
    "for t in time_tick:\n",
    "    plt.axvline(t+8, color='black', linestyle='--')  # Lignes verticales en pointillés noirs\n",
    "    plt.axvline(t+18, color='green', linestyle='--')  # Lignes verticales en pointillés verts\n",
    "plt.xlabel(\"Heures de la semaine\")\n",
    "plt.ylabel(\"Valeur mesurée\")\n",
    "plt.title(\"Cluster 2\")\n",
    "\n",
    "plt.show()"
   ]
  },
  {
   "cell_type": "code",
   "execution_count": null,
   "id": "rPJdcZ-X6rZf",
   "metadata": {
    "id": "rPJdcZ-X6rZf"
   },
   "outputs": [],
   "source": [
    "plt.figure(figsize=(20, 6))\n",
    "\n",
    "plt.subplot(1,3,1)\n",
    "im = plt.scatter(coord.longitude, coord.latitude, c=clusters_ac3, cmap=cmap3, s= 15)\n",
    "plt.title('Stations loading - 3 Clusters - Méthode CAH', fontsize=15)\n",
    "plt.colorbar(im)\n",
    "plt.xlabel('Longitude', fontsize=10)\n",
    "plt.ylabel('Latitude', fontsize=10)\n",
    "plt.tick_params(axis='x', labelsize=10)\n",
    "plt.tick_params(axis='y', labelsize=10)\n",
    "plt.tight_layout()\n",
    "\n",
    "plt.subplot(1,3,2)\n",
    "couleurs = {1: 'blue', 0: 'yellow'}\n",
    "sctrplt = plt.scatter(coord['longitude'], coord['latitude'], c=coord['localisation'].map(couleurs))\n",
    "plt.xlabel('Longitude', fontsize=10)\n",
    "plt.ylabel('Latitude', fontsize=10)\n",
    "plt.title('Stations proches ou non de la Seine', fontsize=15)\n",
    "legend_elements = [Line2D([0], [0], marker='o', color='w', markerfacecolor=color, markersize=10, label=label) for label, color in couleurs.items()]\n",
    "plt.legend(handles=legend_elements, labels=[\"Seine\", \"Autre\"], fontsize=10)\n",
    "\n",
    "plt.subplot(1,3,3)\n",
    "couleurs = {1: 'red', 0: 'lightgreen'}\n",
    "sctrplt = plt.scatter(coord['longitude'], coord['latitude'], c=coord['bonus'].map(couleurs))\n",
    "plt.xlabel('Longitude', fontsize=10)\n",
    "plt.ylabel('Latitude', fontsize=10)\n",
    "plt.title('Altitude des stations', fontsize=15)\n",
    "legend_elements = [Line2D([0], [0], marker='o', color='w', markerfacecolor=color, markersize=10, label=label) for label, color in couleurs.items()]\n",
    "plt.legend(handles=legend_elements, labels=[\"Colline\", \"Vallée\"], fontsize=10)\n",
    "plt.show()"
   ]
  },
  {
   "cell_type": "markdown",
   "id": "mTRQZjH5ARnT",
   "metadata": {
    "id": "mTRQZjH5ARnT"
   },
   "source": [
    "<B> Cluster 0 : </B> Comprend le cluster 0 vu avec le cas de 6 clusters : Stations dont la densité de Vélib' diminue pendant les heures d'activités tout en restant relativement élevée. Correspond aux zones de transition (sorties de métro, gares...) et aux courts déplacements en centre-ville, ainsi que quelques quartiers résidentiels puisqu'on constate une baisse sur les horaires d'activités. Cette zone est donc relativement hétérogène comme annoncé plus tôt.\n",
    "\n",
    "<B> Cluster 1 : </B> Stations remplies pendant les heures d'activités et très peu remplies le weekend. Correspond aux lieux de travail.\n",
    "\n",
    "<B> Cluster 2 : </B> Stations globalement vides sur la semaine, surtout le weekend. Comprend notamment les zones difficles d'accès, en haut des collines si on compare avec la carte d'altitude et avec le graphe en mosaïques qui suit. On a également quelques quartiers résidentiels, d'où la baisse de densité sur les heures d'activités (même si leur amplitude reste relativement faible)."
   ]
  },
  {
   "cell_type": "markdown",
   "id": "HYyr2kN8nit0",
   "metadata": {
    "id": "HYyr2kN8nit0"
   },
   "source": [
    "<B> Comparaison avec le cas à 3 clusters de $k$-means : </B> Même si les caractéristiques globales relevées pour les trois clusters se ressemblent entre les deux méthodes, dans $k$-means le cluster 0 était beaucoup plus groupé autour de la Seine et incluait moins de quartiers résidentiels que ce qu'on obtient ici avec la méthode CAH (la plupart étaient dans le cluster 3). Ici, avec CAH, les quartiers résidentiels sont très répartis entre les clusters 0 et 3. La méthode $k$-means semblait donc effectuer un découpage plus \"intuitif\" de la carte de la ville."
   ]
  },
  {
   "cell_type": "code",
   "execution_count": null,
   "id": "th3hcKBz7nk6",
   "metadata": {
    "id": "th3hcKBz7nk6"
   },
   "outputs": [],
   "source": [
    "plt.figure(figsize=(8, 6))\n",
    "crosstable = pd.crosstab(clusters_ac3,coord['bonus'])\n",
    "sp.mosaic(crosstable.stack(),title='Mosaicplot clusters-altitude', labelizer=no_label)\n",
    "plt.show()"
   ]
  },
  {
   "cell_type": "code",
   "execution_count": null,
   "id": "e7SRBcFH8xhM",
   "metadata": {
    "id": "e7SRBcFH8xhM"
   },
   "outputs": [],
   "source": [
    "plt.figure(figsize=(8, 6))\n",
    "crosstable = pd.crosstab(clusters_ac3,coord['localisation'])\n",
    "sp.mosaic(crosstable.stack(),title='Mosaicplot clusters-Seine', labelizer=no_label)\n",
    "plt.show()"
   ]
  },
  {
   "cell_type": "markdown",
   "id": "eXW1WJWRp-2j",
   "metadata": {
    "id": "eXW1WJWRp-2j"
   },
   "source": [
    "### Clustering avec les Modèles Mixtes Gaussiens (GMM)"
   ]
  },
  {
   "cell_type": "code",
   "execution_count": null,
   "id": "mtgptCoAw1II",
   "metadata": {
    "id": "mtgptCoAw1II"
   },
   "outputs": [],
   "source": [
    "k_max = 15\n",
    "\n",
    "silhouette = np.zeros(k_max-2)\n",
    "for k in range(2, k_max):\n",
    "    gmm = GaussianMixture(n_components=k, init_params='kmeans', n_init=3)\n",
    "    clusters_gmm = gmm.fit_predict(loading_reduced)\n",
    "    silhouette[k-2] = silhouette_score(loading_reduced, clusters_gmm, metric='euclidean')\n",
    "\n",
    "plt.scatter(range(2, k_max), silhouette)\n",
    "plt.show()"
   ]
  },
  {
   "cell_type": "code",
   "execution_count": null,
   "id": "jw7czJ1PxOZ4",
   "metadata": {
    "id": "jw7czJ1PxOZ4"
   },
   "outputs": [],
   "source": [
    "k_max = 15\n",
    "\n",
    "bic = []\n",
    "for k in range(2, k_max):\n",
    "    gmm = GaussianMixture(n_components=k, init_params='kmeans', n_init=3)\n",
    "    gmm.fit(loading_reduced)\n",
    "    bic.append(gmm.bic(loading_reduced))\n",
    "bic = np.array(bic)\n",
    "\n",
    "plt.scatter(range(2, k_max), bic)\n",
    "plt.show()"
   ]
  },
  {
   "cell_type": "markdown",
   "id": "GEOTEgbA4iCT",
   "metadata": {
    "id": "GEOTEgbA4iCT"
   },
   "source": [
    "Pour le clustering GMM, la méthode du coude n'est pas applicable, nous avons donc essayé de déterminer le nombre de clusters optimal avec les méthodes score silhouette et critère bic. Ces méthodes nous ont donné respectivement les résultats de 3 et 2 clusters.\n",
    "\n",
    "Nous allons donc étudier le cas de 3 clusters et le comparer avec la méthode $k$-means vue précdémment, après avoir étudié le cas de 6 clusters avec cette méthode étant donné que c'est le cas qui nous a paru le plus intéressant précédemment."
   ]
  },
  {
   "cell_type": "code",
   "execution_count": null,
   "id": "YwGYlNcNpD8A",
   "metadata": {
    "id": "YwGYlNcNpD8A"
   },
   "outputs": [],
   "source": [
    "plt.figure(figsize=(20, 6))\n",
    "\n",
    "plt.subplot(1,3,1)\n",
    "gmm = GaussianMixture(n_components=K, n_init=3)\n",
    "clusters_gmm = gmm.fit_predict(loading_reduced)\n",
    "plt.bar(*np.unique(clusters_gmm, return_counts=True), color=cmap.colors) # représente les clusters sous forme de barplot + compte le nombre d'occurences de toutes les classes\n",
    "plt.ylabel(\"Occurences\")\n",
    "plt.title('Répartition des stations pour 6 clusters')\n",
    "\n",
    "plt.subplot(1,3,2)\n",
    "gmm4 = GaussianMixture(n_components=K4, n_init=3)\n",
    "clusters_gmm4 = gmm4.fit_predict(loading_reduced)\n",
    "plt.bar(*np.unique(clusters_gmm4, return_counts=True), color=cmap4.colors)\n",
    "plt.ylabel(\"Occurences\")\n",
    "plt.title('Répartition des stations pour 4 clusters')\n",
    "\n",
    "plt.subplot(1,3,3)\n",
    "gmm3 = GaussianMixture(n_components=K3, n_init=3)\n",
    "clusters_gmm3 = gmm3.fit_predict(loading_reduced)\n",
    "plt.bar(*np.unique(clusters_gmm3, return_counts=True), color=cmap3.colors)\n",
    "plt.ylabel(\"Occurences\")\n",
    "plt.title('Répartition des stations pour 3 clusters')\n",
    "\n",
    "\n",
    "plt.show()"
   ]
  },
  {
   "cell_type": "markdown",
   "id": "TUup9dSBV-L7",
   "metadata": {
    "id": "TUup9dSBV-L7"
   },
   "source": [
    "Cette fois-ci pour le cas à 6 clusters, les classes 2 et 3 ont des effectifs beaucoup plus élevés et se distinguent des autres. Les classes 0, 1, 4 et 5 sont elles d'effectifs assez homogènes (il n'y a a priori plus de classe \"atypique\" comme on avait pour les méthodes précédentes).\n",
    "\n",
    "En revanche avec 3 clusters, on a toujours une classe de très grand effectif (ici la classe 0), que l'on peut s'attendre à être très hétérogène."
   ]
  },
  {
   "cell_type": "markdown",
   "id": "1rFcNLj27gkK",
   "metadata": {
    "id": "1rFcNLj27gkK"
   },
   "source": [
    "#### Avec 6 clusters"
   ]
  },
  {
   "cell_type": "code",
   "execution_count": null,
   "id": "BA-Usr3Tp8PS",
   "metadata": {
    "id": "BA-Usr3Tp8PS"
   },
   "outputs": [],
   "source": [
    "plt.figure(figsize=(20,6))\n",
    "\n",
    "plt.subplot(1,3,1)\n",
    "plt.scatter(loading_reduced[:,0], loading_reduced[:,1], c=clusters_gmm, s=4, linewidths=1, cmap=cmap)\n",
    "plt.title(\"Graphe des individus - ACP\")\n",
    "plt.xlabel('Composante Principale 1')\n",
    "plt.ylabel('Composante Principale 2')\n",
    "plt.grid(True)\n",
    "\n",
    "plt.subplot(1,3,2)\n",
    "im = plt.scatter(coord.longitude, coord.latitude, c=clusters_gmm, cmap=cmap, s=10)\n",
    "plt.title('Stations loading - 6 Clusters - Méthode GMM', fontsize=15)\n",
    "plt.colorbar(im)\n",
    "plt.xlabel('Longitude', fontsize=10)\n",
    "plt.ylabel('Latitude', fontsize=10)\n",
    "plt.tick_params(axis='x', labelsize=10)\n",
    "plt.tick_params(axis='y', labelsize=10)\n",
    "plt.grid(False)\n",
    "\n",
    "plt.subplot(1,3,3)\n",
    "x = np.arange(0, 168)\n",
    "for i in range(K):\n",
    "    plt.plot(x, np.mean(loading.to_numpy()[clusters_gmm == i], axis = 0), color=cmap.colors[i])\n",
    "plt.xlabel(\"Heures de la semaine\")\n",
    "plt.ylabel(\"Valeur mesurée\")\n",
    "plt.title(\"Valeur mesurée pour 6 clusters - GMM\")\n",
    "\n",
    "plt.tight_layout()\n",
    "plt.show()"
   ]
  },
  {
   "cell_type": "code",
   "execution_count": null,
   "id": "kYcxURSb7NvH",
   "metadata": {
    "id": "kYcxURSb7NvH"
   },
   "outputs": [],
   "source": [
    "plt.figure(figsize=(20, 10))\n",
    "\n",
    "plt.subplot(2,3,1)\n",
    "plt.plot(x, np.mean(loading.to_numpy()[clusters_gmm == 0], axis = 0), color=cmap.colors[0])\n",
    "for t in time_tick:\n",
    "    plt.axvline(t+8, color='black', linestyle='--')  # Lignes verticales en pointillés noirs\n",
    "    plt.axvline(t+18, color='green', linestyle='--')  # Lignes verticales en pointillés verts\n",
    "plt.xlabel(\"Heures de la semaine\")\n",
    "plt.ylabel(\"Valeur mesurée\")\n",
    "plt.title(\"Cluster 0\")\n",
    "\n",
    "plt.subplot(2,3,2)\n",
    "plt.plot(x, np.mean(loading.to_numpy()[clusters_gmm == 1], axis = 0), color=cmap.colors[1])\n",
    "for t in time_tick:\n",
    "    plt.axvline(t+8, color='black', linestyle='--')  # Lignes verticales en pointillés noirs\n",
    "    plt.axvline(t+18, color='green', linestyle='--')  # Lignes verticales en pointillés verts\n",
    "plt.xlabel(\"Heures de la semaine\")\n",
    "plt.ylabel(\"Valeur mesurée\")\n",
    "plt.title(\"Cluster 1\")\n",
    "\n",
    "plt.subplot(2,3,3)\n",
    "plt.plot(x, np.mean(loading.to_numpy()[clusters_gmm == 2], axis = 0), color=cmap.colors[2])\n",
    "for t in time_tick:\n",
    "    plt.axvline(t+8, color='black', linestyle='--')  # Lignes verticales en pointillés noirs\n",
    "    plt.axvline(t+18, color='green', linestyle='--')  # Lignes verticales en pointillés verts\n",
    "plt.xlabel(\"Heures de la semaine\")\n",
    "plt.ylabel(\"Valeur mesurée\")\n",
    "plt.title(\"Cluster 2\")\n",
    "\n",
    "plt.subplot(2,3,4)\n",
    "plt.plot(x, np.mean(loading.to_numpy()[clusters_gmm == 3], axis = 0), color=cmap.colors[3])\n",
    "for t in time_tick:\n",
    "    plt.axvline(t+8, color='black', linestyle='--')  # Lignes verticales en pointillés noirs\n",
    "    plt.axvline(t+18, color='green', linestyle='--')  # Lignes verticales en pointillés verts\n",
    "plt.xlabel(\"Heures de la semaine\")\n",
    "plt.ylabel(\"Valeur mesurée\")\n",
    "plt.title(\"Cluster 3\")\n",
    "\n",
    "plt.subplot(2,3,5)\n",
    "plt.plot(x, np.mean(loading.to_numpy()[clusters_gmm == 4], axis = 0), color=cmap.colors[4])\n",
    "for t in time_tick:\n",
    "    plt.axvline(t+8, color='black', linestyle='--')  # Lignes verticales en pointillés noirs\n",
    "    plt.axvline(t+18, color='green', linestyle='--')  # Lignes verticales en pointillés roses\n",
    "plt.xlabel(\"Heures de la semaine\")\n",
    "plt.ylabel(\"Valeur mesurée\")\n",
    "plt.title(\"Cluster 4\")\n",
    "\n",
    "plt.subplot(2,3,6)\n",
    "plt.plot(x, np.mean(loading.to_numpy()[clusters_gmm == 5], axis = 0), color=cmap.colors[5])\n",
    "for t in time_tick:\n",
    "    plt.axvline(t+8, color='black', linestyle='--')  # Lignes verticales en pointillés noirs\n",
    "    plt.axvline(t+18, color='green', linestyle='--')  # Lignes verticales en pointillés verts\n",
    "plt.xlabel(\"Heures de la semaine\")\n",
    "plt.ylabel(\"Valeur mesurée\")\n",
    "plt.title(\"Cluster 5\")\n",
    "\n",
    "plt.show()"
   ]
  },
  {
   "cell_type": "code",
   "execution_count": null,
   "id": "DktcbwQ97CJi",
   "metadata": {
    "id": "DktcbwQ97CJi"
   },
   "outputs": [],
   "source": [
    "plt.figure(figsize=(20, 6))\n",
    "\n",
    "plt.subplot(1,3,1)\n",
    "im = plt.scatter(coord.longitude, coord.latitude, c=clusters_gmm, cmap=cmap, s= 15)\n",
    "plt.title('Stations loading - 6 Clusters - Méthode GMM', fontsize=15)\n",
    "plt.colorbar(im)\n",
    "plt.xlabel('Longitude', fontsize=10)\n",
    "plt.ylabel('Latitude', fontsize=10)\n",
    "plt.tick_params(axis='x', labelsize=10)\n",
    "plt.tick_params(axis='y', labelsize=10)\n",
    "plt.tight_layout()\n",
    "\n",
    "plt.subplot(1,3,2)\n",
    "couleurs = {1: 'blue', 0: 'yellow'}\n",
    "sctrplt = plt.scatter(coord['longitude'], coord['latitude'], c=coord['localisation'].map(couleurs))\n",
    "plt.xlabel('Longitude', fontsize=10)\n",
    "plt.ylabel('Latitude', fontsize=10)\n",
    "plt.title('Stations proches ou non de la Seine', fontsize=15)\n",
    "legend_elements = [Line2D([0], [0], marker='o', color='w', markerfacecolor=color, markersize=10, label=label) for label, color in couleurs.items()]\n",
    "plt.legend(handles=legend_elements, labels=[\"Seine\", \"Autre\"], fontsize=10)\n",
    "\n",
    "plt.subplot(1,3,3)\n",
    "couleurs = {1: 'red', 0: 'lightgreen'}\n",
    "sctrplt = plt.scatter(coord['longitude'], coord['latitude'], c=coord['bonus'].map(couleurs))\n",
    "plt.xlabel('Longitude', fontsize=10)\n",
    "plt.ylabel('Latitude', fontsize=10)\n",
    "plt.title('Altitude des stations', fontsize=15)\n",
    "legend_elements = [Line2D([0], [0], marker='o', color='w', markerfacecolor=color, markersize=10, label=label) for label, color in couleurs.items()]\n",
    "plt.legend(handles=legend_elements, labels=[\"Colline\", \"Vallée\"], fontsize=10)\n",
    "plt.show()"
   ]
  },
  {
   "cell_type": "markdown",
   "id": "b-w9VAwnCXH9",
   "metadata": {
    "id": "b-w9VAwnCXH9"
   },
   "source": [
    "<B> Cluster 0 : </B> Stations globalement vides donc qui regroupent une partie des zones difficiles d'accès et qui se vident d'autant plus sur les heures d'activités donc regroupant des quartiers résidentiels\n",
    "\n",
    "<B> Cluster 1 : </B> Stations globalement vides sur les heures d'activités (8h - 18h). Ce qui corresoond aux quartiers résidentiels.\n",
    "\n",
    "<B> Cluster 2 : </B> Stations très peu remplies. Comprend le reste des zones difficiles d'accès ainsi que quelques zones résidentielles.\n",
    "\n",
    "<B> Cluster 3 : </B> Faibles variations de la densité de Vélib' (stations qui sont \"moyennement remplies\" en permanence puisque le remplissage varie entre 0.4 et 0.6) avec de plus faibles valeurs sur les heures \"de pointe\". Donc il s'agit des zones de transition (sorties de métro, gares...) et des courts déplacements en centre-ville.\n",
    "\n",
    "<B> Cluster 4 : </B> Stations remplies sur les horaires d'activités (8h - 18h). Correspond aux zones de travail du centre-ville (ce qui explique qu'elles soient peu remplies le weekend).\n",
    "\n",
    "<B> Cluster 5 : </B> Mêmes observations que pour le cluster 1 avec une baisse plus marquée sur les heures de travail : ce sont également des quartiers résidentiels. Cependant, et contrairement au cluster 1, la densité de Vélib' dans les stations de ce cluster est plus faible en weekend qu'en semaine."
   ]
  },
  {
   "cell_type": "markdown",
   "id": "7q47XS6_taV4",
   "metadata": {
    "id": "7q47XS6_taV4"
   },
   "source": [
    "<B> Comparaison avec les méthodes précédentes : </B> A nouveau on retrouve les caractéristiques des quartiers résidentiels, des zones de travail, des zones difficiles d'accès et de la zone centre-ville/zones de transition. De plus, la méthode GMM, tout comme la méthode $k$-means, fait une distinction sur les quartiers résidentiels en fonction de la densité de Vélib' le weekend (ce qui semble assez pertinent) alors que cela n'apparait pas via la méthode CAH.\n",
    "En outre, les stations situées en altitude sont ici séparées en deux clusters (le 0 et le 2) qu'il semblerait judicieux de regrouper en un seul et même cluster."
   ]
  },
  {
   "cell_type": "code",
   "execution_count": null,
   "id": "AzuHYR6o7zuL",
   "metadata": {
    "id": "AzuHYR6o7zuL"
   },
   "outputs": [],
   "source": [
    "plt.figure(figsize=(8, 6))\n",
    "crosstable = pd.crosstab(clusters_gmm,coord['bonus'])\n",
    "sp.mosaic(crosstable.stack(),title='Mosaicplot clusters-altitude', labelizer=no_label)\n",
    "plt.show()"
   ]
  },
  {
   "cell_type": "code",
   "execution_count": null,
   "id": "tG1Jad5j84qN",
   "metadata": {
    "id": "tG1Jad5j84qN"
   },
   "outputs": [],
   "source": [
    "plt.figure(figsize=(8, 6))\n",
    "crosstable = pd.crosstab(clusters_gmm,coord['localisation'])\n",
    "sp.mosaic(crosstable.stack(),title='Mosaicplot clusters-Seine', labelizer=no_label)\n",
    "plt.show()"
   ]
  },
  {
   "cell_type": "markdown",
   "id": "Iw5CFMP47ROR",
   "metadata": {
    "id": "Iw5CFMP47ROR"
   },
   "source": [
    "#### Avec 4 clusters"
   ]
  },
  {
   "cell_type": "code",
   "execution_count": null,
   "id": "xdDQdDP09mRE",
   "metadata": {
    "id": "xdDQdDP09mRE"
   },
   "outputs": [],
   "source": [
    "plt.figure(figsize=(20,6))\n",
    "\n",
    "plt.subplot(1,3,1)\n",
    "plt.scatter(loading_reduced[:,0], loading_reduced[:,1], c=clusters_gmm4, s=4, linewidths=1, cmap=cmap4)\n",
    "plt.title(\"Graphe des individus - ACP\")\n",
    "plt.xlabel('Composante Principale 1')\n",
    "plt.ylabel('Composante Principale 2')\n",
    "plt.grid(True)\n",
    "\n",
    "plt.subplot(1,3,2)\n",
    "im = plt.scatter(coord.longitude, coord.latitude, c=clusters_gmm4, cmap=cmap4, s=10)\n",
    "plt.title('Stations loading - 4 Clusters - Méthode GMM', fontsize=15)\n",
    "plt.colorbar(im)\n",
    "plt.xlabel('Longitude', fontsize=10)\n",
    "plt.ylabel('Latitude', fontsize=10)\n",
    "plt.tick_params(axis='x', labelsize=10)\n",
    "plt.tick_params(axis='y', labelsize=10)\n",
    "plt.grid(False)\n",
    "\n",
    "plt.subplot(1,3,3)\n",
    "x = np.arange(0, 168)\n",
    "for i in range(K4):\n",
    "    plt.plot(x, np.mean(loading.to_numpy()[clusters_gmm4 == i], axis = 0), color=cmap4.colors[i])\n",
    "plt.xlabel(\"Heures de la semaine\")\n",
    "plt.ylabel(\"Valeur mesurée\")\n",
    "plt.title(\"Valeur mesurée pour 4 clusters - GMM\")\n",
    "\n",
    "plt.tight_layout()\n",
    "plt.show()"
   ]
  },
  {
   "cell_type": "code",
   "execution_count": null,
   "id": "zqjeNUJP7PP9",
   "metadata": {
    "id": "zqjeNUJP7PP9"
   },
   "outputs": [],
   "source": [
    "plt.figure(figsize=(20, 10))\n",
    "\n",
    "plt.subplot(2,2,1)\n",
    "plt.plot(x, np.mean(loading.to_numpy()[clusters_gmm4 == 0], axis = 0), color=cmap4.colors[0])\n",
    "for t in time_tick:\n",
    "    plt.axvline(t+8, color='black', linestyle='--')  # Lignes verticales en pointillés noirs\n",
    "    plt.axvline(t+18, color='green', linestyle='--')  # Lignes verticales en pointillés verts\n",
    "plt.xlabel(\"Heures de la semaine\")\n",
    "plt.ylabel(\"Valeur mesurée\")\n",
    "plt.title(\"Cluster 0\")\n",
    "\n",
    "plt.subplot(2,2,2)\n",
    "plt.plot(x, np.mean(loading.to_numpy()[clusters_gmm4 == 1], axis = 0), color=cmap4.colors[1])\n",
    "for t in time_tick:\n",
    "    plt.axvline(t+8, color='black', linestyle='--')  # Lignes verticales en pointillés noirs\n",
    "    plt.axvline(t+18, color='green', linestyle='--')  # Lignes verticales en pointillés verts\n",
    "plt.xlabel(\"Heures de la semaine\")\n",
    "plt.ylabel(\"Valeur mesurée\")\n",
    "plt.title(\"Cluster 1\")\n",
    "\n",
    "plt.subplot(2,2,3)\n",
    "plt.plot(x, np.mean(loading.to_numpy()[clusters_gmm4 == 2], axis = 0), color=cmap4.colors[2])\n",
    "for t in time_tick:\n",
    "    plt.axvline(t+8, color='black', linestyle='--')  # Lignes verticales en pointillés noirs\n",
    "    plt.axvline(t+18, color='green', linestyle='--')  # Lignes verticales en pointillés verts\n",
    "plt.xlabel(\"Heures de la semaine\")\n",
    "plt.ylabel(\"Valeur mesurée\")\n",
    "plt.title(\"Cluster 2\")\n",
    "\n",
    "plt.subplot(2,2,4)\n",
    "plt.plot(x, np.mean(loading.to_numpy()[clusters_gmm4 == 3], axis = 0), color=cmap4.colors[3])\n",
    "for t in time_tick:\n",
    "    plt.axvline(t+8, color='black', linestyle='--')  # Lignes verticales en pointillés noirs\n",
    "plt.xlabel(\"Heures de la semaine\")\n",
    "plt.ylabel(\"Valeur mesurée\")\n",
    "plt.title(\"Cluster 3\")\n",
    "\n",
    "plt.show()"
   ]
  },
  {
   "cell_type": "markdown",
   "id": "Rykkz_uhFm_H",
   "metadata": {
    "id": "Rykkz_uhFm_H"
   },
   "source": [
    "On retrouve les mêmes 4 clusters qu'avec la méthode $k$-means, dans un ordre différent.  "
   ]
  },
  {
   "cell_type": "code",
   "execution_count": null,
   "id": "1DsgcxGH7Qw8",
   "metadata": {
    "id": "1DsgcxGH7Qw8"
   },
   "outputs": [],
   "source": [
    "plt.figure(figsize=(20, 6))\n",
    "\n",
    "plt.subplot(1,3,1)\n",
    "im = plt.scatter(coord.longitude, coord.latitude, c=clusters_gmm4, cmap=cmap4, s= 15)\n",
    "plt.title('Stations loading - 4 Clusters - Méthode GMM', fontsize=15)\n",
    "plt.colorbar(im)\n",
    "plt.xlabel('Longitude', fontsize=10)\n",
    "plt.ylabel('Latitude', fontsize=10)\n",
    "plt.tick_params(axis='x', labelsize=10)\n",
    "plt.tick_params(axis='y', labelsize=10)\n",
    "plt.tight_layout()\n",
    "\n",
    "plt.subplot(1,3,2)\n",
    "couleurs = {1: 'blue', 0: 'yellow'}\n",
    "sctrplt = plt.scatter(coord['longitude'], coord['latitude'], c=coord['localisation'].map(couleurs))\n",
    "plt.xlabel('Longitude', fontsize=10)\n",
    "plt.ylabel('Latitude', fontsize=10)\n",
    "plt.title('Stations proches ou non de la Seine', fontsize=15)\n",
    "legend_elements = [Line2D([0], [0], marker='o', color='w', markerfacecolor=color, markersize=10, label=label) for label, color in couleurs.items()]\n",
    "plt.legend(handles=legend_elements, labels=[\"Seine\", \"Autre\"], fontsize=10)\n",
    "\n",
    "plt.subplot(1,3,3)\n",
    "couleurs = {1: 'red', 0: 'lightgreen'}\n",
    "sctrplt = plt.scatter(coord['longitude'], coord['latitude'], c=coord['bonus'].map(couleurs))\n",
    "plt.xlabel('Longitude', fontsize=10)\n",
    "plt.ylabel('Latitude', fontsize=10)\n",
    "plt.title('Altitude des stations', fontsize=15)\n",
    "legend_elements = [Line2D([0], [0], marker='o', color='w', markerfacecolor=color, markersize=10, label=label) for label, color in couleurs.items()]\n",
    "plt.legend(handles=legend_elements, labels=[\"Colline\", \"Vallée\"], fontsize=10)\n",
    "plt.show()"
   ]
  },
  {
   "cell_type": "code",
   "execution_count": null,
   "id": "ycRmRKD676Jb",
   "metadata": {
    "id": "ycRmRKD676Jb"
   },
   "outputs": [],
   "source": [
    "plt.figure(figsize=(8, 6))\n",
    "crosstable = pd.crosstab(clusters_gmm4,coord['bonus'])\n",
    "sp.mosaic(crosstable.stack(),title='Mosaicplot clusters-altitude', labelizer=no_label)\n",
    "plt.show()"
   ]
  },
  {
   "cell_type": "code",
   "execution_count": null,
   "id": "7JN2Lhbt9F7S",
   "metadata": {
    "id": "7JN2Lhbt9F7S"
   },
   "outputs": [],
   "source": [
    "plt.figure(figsize=(8, 6))\n",
    "crosstable = pd.crosstab(clusters_gmm4,coord['localisation'])\n",
    "sp.mosaic(crosstable.stack(),title='Mosaicplot clusters-Seine', labelizer=no_label)\n",
    "plt.show()"
   ]
  },
  {
   "cell_type": "markdown",
   "id": "XYUI7Hpwkprb",
   "metadata": {
    "id": "XYUI7Hpwkprb"
   },
   "source": [
    "#### Avec 3 clusters"
   ]
  },
  {
   "cell_type": "code",
   "execution_count": null,
   "id": "3eB8SZzZkprl",
   "metadata": {
    "id": "3eB8SZzZkprl"
   },
   "outputs": [],
   "source": [
    "plt.figure(figsize=(20,6))\n",
    "\n",
    "plt.subplot(1,3,1)\n",
    "plt.scatter(loading_reduced[:,0], loading_reduced[:,1], c=clusters_gmm3, s=4, linewidths=1, cmap=cmap3)\n",
    "plt.title(\"Graphe des individus - ACP\")\n",
    "plt.xlabel('Composante Principale 1')\n",
    "plt.ylabel('Composante Principale 2')\n",
    "plt.grid(True)\n",
    "\n",
    "plt.subplot(1,3,2)\n",
    "im = plt.scatter(coord.longitude, coord.latitude, c=clusters_gmm3, cmap=cmap3, s=10)\n",
    "plt.title('Stations loading - 3 Clusters - Méthode GMM', fontsize=15)\n",
    "plt.colorbar(im)\n",
    "plt.xlabel('Longitude', fontsize=10)\n",
    "plt.ylabel('Latitude', fontsize=10)\n",
    "plt.tick_params(axis='x', labelsize=10)\n",
    "plt.tick_params(axis='y', labelsize=10)\n",
    "plt.grid(False)\n",
    "\n",
    "plt.subplot(1,3,3)\n",
    "x = np.arange(0, 168)\n",
    "for i in range(K3):\n",
    "    plt.plot(x, np.mean(loading.to_numpy()[clusters_gmm3 == i], axis = 0), color=cmap3.colors[i])\n",
    "plt.xlabel(\"Heures de la semaine\")\n",
    "plt.ylabel(\"Valeur mesurée\")\n",
    "plt.title(\"Valeur mesurée pour 3 clusters - GMM\")\n",
    "\n",
    "plt.tight_layout()\n",
    "plt.show()"
   ]
  },
  {
   "cell_type": "code",
   "execution_count": null,
   "id": "UO1-uPT7kprn",
   "metadata": {
    "id": "UO1-uPT7kprn"
   },
   "outputs": [],
   "source": [
    "plt.figure(figsize=(20, 5))\n",
    "\n",
    "plt.subplot(1,3,1)\n",
    "plt.plot(x, np.mean(loading.to_numpy()[clusters_gmm3 == 0], axis = 0), color=cmap3.colors[0])\n",
    "for t in time_tick:\n",
    "    plt.axvline(t+8, color='black', linestyle='--')  # Lignes verticales en pointillés noirs\n",
    "    plt.axvline(t+18, color='green', linestyle='--')  # Lignes verticales en pointillés verts\n",
    "plt.xlabel(\"Heures de la semaine\")\n",
    "plt.ylabel(\"Valeur mesurée\")\n",
    "plt.title(\"Cluster 0\")\n",
    "\n",
    "plt.subplot(1,3,2)\n",
    "plt.plot(x, np.mean(loading.to_numpy()[clusters_gmm3 == 1], axis = 0), color=cmap3.colors[1])\n",
    "for t in time_tick:\n",
    "    plt.axvline(t+8, color='black', linestyle='--')  # Lignes verticales en pointillés noirs\n",
    "    plt.axvline(t+18, color='green', linestyle='--')  # Lignes verticales en pointillés verts\n",
    "plt.xlabel(\"Heures de la semaine\")\n",
    "plt.ylabel(\"Valeur mesurée\")\n",
    "plt.title(\"Cluster 1\")\n",
    "\n",
    "plt.subplot(1,3,3)\n",
    "plt.plot(x, np.mean(loading.to_numpy()[clusters_gmm3 == 2], axis = 0), color=cmap3.colors[2])\n",
    "for t in time_tick:\n",
    "    plt.axvline(t+8, color='black', linestyle='--')  # Lignes verticales en pointillés noirs\n",
    "    plt.axvline(t+18, color='green', linestyle='--')  # Lignes verticales en pointillés verts\n",
    "plt.xlabel(\"Heures de la semaine\")\n",
    "plt.ylabel(\"Valeur mesurée\")\n",
    "plt.title(\"Cluster 2\")\n",
    "\n",
    "plt.show()"
   ]
  },
  {
   "cell_type": "code",
   "execution_count": null,
   "id": "60N6IZ5Ukprp",
   "metadata": {
    "id": "60N6IZ5Ukprp"
   },
   "outputs": [],
   "source": [
    "plt.figure(figsize=(20, 6))\n",
    "\n",
    "plt.subplot(1,3,1)\n",
    "im = plt.scatter(coord.longitude, coord.latitude, c=clusters_gmm3, cmap=cmap3, s= 15)\n",
    "plt.title('Stations loading - 3 Clusters - Méthode GMM', fontsize=15)\n",
    "plt.colorbar(im)\n",
    "plt.xlabel('Longitude', fontsize=10)\n",
    "plt.ylabel('Latitude', fontsize=10)\n",
    "plt.tick_params(axis='x', labelsize=10)\n",
    "plt.tick_params(axis='y', labelsize=10)\n",
    "plt.tight_layout()\n",
    "\n",
    "plt.subplot(1,3,2)\n",
    "couleurs = {1: 'blue', 0: 'yellow'}\n",
    "sctrplt = plt.scatter(coord['longitude'], coord['latitude'], c=coord['localisation'].map(couleurs))\n",
    "plt.xlabel('Longitude', fontsize=10)\n",
    "plt.ylabel('Latitude', fontsize=10)\n",
    "plt.title('Stations proches ou non de la Seine', fontsize=15)\n",
    "legend_elements = [Line2D([0], [0], marker='o', color='w', markerfacecolor=color, markersize=10, label=label) for label, color in couleurs.items()]\n",
    "plt.legend(handles=legend_elements, labels=[\"Seine\", \"Autre\"], fontsize=10)\n",
    "\n",
    "plt.subplot(1,3,3)\n",
    "couleurs = {1: 'red', 0: 'lightgreen'}\n",
    "sctrplt = plt.scatter(coord['longitude'], coord['latitude'], c=coord['bonus'].map(couleurs))\n",
    "plt.xlabel('Longitude', fontsize=10)\n",
    "plt.ylabel('Latitude', fontsize=10)\n",
    "plt.title('Altitude des stations', fontsize=15)\n",
    "legend_elements = [Line2D([0], [0], marker='o', color='w', markerfacecolor=color, markersize=10, label=label) for label, color in couleurs.items()]\n",
    "plt.legend(handles=legend_elements, labels=[\"Colline\", \"Vallée\"], fontsize=10)\n",
    "plt.show()"
   ]
  },
  {
   "cell_type": "markdown",
   "id": "q88BfISLkprr",
   "metadata": {
    "id": "q88BfISLkprr"
   },
   "source": [
    "<B> Cluster 0 : </B> Stations globalement peu remplies avec une baisse sur les heures d'activités, ce qui correspond aux zones difficiles d'accès (collines) et quelques zones résidentielles.\n",
    "\n",
    "<B> Cluster 1 : </B> Petites variations de densité de Vélib' qui font penser aux zones de transition et zones du centre-ville, et stations qui se vident d'avantage pendant les heures d'activités donc ce cluster inclut des zones résidentielles.\n",
    "\n",
    "<B> Cluster 2 : </B> Stations remplies pendant les heures d'activités et très peu remplies le weekend. Correspond aux lieux de travail.\n",
    "\n",
    "\n"
   ]
  },
  {
   "cell_type": "markdown",
   "id": "ypojP_rrkprs",
   "metadata": {
    "id": "ypojP_rrkprs"
   },
   "source": [
    "**Gobalement**, on observe les mêmes caractérisations pour 3 clusters qu'avec les méthodes $k$-means et CAH."
   ]
  },
  {
   "cell_type": "code",
   "execution_count": null,
   "id": "rgISrt7Bkpru",
   "metadata": {
    "id": "rgISrt7Bkpru"
   },
   "outputs": [],
   "source": [
    "plt.figure(figsize=(8, 6))\n",
    "crosstable = pd.crosstab(clusters_gmm3,coord['bonus'])\n",
    "sp.mosaic(crosstable.stack(),title='Mosaicplot clusters-altitude', labelizer=no_label)\n",
    "plt.show()"
   ]
  },
  {
   "cell_type": "code",
   "execution_count": null,
   "id": "nl7LjG5bkprv",
   "metadata": {
    "id": "nl7LjG5bkprv"
   },
   "outputs": [],
   "source": [
    "plt.figure(figsize=(8, 6))\n",
    "crosstable = pd.crosstab(clusters_gmm3,coord['localisation'])\n",
    "sp.mosaic(crosstable.stack(),title='Mosaicplot clusters-Seine', labelizer=no_label)\n",
    "plt.show()"
   ]
  },
  {
   "cell_type": "markdown",
   "id": "Z_cj5dj0DNLA",
   "metadata": {
    "id": "Z_cj5dj0DNLA"
   },
   "source": [
    "### Comparaison des méthodes"
   ]
  },
  {
   "cell_type": "code",
   "execution_count": null,
   "id": "YtA16iiwBxqY",
   "metadata": {
    "id": "YtA16iiwBxqY"
   },
   "outputs": [],
   "source": [
    "def plotKmeans(kmeans, data, n_clusters=6):\n",
    "    kmeans.fit(data)\n",
    "    clusters_kmeans = kmeans.predict(data)\n",
    "    ax = plt.gca()\n",
    "    ax.axis('equal')\n",
    "\n",
    "    if n_clusters == 6 :\n",
    "      Cmap = cmap\n",
    "    elif n_clusters == 4 :\n",
    "      Cmap = cmap4\n",
    "    elif n_clusters == 3 :\n",
    "      Cmap = cmap3\n",
    "    elif n_clusters == 2 :\n",
    "      Cmap = cmap2\n",
    "    ax.scatter(data[:, 0], data[:, 1], c=clusters_kmeans, s=5, linewidths=1, cmap=Cmap)"
   ]
  },
  {
   "cell_type": "code",
   "execution_count": null,
   "id": "onLo7GShQXM5",
   "metadata": {
    "id": "onLo7GShQXM5"
   },
   "outputs": [],
   "source": [
    "def plotCAH(ac, data, n_clusters=6):\n",
    "    ac.fit(data)\n",
    "    clusters_ac = ac.fit_predict(data)\n",
    "    ax = plt.gca()\n",
    "    ax.axis('equal')\n",
    "\n",
    "    if n_clusters == 6 :\n",
    "      Cmap = cmap\n",
    "    elif n_clusters == 4 :\n",
    "      Cmap = cmap4\n",
    "    elif n_clusters == 3 :\n",
    "      Cmap = cmap3\n",
    "    elif n_clusters == 2 :\n",
    "      Cmap = cmap2\n",
    "    ax.scatter(data[:, 0], data[:, 1], c=clusters_ac, s=5, linewidths=1, cmap=Cmap)"
   ]
  },
  {
   "cell_type": "code",
   "execution_count": null,
   "id": "2aQIVaH_Db_z",
   "metadata": {
    "id": "2aQIVaH_Db_z"
   },
   "outputs": [],
   "source": [
    "def plotGMM(gmm, data, n_clusters=6):\n",
    "    gmm.fit(data)\n",
    "    clusters_gmm = gmm.predict(data)\n",
    "    ax = plt.gca()\n",
    "    ax.axis('equal')\n",
    "\n",
    "    if n_clusters == 6 :\n",
    "      Cmap = cmap\n",
    "    elif n_clusters == 4 :\n",
    "      Cmap = cmap4\n",
    "    elif n_clusters == 3 :\n",
    "      Cmap = cmap3\n",
    "    elif n_clusters == 2 :\n",
    "      Cmap = cmap2\n",
    "    ax.scatter(data[:, 0], data[:, 1], c=clusters_gmm, s=5, linewidths=1, cmap=Cmap)"
   ]
  },
  {
   "cell_type": "code",
   "execution_count": null,
   "id": "Hpckh3ulKEXe",
   "metadata": {
    "id": "Hpckh3ulKEXe"
   },
   "outputs": [],
   "source": [
    "def matchClasses(classif1, classif2):\n",
    "    cm = confusion_matrix(classif1, classif2)\n",
    "    K = cm.shape[0] #récupère le nb total de clusters (de classes)\n",
    "    a, b = np.zeros(K), np.zeros(K)\n",
    "    for j in range(K):\n",
    "        for i in range(K):\n",
    "            if (a[j] < cm[i,j]):\n",
    "                a[j] = cm[i,j]\n",
    "                b[j] = i\n",
    "    a = a.astype(int)\n",
    "    b = b.astype(int)\n",
    "\n",
    "    print (\"\")\n",
    "    print (\"Classes size:\", a)\n",
    "    print (\"Class (in the classif1 numbering):\", b)\n",
    "    print (\"\")\n",
    "\n",
    "    table = cm.copy()\n",
    "    for i in range(K):\n",
    "        table[:,b[i]] = cm[:,i]\n",
    "\n",
    "    clusters = classif2.copy()\n",
    "    n = classif2.shape[0]\n",
    "    for i in range(n):\n",
    "        for j in range(K):\n",
    "            if (classif2[i] == j):\n",
    "                clusters[i] = b[j]\n",
    "\n",
    "    return table, clusters"
   ]
  },
  {
   "cell_type": "code",
   "execution_count": null,
   "id": "_TBKFpKPM-pf",
   "metadata": {
    "id": "_TBKFpKPM-pf"
   },
   "outputs": [],
   "source": [
    "def diffPlot(classif1, classif2):\n",
    "    n = classif1.shape[0]\n",
    "    K = np.max(classif1)+1\n",
    "\n",
    "    clusters = classif1.copy()\n",
    "    idx = (classif1 != classif2)\n",
    "    clusters[idx] = K+1\n",
    "\n",
    "    nb_diff = np.sum(idx)\n",
    "    print(\"Ratio du nb de points classés différemment:\", nb_diff/n)\n",
    "    print(\"Nb de stations classées différemment:\", nb_diff)\n",
    "\n",
    "    Cmap = 0\n",
    "    if K == 6 :\n",
    "      Cmap = cmap\n",
    "    elif K == 4 :\n",
    "      Cmap = cmap4\n",
    "    elif K == 3 :\n",
    "      Cmap = cmap3\n",
    "    elif K == 2 :\n",
    "      Cmap = cmap2\n",
    "    bk = np.array([0,0,0,1]).reshape(1,-1)\n",
    "    Cmap = colors.ListedColormap( np.concatenate((Cmap.colors, bk)) )\n",
    "\n",
    "    plt.figure(figsize = (8,6))\n",
    "    im = plt.scatter(coord.longitude, coord.latitude, c=clusters, cmap=Cmap, s=10)\n",
    "    plt.title('Comparaison des méthodes', fontsize=15)\n",
    "    plt.colorbar(im)\n",
    "    plt.xlabel('Longitude', fontsize=10)\n",
    "    plt.ylabel('Latitude', fontsize=10)\n",
    "    plt.tick_params(axis='x', labelsize=10)\n",
    "    plt.tick_params(axis='y', labelsize=10)\n",
    "\n",
    "    plt.grid(False)\n",
    "    plt.show()"
   ]
  },
  {
   "cell_type": "markdown",
   "id": "zW-Fad4bEw8J",
   "metadata": {
    "id": "zW-Fad4bEw8J"
   },
   "source": [
    "#### Avec 6 clusters"
   ]
  },
  {
   "cell_type": "code",
   "execution_count": null,
   "id": "2QABf7QaDlyQ",
   "metadata": {
    "id": "2QABf7QaDlyQ"
   },
   "outputs": [],
   "source": [
    "# Comparaison des modèles pour 6 clusters\n",
    "plt.figure(figsize=(20,6))\n",
    "\n",
    "plt.subplot(1,3,1)\n",
    "plotKmeans(kmeans_pca, loading_reduced, 6)\n",
    "plt.title(\"K-means pour 6 clusters\")\n",
    "\n",
    "plt.subplot(1,3,2)\n",
    "plotCAH(ac, loading_reduced, 6)\n",
    "plt.title(\"CAH pour 6 clusters\")\n",
    "\n",
    "plt.subplot(1,3,3)\n",
    "plotGMM(gmm, loading_reduced, 6)\n",
    "plt.title(\"GMM pour 6 clusters\")\n",
    "\n",
    "plt.show()"
   ]
  },
  {
   "cell_type": "markdown",
   "id": "JKeHX9iZLddJ",
   "metadata": {
    "id": "JKeHX9iZLddJ"
   },
   "source": [
    "##### $k$-means Vs GMM"
   ]
  },
  {
   "cell_type": "code",
   "execution_count": null,
   "id": "7govqVsdIzqc",
   "metadata": {
    "id": "7govqVsdIzqc"
   },
   "outputs": [],
   "source": [
    "plt.figure(figsize=(8,6))\n",
    "\n",
    "cm6, clusters_kmeans6_sorted = matchClasses(clusters_gmm, clusters_pca)\n",
    "\n",
    "ConfusionMatrixDisplay(cm6).plot()\n",
    "plt.xlabel('Méthode k-means')\n",
    "plt.ylabel('Méthode GMM')\n",
    "plt.title(\"Matrice de confusion pour les méthodes K-means et GMM avec ajustement des classes\")\n",
    "plt.show()"
   ]
  },
  {
   "cell_type": "code",
   "execution_count": null,
   "id": "S1xBe616JN0N",
   "metadata": {
    "id": "S1xBe616JN0N"
   },
   "outputs": [],
   "source": [
    "plt.figure(figsize=(15,6))\n",
    "\n",
    "plt.subplot(1,2,1)\n",
    "im = plt.scatter(coord.longitude, coord.latitude, c=clusters_kmeans6_sorted, cmap=cmap, s=10)\n",
    "plt.title('Stations loading - 6 Clusters - Kmeans ', fontsize=15)\n",
    "plt.colorbar(im)\n",
    "plt.xlabel('Longitude', fontsize=10)\n",
    "plt.ylabel('Latitude', fontsize=10)\n",
    "plt.tick_params(axis='x', labelsize=10)\n",
    "plt.tick_params(axis='y', labelsize=10)\n",
    "plt.grid(False)\n",
    "\n",
    "plt.subplot(1,2,2)\n",
    "im = plt.scatter(coord.longitude, coord.latitude, c=clusters_gmm, cmap=cmap, s=10)\n",
    "plt.title('Stations loading - 6 Clusters - GMM', fontsize=15)\n",
    "plt.colorbar(im)\n",
    "plt.xlabel('Longitude', fontsize=10)\n",
    "plt.ylabel('Latitude', fontsize=10)\n",
    "plt.tick_params(axis='x', labelsize=10)\n",
    "plt.tick_params(axis='y', labelsize=10)\n",
    "plt.grid(False)\n",
    "\n",
    "plt.tight_layout()\n",
    "plt.show()\n",
    "\n",
    "diffPlot(clusters_gmm, clusters_kmeans6_sorted)"
   ]
  },
  {
   "cell_type": "markdown",
   "id": "JnXeLBW-Lkqx",
   "metadata": {
    "id": "JnXeLBW-Lkqx"
   },
   "source": [
    "##### $k$-means Vs CAH"
   ]
  },
  {
   "cell_type": "code",
   "execution_count": null,
   "id": "ZHTcKWJeManO",
   "metadata": {
    "id": "ZHTcKWJeManO"
   },
   "outputs": [],
   "source": [
    "plt.figure(figsize=(8,6))\n",
    "\n",
    "cm6bis, clusters_kmeans6_sorted_ac = matchClasses(clusters_ac, clusters_pca)\n",
    "\n",
    "ConfusionMatrixDisplay(cm6bis).plot()\n",
    "plt.xlabel('Méthode k-means')\n",
    "plt.ylabel('Méthode CAH')\n",
    "plt.title(\"Matrice de confusion pour les méthodes K-means et CAH avec ajustement des classes\")\n",
    "plt.show()"
   ]
  },
  {
   "cell_type": "code",
   "execution_count": null,
   "id": "2QEwtoU9S4Iq",
   "metadata": {
    "id": "2QEwtoU9S4Iq"
   },
   "outputs": [],
   "source": [
    "plt.figure(figsize=(15,6))\n",
    "\n",
    "plt.subplot(1,2,1)\n",
    "im = plt.scatter(coord.longitude, coord.latitude, c=clusters_kmeans6_sorted_ac, cmap=cmap, s=10)\n",
    "plt.title('Stations loading - 6 Clusters - Kmeans ', fontsize=15)\n",
    "plt.colorbar(im)\n",
    "plt.xlabel('Longitude', fontsize=10)\n",
    "plt.ylabel('Latitude', fontsize=10)\n",
    "plt.tick_params(axis='x', labelsize=10)\n",
    "plt.tick_params(axis='y', labelsize=10)\n",
    "plt.grid(False)\n",
    "\n",
    "plt.subplot(1,2,2)\n",
    "im = plt.scatter(coord.longitude, coord.latitude, c=clusters_ac, cmap=cmap, s=10)\n",
    "plt.title('Stations loading - 6 Clusters - CAH', fontsize=15)\n",
    "plt.colorbar(im)\n",
    "plt.xlabel('Longitude', fontsize=10)\n",
    "plt.ylabel('Latitude', fontsize=10)\n",
    "plt.tick_params(axis='x', labelsize=10)\n",
    "plt.tick_params(axis='y', labelsize=10)\n",
    "plt.grid(False)\n",
    "\n",
    "plt.tight_layout()\n",
    "plt.show()\n",
    "\n",
    "diffPlot(clusters_ac, clusters_kmeans6_sorted_ac )"
   ]
  },
  {
   "cell_type": "markdown",
   "id": "9MKCcN7QLrgU",
   "metadata": {
    "id": "9MKCcN7QLrgU"
   },
   "source": [
    "##### CAH Vs GMM"
   ]
  },
  {
   "cell_type": "code",
   "execution_count": null,
   "id": "0I-dAs2cc0Fu",
   "metadata": {
    "id": "0I-dAs2cc0Fu"
   },
   "outputs": [],
   "source": [
    "plt.figure(figsize=(8,6))\n",
    "\n",
    "cm6ter, clusters_ac6_gmm6_sorted_ter = matchClasses(clusters_gmm,clusters_ac)\n",
    "\n",
    "ConfusionMatrixDisplay(cm6ter).plot()\n",
    "plt.xlabel('Méthode CAH')\n",
    "plt.ylabel('Méthode GMM')\n",
    "plt.title(\"Matrice de confusion pour les méthodes CAH et GMM avec ajustement des classes\")"
   ]
  },
  {
   "cell_type": "code",
   "execution_count": null,
   "id": "IshYP8Ryc6hs",
   "metadata": {
    "id": "IshYP8Ryc6hs"
   },
   "outputs": [],
   "source": [
    "plt.figure(figsize=(15,6))\n",
    "\n",
    "plt.subplot(1,2,1)\n",
    "im = plt.scatter(coord.longitude, coord.latitude, c=clusters_ac6_gmm6_sorted_ter, cmap=cmap, s=10)\n",
    "plt.title('Stations loading - 6 Clusters - CAH ', fontsize=15)\n",
    "plt.colorbar(im)\n",
    "plt.xlabel('Longitude', fontsize=10)\n",
    "plt.ylabel('Latitude', fontsize=10)\n",
    "plt.tick_params(axis='x', labelsize=10)\n",
    "plt.tick_params(axis='y', labelsize=10)\n",
    "plt.grid(False)\n",
    "\n",
    "plt.subplot(1,2,2)\n",
    "im = plt.scatter(coord.longitude, coord.latitude, c=clusters_gmm, cmap=cmap, s=10)\n",
    "plt.title('Stations loading - 6 Clusters - GMM', fontsize=15)\n",
    "plt.colorbar(im)\n",
    "plt.xlabel('Longitude', fontsize=10)\n",
    "plt.ylabel('Latitude', fontsize=10)\n",
    "plt.tick_params(axis='x', labelsize=10)\n",
    "plt.tick_params(axis='y', labelsize=10)\n",
    "plt.grid(False)\n",
    "\n",
    "plt.tight_layout()\n",
    "plt.show()\n",
    "\n",
    "diffPlot(clusters_gmm, clusters_ac6_gmm6_sorted_ter)"
   ]
  },
  {
   "cell_type": "markdown",
   "id": "pDjX72APIwwW",
   "metadata": {
    "id": "pDjX72APIwwW"
   },
   "source": [
    "Les méthodes $k$-means et CAH comptent environ 32% de différences dans la classification des stations, tandis que $k$-means et GMM en comportent 44%, et CAH et GMM environ 30%.\n",
    "\n",
    "Dans les trois cas on a environ entre 30% et 40% de différence dans les classifications. Cela suit ce qui a été dit auparavant : on retrouve des caractéristiques communes pour certains clusters dans les trois modèles (avec 4 clusters \"types\" identifiés). Là ou la méthode CAH possède en plus 2 clusters \"atypiques\" (aux caractéristiques propres), la méthode GMM a tendance à subdiviser les clusters \"types\" (zones résidentilles et zones en altitude notamment)."
   ]
  },
  {
   "cell_type": "markdown",
   "id": "zOn6h3WjFF_H",
   "metadata": {
    "id": "zOn6h3WjFF_H"
   },
   "source": [
    "#### Avec 4 clusters"
   ]
  },
  {
   "cell_type": "code",
   "execution_count": null,
   "id": "KVmSbN0uTLgT",
   "metadata": {
    "id": "KVmSbN0uTLgT"
   },
   "outputs": [],
   "source": [
    "plt.figure(figsize=(20,6))\n",
    "\n",
    "plt.subplot(1,3,1)\n",
    "plotKmeans(kmeans_pca_4, loading_reduced, 4)\n",
    "plt.title(\"K-means pour 4 clusters\")\n",
    "\n",
    "plt.subplot(1,3,2)\n",
    "plotCAH(ac4, loading_reduced, 4)\n",
    "plt.title(\"CAH pour 4 clusters\")\n",
    "\n",
    "plt.subplot(1,3,3)\n",
    "plotGMM(gmm4, loading_reduced, 4)\n",
    "plt.title(\"GMM pour 4 clusters\")\n",
    "\n",
    "plt.show()"
   ]
  },
  {
   "cell_type": "markdown",
   "id": "AQkVHEAiLvkQ",
   "metadata": {
    "id": "AQkVHEAiLvkQ"
   },
   "source": [
    "##### $k$-means Vs GMM"
   ]
  },
  {
   "cell_type": "code",
   "execution_count": null,
   "id": "DmGVgBJ7Yo4l",
   "metadata": {
    "id": "DmGVgBJ7Yo4l"
   },
   "outputs": [],
   "source": [
    "plt.figure(figsize=(8,6))\n",
    "\n",
    "cm4, clusters_kmeans4_sorted = matchClasses(clusters_gmm4, clusters_pca_4)\n",
    "\n",
    "ConfusionMatrixDisplay(cm4).plot()\n",
    "plt.xlabel('Méthode k-means')\n",
    "plt.ylabel('Méthode GMM')\n",
    "plt.title(\"Matrice de confusion pour les méthodes K-means et GMM avec ajustement des classes\")\n",
    "plt.show()"
   ]
  },
  {
   "cell_type": "code",
   "execution_count": null,
   "id": "ET6ofGKQYpoc",
   "metadata": {
    "id": "ET6ofGKQYpoc"
   },
   "outputs": [],
   "source": [
    "plt.figure(figsize=(15,6))\n",
    "\n",
    "plt.subplot(1,2,1)\n",
    "im = plt.scatter(coord.longitude, coord.latitude, c=clusters_kmeans4_sorted, cmap=cmap4, s=10)\n",
    "plt.title('Stations loading - 4 Clusters - Kmeans ', fontsize=15)\n",
    "plt.colorbar(im)\n",
    "plt.xlabel('Longitude', fontsize=10)\n",
    "plt.ylabel('Latitude', fontsize=10)\n",
    "plt.tick_params(axis='x', labelsize=10)\n",
    "plt.tick_params(axis='y', labelsize=10)\n",
    "plt.grid(False)\n",
    "\n",
    "plt.subplot(1,2,2)\n",
    "im = plt.scatter(coord.longitude, coord.latitude, c=clusters_gmm4, cmap=cmap4, s=10)\n",
    "plt.title('Stations loading - 4 Clusters - GMM', fontsize=15)\n",
    "plt.colorbar(im)\n",
    "plt.xlabel('Longitude', fontsize=10)\n",
    "plt.ylabel('Latitude', fontsize=10)\n",
    "plt.tick_params(axis='x', labelsize=10)\n",
    "plt.tick_params(axis='y', labelsize=10)\n",
    "plt.grid(False)\n",
    "\n",
    "plt.tight_layout()\n",
    "plt.show()\n",
    "\n",
    "diffPlot(clusters_gmm4, clusters_kmeans4_sorted)"
   ]
  },
  {
   "cell_type": "markdown",
   "id": "Z7ncn4dfL0LZ",
   "metadata": {
    "id": "Z7ncn4dfL0LZ"
   },
   "source": [
    "##### $k$-means Vs CAH"
   ]
  },
  {
   "cell_type": "code",
   "execution_count": null,
   "id": "DeRDU89jY6pr",
   "metadata": {
    "id": "DeRDU89jY6pr"
   },
   "outputs": [],
   "source": [
    "plt.figure(figsize=(8,6))\n",
    "\n",
    "cm4bis, clusters_kmeans4_sorted_ac = matchClasses(clusters_ac4, clusters_pca_4)\n",
    "\n",
    "ConfusionMatrixDisplay(cm4bis).plot()\n",
    "plt.xlabel('Méthode k-means')\n",
    "plt.ylabel('Méthode CAH')\n",
    "plt.title(\"Matrice de confusion pour les méthodes K-means et CAH avec ajustement des classes\")\n",
    "plt.show()"
   ]
  },
  {
   "cell_type": "code",
   "execution_count": null,
   "id": "7KhVZ1teY7T7",
   "metadata": {
    "id": "7KhVZ1teY7T7"
   },
   "outputs": [],
   "source": [
    "plt.figure(figsize=(15,6))\n",
    "\n",
    "plt.subplot(1,2,1)\n",
    "im = plt.scatter(coord.longitude, coord.latitude, c=clusters_kmeans4_sorted_ac, cmap=cmap4, s=10)\n",
    "plt.title('Stations loading - 4 Clusters - Kmeans ', fontsize=15)\n",
    "plt.colorbar(im)\n",
    "plt.xlabel('Longitude', fontsize=10)\n",
    "plt.ylabel('Latitude', fontsize=10)\n",
    "plt.tick_params(axis='x', labelsize=10)\n",
    "plt.tick_params(axis='y', labelsize=10)\n",
    "plt.grid(False)\n",
    "\n",
    "plt.subplot(1,2,2)\n",
    "im = plt.scatter(coord.longitude, coord.latitude, c=clusters_ac4, cmap=cmap4, s=10)\n",
    "plt.title('Stations loading - 4 Clusters - CAH', fontsize=15)\n",
    "plt.colorbar(im)\n",
    "plt.xlabel('Longitude', fontsize=10)\n",
    "plt.ylabel('Latitude', fontsize=10)\n",
    "plt.tick_params(axis='x', labelsize=10)\n",
    "plt.tick_params(axis='y', labelsize=10)\n",
    "plt.grid(False)\n",
    "\n",
    "plt.tight_layout()\n",
    "plt.show()\n",
    "\n",
    "diffPlot(clusters_ac4, clusters_kmeans4_sorted_ac )"
   ]
  },
  {
   "cell_type": "markdown",
   "id": "LiqZyMkDL2mk",
   "metadata": {
    "id": "LiqZyMkDL2mk"
   },
   "source": [
    "##### CAH Vs GMM"
   ]
  },
  {
   "cell_type": "code",
   "execution_count": null,
   "id": "DdtKuVMoais3",
   "metadata": {
    "id": "DdtKuVMoais3"
   },
   "outputs": [],
   "source": [
    "plt.figure(figsize=(8,6))\n",
    "\n",
    "cm4ter, clusters_ac4_gmm4_sorted_ter = matchClasses(clusters_gmm4,clusters_ac4)\n",
    "\n",
    "ConfusionMatrixDisplay(cm4ter).plot()\n",
    "plt.xlabel('Méthode CAH')\n",
    "plt.ylabel('Méthode GMM')\n",
    "plt.title(\"Matrice de confusion pour les méthodes CAH et GMM avec ajustement des classes\")"
   ]
  },
  {
   "cell_type": "code",
   "execution_count": null,
   "id": "rTxdEkh1bHg3",
   "metadata": {
    "id": "rTxdEkh1bHg3"
   },
   "outputs": [],
   "source": [
    "plt.figure(figsize=(15,6))\n",
    "\n",
    "plt.subplot(1,2,1)\n",
    "im = plt.scatter(coord.longitude, coord.latitude, c=clusters_ac4_gmm4_sorted_ter, cmap=cmap4, s=10)\n",
    "plt.title('Stations loading - 4 Clusters - CAH ', fontsize=15)\n",
    "plt.colorbar(im)\n",
    "plt.xlabel('Longitude', fontsize=10)\n",
    "plt.ylabel('Latitude', fontsize=10)\n",
    "plt.tick_params(axis='x', labelsize=10)\n",
    "plt.tick_params(axis='y', labelsize=10)\n",
    "plt.grid(False)\n",
    "\n",
    "plt.subplot(1,2,2)\n",
    "im = plt.scatter(coord.longitude, coord.latitude, c=clusters_gmm4, cmap=cmap4, s=10)\n",
    "plt.title('Stations loading - 4 Clusters - GMM', fontsize=15)\n",
    "plt.colorbar(im)\n",
    "plt.xlabel('Longitude', fontsize=10)\n",
    "plt.ylabel('Latitude', fontsize=10)\n",
    "plt.tick_params(axis='x', labelsize=10)\n",
    "plt.tick_params(axis='y', labelsize=10)\n",
    "plt.grid(False)\n",
    "\n",
    "plt.tight_layout()\n",
    "plt.show()\n",
    "\n",
    "diffPlot(clusters_gmm4, clusters_ac4_gmm4_sorted_ter)"
   ]
  },
  {
   "cell_type": "markdown",
   "id": "ITp0x38-KnUz",
   "metadata": {
    "id": "ITp0x38-KnUz"
   },
   "source": [
    "Cette fois-ci les méthodes $k$-means et CAH comptent environ 14% de différence dans la classification des stations, tandis que $k$-means et GMM en comportent 23%, et enfin CAH et GMM en comptent 19%.\n",
    "\n",
    "Il y a donc moins de disparités dans les comparaisons des modèles 2 à 2. Cela est cohérent en vu des remarques précédentes : globalement les trois clusters pour les trois méthodes ont des caractéristiques assez similaires, bien que les stations ne soient pas systématiquement classées au même endroit. Cependant cette fois-ci, ce sont les modèles CAH et $k$-means qui classent les stations de manière plus similaires que $k$-means.\n",
    "\n",
    "Comme il y a moins de stations, il y a moins de caratéristiques prises en compte pour classer les stations, ce qui explique la réduction des dissimilarités entre les modèles."
   ]
  },
  {
   "cell_type": "markdown",
   "id": "LUPCoJVkl75s",
   "metadata": {
    "id": "LUPCoJVkl75s"
   },
   "source": [
    "#### Avec 3 clusters"
   ]
  },
  {
   "cell_type": "code",
   "execution_count": null,
   "id": "17ipmkrOl755",
   "metadata": {
    "id": "17ipmkrOl755"
   },
   "outputs": [],
   "source": [
    "plt.figure(figsize=(20,6))\n",
    "\n",
    "plt.subplot(1,3,1)\n",
    "plotKmeans(kmeans_pca_3, loading_reduced, 3)\n",
    "plt.title(\"K-means pour 3 clusters\")\n",
    "\n",
    "plt.subplot(1,3,2)\n",
    "plotCAH(ac3, loading_reduced, 3)\n",
    "plt.title(\"CAH pour 3 clusters\")\n",
    "\n",
    "plt.subplot(1,3,3)\n",
    "plotGMM(gmm3, loading_reduced, 3)\n",
    "plt.title(\"GMM pour 3 clusters\")\n",
    "\n",
    "plt.show()"
   ]
  },
  {
   "cell_type": "markdown",
   "id": "LEs00UZ0l75-",
   "metadata": {
    "id": "LEs00UZ0l75-"
   },
   "source": [
    "##### $k$-means Vs GMM"
   ]
  },
  {
   "cell_type": "code",
   "execution_count": null,
   "id": "R24dzDy4l75-",
   "metadata": {
    "id": "R24dzDy4l75-"
   },
   "outputs": [],
   "source": [
    "plt.figure(figsize=(8,6))\n",
    "\n",
    "cm3, clusters_kmeans3_sorted = matchClasses(clusters_gmm3, clusters_pca_3)\n",
    "\n",
    "ConfusionMatrixDisplay(cm3).plot()\n",
    "plt.xlabel('Méthode k-means')\n",
    "plt.ylabel('Méthode GMM')\n",
    "plt.title(\"Matrice de confusion pour les méthodes K-means et GMM avec ajustement des classes\")\n",
    "plt.show()"
   ]
  },
  {
   "cell_type": "code",
   "execution_count": null,
   "id": "WDWnv6kBl76B",
   "metadata": {
    "id": "WDWnv6kBl76B"
   },
   "outputs": [],
   "source": [
    "plt.figure(figsize=(15,6))\n",
    "\n",
    "plt.subplot(1,2,1)\n",
    "im = plt.scatter(coord.longitude, coord.latitude, c=clusters_kmeans3_sorted, cmap=cmap3, s=10)\n",
    "plt.title('Stations loading - 3 Clusters - Kmeans ', fontsize=15)\n",
    "plt.colorbar(im)\n",
    "plt.xlabel('Longitude', fontsize=10)\n",
    "plt.ylabel('Latitude', fontsize=10)\n",
    "plt.tick_params(axis='x', labelsize=10)\n",
    "plt.tick_params(axis='y', labelsize=10)\n",
    "plt.grid(False)\n",
    "\n",
    "plt.subplot(1,2,2)\n",
    "im = plt.scatter(coord.longitude, coord.latitude, c=clusters_gmm3, cmap=cmap3, s=10)\n",
    "plt.title('Stations loading - 3 Clusters - GMM', fontsize=15)\n",
    "plt.colorbar(im)\n",
    "plt.xlabel('Longitude', fontsize=10)\n",
    "plt.ylabel('Latitude', fontsize=10)\n",
    "plt.tick_params(axis='x', labelsize=10)\n",
    "plt.tick_params(axis='y', labelsize=10)\n",
    "plt.grid(False)\n",
    "\n",
    "plt.tight_layout()\n",
    "plt.show()\n",
    "\n",
    "diffPlot(clusters_gmm3, clusters_kmeans3_sorted)"
   ]
  },
  {
   "cell_type": "markdown",
   "id": "5ixkXzf1l76D",
   "metadata": {
    "id": "5ixkXzf1l76D"
   },
   "source": [
    "##### $k$-means Vs CAH"
   ]
  },
  {
   "cell_type": "code",
   "execution_count": null,
   "id": "LtnrbyNkl76E",
   "metadata": {
    "id": "LtnrbyNkl76E"
   },
   "outputs": [],
   "source": [
    "plt.figure(figsize=(8,6))\n",
    "\n",
    "cm3bis, clusters_kmeans3_sorted_ac = matchClasses(clusters_ac3, clusters_pca_3)\n",
    "\n",
    "ConfusionMatrixDisplay(cm3bis).plot()\n",
    "plt.xlabel('Méthode k-means')\n",
    "plt.ylabel('Méthode CAH')\n",
    "plt.title(\"Matrice de confusion pour les méthodes K-means et CAH avec ajustement des classes\")\n",
    "plt.show()"
   ]
  },
  {
   "cell_type": "code",
   "execution_count": null,
   "id": "j-5t97sxl76F",
   "metadata": {
    "id": "j-5t97sxl76F"
   },
   "outputs": [],
   "source": [
    "plt.figure(figsize=(15,6))\n",
    "\n",
    "plt.subplot(1,2,1)\n",
    "im = plt.scatter(coord.longitude, coord.latitude, c=clusters_kmeans3_sorted_ac, cmap=cmap3, s=10)\n",
    "plt.title('Stations loading - 3 Clusters - Kmeans ', fontsize=15)\n",
    "plt.colorbar(im)\n",
    "plt.xlabel('Longitude', fontsize=10)\n",
    "plt.ylabel('Latitude', fontsize=10)\n",
    "plt.tick_params(axis='x', labelsize=10)\n",
    "plt.tick_params(axis='y', labelsize=10)\n",
    "plt.grid(False)\n",
    "\n",
    "plt.subplot(1,2,2)\n",
    "im = plt.scatter(coord.longitude, coord.latitude, c=clusters_ac3, cmap=cmap3, s=10)\n",
    "plt.title('Stations loading - 3 Clusters - CAH', fontsize=15)\n",
    "plt.colorbar(im)\n",
    "plt.xlabel('Longitude', fontsize=10)\n",
    "plt.ylabel('Latitude', fontsize=10)\n",
    "plt.tick_params(axis='x', labelsize=10)\n",
    "plt.tick_params(axis='y', labelsize=10)\n",
    "plt.grid(False)\n",
    "\n",
    "plt.tight_layout()\n",
    "plt.show()\n",
    "\n",
    "diffPlot(clusters_ac3, clusters_kmeans3_sorted_ac )"
   ]
  },
  {
   "cell_type": "markdown",
   "id": "qm477wlDl76G",
   "metadata": {
    "id": "qm477wlDl76G"
   },
   "source": [
    "##### CAH Vs GMM"
   ]
  },
  {
   "cell_type": "code",
   "execution_count": null,
   "id": "j_jlQmgLl76I",
   "metadata": {
    "id": "j_jlQmgLl76I"
   },
   "outputs": [],
   "source": [
    "plt.figure(figsize=(8,6))\n",
    "\n",
    "cm3ter, clusters_ac3_gmm3_sorted_ter = matchClasses(clusters_gmm3,clusters_ac3)\n",
    "\n",
    "ConfusionMatrixDisplay(cm3ter).plot()\n",
    "plt.xlabel('Méthode CAH')\n",
    "plt.ylabel('Méthode GMM')\n",
    "plt.title(\"Matrice de confusion pour les méthodes CAH et GMM avec ajustement des classes\")"
   ]
  },
  {
   "cell_type": "code",
   "execution_count": null,
   "id": "N7x0KfXvl76I",
   "metadata": {
    "id": "N7x0KfXvl76I"
   },
   "outputs": [],
   "source": [
    "plt.figure(figsize=(15,6))\n",
    "\n",
    "plt.subplot(1,2,1)\n",
    "im = plt.scatter(coord.longitude, coord.latitude, c=clusters_ac3_gmm3_sorted_ter, cmap=cmap3, s=10)\n",
    "plt.title('Stations loading - 3 Clusters - CAH ', fontsize=15)\n",
    "plt.colorbar(im)\n",
    "plt.xlabel('Longitude', fontsize=10)\n",
    "plt.ylabel('Latitude', fontsize=10)\n",
    "plt.tick_params(axis='x', labelsize=10)\n",
    "plt.tick_params(axis='y', labelsize=10)\n",
    "plt.grid(False)\n",
    "\n",
    "plt.subplot(1,2,2)\n",
    "im = plt.scatter(coord.longitude, coord.latitude, c=clusters_gmm3, cmap=cmap3, s=10)\n",
    "plt.title('Stations loading - 3 Clusters - GMM', fontsize=15)\n",
    "plt.colorbar(im)\n",
    "plt.xlabel('Longitude', fontsize=10)\n",
    "plt.ylabel('Latitude', fontsize=10)\n",
    "plt.tick_params(axis='x', labelsize=10)\n",
    "plt.tick_params(axis='y', labelsize=10)\n",
    "plt.grid(False)\n",
    "\n",
    "plt.tight_layout()\n",
    "plt.show()\n",
    "\n",
    "diffPlot(clusters_gmm3, clusters_ac3_gmm3_sorted_ter)"
   ]
  },
  {
   "cell_type": "markdown",
   "id": "kNWH2nJul76J",
   "metadata": {
    "id": "kNWH2nJul76J"
   },
   "source": [
    "Cette fois-ci les méthodes $k$-means et CAH comptent environ 17% de différence dans la classification des stations, tandis que $k$-means et GMM en comportent 21%, et enfin CAH et GMM en comptent 14%.\n",
    "\n",
    "Globalement, les résultats pour 3 clusters sont similaires à ceux obtenus pour 4 clusters. Ainsi, ici la réduction du nombre de clusters n'a pas particulièrement amélioré les résultats."
   ]
  },
  {
   "cell_type": "markdown",
   "id": "OqjHrQPuQGLh",
   "metadata": {
    "id": "OqjHrQPuQGLh"
   },
   "source": [
    "## Jeu de données complet"
   ]
  },
  {
   "cell_type": "markdown",
   "id": "0u37dyGjxgoD",
   "metadata": {
    "id": "0u37dyGjxgoD"
   },
   "source": [
    "### Clustering avec la méthode $k$-means\n",
    "\n"
   ]
  },
  {
   "cell_type": "markdown",
   "id": "k6fUN_KIxgoH",
   "metadata": {
    "id": "k6fUN_KIxgoH"
   },
   "source": [
    "On va d'abord chercher à déterminer le nombre de clusters optimal sur notre jeu de données complet. Pour cela nous allons comparer les valeurs obtenues via la méthode du coude d'une part et le score silhouette d'autre part."
   ]
  },
  {
   "cell_type": "code",
   "execution_count": null,
   "id": "nzVCHbtxxgoI",
   "metadata": {
    "id": "nzVCHbtxxgoI"
   },
   "outputs": [],
   "source": [
    "kmeans_complete = KMeans(init='k-means++', n_init='auto', max_iter=100, random_state=42)\n",
    "visualizer = KElbowVisualizer(kmeans, k=(3,12)) # on teste une initialisation à 3\n",
    "\n",
    "visualizer.fit(loading)\n",
    "visualizer.show()"
   ]
  },
  {
   "cell_type": "code",
   "execution_count": null,
   "id": "s1hgKD25xgoJ",
   "metadata": {
    "id": "s1hgKD25xgoJ"
   },
   "outputs": [],
   "source": [
    "kmeans2 = KMeans(init='k-means++', n_init='auto', max_iter=100, random_state=42)\n",
    "visualizer2 = KElbowVisualizer(kmeans2, k=(2,12)) # on teste une initialisation à deux cette fois-ci\n",
    "\n",
    "visualizer2.fit(loading)\n",
    "visualizer2.show()"
   ]
  },
  {
   "cell_type": "markdown",
   "id": "hbsrhvlExgoK",
   "metadata": {
    "id": "hbsrhvlExgoK"
   },
   "source": [
    "En utilisant la méthode du coude, on remarque que le nombre de clusters est optimal pour k=7, c'est-à-dire lorsque l'on a 7 classes, si l'initialisation est faite à k=3. En revanche, si elle est faite à k=2, alors le nombre de clusters optimal est 4."
   ]
  },
  {
   "cell_type": "code",
   "execution_count": null,
   "id": "pcR_Mks0xgoK",
   "metadata": {
    "id": "pcR_Mks0xgoK"
   },
   "outputs": [],
   "source": [
    "fig, ax = plt.subplots(4, 2, figsize=(15,8))\n",
    "\n",
    "for k in range(2, 10):\n",
    "    kmeans = KMeans(n_clusters=k, init='k-means++', n_init='auto', max_iter=100, random_state=42)\n",
    "    q, mod = divmod(k, 2) #fait une division euclidiennne et renvoie le quotient et le reste\n",
    "\n",
    "    visualizer = SilhouetteVisualizer(kmeans, colors='yellowbrick', ax=ax[q-1][mod])\n",
    "    visualizer.fit(loading)\n",
    "\n",
    "    silhouette_scores = visualizer.silhouette_score_ #recuperation du score silhouette moyen\n",
    "\n",
    "    ax[q-1][mod].text(0.5, 0, f'Silhouette Score: {silhouette_scores:.2f}',\n",
    "                       transform=ax[q-1][mod].transAxes,\n",
    "                       ha='center')"
   ]
  },
  {
   "cell_type": "code",
   "execution_count": null,
   "id": "LKTJU5yZb7zZ",
   "metadata": {
    "id": "LKTJU5yZb7zZ"
   },
   "outputs": [],
   "source": []
  },
  {
   "cell_type": "markdown",
   "id": "fnJq5HkOxgoL",
   "metadata": {
    "id": "fnJq5HkOxgoL"
   },
   "source": [
    "Le score silhouette étant le plus élevé pour k = 2, il nous donne cette fois-ci un nombre de clusters plus faible."
   ]
  },
  {
   "cell_type": "markdown",
   "id": "FWpLntHkxgoM",
   "metadata": {
    "id": "FWpLntHkxgoM"
   },
   "source": [
    "Pour la suite, nous déciderons donc de comparer la méthode $k$-means appliquée respectivement à 6, 3 et 2 clusters : 6 et 3 pour pouvoir comparer avec nos clusters sur la base de données réduite, et 2 en se fiant au score silhouette."
   ]
  },
  {
   "cell_type": "code",
   "execution_count": null,
   "id": "0qdxjTEmxgoM",
   "metadata": {
    "id": "0qdxjTEmxgoM"
   },
   "outputs": [],
   "source": [
    "plt.figure(figsize=(20, 6))\n",
    "\n",
    "plt.subplot(1,3,1)\n",
    "kmeans_pca_complete = KMeans(n_clusters=K, init='k-means++', n_init='auto', random_state=0)\n",
    "clusters_pca_complete = kmeans_pca_complete.fit_predict(loading)\n",
    "plt.bar(*np.unique(clusters_pca_complete, return_counts=True), color=cmap.colors)\n",
    "plt.ylabel(\"Occurences\")\n",
    "plt.title('Répartition des stations pour 6 clusters')\n",
    "\n",
    "plt.subplot(1,3,2)\n",
    "kmeans_pca_complete3 = KMeans(n_clusters=K3, init='k-means++', n_init='auto', random_state=0)\n",
    "clusters_pca_complete3 = kmeans_pca_complete3.fit_predict(loading)\n",
    "plt.bar(*np.unique(clusters_pca_complete3, return_counts=True), color=cmap3.colors)\n",
    "plt.ylabel(\"Occurences\")\n",
    "plt.title('Répartition des stations pour 3 clusters')\n",
    "\n",
    "plt.subplot(1,3,3)\n",
    "K2 = 2\n",
    "kmeans_pca_complete2 = KMeans(n_clusters=K2, init='k-means++', n_init='auto', random_state=0)\n",
    "clusters_pca_complete2 = kmeans_pca_complete2.fit_predict(loading)\n",
    "cmap2 = plt.get_cmap('Set3',K2)\n",
    "plt.bar(*np.unique(clusters_pca_complete2, return_counts=True), color=cmap2.colors)\n",
    "plt.ylabel(\"Occurences\")\n",
    "plt.title('Répartition des stations pour 2 clusters')\n",
    "\n",
    "plt.show()"
   ]
  },
  {
   "cell_type": "markdown",
   "id": "42636jydxgoM",
   "metadata": {
    "id": "42636jydxgoM"
   },
   "source": [
    "<B> En utilisant 6 classes : </B>\n",
    "\n",
    "Les clusters formés en utlisant 6 classes regroupent un nombre d'individus relativement homogène pour les classes 3, 4 et 5.\n",
    "\n",
    "La classe 1 concentre un plus grand nombre d'individus que les autres, par opposition à la classe 0 qui en rassemble bien moins. On peut donc s'attendre à une classe d'individus relativement hétérogène dans le premier cas, et au contraire à une classe d'individus très spécifiques dans le second.\n",
    "\n",
    "<B> En utilisant 3 classes : </B>\n",
    "\n",
    "Les trois classes regroupent un nombre d'individus assez différents, avec notamment une classe 1 qui risque d'être plus hétérogène puisque contenant le plus d'individus.\n",
    "\n",
    "<B> En utilisant 2 classes : </B>\n",
    "\n",
    "Comme précédemment, les deux classes ont des effectifs assez différents.\n",
    "\n",
    "Ainsi peu importe le nombre total de clusters, il y a toujours une classe qui rassemble plus de stations que les autres."
   ]
  },
  {
   "cell_type": "markdown",
   "id": "WthfUUUKxgoN",
   "metadata": {
    "id": "WthfUUUKxgoN"
   },
   "source": [
    "#### Avec 6 clusters"
   ]
  },
  {
   "cell_type": "code",
   "execution_count": null,
   "id": "EAB8C9H-zHi_",
   "metadata": {
    "id": "EAB8C9H-zHi_"
   },
   "outputs": [],
   "source": [
    "plt.figure(figsize=(20, 6))\n",
    "\n",
    "plt.subplot(1,3,1)\n",
    "plt.scatter(loading_pca[:, 0], loading_pca[:, 1], s=8, linewidths=1, alpha=0.7, c=clusters_pca_complete, cmap = cmap)\n",
    "plt.title(\"Graphe des individus de l'ACP pour 6 clusters\")\n",
    "plt.xlabel('Composante Principale 1')\n",
    "plt.ylabel('Composante Principale 2')\n",
    "\n",
    "plt.subplot(1,3,2)\n",
    "im = plt.scatter(coord.longitude, coord.latitude, c=clusters_pca_complete, cmap=cmap, s= 15)\n",
    "plt.title('Stations loading - 6 Clusters - Méthode K-means', fontsize=15)\n",
    "plt.colorbar(im)\n",
    "plt.xlabel('Longitude', fontsize=10)\n",
    "plt.ylabel('Latitude', fontsize=10)\n",
    "plt.tick_params(axis='x', labelsize=10)\n",
    "plt.tick_params(axis='y', labelsize=10)\n",
    "\n",
    "plt.subplot(1,3,3)\n",
    "x = np.arange(0, 168)\n",
    "for i in range(K):\n",
    "    plt.plot(x, np.mean(loading.to_numpy()[clusters_pca_complete == i], axis = 0), color=cmap.colors[i])\n",
    "plt.xlabel(\"Heures de la semaine\")\n",
    "plt.ylabel(\"Valeur mesurée\")\n",
    "plt.title(\"Valeur mesurée pour 6 clusters - K-means\")\n",
    "\n",
    "plt.show()"
   ]
  },
  {
   "cell_type": "code",
   "execution_count": null,
   "id": "9F-vA7w5xgoN",
   "metadata": {
    "id": "9F-vA7w5xgoN"
   },
   "outputs": [],
   "source": [
    "plt.figure(figsize=(20, 10))\n",
    "\n",
    "plt.subplot(2,3,1)\n",
    "plt.plot(x, np.mean(loading.to_numpy()[clusters_pca_complete == 0], axis = 0), color=cmap.colors[0])\n",
    "for t in time_tick:\n",
    "    plt.axvline(t+8, color='black', linestyle='--')  # Lignes verticales en pointillés noirs\n",
    "    plt.axvline(t+23, color='deeppink', linestyle='--')  # Lignes verticales en pointillés roses\n",
    "plt.xlabel(\"Heures de la semaine\")\n",
    "plt.ylabel(\"Valeur mesurée\")\n",
    "plt.title(\"Cluster 0\")\n",
    "\n",
    "plt.subplot(2,3,2)\n",
    "plt.plot(x, np.mean(loading.to_numpy()[clusters_pca_complete == 1], axis = 0), color=cmap.colors[1])\n",
    "for t in time_tick:\n",
    "    plt.axvline(t+8, color='black', linestyle='--')  # Lignes verticales en pointillés noirs\n",
    "    plt.axvline(t+18, color='green', linestyle='--')  # Lignes verticales en pointillés verts\n",
    "plt.xlabel(\"Heures de la semaine\")\n",
    "plt.ylabel(\"Valeur mesurée\")\n",
    "plt.title(\"Cluster 1\")\n",
    "\n",
    "plt.subplot(2,3,3)\n",
    "plt.plot(x, np.mean(loading.to_numpy()[clusters_pca_complete == 2], axis = 0), color=cmap.colors[2])\n",
    "for t in time_tick:\n",
    "    plt.axvline(t+8, color='black', linestyle='--')  # Lignes verticales en pointillés noirs\n",
    "    plt.axvline(t+18, color='green', linestyle='--')  # Lignes verticales en pointillés verts\n",
    "plt.xlabel(\"Heures de la semaine\")\n",
    "plt.ylabel(\"Valeur mesurée\")\n",
    "plt.title(\"Cluster 2\")\n",
    "\n",
    "plt.subplot(2,3,4)\n",
    "plt.plot(x, np.mean(loading.to_numpy()[clusters_pca_complete == 3], axis = 0), color=cmap.colors[3])\n",
    "for t in time_tick:\n",
    "    plt.axvline(t+8, color='black', linestyle='--')  # Lignes verticales en pointillés noirs\n",
    "    plt.axvline(t+18, color='green', linestyle='--')  # Lignes verticales en pointillés verts\n",
    "plt.xlabel(\"Heures de la semaine\")\n",
    "plt.ylabel(\"Valeur mesurée\")\n",
    "plt.title(\"Cluster 3\")\n",
    "\n",
    "plt.subplot(2,3,5)\n",
    "plt.plot(x, np.mean(loading.to_numpy()[clusters_pca_complete == 4], axis = 0), color=cmap.colors[4])\n",
    "for t in time_tick:\n",
    "    plt.axvline(t+8, color='black', linestyle='--')  # Lignes verticales en pointillés noirs\n",
    "    plt.axvline(t+18, color='green', linestyle='--')  # Lignes verticales en pointillés verts\n",
    "plt.xlabel(\"Heures de la semaine\")\n",
    "plt.ylabel(\"Valeur mesurée\")\n",
    "plt.title(\"Cluster 4\")\n",
    "\n",
    "plt.subplot(2,3,6)\n",
    "plt.plot(x, np.mean(loading.to_numpy()[clusters_pca_complete == 5], axis = 0), color=cmap.colors[5])\n",
    "for t in time_tick:\n",
    "    plt.axvline(t+8, color='black', linestyle='--')  # Lignes verticales en pointillés noirs\n",
    "    plt.axvline(t+18, color='green', linestyle='--')  # Lignes verticales en pointillés verts\n",
    "plt.xlabel(\"Heures de la semaine\")\n",
    "plt.ylabel(\"Valeur mesurée\")\n",
    "plt.title(\"Cluster 5\")\n",
    "\n",
    "plt.show()"
   ]
  },
  {
   "cell_type": "code",
   "execution_count": null,
   "id": "xH4ylf88xgoP",
   "metadata": {
    "id": "xH4ylf88xgoP"
   },
   "outputs": [],
   "source": [
    "plt.figure(figsize=(20, 6))\n",
    "\n",
    "plt.subplot(1,3,1)\n",
    "im = plt.scatter(coord.longitude, coord.latitude, c=clusters_pca_complete, cmap=cmap, s= 15)\n",
    "plt.title('Stations loading - 6 Clusters - Méthode K-means', fontsize=15)\n",
    "plt.colorbar(im)\n",
    "plt.xlabel('Longitude', fontsize=10)\n",
    "plt.ylabel('Latitude', fontsize=10)\n",
    "plt.tick_params(axis='x', labelsize=10)\n",
    "plt.tick_params(axis='y', labelsize=10)\n",
    "plt.tight_layout()\n",
    "\n",
    "plt.subplot(1,3,2)\n",
    "couleurs = {1: 'blue', 0: 'yellow'}\n",
    "sctrplt = plt.scatter(coord['longitude'], coord['latitude'], c=coord['localisation'].map(couleurs))\n",
    "plt.xlabel('Longitude', fontsize=10)\n",
    "plt.ylabel('Latitude', fontsize=10)\n",
    "plt.title('Stations proches ou non de la Seine', fontsize=15)\n",
    "legend_elements = [Line2D([0], [0], marker='o', color='w', markerfacecolor=color, markersize=10, label=label) for label, color in couleurs.items()]\n",
    "plt.legend(handles=legend_elements, labels=[\"Seine\", \"Autre\"], fontsize=10)\n",
    "\n",
    "plt.subplot(1,3,3)\n",
    "couleurs = {1: 'red', 0: 'lightgreen'}\n",
    "sctrplt = plt.scatter(coord['longitude'], coord['latitude'], c=coord['bonus'].map(couleurs))\n",
    "plt.xlabel('Longitude', fontsize=10)\n",
    "plt.ylabel('Latitude', fontsize=10)\n",
    "plt.title('Altitude des stations', fontsize=15)\n",
    "legend_elements = [Line2D([0], [0], marker='o', color='w', markerfacecolor=color, markersize=10, label=label) for label, color in couleurs.items()]\n",
    "plt.legend(handles=legend_elements, labels=[\"Colline\", \"Vallée\"], fontsize=10)\n",
    "plt.show()\n"
   ]
  },
  {
   "cell_type": "markdown",
   "id": "pTS9Osue9cQD",
   "metadata": {
    "id": "pTS9Osue9cQD"
   },
   "source": [
    "<B> Cluster 0 : </B> Stations qui se remplissent beaucoup entre 8h et 23h et se vident \"la nuit\" : utilisateurs qui finissent leur service très tard notamment (zone proche de la Seine et de la zone de travail du cluster 3). Les caractéristiques de ce cluster sont proches de ce que nous avons vu dans le jeu de données réduit via la méthode CAH dans le cas à 6 clusters (il s'agissait du cluster 5). En revanche, il n' y avait pas de cluster semblable sur le jeu de données réduit via la méthode $k$-means. Comme évoqué dans le diagramme de répartition des stations, il s'agit d'un cluster très spécifique qui regroupe peu d'individus. Ceci peu expliquer le fait qu'il n'apparaissait pas dans le jeu de données réduit.\n",
    "\n",
    "<B> Cluster 1 : </B> Stations globalement peu remplies et qui se vident d'autant plus sur les horaires d'activités (8h -18h), ce qui correspond aux zones qui inclut notamment les zones \"difficiles d'accès\" en altitude (en témoigne la carte d'altitude ci-dessus et le graphe en mosaïques ci-dessous) ainsi que des quartiers résidentiels.\n",
    "\n",
    "<B> Cluster 2 : </B> Les variations de la densité de Vélib' de ces stations évoquent une zone d'activité. On observe aussi une plus forte densité le weekend. Cependant ce cluster comporte en fait peu d'individus et en regardant la carte \"loading station\" on s'aperçoit que les stations sont réparties de manière éparse sur la carte. Il est donc difficile de caractériser ce cluster.\n",
    "\n",
    "<B> Cluster 3 : </B> Stations qui se remplissent sur les heures d'activités et se vident en dehors. Correspond aux zones de travail.\n",
    "\n",
    "<B> Cluster 4 : </B> Stations avec de fortes variations de la densité de Vélib'. Elles se vident pendant les heures d'activités et se remplissent en dehors. Il s'agit de zones résidentielles.\n",
    "\n",
    "<B> Cluster 5 : </B> Stations où la densité de vélos est plus faible entre 8h et 18h, mais sans trop grande variation (stations qui contiennent toujours beaucoup de Vélib'). Elles comptent d'autant plus de Vélib' le weekend. Il s'agit de zones majoritairement situées dans le centre-ville en bord de Seine : zones de transition (sorties de métro, gares...) et activités du centre-ville qui engendrent de courts déplacements des utilisateurs pour aller d'un lieu à un autre."
   ]
  },
  {
   "cell_type": "code",
   "execution_count": null,
   "id": "cvN601XexgoP",
   "metadata": {
    "id": "cvN601XexgoP"
   },
   "outputs": [],
   "source": [
    "plt.figure(figsize=(8, 6))\n",
    "crosstable = pd.crosstab(clusters_pca_complete,coord['bonus'])\n",
    "sp.mosaic(crosstable.stack(),title='Mosaicplot clusters-altitude', labelizer=no_label)\n",
    "plt.show()"
   ]
  },
  {
   "cell_type": "code",
   "execution_count": null,
   "id": "pd_D7ZOMxgoP",
   "metadata": {
    "id": "pd_D7ZOMxgoP"
   },
   "outputs": [],
   "source": [
    "plt.figure(figsize=(8, 6))\n",
    "crosstable = pd.crosstab(clusters_pca_complete,coord['localisation'])\n",
    "sp.mosaic(crosstable.stack(),title='Mosaicplot clusters-Seine', labelizer=no_label)\n",
    "plt.show()"
   ]
  },
  {
   "cell_type": "markdown",
   "id": "6HZyK8h8xgoQ",
   "metadata": {
    "id": "6HZyK8h8xgoQ"
   },
   "source": [
    "#### Avec 3 clusters"
   ]
  },
  {
   "cell_type": "code",
   "execution_count": null,
   "id": "-wM1jO7wxgoQ",
   "metadata": {
    "id": "-wM1jO7wxgoQ"
   },
   "outputs": [],
   "source": [
    "plt.figure(figsize=(20, 6))\n",
    "\n",
    "plt.subplot(1,3,1)\n",
    "plt.scatter(loading_pca[:, 0], loading_pca[:, 1], s=8, linewidths=1, alpha=0.7, c=clusters_pca_complete3, cmap = cmap3)\n",
    "plt.title(\"Graphe des individus de l'ACP pour 3 clusters\")\n",
    "plt.xlabel('Composante Principale 1')\n",
    "plt.ylabel('Composante Principale 2')\n",
    "\n",
    "plt.subplot(1,3,2)\n",
    "im = plt.scatter(coord.longitude, coord.latitude, c=clusters_pca_complete3, cmap=cmap3, s= 15)\n",
    "plt.title('Stations loading - 3 Clusters - Méthode K-means', fontsize=15)\n",
    "plt.colorbar(im)\n",
    "plt.xlabel('Longitude', fontsize=10)\n",
    "plt.ylabel('Latitude', fontsize=10)\n",
    "plt.tick_params(axis='x', labelsize=10)\n",
    "plt.tick_params(axis='y', labelsize=10)\n",
    "\n",
    "plt.subplot(1,3,3)\n",
    "x = np.arange(0, 168)\n",
    "for i in range(K3):\n",
    "    plt.plot(x, np.mean(loading.to_numpy()[clusters_pca_complete3 == i], axis = 0), color=cmap3.colors[i])\n",
    "plt.xlabel(\"Heures de la semaine\")\n",
    "plt.ylabel(\"Valeur mesurée\")\n",
    "plt.title(\"Valeur mesurée pour 3 clusters - K-means\")\n",
    "\n",
    "plt.tight_layout()\n",
    "plt.show()"
   ]
  },
  {
   "cell_type": "code",
   "execution_count": null,
   "id": "jKK3W2XIxgoQ",
   "metadata": {
    "id": "jKK3W2XIxgoQ"
   },
   "outputs": [],
   "source": [
    "plt.figure(figsize=(20, 6))\n",
    "\n",
    "plt.subplot(1,3,1)\n",
    "plt.plot(x, np.mean(loading.to_numpy()[clusters_pca_complete3 == 0], axis = 0), color=cmap3.colors[0])\n",
    "for t in time_tick:\n",
    "    plt.axvline(t+8, color='black', linestyle='--')  # Lignes verticales en pointillés noirs\n",
    "    plt.axvline(t+18, color='green', linestyle='--')  # Lignes verticales en pointillés verts\n",
    "plt.xlabel(\"Heures de la semaine\")\n",
    "plt.ylabel(\"Valeur mesurée\")\n",
    "plt.title(\"Cluster 0\")\n",
    "\n",
    "plt.subplot(1,3,2)\n",
    "plt.plot(x, np.mean(loading.to_numpy()[clusters_pca_complete3 == 1], axis = 0), color=cmap3.colors[1])\n",
    "for t in time_tick:\n",
    "    plt.axvline(t+8, color='black', linestyle='--')  # Lignes verticales en pointillés noirs\n",
    "    plt.axvline(t+18, color='green', linestyle='--')  # Lignes verticales en pointillés verts\n",
    "plt.xlabel(\"Heures de la semaine\")\n",
    "plt.ylabel(\"Valeur mesurée\")\n",
    "plt.title(\"Cluster 1\")\n",
    "\n",
    "plt.subplot(1,3,3)\n",
    "plt.plot(x, np.mean(loading.to_numpy()[clusters_pca_complete3 == 2], axis = 0), color=cmap3.colors[2])\n",
    "for t in time_tick:\n",
    "    plt.axvline(t+8, color='black', linestyle='--')  # Lignes verticales en pointillés noirs\n",
    "    plt.axvline(t+18, color='green', linestyle='--')  # Lignes verticales en pointillés verts\n",
    "plt.xlabel(\"Heures de la semaine\")\n",
    "plt.ylabel(\"Valeur mesurée\")\n",
    "plt.title(\"Cluster 2\")\n",
    "\n",
    "plt.show()"
   ]
  },
  {
   "cell_type": "code",
   "execution_count": null,
   "id": "REVvEQX5xgoR",
   "metadata": {
    "id": "REVvEQX5xgoR"
   },
   "outputs": [],
   "source": [
    "plt.figure(figsize=(20, 6))\n",
    "\n",
    "plt.subplot(1,3,1)\n",
    "im = plt.scatter(coord.longitude, coord.latitude, c=clusters_pca_complete3, cmap=cmap3, s= 15)\n",
    "plt.title('Stations loading - 3 Clusters - Méthode K-means', fontsize=15)\n",
    "plt.colorbar(im)\n",
    "plt.xlabel('Longitude', fontsize=10)\n",
    "plt.ylabel('Latitude', fontsize=10)\n",
    "plt.tick_params(axis='x', labelsize=10)\n",
    "plt.tick_params(axis='y', labelsize=10)\n",
    "plt.tight_layout()\n",
    "\n",
    "plt.subplot(1,3,2)\n",
    "couleurs = {1: 'blue', 0: 'yellow'}\n",
    "sctrplt = plt.scatter(coord['longitude'], coord['latitude'], c=coord['localisation'].map(couleurs))\n",
    "plt.xlabel('Longitude', fontsize=10)\n",
    "plt.ylabel('Latitude', fontsize=10)\n",
    "plt.title('Stations proches ou non de la Seine', fontsize=15)\n",
    "legend_elements = [Line2D([0], [0], marker='o', color='w', markerfacecolor=color, markersize=10, label=label) for label, color in couleurs.items()]\n",
    "plt.legend(handles=legend_elements, labels=[\"Seine\", \"Autre\"], fontsize=10)\n",
    "\n",
    "plt.subplot(1,3,3)\n",
    "couleurs = {1: 'red', 0: 'lightgreen'}\n",
    "sctrplt = plt.scatter(coord['longitude'], coord['latitude'], c=coord['bonus'].map(couleurs))\n",
    "plt.xlabel('Longitude', fontsize=10)\n",
    "plt.ylabel('Latitude', fontsize=10)\n",
    "plt.title('Altitude des stations', fontsize=15)\n",
    "legend_elements = [Line2D([0], [0], marker='o', color='w', markerfacecolor=color, markersize=10, label=label) for label, color in couleurs.items()]\n",
    "plt.legend(handles=legend_elements, labels=[\"Colline\", \"Vallée\"], fontsize=10)\n",
    "plt.show()"
   ]
  },
  {
   "cell_type": "markdown",
   "id": "hqv7j4i7HE7b",
   "metadata": {
    "id": "hqv7j4i7HE7b"
   },
   "source": [
    "<B> Cluster 0 : </B> Stations avec une importante diminution de la densité de Vélib' sur les heures d'activités mais qui garde malgré tout une densité de Vélib' assez élevée. Ce cluster contient donc des quartiers résidentiels ainsi que des zones du centre-ville (zones de transition et d'activité).\n",
    "\n",
    "<B> Cluster 1 : </B> Stations avec globalement peu de Vélib' et une légère diminution sur les horaires d'activités. Ce cluster contient donc des zones résidentielles et notamment celles situées en altitude. Nous avons vu précédemment que ce cluster est celui qui contient le plus d'individus, ce qui explique qu'il s'étende sur autant de zones résidentielles sans chercher à les distinguer.\n",
    "\n",
    "<B> Cluster 2 : </B> Stations avec une augmentation de la densité des Vélib' sur les heures d'activités et beaucoup moins de Vélib' le weekend. Correspond aux zones de travail."
   ]
  },
  {
   "cell_type": "code",
   "execution_count": null,
   "id": "2nIZyvoRxgoS",
   "metadata": {
    "id": "2nIZyvoRxgoS"
   },
   "outputs": [],
   "source": [
    "plt.figure(figsize=(8, 6))\n",
    "crosstable = pd.crosstab(clusters_pca_complete3,coord['bonus'])\n",
    "sp.mosaic(crosstable.stack(),title='Mosaicplot clusters-altitude', labelizer=no_label)\n",
    "plt.show()"
   ]
  },
  {
   "cell_type": "code",
   "execution_count": null,
   "id": "GwiOEoigxgoS",
   "metadata": {
    "id": "GwiOEoigxgoS"
   },
   "outputs": [],
   "source": [
    "plt.figure(figsize=(8, 6))\n",
    "crosstable = pd.crosstab(clusters_pca_complete3,coord['localisation'])\n",
    "sp.mosaic(crosstable.stack(),title='Mosaicplot clusters-Seine', labelizer=no_label)\n",
    "plt.show()"
   ]
  },
  {
   "cell_type": "markdown",
   "id": "btx7qm1fxgoU",
   "metadata": {
    "id": "btx7qm1fxgoU"
   },
   "source": [
    "#### Avec 2 clusters"
   ]
  },
  {
   "cell_type": "code",
   "execution_count": null,
   "id": "RubVSF8cxgoU",
   "metadata": {
    "id": "RubVSF8cxgoU"
   },
   "outputs": [],
   "source": [
    "plt.figure(figsize=(20, 6))\n",
    "\n",
    "plt.subplot(1,3,1)\n",
    "plt.scatter(loading_pca[:, 0], loading_pca[:, 1], s=8, linewidths=1, alpha=0.7, c=clusters_pca_complete2, cmap = cmap2)\n",
    "plt.title(\"Graphe des individus de l'ACP pour 2 clusters\")\n",
    "plt.xlabel('Composante Principale 1')\n",
    "plt.ylabel('Composante Principale 2')\n",
    "\n",
    "plt.subplot(1,3,2)\n",
    "im = plt.scatter(coord.longitude, coord.latitude, c=clusters_pca_complete2, cmap=cmap2, s= 15)\n",
    "plt.title('Stations loading - 2 Clusters - Méthode K-means', fontsize=15)\n",
    "plt.colorbar(im)\n",
    "plt.xlabel('Longitude', fontsize=10)\n",
    "plt.ylabel('Latitude', fontsize=10)\n",
    "plt.tick_params(axis='x', labelsize=10)\n",
    "plt.tick_params(axis='y', labelsize=10)\n",
    "\n",
    "plt.subplot(1,3,3)\n",
    "x = np.arange(0, 168)\n",
    "for i in range(K2):\n",
    "    plt.plot(x, np.mean(loading.to_numpy()[clusters_pca_complete2 == i], axis = 0), color=cmap2.colors[i])\n",
    "plt.xlabel(\"Heures de la semaine\")\n",
    "plt.ylabel(\"Valeur mesurée\")\n",
    "plt.title(\"Valeur mesurée pour 2 clusters - K-means\")\n",
    "\n",
    "plt.show()"
   ]
  },
  {
   "cell_type": "code",
   "execution_count": null,
   "id": "c6XjfMhVxgoU",
   "metadata": {
    "id": "c6XjfMhVxgoU"
   },
   "outputs": [],
   "source": [
    "plt.figure(figsize=(20, 5))\n",
    "\n",
    "plt.subplot(1,2,1)\n",
    "plt.plot(x, np.mean(loading.to_numpy()[clusters_pca_complete2 == 0], axis = 0), color=cmap2.colors[0])\n",
    "for t in time_tick:\n",
    "    plt.axvline(t+8, color='black', linestyle='--')  # Lignes verticales en pointillés noirs\n",
    "    plt.axvline(t+18, color='green', linestyle='--')  # Lignes verticales en pointillés verts\n",
    "plt.xlabel(\"Heures de la semaine\")\n",
    "plt.ylabel(\"Valeur mesurée\")\n",
    "plt.title(\"Cluster 0\")\n",
    "\n",
    "plt.subplot(1,2,2)\n",
    "plt.plot(x, np.mean(loading.to_numpy()[clusters_pca_complete2 == 1], axis = 0), color=cmap2.colors[1])\n",
    "for t in time_tick:\n",
    "    plt.axvline(t+8, color='black', linestyle='--')  # Lignes verticales en pointillés noirs\n",
    "    plt.axvline(t+18, color='green', linestyle='--')  # Lignes verticales en pointillés verts\n",
    "plt.xlabel(\"Heures de la semaine\")\n",
    "plt.ylabel(\"Valeur mesurée\")\n",
    "plt.title(\"Cluster 1\")\n",
    "\n",
    "plt.show()"
   ]
  },
  {
   "cell_type": "code",
   "execution_count": null,
   "id": "QLGpokr_xgoU",
   "metadata": {
    "id": "QLGpokr_xgoU"
   },
   "outputs": [],
   "source": [
    "plt.figure(figsize=(20, 6))\n",
    "\n",
    "plt.subplot(1,3,1)\n",
    "im = plt.scatter(coord.longitude, coord.latitude, c=clusters_pca_complete2, cmap=cmap2, s= 15)\n",
    "plt.title('Stations loading - 2 Clusters - Méthode K-means', fontsize=15)\n",
    "plt.colorbar(im)\n",
    "plt.xlabel('Longitude', fontsize=10)\n",
    "plt.ylabel('Latitude', fontsize=10)\n",
    "plt.tick_params(axis='x', labelsize=10)\n",
    "plt.tick_params(axis='y', labelsize=10)\n",
    "plt.tight_layout()\n",
    "\n",
    "plt.subplot(1,3,2)\n",
    "couleurs = {1: 'blue', 0: 'yellow'}\n",
    "sctrplt = plt.scatter(coord['longitude'], coord['latitude'], c=coord['localisation'].map(couleurs))\n",
    "plt.xlabel('Longitude', fontsize=10)\n",
    "plt.ylabel('Latitude', fontsize=10)\n",
    "plt.title('Stations proches ou non de la Seine', fontsize=15)\n",
    "legend_elements = [Line2D([0], [0], marker='o', color='w', markerfacecolor=color, markersize=10, label=label) for label, color in couleurs.items()]\n",
    "plt.legend(handles=legend_elements, labels=[\"Seine\", \"Autre\"], fontsize=10)\n",
    "\n",
    "plt.subplot(1,3,3)\n",
    "couleurs = {1: 'red', 0: 'lightgreen'}\n",
    "sctrplt = plt.scatter(coord['longitude'], coord['latitude'], c=coord['bonus'].map(couleurs))\n",
    "plt.xlabel('Longitude', fontsize=10)\n",
    "plt.ylabel('Latitude', fontsize=10)\n",
    "plt.title('Altitude des stations', fontsize=15)\n",
    "legend_elements = [Line2D([0], [0], marker='o', color='w', markerfacecolor=color, markersize=10, label=label) for label, color in couleurs.items()]\n",
    "plt.legend(handles=legend_elements, labels=[\"Colline\", \"Vallée\"], fontsize=10)\n",
    "plt.show()"
   ]
  },
  {
   "cell_type": "markdown",
   "id": "R1EnWNu0J_V7",
   "metadata": {
    "id": "R1EnWNu0J_V7"
   },
   "source": [
    "<B> Cluster 0 : </B> Stations avec une densité globalement élevée de Vélib', diminuant pendant les heures d'activités et plus élevée le weekend qu'en semaine.\n",
    "\n",
    "<B> Cluster 1 : </B> Densité globalement faible de Vélib' (surtout le weekend) avec une légère augmentation sur les horaires d'activités.\n",
    "\n",
    "En combinant ces infomations et en visualisant la carte \"loading station\", le cluster 1 semble regrouper la zone de travail, les zones de plus haute altitude et des zones résidentielles. Le cluster 0 quant à lui contient a priori la zone d'activité au bord de la Seine évoquée dans les autres classifications ainsi que des quartiers résidentiels.\n",
    "\n",
    "Cependant ce regroupement d'individus semble peu pertinent ou peu \"intuitif\". En particulier, rien dans les analyses précédentes ne laissaient présager d'un lien quelconque entre les zones les plus en hauteurs (dites difficiles d'accès) et la zone d'activité. Or elles se retrouvent regroupées au sein d'un même cluster ici. De plus, rien ne permet de distinguer avec certitude les quartiers  résidentiels de chaque cluster. Travailler avec 2 clusters semble donc moins intéressant qu'avec 3 ou 6 clusters."
   ]
  },
  {
   "cell_type": "code",
   "execution_count": null,
   "id": "pwT8rm5sxgoV",
   "metadata": {
    "id": "pwT8rm5sxgoV"
   },
   "outputs": [],
   "source": [
    "plt.figure(figsize=(8, 6))\n",
    "crosstable = pd.crosstab(clusters_pca_complete2,coord['bonus'])\n",
    "sp.mosaic(crosstable.stack(),title='Mosaicplot clusters-altitude', labelizer=no_label)\n",
    "plt.show()"
   ]
  },
  {
   "cell_type": "code",
   "execution_count": null,
   "id": "zzoyySecxgoV",
   "metadata": {
    "id": "zzoyySecxgoV"
   },
   "outputs": [],
   "source": [
    "plt.figure(figsize=(8, 6))\n",
    "crosstable = pd.crosstab(clusters_pca_complete2,coord['localisation'])\n",
    "sp.mosaic(crosstable.stack(),title='Mosaicplot clusters-Seine', labelizer=no_label)\n",
    "plt.show()"
   ]
  },
  {
   "cell_type": "markdown",
   "id": "fooQE1IkrJRm",
   "metadata": {
    "id": "fooQE1IkrJRm"
   },
   "source": [
    "### Clustering agglomérant avec la méthode CAH"
   ]
  },
  {
   "cell_type": "code",
   "execution_count": null,
   "id": "N2UKrZz-rJRr",
   "metadata": {
    "id": "N2UKrZz-rJRr"
   },
   "outputs": [],
   "source": [
    "print(\"La taille de notre jeu de données loading est de  : \", loading.shape)"
   ]
  },
  {
   "cell_type": "markdown",
   "id": "v_dBkOFlrJRs",
   "metadata": {
    "id": "v_dBkOFlrJRs"
   },
   "source": [
    "La méthode CAH nécessite de travailler avec une quantité de données qui ne soit pas trop élevée (car c'est une méthode plus coûteuse que le $k$-means). Ici notre matrice complète est de taille 1189 x 168. On estimera que sa taille est correcte pour pouvoir lui appliquer la méthode CAH."
   ]
  },
  {
   "cell_type": "markdown",
   "id": "FdVM913RrJRs",
   "metadata": {
    "id": "FdVM913RrJRs"
   },
   "source": [
    "Là encore nous allons utliser la méthode du coude afin de choisir le nombre de clusters avec lesquels nous allons travailler."
   ]
  },
  {
   "cell_type": "code",
   "execution_count": null,
   "id": "icuhoOGjrJRt",
   "metadata": {
    "id": "icuhoOGjrJRt"
   },
   "outputs": [],
   "source": [
    "ac_complete = AgglomerativeClustering(linkage='ward', compute_distances=True)\n",
    "visualizer = KElbowVisualizer(ac_complete, k=(2,12))\n",
    "\n",
    "visualizer.fit(loading)\n",
    "visualizer.show()\n",
    "plt.show()"
   ]
  },
  {
   "cell_type": "markdown",
   "id": "W0MG6YfWrJRu",
   "metadata": {
    "id": "W0MG6YfWrJRu"
   },
   "source": [
    "Cette fois-ci, pour une initialisation à k=3, le nombre de clusters optimal est de 5 pour la méthode CAH. Si on décide d'initialiser à k=2, alors on obtient à nouveau une valeur optimale pour 5 classes. Comme précédemment travailler avec 6, 3 et 2 clusters nous a semblé plus pertinent afin de rester cohérent avec le travail effectué précédemment."
   ]
  },
  {
   "cell_type": "code",
   "execution_count": null,
   "id": "JgXioxOKrJRu",
   "metadata": {
    "id": "JgXioxOKrJRu"
   },
   "outputs": [],
   "source": [
    "plt.figure(figsize=(20, 6))\n",
    "\n",
    "plt.subplot(1,3,1)\n",
    "ac_complete = AgglomerativeClustering(n_clusters=K, compute_distances=True, linkage='ward')\n",
    "clusters_ac_complete = ac_complete.fit_predict(loading)\n",
    "plt.bar(*np.unique(clusters_ac_complete, return_counts=True), color=cmap.colors)\n",
    "plt.ylabel(\"Occurences\")\n",
    "plt.title('Répartition des stations pour 6 clusters')\n",
    "\n",
    "plt.subplot(1,3,2)\n",
    "ac_complete3 = AgglomerativeClustering(n_clusters=K3, compute_distances=True, linkage='ward')\n",
    "clusters_ac_complete3 = ac_complete3.fit_predict(loading)\n",
    "plt.bar(*np.unique(clusters_ac_complete3, return_counts=True), color=cmap3.colors)\n",
    "plt.ylabel(\"Occurences\")\n",
    "plt.title('Répartition des stations pour 3 clusters')\n",
    "\n",
    "plt.subplot(1,3,3)\n",
    "ac_complete2 = AgglomerativeClustering(n_clusters=K2, compute_distances=True, linkage='ward')\n",
    "clusters_ac_complete2 = ac_complete2.fit_predict(loading)\n",
    "plt.bar(*np.unique(clusters_ac_complete2, return_counts=True), color=cmap2.colors)\n",
    "plt.ylabel(\"Occurences\")\n",
    "plt.title('Répartition des stations pour 2 clusters')\n",
    "\n",
    "plt.show()"
   ]
  },
  {
   "cell_type": "markdown",
   "id": "HYVf9JkbVQ4P",
   "metadata": {
    "id": "HYVf9JkbVQ4P"
   },
   "source": [
    "Cette fois-ci, et contrairement à ce qui a été vu jusque là, dans les cas à 6 et 3 clusters, tous les groupes ont des effectifs relativement proches. On peut donc s'attendre à obtenir des clusters avec des caractéristiques assez homogènes (ni classe \"généraliste\" ni classe \"atypique\"). En revanche, le déséquilibre est de nouveau très fort dans le cas de 2 clusters."
   ]
  },
  {
   "cell_type": "markdown",
   "id": "jJ9PY7zCrJRv",
   "metadata": {
    "id": "jJ9PY7zCrJRv"
   },
   "source": [
    "#### Avec 6 clusters"
   ]
  },
  {
   "cell_type": "code",
   "execution_count": null,
   "id": "TIC46UzyrJRv",
   "metadata": {
    "id": "TIC46UzyrJRv"
   },
   "outputs": [],
   "source": [
    "Z6_CAH_complete = linkage(squareform(pdist(loading)),method='complete',metric='euclidean')\n",
    "plt.title(\"CAH\")\n",
    "\n",
    "dendrogram(Z6_CAH_complete,orientation='top',show_leaf_counts=False, no_labels=True, color_threshold=100)\n",
    "plt.show()"
   ]
  },
  {
   "cell_type": "code",
   "execution_count": null,
   "id": "Ar4vJslcrJRv",
   "metadata": {
    "id": "Ar4vJslcrJRv"
   },
   "outputs": [],
   "source": [
    "plt.figure(figsize=(15,6))\n",
    "\n",
    "plt.subplot(1,2,1)\n",
    "im = plt.scatter(coord.longitude, coord.latitude, c=clusters_ac_complete, cmap=cmap, s=10)\n",
    "plt.title('Stations loading - 6 Clusters - Méthode CAH', fontsize=15)\n",
    "plt.colorbar(im)\n",
    "plt.xlabel('Longitude', fontsize=10)\n",
    "plt.ylabel('Latitude', fontsize=10)\n",
    "plt.tick_params(axis='x', labelsize=10)\n",
    "plt.tick_params(axis='y', labelsize=10)\n",
    "plt.grid(False)\n",
    "plt.tight_layout()\n",
    "\n",
    "plt.subplot(1,2,2)\n",
    "x = np.arange(0, 168)\n",
    "for i in range(K):\n",
    "    plt.plot(x, np.mean(loading.to_numpy()[clusters_ac_complete == i], axis = 0), color=cmap.colors[i])\n",
    "plt.xlabel(\"Heures de la semaine\")\n",
    "plt.ylabel(\"Valeur mesurée\")\n",
    "plt.title(\"Valeur mesurée pour 6 clusters - CAH\")\n",
    "\n",
    "plt.show()"
   ]
  },
  {
   "cell_type": "code",
   "execution_count": null,
   "id": "XRiQpPH3rJRw",
   "metadata": {
    "id": "XRiQpPH3rJRw"
   },
   "outputs": [],
   "source": [
    "plt.figure(figsize=(20, 10))\n",
    "\n",
    "plt.subplot(2,3,1)\n",
    "plt.plot(x, np.mean(loading.to_numpy()[clusters_ac_complete == 0], axis = 0), color=cmap.colors[0])\n",
    "for t in time_tick:\n",
    "    plt.axvline(t+8, color='black', linestyle='--')  # Lignes verticales en pointillés noirs\n",
    "    plt.axvline(t+18, color='green', linestyle='--')  # Lignes verticales en pointillés verts\n",
    "plt.xlabel(\"Heures de la semaine\")\n",
    "plt.ylabel(\"Valeur mesurée\")\n",
    "plt.title(\"Cluster 0\")\n",
    "\n",
    "plt.subplot(2,3,2)\n",
    "plt.plot(x, np.mean(loading.to_numpy()[clusters_ac_complete == 1], axis = 0), color=cmap.colors[1])\n",
    "for t in time_tick:\n",
    "    plt.axvline(t+8, color='black', linestyle='--')  # Lignes verticales en pointillés noirs\n",
    "    plt.axvline(t+18, color='green', linestyle='--')  # Lignes verticales en pointillés verts\n",
    "plt.xlabel(\"Heures de la semaine\")\n",
    "plt.ylabel(\"Valeur mesurée\")\n",
    "plt.title(\"Cluster 1\")\n",
    "\n",
    "plt.subplot(2,3,3)\n",
    "plt.plot(x, np.mean(loading.to_numpy()[clusters_ac_complete == 2], axis = 0), color=cmap.colors[2])\n",
    "for t in time_tick:\n",
    "    plt.axvline(t+8, color='black', linestyle='--')  # Lignes verticales en pointillés noirs\n",
    "    plt.axvline(t+18, color='green', linestyle='--')  # Lignes verticales en pointillés verts\n",
    "plt.xlabel(\"Heures de la semaine\")\n",
    "plt.ylabel(\"Valeur mesurée\")\n",
    "plt.title(\"Cluster 2\")\n",
    "\n",
    "plt.subplot(2,3,4)\n",
    "plt.plot(x, np.mean(loading.to_numpy()[clusters_ac_complete == 3], axis = 0), color=cmap.colors[3])\n",
    "plt.xlabel(\"Heures de la semaine\")\n",
    "plt.ylabel(\"Valeur mesurée\")\n",
    "plt.title(\"Cluster 3\")\n",
    "\n",
    "plt.subplot(2,3,5)\n",
    "plt.plot(x, np.mean(loading.to_numpy()[clusters_ac_complete == 4], axis = 0), color=cmap.colors[4])\n",
    "for t in time_tick:\n",
    "    plt.axvline(t+8, color='black', linestyle='--')  # Lignes verticales en pointillés noirs\n",
    "    plt.axvline(t+18, color='green', linestyle='--')  # Lignes verticales en pointillés verts\n",
    "plt.xlabel(\"Heures de la semaine\")\n",
    "plt.ylabel(\"Valeur mesurée\")\n",
    "plt.title(\"Cluster 4\")\n",
    "\n",
    "plt.subplot(2,3,6)\n",
    "plt.plot(x, np.mean(loading.to_numpy()[clusters_ac_complete == 5], axis = 0), color=cmap.colors[5])\n",
    "for t in time_tick:\n",
    "    plt.axvline(t+8, color='black', linestyle='--')  # Lignes verticales en pointillés noirs\n",
    "    plt.axvline(t+23, color='deeppink', linestyle='--')  # Lignes verticales en pointillés roses\n",
    "plt.xlabel(\"Heures de la semaine\")\n",
    "plt.ylabel(\"Valeur mesurée\")\n",
    "plt.title(\"Cluster 5\")\n",
    "\n",
    "plt.show()"
   ]
  },
  {
   "cell_type": "code",
   "execution_count": null,
   "id": "tpK3_n4VrJRw",
   "metadata": {
    "id": "tpK3_n4VrJRw"
   },
   "outputs": [],
   "source": [
    "plt.figure(figsize=(20, 6))\n",
    "\n",
    "plt.subplot(1,3,1)\n",
    "im = plt.scatter(coord.longitude, coord.latitude, c=clusters_ac_complete, cmap=cmap, s= 15)\n",
    "plt.title('Stations loading - 6 Clusters - Méthode CAH', fontsize=15)\n",
    "plt.colorbar(im)\n",
    "plt.xlabel('Longitude', fontsize=10)\n",
    "plt.ylabel('Latitude', fontsize=10)\n",
    "plt.tick_params(axis='x', labelsize=10)\n",
    "plt.tick_params(axis='y', labelsize=10)\n",
    "plt.tight_layout()\n",
    "\n",
    "plt.subplot(1,3,2)\n",
    "couleurs = {1: 'blue', 0: 'yellow'}\n",
    "sctrplt = plt.scatter(coord['longitude'], coord['latitude'], c=coord['localisation'].map(couleurs))\n",
    "plt.xlabel('Longitude', fontsize=10)\n",
    "plt.ylabel('Latitude', fontsize=10)\n",
    "plt.title('Stations proches ou non de la Seine', fontsize=15)\n",
    "legend_elements = [Line2D([0], [0], marker='o', color='w', markerfacecolor=color, markersize=10, label=label) for label, color in couleurs.items()]\n",
    "plt.legend(handles=legend_elements, labels=[\"Seine\", \"Autre\"], fontsize=10)\n",
    "\n",
    "plt.subplot(1,3,3)\n",
    "couleurs = {1: 'red', 0: 'lightgreen'}\n",
    "sctrplt = plt.scatter(coord['longitude'], coord['latitude'], c=coord['bonus'].map(couleurs))\n",
    "plt.xlabel('Longitude', fontsize=10)\n",
    "plt.ylabel('Latitude', fontsize=10)\n",
    "plt.title('Altitude des stations', fontsize=15)\n",
    "legend_elements = [Line2D([0], [0], marker='o', color='w', markerfacecolor=color, markersize=10, label=label) for label, color in couleurs.items()]\n",
    "plt.legend(handles=legend_elements, labels=[\"Colline\", \"Vallée\"], fontsize=10)\n",
    "plt.show()"
   ]
  },
  {
   "cell_type": "markdown",
   "id": "kCR5R95cMtL-",
   "metadata": {
    "id": "kCR5R95cMtL-"
   },
   "source": [
    "<B> Cluster 0 : </B> Stations dont la densité de Vélib' diminue pendant les heures d'activités tout en restant relativement élevée. Correspond au centre-ville : zones de transition et zones d'activités proches de la Seine.\n",
    "\n",
    "<B> Cluster 1 : </B>  Stations qui se vident sur les heures d'activités. Correspond aux quartiers résidentiels.\n",
    "\n",
    "<B> Cluster 2 : </B> Stations avec des caratéristiques qui ressemblent à celles des lieux de travail : se remplissent pendant les heures d'activités mais avec des variations d'amplitude moindre et surtout les stations restent relativement remplies le weekend. Visuellement sur la carte on voit que la plupart des stations sont très proches de la zone de travail et des zones d'activités en bord de Seine. Quelques unes sont dans des zones résidentielles.\n",
    "\n",
    "<B> Cluster 3 : </B> Stations avec très peu de Vélib' en moyenne. Ce cluster contient en partie les zones difficles d'accès (plus en altitude), les autres appartenant au cluster 5 en vu du graphe en mosaïques associé.\n",
    "\n",
    "<B> Cluster 4 : </B> Stations remplies pendant les heures d'activités et très peu remplies le weekend, ce qui correspond aux lieux de travail.\n",
    "\n",
    "<B> Cluster 5 : </B> Stations très remplies en pleine nuit (23h - 8h) en semaine et vides le reste du temps, notamment le weekend. Ce cluster semble donc contenir des lieux d'activités nocturnes (boîtes de nuit par exemple). De plus, la carte des altitudes et le graphique en mosaïques indiquent qu'il contient une partie des stations dites difficiles d'accès.\n",
    "\n",
    "-----\n",
    "\n",
    "\n",
    "On peut remarquer que contrairement à ce que nous avons supposé peu avant, les clusters 2 et 5 sont au final assez proches de ce que nous caractérisons depuis tout à l'heure comme des classes \"atypiques\"."
   ]
  },
  {
   "cell_type": "code",
   "execution_count": null,
   "id": "8leivZhlrJRx",
   "metadata": {
    "id": "8leivZhlrJRx"
   },
   "outputs": [],
   "source": [
    "plt.figure(figsize=(8, 6))\n",
    "crosstable = pd.crosstab(clusters_ac_complete,coord['bonus'])\n",
    "sp.mosaic(crosstable.stack(),title='Mosaicplot clusters-altitude', labelizer=no_label)\n",
    "plt.show()"
   ]
  },
  {
   "cell_type": "code",
   "execution_count": null,
   "id": "wfEiwD1rrJRy",
   "metadata": {
    "id": "wfEiwD1rrJRy"
   },
   "outputs": [],
   "source": [
    "plt.figure(figsize=(8, 6))\n",
    "crosstable = pd.crosstab(clusters_ac_complete,coord['localisation'])\n",
    "sp.mosaic(crosstable.stack(),title='Mosaicplot clusters-Seine', labelizer=no_label)\n",
    "plt.show()"
   ]
  },
  {
   "cell_type": "markdown",
   "id": "pXavsHjD80Io",
   "metadata": {
    "id": "pXavsHjD80Io"
   },
   "source": [
    "#### Avec 3 clusters"
   ]
  },
  {
   "cell_type": "code",
   "execution_count": null,
   "id": "SK7smv9S80Is",
   "metadata": {
    "id": "SK7smv9S80Is"
   },
   "outputs": [],
   "source": [
    "Z3_CAH_complete = linkage(squareform(pdist(loading)),method='complete',metric='euclidean')\n",
    "plt.title(\"CAH\")\n",
    "\n",
    "dendrogram(Z3_CAH_complete,orientation='top',show_leaf_counts=False, no_labels=True, color_threshold=120)\n",
    "plt.show()"
   ]
  },
  {
   "cell_type": "code",
   "execution_count": null,
   "id": "m9MDO1LQ80Iu",
   "metadata": {
    "id": "m9MDO1LQ80Iu"
   },
   "outputs": [],
   "source": [
    "plt.figure(figsize=(15,6))\n",
    "\n",
    "plt.subplot(1,2,1)\n",
    "im = plt.scatter(coord.longitude, coord.latitude, c=clusters_ac_complete3, cmap=cmap3, s= 15)\n",
    "plt.title('Stations loading - 3 Clusters - Méthode CAH', fontsize=15)\n",
    "plt.colorbar(im)\n",
    "plt.xlabel('Longitude', fontsize=10)\n",
    "plt.ylabel('Latitude', fontsize=10)\n",
    "plt.tick_params(axis='x', labelsize=10)\n",
    "plt.tick_params(axis='y', labelsize=10)\n",
    "\n",
    "plt.subplot(1,2,2)\n",
    "x = np.arange(0, 168)\n",
    "for i in range(K3):\n",
    "    plt.plot(x, np.mean(loading.to_numpy()[clusters_ac_complete3 == i], axis = 0), color=cmap3.colors[i])\n",
    "plt.xlabel(\"Heures de la semaine\")\n",
    "plt.ylabel(\"Valeur mesurée\")\n",
    "plt.title(\"Valeur mesurée pour 3 clusters - CAH\")\n",
    "\n",
    "plt.show()"
   ]
  },
  {
   "cell_type": "code",
   "execution_count": null,
   "id": "01BzmVwj80Iv",
   "metadata": {
    "id": "01BzmVwj80Iv"
   },
   "outputs": [],
   "source": [
    "plt.figure(figsize=(20, 5))\n",
    "\n",
    "plt.subplot(1,3,1)\n",
    "plt.plot(x, np.mean(loading.to_numpy()[clusters_ac_complete3 == 0], axis = 0), color=cmap3.colors[0])\n",
    "for t in time_tick:\n",
    "    plt.axvline(t+8, color='black', linestyle='--')  # Lignes verticales en pointillés noirs\n",
    "    plt.axvline(t+18, color='green', linestyle='--')  # Lignes verticales en pointillés verts\n",
    "plt.xlabel(\"Heures de la semaine\")\n",
    "plt.ylabel(\"Valeur mesurée\")\n",
    "plt.title(\"Cluster 0\")\n",
    "\n",
    "plt.subplot(1,3,2)\n",
    "plt.plot(x, np.mean(loading.to_numpy()[clusters_ac_complete3 == 1], axis = 0), color=cmap3.colors[1])\n",
    "for t in time_tick:\n",
    "    plt.axvline(t+8, color='black', linestyle='--')  # Lignes verticales en pointillés noirs\n",
    "    plt.axvline(t+18, color='green', linestyle='--')  # Lignes verticales en pointillés verts\n",
    "plt.xlabel(\"Heures de la semaine\")\n",
    "plt.ylabel(\"Valeur mesurée\")\n",
    "plt.title(\"Cluster 1\")\n",
    "\n",
    "plt.subplot(1,3,3)\n",
    "plt.plot(x, np.mean(loading.to_numpy()[clusters_ac_complete3 == 2], axis = 0), color=cmap3.colors[2])\n",
    "for t in time_tick:\n",
    "    plt.axvline(t+8, color='black', linestyle='--')  # Lignes verticales en pointillés noirs\n",
    "    plt.axvline(t+18, color='green', linestyle='--')  # Lignes verticales en pointillés verts\n",
    "plt.xlabel(\"Heures de la semaine\")\n",
    "plt.ylabel(\"Valeur mesurée\")\n",
    "plt.title(\"Cluster 2\")\n",
    "\n",
    "plt.show()"
   ]
  },
  {
   "cell_type": "code",
   "execution_count": null,
   "id": "UxAy3xRq80Iw",
   "metadata": {
    "id": "UxAy3xRq80Iw"
   },
   "outputs": [],
   "source": [
    "plt.figure(figsize=(20, 6))\n",
    "\n",
    "plt.subplot(1,3,1)\n",
    "im = plt.scatter(coord.longitude, coord.latitude, c=clusters_ac_complete3, cmap=cmap3, s= 15)\n",
    "plt.title('Stations loading - 3 Clusters - Méthode CAH', fontsize=15)\n",
    "plt.colorbar(im)\n",
    "plt.xlabel('Longitude', fontsize=10)\n",
    "plt.ylabel('Latitude', fontsize=10)\n",
    "plt.tick_params(axis='x', labelsize=10)\n",
    "plt.tick_params(axis='y', labelsize=10)\n",
    "plt.tight_layout()\n",
    "\n",
    "plt.subplot(1,3,2)\n",
    "couleurs = {1: 'blue', 0: 'yellow'}\n",
    "sctrplt = plt.scatter(coord['longitude'], coord['latitude'], c=coord['localisation'].map(couleurs))\n",
    "plt.xlabel('Longitude', fontsize=10)\n",
    "plt.ylabel('Latitude', fontsize=10)\n",
    "plt.title('Stations proches ou non de la Seine', fontsize=15)\n",
    "legend_elements = [Line2D([0], [0], marker='o', color='w', markerfacecolor=color, markersize=10, label=label) for label, color in couleurs.items()]\n",
    "plt.legend(handles=legend_elements, labels=[\"Seine\", \"Autre\"], fontsize=10)\n",
    "\n",
    "plt.subplot(1,3,3)\n",
    "couleurs = {1: 'red', 0: 'lightgreen'}\n",
    "sctrplt = plt.scatter(coord['longitude'], coord['latitude'], c=coord['bonus'].map(couleurs))\n",
    "plt.xlabel('Longitude', fontsize=10)\n",
    "plt.ylabel('Latitude', fontsize=10)\n",
    "plt.title('Altitude des stations', fontsize=15)\n",
    "legend_elements = [Line2D([0], [0], marker='o', color='w', markerfacecolor=color, markersize=10, label=label) for label, color in couleurs.items()]\n",
    "plt.legend(handles=legend_elements, labels=[\"Colline\", \"Vallée\"], fontsize=10)\n",
    "plt.show()"
   ]
  },
  {
   "cell_type": "markdown",
   "id": "8J8kixYw80Ix",
   "metadata": {
    "id": "8J8kixYw80Ix"
   },
   "source": [
    "<B> Cluster 0 : </B>  Stations dont la densité de Vélib' diminue pendant les heures d'activités tout en restant relativement élevée, ce qui correpond aux zones de transition (sorties de métro, gares...) et d'activités nécessitant de courts déplacements en centre-ville. On a également quelques quartiers résidentiels puisqu'on constate une baisse de la densité de Vélib' sur les horaires d'activités.\n",
    "\n",
    "<B> Cluster 1 : </B> Stations remplies pendant les heures d'activités et bien moins remplies le weekend. Correspond aux lieux de travail.\n",
    "\n",
    "<B> Cluster 2 : </B> Stations globalement vides sur la semaine, surtout le weekend. Cluster qui contient des quartiers résidentiels ainsi que les zones difficles d'accès (ie plus en altitude) si on compare avec la carte d'altitude."
   ]
  },
  {
   "cell_type": "markdown",
   "id": "KhRwMyiOSbSn",
   "metadata": {
    "id": "KhRwMyiOSbSn"
   },
   "source": [
    "<B> Comparaison des méthodes : </B> Les caractérisations restent globalement les mêmes qu'avec $k$-means pour le jeu de données complet, mais aussi qu'avec les résultats pour 3 clusters sur le jeu de données réduit."
   ]
  },
  {
   "cell_type": "code",
   "execution_count": null,
   "id": "LwMcMqzG80Ix",
   "metadata": {
    "id": "LwMcMqzG80Ix"
   },
   "outputs": [],
   "source": [
    "plt.figure(figsize=(8, 6))\n",
    "crosstable = pd.crosstab(clusters_ac_complete3,coord['bonus'])\n",
    "sp.mosaic(crosstable.stack(),title='Mosaicplot clusters-altitude', labelizer=no_label)\n",
    "plt.show()"
   ]
  },
  {
   "cell_type": "code",
   "execution_count": null,
   "id": "g_ths1Tj80Ix",
   "metadata": {
    "id": "g_ths1Tj80Ix"
   },
   "outputs": [],
   "source": [
    "plt.figure(figsize=(8, 6))\n",
    "crosstable = pd.crosstab(clusters_ac_complete3,coord['localisation'])\n",
    "sp.mosaic(crosstable.stack(),title='Mosaicplot clusters-Seine', labelizer=no_label)\n",
    "plt.show()"
   ]
  },
  {
   "cell_type": "markdown",
   "id": "8fUy-Ppzwxrl",
   "metadata": {
    "id": "8fUy-Ppzwxrl"
   },
   "source": [
    "#### Avec 2 clusters"
   ]
  },
  {
   "cell_type": "code",
   "execution_count": null,
   "id": "wgdI54rQwxrr",
   "metadata": {
    "id": "wgdI54rQwxrr"
   },
   "outputs": [],
   "source": [
    "Z2_CAH_complete = linkage(squareform(pdist(loading)),method='complete',metric='euclidean')\n",
    "plt.title(\"CAH\")\n",
    "\n",
    "dendrogram(Z2_CAH_complete,orientation='top',show_leaf_counts=False, no_labels=True, color_threshold=150)\n",
    "plt.show()"
   ]
  },
  {
   "cell_type": "code",
   "execution_count": null,
   "id": "-d-3WPnBwxrt",
   "metadata": {
    "id": "-d-3WPnBwxrt"
   },
   "outputs": [],
   "source": [
    "plt.figure(figsize=(15,6))\n",
    "\n",
    "plt.subplot(1,2,1)\n",
    "im = plt.scatter(coord.longitude, coord.latitude, c=clusters_ac_complete2, cmap=cmap2, s= 15)\n",
    "plt.title('Stations loading - 2 Clusters - Méthode CAH', fontsize=15)\n",
    "plt.colorbar(im)\n",
    "plt.xlabel('Longitude', fontsize=10)\n",
    "plt.ylabel('Latitude', fontsize=10)\n",
    "plt.tick_params(axis='x', labelsize=10)\n",
    "plt.tick_params(axis='y', labelsize=10)\n",
    "\n",
    "plt.subplot(1,2,2)\n",
    "x = np.arange(0, 168)\n",
    "for i in range(K2):\n",
    "    plt.plot(x, np.mean(loading.to_numpy()[clusters_ac_complete2 == i], axis = 0), color=cmap2.colors[i])\n",
    "plt.xlabel(\"Heures de la semaine\")\n",
    "plt.ylabel(\"Valeur mesurée\")\n",
    "plt.title(\"Valeur mesurée pour 2 clusters - CAH\")\n",
    "\n",
    "plt.show()"
   ]
  },
  {
   "cell_type": "code",
   "execution_count": null,
   "id": "K6LUQDOZwxrv",
   "metadata": {
    "id": "K6LUQDOZwxrv"
   },
   "outputs": [],
   "source": [
    "plt.figure(figsize=(20, 5))\n",
    "\n",
    "plt.subplot(1,2,1)\n",
    "plt.plot(x, np.mean(loading.to_numpy()[clusters_ac_complete2 == 0], axis = 0), color=cmap2.colors[0])\n",
    "for t in time_tick:\n",
    "    plt.axvline(t+8, color='black', linestyle='--')  # Lignes verticales en pointillés noirs\n",
    "    plt.axvline(t+18, color='green', linestyle='--')  # Lignes verticales en pointillés verts\n",
    "plt.xlabel(\"Heures de la semaine\")\n",
    "plt.ylabel(\"Valeur mesurée\")\n",
    "plt.title(\"Cluster 0\")\n",
    "\n",
    "plt.subplot(1,2,2)\n",
    "plt.plot(x, np.mean(loading.to_numpy()[clusters_ac_complete2 == 1], axis = 0), color=cmap2.colors[1])\n",
    "for t in time_tick:\n",
    "    plt.axvline(t+8, color='black', linestyle='--')  # Lignes verticales en pointillés noirs\n",
    "    plt.axvline(t+18, color='green', linestyle='--')  # Lignes verticales en pointillés verts\n",
    "plt.xlabel(\"Heures de la semaine\")\n",
    "plt.ylabel(\"Valeur mesurée\")\n",
    "plt.title(\"Cluster 1\")\n",
    "\n",
    "plt.show()"
   ]
  },
  {
   "cell_type": "code",
   "execution_count": null,
   "id": "o9xl4pBFwxrw",
   "metadata": {
    "id": "o9xl4pBFwxrw"
   },
   "outputs": [],
   "source": [
    "plt.figure(figsize=(20, 6))\n",
    "\n",
    "plt.subplot(1,3,1)\n",
    "im = plt.scatter(coord.longitude, coord.latitude, c=clusters_ac_complete2, cmap=cmap2, s= 15)\n",
    "plt.title('Stations loading - 2 Clusters - Méthode CAH', fontsize=15)\n",
    "plt.colorbar(im)\n",
    "plt.xlabel('Longitude', fontsize=10)\n",
    "plt.ylabel('Latitude', fontsize=10)\n",
    "plt.tick_params(axis='x', labelsize=10)\n",
    "plt.tick_params(axis='y', labelsize=10)\n",
    "plt.tight_layout()\n",
    "\n",
    "plt.subplot(1,3,2)\n",
    "couleurs = {1: 'blue', 0: 'yellow'}\n",
    "sctrplt = plt.scatter(coord['longitude'], coord['latitude'], c=coord['localisation'].map(couleurs))\n",
    "plt.xlabel('Longitude', fontsize=10)\n",
    "plt.ylabel('Latitude', fontsize=10)\n",
    "plt.title('Stations proches ou non de la Seine', fontsize=15)\n",
    "legend_elements = [Line2D([0], [0], marker='o', color='w', markerfacecolor=color, markersize=10, label=label) for label, color in couleurs.items()]\n",
    "plt.legend(handles=legend_elements, labels=[\"Seine\", \"Autre\"], fontsize=10)\n",
    "\n",
    "plt.subplot(1,3,3)\n",
    "couleurs = {1: 'red', 0: 'lightgreen'}\n",
    "sctrplt = plt.scatter(coord['longitude'], coord['latitude'], c=coord['bonus'].map(couleurs))\n",
    "plt.xlabel('Longitude', fontsize=10)\n",
    "plt.ylabel('Latitude', fontsize=10)\n",
    "plt.title('Altitude des stations', fontsize=15)\n",
    "legend_elements = [Line2D([0], [0], marker='o', color='w', markerfacecolor=color, markersize=10, label=label) for label, color in couleurs.items()]\n",
    "plt.legend(handles=legend_elements, labels=[\"Colline\", \"Vallée\"], fontsize=10)\n",
    "plt.show()"
   ]
  },
  {
   "cell_type": "markdown",
   "id": "ogpzQsx8TTly",
   "metadata": {
    "id": "ogpzQsx8TTly"
   },
   "source": [
    "<B> Cluster 0 : </B> Densité globalement faible de Vélib' (surtout le weekend) avec une légère augmentation sur les horaires d'activités.\n",
    "\n",
    "<B> Cluster 1 : </B> Stations avec une densité globalement élevée de Vélib', diminuant pendant les heures d'activités.\n",
    "\n",
    "En combinant ces infomations et en visualisant la carte \"loading station\", le cluster 0 semble notamment regrouper la zone de travail, les zones de plus haute altitude et des zones résidentielles. Le cluster 0 quant à lui contient a priori la zone d'activité au bord de la Seine ainsi que des quartiers résidentiels.\n",
    "\n",
    "<B> => </B> Les caractéristiques de ces 2 clusters ressemblent à celles évoquées dans la méthode $k$-means mais encore une fois la classification ne semble pas optimale."
   ]
  },
  {
   "cell_type": "code",
   "execution_count": null,
   "id": "umWYIwZ0wxrz",
   "metadata": {
    "id": "umWYIwZ0wxrz"
   },
   "outputs": [],
   "source": [
    "plt.figure(figsize=(8, 6))\n",
    "crosstable = pd.crosstab(clusters_ac_complete2,coord['bonus'])\n",
    "sp.mosaic(crosstable.stack(),title='Mosaicplot clusters-altitude', labelizer=no_label)\n",
    "plt.show()"
   ]
  },
  {
   "cell_type": "code",
   "execution_count": null,
   "id": "Abl6OTwswxr0",
   "metadata": {
    "id": "Abl6OTwswxr0"
   },
   "outputs": [],
   "source": [
    "plt.figure(figsize=(8, 6))\n",
    "crosstable = pd.crosstab(clusters_ac_complete2,coord['localisation'])\n",
    "sp.mosaic(crosstable.stack(),title='Mosaicplot clusters-Seine', labelizer=no_label)\n",
    "plt.show()"
   ]
  },
  {
   "cell_type": "markdown",
   "id": "fAwWinH1rxND",
   "metadata": {
    "id": "fAwWinH1rxND"
   },
   "source": [
    "### Clustering avec les Modèles Mixtes Gaussiens (GMM)"
   ]
  },
  {
   "cell_type": "code",
   "execution_count": null,
   "id": "2fAEYpn5rxNH",
   "metadata": {
    "id": "2fAEYpn5rxNH"
   },
   "outputs": [],
   "source": [
    "k_max = 15\n",
    "\n",
    "silhouette = np.zeros(k_max-2)\n",
    "for k in range(2, k_max):\n",
    "    gmm = GaussianMixture(n_components=k, init_params='kmeans', n_init=3)\n",
    "    clusters_gmm = gmm.fit_predict(loading)\n",
    "    silhouette[k-2] = silhouette_score(loading, clusters_gmm, metric='euclidean')\n",
    "plt.scatter(range(2, k_max), silhouette)\n",
    "plt.show()"
   ]
  },
  {
   "cell_type": "code",
   "execution_count": null,
   "id": "Z2GCbrEjrxNI",
   "metadata": {
    "id": "Z2GCbrEjrxNI"
   },
   "outputs": [],
   "source": [
    "k_max = 15\n",
    "\n",
    "bic = []\n",
    "for k in range(2, k_max):\n",
    "    gmm = GaussianMixture(n_components=k, init_params='kmeans', n_init=3)\n",
    "    gmm.fit(loading)\n",
    "    bic.append(gmm.bic(loading))\n",
    "bic = np.array(bic)\n",
    "\n",
    "plt.scatter(range(2, k_max), bic)\n",
    "plt.show()"
   ]
  },
  {
   "cell_type": "markdown",
   "id": "mXOzY4dprxNI",
   "metadata": {
    "id": "mXOzY4dprxNI"
   },
   "source": [
    "Pour le clustering GMM, nous avons essayé de déterminer le nombre de clusters optimal avec les méthodes score silhouette et critère bic. Ces méthodes nous ont toutes deux indiqué que le nombre de clusters optimal est 2.\n",
    "\n",
    "Afin de rester cohérent avec le travail effectué via les méthodes précédentes, nous allons à nouveau travailler avec 2, 3 et 6 clusters."
   ]
  },
  {
   "cell_type": "code",
   "execution_count": null,
   "id": "tI45MD5erxNJ",
   "metadata": {
    "id": "tI45MD5erxNJ"
   },
   "outputs": [],
   "source": [
    "plt.figure(figsize=(20, 6))\n",
    "\n",
    "plt.subplot(1,3,1)\n",
    "gmm_complete = GaussianMixture(n_components=K, n_init=3)\n",
    "clusters_gmm_complete = gmm_complete.fit_predict(loading)\n",
    "plt.bar(*np.unique(clusters_gmm_complete, return_counts=True), color=cmap.colors) # représente les clusters sous forme de barplot + compte le nombre d'occurences de toutes les classes\n",
    "plt.ylabel(\"Occurences\")\n",
    "plt.title('Répartition des stations pour 6 clusters')\n",
    "\n",
    "plt.subplot(1,3,2)\n",
    "gmm_complete3 = GaussianMixture(n_components=K3, n_init=3)\n",
    "clusters_gmm_complete3 = gmm_complete3.fit_predict(loading)\n",
    "plt.bar(*np.unique(clusters_gmm_complete3, return_counts=True), color=cmap3.colors)\n",
    "plt.ylabel(\"Occurences\")\n",
    "plt.title('Répartition des stations pour 3 clusters')\n",
    "\n",
    "plt.subplot(1,3,3)\n",
    "gmm_complete2 = GaussianMixture(n_components=K2, n_init=3)\n",
    "clusters_gmm_complete2 = gmm_complete2.fit_predict(loading)\n",
    "plt.bar(*np.unique(clusters_gmm_complete2, return_counts=True), color=cmap2.colors)\n",
    "plt.ylabel(\"Occurences\")\n",
    "plt.title('Répartition des stations pour 2 clusters')\n",
    "\n",
    "plt.show()"
   ]
  },
  {
   "cell_type": "markdown",
   "id": "g0WkifCWZqfP",
   "metadata": {
    "id": "g0WkifCWZqfP"
   },
   "source": [
    "Dans le cas de 6 clusters, on risque d'avoir d'importantes disparités dans la caractérisation des groupes, surtout au niveau du cluster 5 qui contient plus du double d'individus des clusters 1, 2 et 3. Ce dernier sera probablement très étendu et très généraliste.\n",
    "\n",
    "Pour 3 et 2 clusters, bien qu'il y ait des disparités, elles sont marquées."
   ]
  },
  {
   "cell_type": "markdown",
   "id": "nEYuuroPrxNJ",
   "metadata": {
    "id": "nEYuuroPrxNJ"
   },
   "source": [
    "#### Avec 6 clusters"
   ]
  },
  {
   "cell_type": "code",
   "execution_count": null,
   "id": "EcMWG68XrxNK",
   "metadata": {
    "id": "EcMWG68XrxNK"
   },
   "outputs": [],
   "source": [
    "plt.figure(figsize=(20,6))\n",
    "\n",
    "plt.subplot(1,2,1)\n",
    "im = plt.scatter(coord.longitude, coord.latitude, c=clusters_gmm_complete, cmap=cmap, s=10)\n",
    "plt.title('Stations loading - 6 Clusters - Méthode GMM', fontsize=15)\n",
    "plt.colorbar(im)\n",
    "plt.xlabel('Longitude', fontsize=10)\n",
    "plt.ylabel('Latitude', fontsize=10)\n",
    "plt.tick_params(axis='x', labelsize=10)\n",
    "plt.tick_params(axis='y', labelsize=10)\n",
    "plt.grid(False)\n",
    "\n",
    "plt.subplot(1,2,2)\n",
    "x = np.arange(0, 168)\n",
    "for i in range(K):\n",
    "    plt.plot(x, np.mean(loading.to_numpy()[clusters_gmm_complete == i], axis = 0), color=cmap.colors[i])\n",
    "plt.xlabel(\"Heures de la semaine\")\n",
    "plt.ylabel(\"Valeur mesurée\")\n",
    "plt.title(\"Valeur mesurée pour 6 clusters - GMM\")\n",
    "\n",
    "plt.tight_layout()\n",
    "plt.show()"
   ]
  },
  {
   "cell_type": "code",
   "execution_count": null,
   "id": "634NsXSQrxNK",
   "metadata": {
    "id": "634NsXSQrxNK"
   },
   "outputs": [],
   "source": [
    "plt.figure(figsize=(20, 10))\n",
    "\n",
    "plt.subplot(2,3,1)\n",
    "plt.plot(x, np.mean(loading.to_numpy()[clusters_gmm_complete == 0], axis = 0), color=cmap.colors[0])\n",
    "for t in time_tick:\n",
    "    plt.axvline(t+8, color='black', linestyle='--')  # Lignes verticales en pointillés noirs\n",
    "    plt.axvline(t+18, color='green', linestyle='--')  # Lignes verticales en pointillés verts\n",
    "plt.xlabel(\"Heures de la semaine\")\n",
    "plt.ylabel(\"Valeur mesurée\")\n",
    "plt.title(\"Cluster 0\")\n",
    "\n",
    "plt.subplot(2,3,2)\n",
    "plt.plot(x, np.mean(loading.to_numpy()[clusters_gmm_complete == 1], axis = 0), color=cmap.colors[1])\n",
    "for t in time_tick:\n",
    "    plt.axvline(t+8, color='black', linestyle='--')  # Lignes verticales en pointillés noirs\n",
    "    plt.axvline(t+18, color='green', linestyle='--')  # Lignes verticales en pointillés verts\n",
    "plt.xlabel(\"Heures de la semaine\")\n",
    "plt.ylabel(\"Valeur mesurée\")\n",
    "plt.title(\"Cluster 1\")\n",
    "\n",
    "plt.subplot(2,3,3)\n",
    "plt.plot(x, np.mean(loading.to_numpy()[clusters_gmm_complete == 2], axis = 0), color=cmap.colors[2])\n",
    "for t in time_tick:\n",
    "    plt.axvline(t+8, color='black', linestyle='--')  # Lignes verticales en pointillés noirs\n",
    "    plt.axvline(t+18, color='green', linestyle='--')  # Lignes verticales en pointillés verts\n",
    "plt.xlabel(\"Heures de la semaine\")\n",
    "plt.ylabel(\"Valeur mesurée\")\n",
    "plt.title(\"Cluster 2\")\n",
    "\n",
    "plt.subplot(2,3,4)\n",
    "plt.plot(x, np.mean(loading.to_numpy()[clusters_gmm_complete == 3], axis = 0), color=cmap.colors[3])\n",
    "for t in time_tick:\n",
    "    plt.axvline(t+8, color='black', linestyle='--')  # Lignes verticales en pointillés noirs\n",
    "    plt.axvline(t+23, color='deeppink', linestyle='--')  # Lignes verticales en pointillés roses\n",
    "plt.xlabel(\"Heures de la semaine\")\n",
    "plt.ylabel(\"Valeur mesurée\")\n",
    "plt.title(\"Cluster 3\")\n",
    "\n",
    "plt.subplot(2,3,5)\n",
    "plt.plot(x, np.mean(loading.to_numpy()[clusters_gmm_complete == 4], axis = 0), color=cmap.colors[4])\n",
    "for t in time_tick:\n",
    "    plt.axvline(t+8, color='black', linestyle='--')  # Lignes verticales en pointillés noirs\n",
    "    plt.axvline(t+18, color='green', linestyle='--')  # Lignes verticales en pointillés roses\n",
    "plt.xlabel(\"Heures de la semaine\")\n",
    "plt.ylabel(\"Valeur mesurée\")\n",
    "plt.title(\"Cluster 4\")\n",
    "\n",
    "plt.subplot(2,3,6)\n",
    "plt.plot(x, np.mean(loading.to_numpy()[clusters_gmm_complete == 5], axis = 0), color=cmap.colors[5])\n",
    "for t in time_tick:\n",
    "    plt.axvline(t+8, color='black', linestyle='--')  # Lignes verticales en pointillés noirs\n",
    "    plt.axvline(t+18, color='green', linestyle='--')  # Lignes verticales en pointillés verts\n",
    "plt.xlabel(\"Heures de la semaine\")\n",
    "plt.ylabel(\"Valeur mesurée\")\n",
    "plt.title(\"Cluster 5\")\n",
    "\n",
    "plt.show()"
   ]
  },
  {
   "cell_type": "markdown",
   "id": "wD_3IQwcWAm3",
   "metadata": {
    "id": "wD_3IQwcWAm3"
   },
   "source": [
    "<B> Cluster 0 : </B> Zones d'activités et zones de transition (gares..) du centre-ville.\n",
    "\n",
    "<B> Cluster 1 : </B> Stations peu à moyennement remplies et qui le sont d'avantage en fin de semaine (vendredi - samedi - dimanche) qu'en début. A nouveau, ce cluster est difficile à caractériser car regroupe peu d'individus.\n",
    "\n",
    "<B> Cluster 2 : </B> Quartiers résidentiels avec stations plutôt remplies le weekend.\n",
    "\n",
    "<B> Cluster 3 : </B> Stations peu remplies globalement. Elles le sont un peu plus la nuit (23h-8h). Zones difficles d'accès : en altitude comme en témoigne le graphe en mosaïques ET zones d'activités nocturnes (boîtes de nuit..) comme évoquées dans la méthode CAH.\n",
    "\n",
    "<B> Cluster 4 : </B> Zones de travail du centre-ville.\n",
    "\n",
    "<B> Cluster 5 : </B> Quartiers résidentiels avec stations peu remplies le weekend."
   ]
  },
  {
   "cell_type": "markdown",
   "id": "qZvAbmA2YC8G",
   "metadata": {
    "id": "qZvAbmA2YC8G"
   },
   "source": [
    "<B> Comparaison des méthodes :</B> On remarque des similitudes avec CAH et $k$-means. En particulier on retrouve la zone d'activités nocturnes vu avec la méthode CAH. De plus, comme pour le jeu de données réduit, la méthode GMM sépare les quartiers résidentiels en fonction de la densité de Vélib' le weekend."
   ]
  },
  {
   "cell_type": "code",
   "execution_count": null,
   "id": "hHWu2_Q0rxNL",
   "metadata": {
    "id": "hHWu2_Q0rxNL"
   },
   "outputs": [],
   "source": [
    "plt.figure(figsize=(20, 6))\n",
    "\n",
    "plt.subplot(1,3,1)\n",
    "im = plt.scatter(coord.longitude, coord.latitude, c=clusters_gmm_complete, cmap=cmap, s= 15)\n",
    "plt.title('Stations loading - 6 Clusters - Méthode GMM', fontsize=15)\n",
    "plt.colorbar(im)\n",
    "plt.xlabel('Longitude', fontsize=10)\n",
    "plt.ylabel('Latitude', fontsize=10)\n",
    "plt.tick_params(axis='x', labelsize=10)\n",
    "plt.tick_params(axis='y', labelsize=10)\n",
    "plt.tight_layout()\n",
    "\n",
    "plt.subplot(1,3,2)\n",
    "couleurs = {1: 'blue', 0: 'yellow'}\n",
    "sctrplt = plt.scatter(coord['longitude'], coord['latitude'], c=coord['localisation'].map(couleurs))\n",
    "plt.xlabel('Longitude', fontsize=10)\n",
    "plt.ylabel('Latitude', fontsize=10)\n",
    "plt.title('Stations proches ou non de la Seine', fontsize=15)\n",
    "legend_elements = [Line2D([0], [0], marker='o', color='w', markerfacecolor=color, markersize=10, label=label) for label, color in couleurs.items()]\n",
    "plt.legend(handles=legend_elements, labels=[\"Seine\", \"Autre\"], fontsize=10)\n",
    "\n",
    "plt.subplot(1,3,3)\n",
    "couleurs = {1: 'red', 0: 'lightgreen'}\n",
    "sctrplt = plt.scatter(coord['longitude'], coord['latitude'], c=coord['bonus'].map(couleurs))\n",
    "plt.xlabel('Longitude', fontsize=10)\n",
    "plt.ylabel('Latitude', fontsize=10)\n",
    "plt.title('Altitude des stations', fontsize=15)\n",
    "legend_elements = [Line2D([0], [0], marker='o', color='w', markerfacecolor=color, markersize=10, label=label) for label, color in couleurs.items()]\n",
    "plt.legend(handles=legend_elements, labels=[\"Colline\", \"Vallée\"], fontsize=10)\n",
    "plt.show()"
   ]
  },
  {
   "cell_type": "code",
   "execution_count": null,
   "id": "d1iCghYPrxNL",
   "metadata": {
    "id": "d1iCghYPrxNL"
   },
   "outputs": [],
   "source": [
    "plt.figure(figsize=(8, 6))\n",
    "crosstable = pd.crosstab(clusters_gmm_complete,coord['bonus'])\n",
    "sp.mosaic(crosstable.stack(),title='Mosaicplot clusters-altitude', labelizer=no_label)\n",
    "plt.show()"
   ]
  },
  {
   "cell_type": "code",
   "execution_count": null,
   "id": "f6w0QemHrxNL",
   "metadata": {
    "id": "f6w0QemHrxNL"
   },
   "outputs": [],
   "source": [
    "plt.figure(figsize=(8, 6))\n",
    "crosstable = pd.crosstab(clusters_gmm_complete,coord['localisation'])\n",
    "sp.mosaic(crosstable.stack(),title='Mosaicplot clusters-Seine', labelizer=no_label)\n",
    "plt.show()"
   ]
  },
  {
   "cell_type": "markdown",
   "id": "QytRWi3rrxNL",
   "metadata": {
    "id": "QytRWi3rrxNL"
   },
   "source": [
    "#### Avec 3 clusters"
   ]
  },
  {
   "cell_type": "code",
   "execution_count": null,
   "id": "HZxh_JVtrxNM",
   "metadata": {
    "id": "HZxh_JVtrxNM"
   },
   "outputs": [],
   "source": [
    "plt.figure(figsize=(20,6))\n",
    "\n",
    "plt.subplot(1,2,1)\n",
    "im = plt.scatter(coord.longitude, coord.latitude, c=clusters_gmm_complete3, cmap=cmap3, s=10)\n",
    "plt.title('Stations loading - 3 Clusters - Méthode GMM', fontsize=15)\n",
    "plt.colorbar(im)\n",
    "plt.xlabel('Longitude', fontsize=10)\n",
    "plt.ylabel('Latitude', fontsize=10)\n",
    "plt.tick_params(axis='x', labelsize=10)\n",
    "plt.tick_params(axis='y', labelsize=10)\n",
    "plt.grid(False)\n",
    "\n",
    "plt.subplot(1,2,2)\n",
    "x = np.arange(0, 168)\n",
    "for i in range(K3):\n",
    "    plt.plot(x, np.mean(loading.to_numpy()[clusters_gmm_complete3 == i], axis = 0), color=cmap3.colors[i])\n",
    "plt.xlabel(\"Heures de la semaine\")\n",
    "plt.ylabel(\"Valeur mesurée\")\n",
    "plt.title(\"Valeur mesurée pour 3 clusters - GMM\")\n",
    "\n",
    "plt.tight_layout()\n",
    "plt.show()"
   ]
  },
  {
   "cell_type": "code",
   "execution_count": null,
   "id": "RukX2y6FrxNM",
   "metadata": {
    "id": "RukX2y6FrxNM"
   },
   "outputs": [],
   "source": [
    "plt.figure(figsize=(20, 5))\n",
    "\n",
    "plt.subplot(1,3,1)\n",
    "plt.plot(x, np.mean(loading.to_numpy()[clusters_gmm_complete3 == 0], axis = 0), color=cmap3.colors[0])\n",
    "for t in time_tick:\n",
    "    plt.axvline(t+8, color='black', linestyle='--')  # Lignes verticales en pointillés noirs\n",
    "    plt.axvline(t+18, color='green', linestyle='--')  # Lignes verticales en pointillés verts\n",
    "plt.xlabel(\"Heures de la semaine\")\n",
    "plt.ylabel(\"Valeur mesurée\")\n",
    "plt.title(\"Cluster 0\")\n",
    "\n",
    "plt.subplot(1,3,2)\n",
    "plt.plot(x, np.mean(loading.to_numpy()[clusters_gmm_complete3 == 1], axis = 0), color=cmap3.colors[1])\n",
    "for t in time_tick:\n",
    "    plt.axvline(t+8, color='black', linestyle='--')  # Lignes verticales en pointillés noirs\n",
    "    plt.axvline(t+18, color='green', linestyle='--')  # Lignes verticales en pointillés verts\n",
    "plt.xlabel(\"Heures de la semaine\")\n",
    "plt.ylabel(\"Valeur mesurée\")\n",
    "plt.title(\"Cluster 1\")\n",
    "\n",
    "plt.subplot(1,3,3)\n",
    "plt.plot(x, np.mean(loading.to_numpy()[clusters_gmm_complete3 == 2], axis = 0), color=cmap3.colors[2])\n",
    "for t in time_tick:\n",
    "    plt.axvline(t+8, color='black', linestyle='--')  # Lignes verticales en pointillés noirs\n",
    "    plt.axvline(t+18, color='green', linestyle='--')  # Lignes verticales en pointillés verts\n",
    "plt.xlabel(\"Heures de la semaine\")\n",
    "plt.ylabel(\"Valeur mesurée\")\n",
    "plt.title(\"Cluster 2\")\n",
    "\n",
    "plt.show()"
   ]
  },
  {
   "cell_type": "markdown",
   "id": "Bz9mJomvY6zE",
   "metadata": {
    "id": "Bz9mJomvY6zE"
   },
   "source": [
    "<B> Cluster 0 : </B>  Stations globalement vides sur la semaine, surtout le weekend. Cluster qui contient des quartiers résidentiels ainsi que les zones difficles d'accès.\n",
    "\n",
    "<B> Cluster 1 : </B> Stations remplies pendant les heures d'activités et beaucou plus vide le weekend. Correspond aux lieux de travail.\n",
    "\n",
    "<B> Cluster 2 : </B>  Stations dont la densité de Vélib' diminue pendant les heures d'activités tout en restant relativement élevée, ce qui correspond aux zones de transition (sorties de métro, gares...) et d'activités nécessitant de courts déplacements en centre-ville. On a également des quartiers résidentiels puisqu'on constate une baisse de la densité de Vélib' sur les horaires d'activités.\n",
    "\n"
   ]
  },
  {
   "cell_type": "markdown",
   "id": "vrHNWeIorxNN",
   "metadata": {
    "id": "vrHNWeIorxNN"
   },
   "source": [
    "**Gobalement**, on observe les mêmes caractérisations pour 3 clusters qu'avec les méthodes $k$-means et CAH."
   ]
  },
  {
   "cell_type": "code",
   "execution_count": null,
   "id": "56I1aiznrxNN",
   "metadata": {
    "id": "56I1aiznrxNN"
   },
   "outputs": [],
   "source": [
    "plt.figure(figsize=(20, 6))\n",
    "\n",
    "plt.subplot(1,3,1)\n",
    "im = plt.scatter(coord.longitude, coord.latitude, c=clusters_gmm_complete3, cmap=cmap3, s= 15)\n",
    "plt.title('Stations loading - 3 Clusters - Méthode GMM', fontsize=15)\n",
    "plt.colorbar(im)\n",
    "plt.xlabel('Longitude', fontsize=10)\n",
    "plt.ylabel('Latitude', fontsize=10)\n",
    "plt.tick_params(axis='x', labelsize=10)\n",
    "plt.tick_params(axis='y', labelsize=10)\n",
    "plt.tight_layout()\n",
    "\n",
    "plt.subplot(1,3,2)\n",
    "couleurs = {1: 'blue', 0: 'yellow'}\n",
    "sctrplt = plt.scatter(coord['longitude'], coord['latitude'], c=coord['localisation'].map(couleurs))\n",
    "plt.xlabel('Longitude', fontsize=10)\n",
    "plt.ylabel('Latitude', fontsize=10)\n",
    "plt.title('Stations proches ou non de la Seine', fontsize=15)\n",
    "legend_elements = [Line2D([0], [0], marker='o', color='w', markerfacecolor=color, markersize=10, label=label) for label, color in couleurs.items()]\n",
    "plt.legend(handles=legend_elements, labels=[\"Seine\", \"Autre\"], fontsize=10)\n",
    "\n",
    "plt.subplot(1,3,3)\n",
    "couleurs = {1: 'red', 0: 'lightgreen'}\n",
    "sctrplt = plt.scatter(coord['longitude'], coord['latitude'], c=coord['bonus'].map(couleurs))\n",
    "plt.xlabel('Longitude', fontsize=10)\n",
    "plt.ylabel('Latitude', fontsize=10)\n",
    "plt.title('Altitude des stations', fontsize=15)\n",
    "legend_elements = [Line2D([0], [0], marker='o', color='w', markerfacecolor=color, markersize=10, label=label) for label, color in couleurs.items()]\n",
    "plt.legend(handles=legend_elements, labels=[\"Colline\", \"Vallée\"], fontsize=10)\n",
    "plt.show()"
   ]
  },
  {
   "cell_type": "code",
   "execution_count": null,
   "id": "DFR7cSV0rxNO",
   "metadata": {
    "id": "DFR7cSV0rxNO"
   },
   "outputs": [],
   "source": [
    "plt.figure(figsize=(8, 6))\n",
    "crosstable = pd.crosstab(clusters_gmm_complete3,coord['bonus'])\n",
    "sp.mosaic(crosstable.stack(),title='Mosaicplot clusters-altitude', labelizer=no_label)\n",
    "plt.show()"
   ]
  },
  {
   "cell_type": "code",
   "execution_count": null,
   "id": "5ECN0K5qrxNO",
   "metadata": {
    "id": "5ECN0K5qrxNO"
   },
   "outputs": [],
   "source": [
    "plt.figure(figsize=(8, 6))\n",
    "crosstable = pd.crosstab(clusters_gmm_complete3,coord['localisation'])\n",
    "sp.mosaic(crosstable.stack(),title='Mosaicplot clusters-Seine', labelizer=no_label)\n",
    "plt.show()"
   ]
  },
  {
   "cell_type": "markdown",
   "id": "jaJn7eh0yKAj",
   "metadata": {
    "id": "jaJn7eh0yKAj"
   },
   "source": [
    "#### Avec 2 clusters"
   ]
  },
  {
   "cell_type": "code",
   "execution_count": null,
   "id": "a7tywkARyKAm",
   "metadata": {
    "id": "a7tywkARyKAm"
   },
   "outputs": [],
   "source": [
    "plt.figure(figsize=(20,6))\n",
    "\n",
    "plt.subplot(1,2,1)\n",
    "im = plt.scatter(coord.longitude, coord.latitude, c=clusters_gmm_complete2, cmap=cmap2, s=10)\n",
    "plt.title('Stations loading - 2 Clusters - Méthode GMM', fontsize=15)\n",
    "plt.colorbar(im)\n",
    "plt.xlabel('Longitude', fontsize=10)\n",
    "plt.ylabel('Latitude', fontsize=10)\n",
    "plt.tick_params(axis='x', labelsize=10)\n",
    "plt.tick_params(axis='y', labelsize=10)\n",
    "plt.grid(False)\n",
    "\n",
    "plt.subplot(1,2,2)\n",
    "x = np.arange(0, 168)\n",
    "for i in range(K2):\n",
    "    plt.plot(x, np.mean(loading.to_numpy()[clusters_gmm_complete2 == i], axis = 0), color=cmap2.colors[i])\n",
    "plt.xlabel(\"Heures de la semaine\")\n",
    "plt.ylabel(\"Valeur mesurée\")\n",
    "plt.title(\"Valeur mesurée pour 2 clusters - GMM\")\n",
    "\n",
    "plt.tight_layout()\n",
    "plt.show()"
   ]
  },
  {
   "cell_type": "code",
   "execution_count": null,
   "id": "0QbhqNvEyKAr",
   "metadata": {
    "id": "0QbhqNvEyKAr"
   },
   "outputs": [],
   "source": [
    "plt.figure(figsize=(20, 5))\n",
    "\n",
    "plt.subplot(1,2,1)\n",
    "plt.plot(x, np.mean(loading.to_numpy()[clusters_gmm_complete2 == 0], axis = 0), color=cmap2.colors[0])\n",
    "for t in time_tick:\n",
    "    plt.axvline(t+8, color='black', linestyle='--')  # Lignes verticales en pointillés noirs\n",
    "    plt.axvline(t+18, color='green', linestyle='--')  # Lignes verticales en pointillés verts\n",
    "plt.xlabel(\"Heures de la semaine\")\n",
    "plt.ylabel(\"Valeur mesurée\")\n",
    "plt.title(\"Cluster 0\")\n",
    "\n",
    "plt.subplot(1,2,2)\n",
    "plt.plot(x, np.mean(loading.to_numpy()[clusters_gmm_complete2 == 1], axis = 0), color=cmap2.colors[1])\n",
    "for t in time_tick:\n",
    "    plt.axvline(t+8, color='black', linestyle='--')  # Lignes verticales en pointillés noirs\n",
    "    plt.axvline(t+18, color='green', linestyle='--')  # Lignes verticales en pointillés verts\n",
    "plt.xlabel(\"Heures de la semaine\")\n",
    "plt.ylabel(\"Valeur mesurée\")\n",
    "plt.title(\"Cluster 1\")\n",
    "\n",
    "plt.show()"
   ]
  },
  {
   "cell_type": "code",
   "execution_count": null,
   "id": "YM8h_1SRyKAu",
   "metadata": {
    "id": "YM8h_1SRyKAu"
   },
   "outputs": [],
   "source": [
    "plt.figure(figsize=(20, 6))\n",
    "\n",
    "plt.subplot(1,3,1)\n",
    "im = plt.scatter(coord.longitude, coord.latitude, c=clusters_gmm_complete2, cmap=cmap2, s= 15)\n",
    "plt.title('Stations loading - 2 Clusters - Méthode GMM', fontsize=15)\n",
    "plt.colorbar(im)\n",
    "plt.xlabel('Longitude', fontsize=10)\n",
    "plt.ylabel('Latitude', fontsize=10)\n",
    "plt.tick_params(axis='x', labelsize=10)\n",
    "plt.tick_params(axis='y', labelsize=10)\n",
    "plt.tight_layout()\n",
    "\n",
    "plt.subplot(1,3,2)\n",
    "couleurs = {1: 'blue', 0: 'yellow'}\n",
    "sctrplt = plt.scatter(coord['longitude'], coord['latitude'], c=coord['localisation'].map(couleurs))\n",
    "plt.xlabel('Longitude', fontsize=10)\n",
    "plt.ylabel('Latitude', fontsize=10)\n",
    "plt.title('Stations proches ou non de la Seine', fontsize=15)\n",
    "legend_elements = [Line2D([0], [0], marker='o', color='w', markerfacecolor=color, markersize=10, label=label) for label, color in couleurs.items()]\n",
    "plt.legend(handles=legend_elements, labels=[\"Seine\", \"Autre\"], fontsize=10)\n",
    "\n",
    "plt.subplot(1,3,3)\n",
    "couleurs = {1: 'red', 0: 'lightgreen'}\n",
    "sctrplt = plt.scatter(coord['longitude'], coord['latitude'], c=coord['bonus'].map(couleurs))\n",
    "plt.xlabel('Longitude', fontsize=10)\n",
    "plt.ylabel('Latitude', fontsize=10)\n",
    "plt.title('Altitude des stations', fontsize=15)\n",
    "legend_elements = [Line2D([0], [0], marker='o', color='w', markerfacecolor=color, markersize=10, label=label) for label, color in couleurs.items()]\n",
    "plt.legend(handles=legend_elements, labels=[\"Colline\", \"Vallée\"], fontsize=10)\n",
    "plt.show()"
   ]
  },
  {
   "cell_type": "markdown",
   "id": "TQpXmE4TyKAu",
   "metadata": {
    "id": "TQpXmE4TyKAu"
   },
   "source": [
    "A nouveau, les caractéristiques de chaque cluster sont semblables à celles relevées pour les méthodes $k$-means et CAH (cluster 0 ici est équivalent au cluster 0 de $k$-means et au cluster 1 de CAH)."
   ]
  },
  {
   "cell_type": "code",
   "execution_count": null,
   "id": "T9TC1zOnyKAv",
   "metadata": {
    "id": "T9TC1zOnyKAv"
   },
   "outputs": [],
   "source": [
    "plt.figure(figsize=(8, 6))\n",
    "crosstable = pd.crosstab(clusters_gmm_complete2,coord['bonus'])\n",
    "sp.mosaic(crosstable.stack(),title='Mosaicplot clusters-altitude', labelizer=no_label)\n",
    "plt.show()"
   ]
  },
  {
   "cell_type": "code",
   "execution_count": null,
   "id": "M59MzF00yKAw",
   "metadata": {
    "id": "M59MzF00yKAw"
   },
   "outputs": [],
   "source": [
    "plt.figure(figsize=(8, 6))\n",
    "crosstable = pd.crosstab(clusters_gmm_complete2,coord['localisation'])\n",
    "sp.mosaic(crosstable.stack(),title='Mosaicplot clusters-Seine', labelizer=no_label)\n",
    "plt.show()"
   ]
  },
  {
   "cell_type": "markdown",
   "id": "CH-8tfbvxuCl",
   "metadata": {
    "id": "CH-8tfbvxuCl"
   },
   "source": [
    "### Comparaison des méthodes"
   ]
  },
  {
   "cell_type": "markdown",
   "id": "kWmJN8J4xuCr",
   "metadata": {
    "id": "kWmJN8J4xuCr"
   },
   "source": [
    "#### Avec 6 clusters"
   ]
  },
  {
   "cell_type": "code",
   "execution_count": null,
   "id": "kUT7qTwRxuCr",
   "metadata": {
    "id": "kUT7qTwRxuCr"
   },
   "outputs": [],
   "source": [
    "# Comparaison des modèles pour 6 clusters\n",
    "plt.figure(figsize=(20,6))\n",
    "\n",
    "plt.subplot(1,3,1)\n",
    "plotKmeans(kmeans_pca_complete, loading_pca, 6)\n",
    "plt.title(\"K-means pour 6 clusters\")\n",
    "\n",
    "plt.subplot(1,3,2)\n",
    "plotCAH(ac_complete, loading_pca, 6)\n",
    "plt.title(\"CAH pour 6 clusters\")\n",
    "\n",
    "plt.subplot(1,3,3)\n",
    "plotGMM(gmm_complete, loading_pca, 6)\n",
    "plt.title(\"GMM pour 6 clusters\")\n",
    "\n",
    "plt.show()"
   ]
  },
  {
   "cell_type": "markdown",
   "id": "yOInobMcxuCr",
   "metadata": {
    "id": "yOInobMcxuCr"
   },
   "source": [
    "##### $k$-means Vs GMM"
   ]
  },
  {
   "cell_type": "code",
   "execution_count": null,
   "id": "VYtj23gExuCs",
   "metadata": {
    "id": "VYtj23gExuCs"
   },
   "outputs": [],
   "source": [
    "plt.figure(figsize=(8,6))\n",
    "\n",
    "cm6_complete, clusters_kmeans6_complete_sorted = matchClasses(clusters_gmm_complete, clusters_pca_complete)\n",
    "\n",
    "ConfusionMatrixDisplay(cm6_complete).plot()\n",
    "plt.xlabel('Méthode k-means')\n",
    "plt.ylabel('Méthode GMM')\n",
    "plt.title(\"Matrice de confusion pour les méthodes K-means et GMM avec ajustement des classes\")\n",
    "plt.show()"
   ]
  },
  {
   "cell_type": "code",
   "execution_count": null,
   "id": "rSzwkkKvxuCs",
   "metadata": {
    "id": "rSzwkkKvxuCs"
   },
   "outputs": [],
   "source": [
    "plt.figure(figsize=(15,6))\n",
    "\n",
    "plt.subplot(1,2,1)\n",
    "im = plt.scatter(coord.longitude, coord.latitude, c=clusters_kmeans6_complete_sorted, cmap=cmap, s=10)\n",
    "plt.title('Stations loading - 6 Clusters - Kmeans ', fontsize=15)\n",
    "plt.colorbar(im)\n",
    "plt.xlabel('Longitude', fontsize=10)\n",
    "plt.ylabel('Latitude', fontsize=10)\n",
    "plt.tick_params(axis='x', labelsize=10)\n",
    "plt.tick_params(axis='y', labelsize=10)\n",
    "plt.grid(False)\n",
    "\n",
    "plt.subplot(1,2,2)\n",
    "im = plt.scatter(coord.longitude, coord.latitude, c=clusters_gmm_complete, cmap=cmap, s=10)\n",
    "plt.title('Stations loading - 6 Clusters - GMM', fontsize=15)\n",
    "plt.colorbar(im)\n",
    "plt.xlabel('Longitude', fontsize=10)\n",
    "plt.ylabel('Latitude', fontsize=10)\n",
    "plt.tick_params(axis='x', labelsize=10)\n",
    "plt.tick_params(axis='y', labelsize=10)\n",
    "plt.grid(False)\n",
    "\n",
    "plt.tight_layout()\n",
    "plt.show()\n",
    "\n",
    "diffPlot(clusters_gmm_complete, clusters_kmeans6_complete_sorted)"
   ]
  },
  {
   "cell_type": "markdown",
   "id": "njOn40WrxuCs",
   "metadata": {
    "id": "njOn40WrxuCs"
   },
   "source": [
    "##### $k$-means Vs CAH"
   ]
  },
  {
   "cell_type": "code",
   "execution_count": null,
   "id": "uufOJohyxuCs",
   "metadata": {
    "id": "uufOJohyxuCs"
   },
   "outputs": [],
   "source": [
    "plt.figure(figsize=(8,6))\n",
    "\n",
    "cm6bis_complete, clusters_kmeans6_complete_sorted_ac = matchClasses(clusters_ac_complete, clusters_pca_complete)\n",
    "\n",
    "ConfusionMatrixDisplay(cm6bis_complete).plot()\n",
    "plt.xlabel('Méthode k-means')\n",
    "plt.ylabel('Méthode CAH')\n",
    "plt.title(\"Matrice de confusion pour les méthodes K-means et CAH avec ajustement des classes\")\n",
    "plt.show()"
   ]
  },
  {
   "cell_type": "code",
   "execution_count": null,
   "id": "nQhvAyXPxuCt",
   "metadata": {
    "id": "nQhvAyXPxuCt"
   },
   "outputs": [],
   "source": [
    "plt.figure(figsize=(15,6))\n",
    "\n",
    "plt.subplot(1,2,1)\n",
    "im = plt.scatter(coord.longitude, coord.latitude, c=clusters_kmeans6_complete_sorted_ac, cmap=cmap, s=10)\n",
    "plt.title('Stations loading - 6 Clusters - Kmeans ', fontsize=15)\n",
    "plt.colorbar(im)\n",
    "plt.xlabel('Longitude', fontsize=10)\n",
    "plt.ylabel('Latitude', fontsize=10)\n",
    "plt.tick_params(axis='x', labelsize=10)\n",
    "plt.tick_params(axis='y', labelsize=10)\n",
    "plt.grid(False)\n",
    "\n",
    "plt.subplot(1,2,2)\n",
    "im = plt.scatter(coord.longitude, coord.latitude, c=clusters_ac_complete, cmap=cmap, s=10)\n",
    "plt.title('Stations loading - 6 Clusters - CAH', fontsize=15)\n",
    "plt.colorbar(im)\n",
    "plt.xlabel('Longitude', fontsize=10)\n",
    "plt.ylabel('Latitude', fontsize=10)\n",
    "plt.tick_params(axis='x', labelsize=10)\n",
    "plt.tick_params(axis='y', labelsize=10)\n",
    "plt.grid(False)\n",
    "\n",
    "plt.tight_layout()\n",
    "plt.show()\n",
    "\n",
    "diffPlot(clusters_ac_complete, clusters_kmeans6_complete_sorted_ac )"
   ]
  },
  {
   "cell_type": "markdown",
   "id": "8Mr2VXgixuCt",
   "metadata": {
    "id": "8Mr2VXgixuCt"
   },
   "source": [
    "##### CAH Vs GMM"
   ]
  },
  {
   "cell_type": "code",
   "execution_count": null,
   "id": "Bej_n9T2xuCu",
   "metadata": {
    "id": "Bej_n9T2xuCu"
   },
   "outputs": [],
   "source": [
    "plt.figure(figsize=(8,6))\n",
    "\n",
    "cm6ter_complete, clusters_ac6_gmm6_complete_sorted_ter = matchClasses(clusters_gmm_complete,clusters_ac_complete)\n",
    "\n",
    "ConfusionMatrixDisplay(cm6ter_complete).plot()\n",
    "plt.xlabel('Méthode CAH')\n",
    "plt.ylabel('Méthode GMM')\n",
    "plt.title(\"Matrice de confusion pour les méthodes CAH et GMM avec ajustement des classes\")"
   ]
  },
  {
   "cell_type": "code",
   "execution_count": null,
   "id": "puFSxqWgxuCu",
   "metadata": {
    "id": "puFSxqWgxuCu"
   },
   "outputs": [],
   "source": [
    "plt.figure(figsize=(15,6))\n",
    "\n",
    "plt.subplot(1,2,1)\n",
    "im = plt.scatter(coord.longitude, coord.latitude, c=clusters_ac6_gmm6_complete_sorted_ter, cmap=cmap, s=10)\n",
    "plt.title('Stations loading - 6 Clusters - CAH ', fontsize=15)\n",
    "plt.colorbar(im)\n",
    "plt.xlabel('Longitude', fontsize=10)\n",
    "plt.ylabel('Latitude', fontsize=10)\n",
    "plt.tick_params(axis='x', labelsize=10)\n",
    "plt.tick_params(axis='y', labelsize=10)\n",
    "plt.grid(False)\n",
    "\n",
    "plt.subplot(1,2,2)\n",
    "im = plt.scatter(coord.longitude, coord.latitude, c=clusters_gmm_complete, cmap=cmap, s=10)\n",
    "plt.title('Stations loading - 6 Clusters - GMM', fontsize=15)\n",
    "plt.colorbar(im)\n",
    "plt.xlabel('Longitude', fontsize=10)\n",
    "plt.ylabel('Latitude', fontsize=10)\n",
    "plt.tick_params(axis='x', labelsize=10)\n",
    "plt.tick_params(axis='y', labelsize=10)\n",
    "plt.grid(False)\n",
    "\n",
    "plt.tight_layout()\n",
    "plt.show()\n",
    "\n",
    "diffPlot(clusters_gmm_complete, clusters_ac6_gmm6_complete_sorted_ter)"
   ]
  },
  {
   "cell_type": "markdown",
   "id": "iBJPQ9EqxuCu",
   "metadata": {
    "id": "iBJPQ9EqxuCu"
   },
   "source": [
    "Les méthodes $k$-means et CAH comptent 27% de différence dans la classification des stations, tandis que $k$-means et GMM en comportent 0.6%, et enfin CAH et GMM en comptent 20%.\n",
    "\n",
    "On a donc un peu moins de différences lorsque l'on travaille sur 6 clusters avec le jeu de données complet qu'avec le jeu de données réduit pour les comparaisons CAH/$k$-means et CAH/GMM : le taux de dissimilarités est cependant peu significatif. A contrario, la comparaison $k$-means/GMM s'est nettement améliorée (passée de 44% à 0.6%).\n",
    "\n",
    "Enfin, en étudiant les clusters, nous n'avons pas constaté de grandes différences ou améliorations avec le jeu de données complet. Nous avons donc considéré que le jeu de données réduit, qui permet de réduire la dimenssionnalité de données, était satisfaisant pour cette étude."
   ]
  },
  {
   "cell_type": "markdown",
   "id": "NPZBPVtSxuCu",
   "metadata": {
    "id": "NPZBPVtSxuCu"
   },
   "source": [
    "#### Avec 3 clusters"
   ]
  },
  {
   "cell_type": "code",
   "execution_count": null,
   "id": "uVV03NsDxuCv",
   "metadata": {
    "id": "uVV03NsDxuCv"
   },
   "outputs": [],
   "source": [
    "plt.figure(figsize=(20,6))\n",
    "\n",
    "plt.subplot(1,3,1)\n",
    "plotKmeans(kmeans_pca_complete3, loading_pca, 3)\n",
    "plt.title(\"K-means pour 3 clusters\")\n",
    "\n",
    "plt.subplot(1,3,2)\n",
    "plotCAH(ac_complete3, loading_pca, 3)\n",
    "plt.title(\"CAH pour 3 clusters\")\n",
    "\n",
    "plt.subplot(1,3,3)\n",
    "plotGMM(gmm_complete3, loading_pca, 3)\n",
    "plt.title(\"GMM pour 3 clusters\")\n",
    "\n",
    "plt.show()"
   ]
  },
  {
   "cell_type": "markdown",
   "id": "fTkjEDMUxuCv",
   "metadata": {
    "id": "fTkjEDMUxuCv"
   },
   "source": [
    "##### $k$-means Vs GMM"
   ]
  },
  {
   "cell_type": "code",
   "execution_count": null,
   "id": "ujdYPWX6xuCv",
   "metadata": {
    "id": "ujdYPWX6xuCv"
   },
   "outputs": [],
   "source": [
    "plt.figure(figsize=(8,6))\n",
    "\n",
    "cm3_complete, clusters_kmeans3_complete_sorted = matchClasses(clusters_gmm_complete3, clusters_pca_complete3)\n",
    "\n",
    "ConfusionMatrixDisplay(cm3_complete).plot()\n",
    "plt.xlabel('Méthode k-means')\n",
    "plt.ylabel('Méthode GMM')\n",
    "plt.title(\"Matrice de confusion pour les méthodes K-means et GMM avec ajustement des classes\")\n",
    "plt.show()"
   ]
  },
  {
   "cell_type": "code",
   "execution_count": null,
   "id": "McscaN8yxuCv",
   "metadata": {
    "id": "McscaN8yxuCv"
   },
   "outputs": [],
   "source": [
    "plt.figure(figsize=(15,6))\n",
    "\n",
    "plt.subplot(1,2,1)\n",
    "im = plt.scatter(coord.longitude, coord.latitude, c=clusters_kmeans3_complete_sorted, cmap=cmap3, s=10)\n",
    "plt.title('Stations loading - 3 Clusters - Kmeans ', fontsize=15)\n",
    "plt.colorbar(im)\n",
    "plt.xlabel('Longitude', fontsize=10)\n",
    "plt.ylabel('Latitude', fontsize=10)\n",
    "plt.tick_params(axis='x', labelsize=10)\n",
    "plt.tick_params(axis='y', labelsize=10)\n",
    "plt.grid(False)\n",
    "\n",
    "plt.subplot(1,2,2)\n",
    "im = plt.scatter(coord.longitude, coord.latitude, c=clusters_gmm_complete3, cmap=cmap3, s=10)\n",
    "plt.title('Stations loading - 3 Clusters - GMM', fontsize=15)\n",
    "plt.colorbar(im)\n",
    "plt.xlabel('Longitude', fontsize=10)\n",
    "plt.ylabel('Latitude', fontsize=10)\n",
    "plt.tick_params(axis='x', labelsize=10)\n",
    "plt.tick_params(axis='y', labelsize=10)\n",
    "plt.grid(False)\n",
    "\n",
    "plt.tight_layout()\n",
    "plt.show()\n",
    "\n",
    "diffPlot(clusters_gmm_complete3, clusters_kmeans3_complete_sorted)"
   ]
  },
  {
   "cell_type": "markdown",
   "id": "7pd3bIj7xuCw",
   "metadata": {
    "id": "7pd3bIj7xuCw"
   },
   "source": [
    "##### $k$-means Vs CAH"
   ]
  },
  {
   "cell_type": "code",
   "execution_count": null,
   "id": "qRkfFAAExuCw",
   "metadata": {
    "id": "qRkfFAAExuCw"
   },
   "outputs": [],
   "source": [
    "plt.figure(figsize=(8,6))\n",
    "\n",
    "cm3bis_complete, clusters_kmeans3_complete_sorted_ac = matchClasses(clusters_ac_complete3, clusters_pca_complete3)\n",
    "\n",
    "ConfusionMatrixDisplay(cm3bis_complete).plot()\n",
    "plt.xlabel('Méthode k-means')\n",
    "plt.ylabel('Méthode CAH')\n",
    "plt.title(\"Matrice de confusion pour les méthodes K-means et CAH avec ajustement des classes\")\n",
    "plt.show()"
   ]
  },
  {
   "cell_type": "code",
   "execution_count": null,
   "id": "8cI7ALH-xuCw",
   "metadata": {
    "id": "8cI7ALH-xuCw"
   },
   "outputs": [],
   "source": [
    "plt.figure(figsize=(15,6))\n",
    "\n",
    "plt.subplot(1,2,1)\n",
    "im = plt.scatter(coord.longitude, coord.latitude, c=clusters_kmeans3_complete_sorted_ac, cmap=cmap3, s=10)\n",
    "plt.title('Stations loading - 3 Clusters - Kmeans ', fontsize=15)\n",
    "plt.colorbar(im)\n",
    "plt.xlabel('Longitude', fontsize=10)\n",
    "plt.ylabel('Latitude', fontsize=10)\n",
    "plt.tick_params(axis='x', labelsize=10)\n",
    "plt.tick_params(axis='y', labelsize=10)\n",
    "plt.grid(False)\n",
    "\n",
    "plt.subplot(1,2,2)\n",
    "im = plt.scatter(coord.longitude, coord.latitude, c=clusters_ac_complete3, cmap=cmap3, s=10)\n",
    "plt.title('Stations loading - 3 Clusters - CAH', fontsize=15)\n",
    "plt.colorbar(im)\n",
    "plt.xlabel('Longitude', fontsize=10)\n",
    "plt.ylabel('Latitude', fontsize=10)\n",
    "plt.tick_params(axis='x', labelsize=10)\n",
    "plt.tick_params(axis='y', labelsize=10)\n",
    "plt.grid(False)\n",
    "\n",
    "plt.tight_layout()\n",
    "plt.show()\n",
    "\n",
    "diffPlot(clusters_ac_complete3, clusters_kmeans3_complete_sorted_ac )"
   ]
  },
  {
   "cell_type": "markdown",
   "id": "6DfT-MgkxuCw",
   "metadata": {
    "id": "6DfT-MgkxuCw"
   },
   "source": [
    "##### CAH Vs GMM"
   ]
  },
  {
   "cell_type": "code",
   "execution_count": null,
   "id": "TBgvV7GQxuCx",
   "metadata": {
    "id": "TBgvV7GQxuCx"
   },
   "outputs": [],
   "source": [
    "plt.figure(figsize=(8,6))\n",
    "\n",
    "cm3ter_complete, clusters_ac3_gmm3_complete_sorted_ter = matchClasses(clusters_gmm_complete3,clusters_ac_complete3)\n",
    "\n",
    "ConfusionMatrixDisplay(cm3ter_complete).plot()\n",
    "plt.xlabel('Méthode CAH')\n",
    "plt.ylabel('Méthode GMM')\n",
    "plt.title(\"Matrice de confusion pour les méthodes CAH et GMM avec ajustement des classes\")"
   ]
  },
  {
   "cell_type": "code",
   "execution_count": null,
   "id": "lhi-T6VFxuCx",
   "metadata": {
    "id": "lhi-T6VFxuCx"
   },
   "outputs": [],
   "source": [
    "plt.figure(figsize=(15,6))\n",
    "\n",
    "plt.subplot(1,2,1)\n",
    "im = plt.scatter(coord.longitude, coord.latitude, c=clusters_ac3_gmm3_complete_sorted_ter, cmap=cmap3, s=10)\n",
    "plt.title('Stations loading - 3 Clusters - CAH ', fontsize=15)\n",
    "plt.colorbar(im)\n",
    "plt.xlabel('Longitude', fontsize=10)\n",
    "plt.ylabel('Latitude', fontsize=10)\n",
    "plt.tick_params(axis='x', labelsize=10)\n",
    "plt.tick_params(axis='y', labelsize=10)\n",
    "plt.grid(False)\n",
    "\n",
    "plt.subplot(1,2,2)\n",
    "im = plt.scatter(coord.longitude, coord.latitude, c=clusters_gmm_complete3, cmap=cmap3, s=10)\n",
    "plt.title('Stations loading - 3 Clusters - GMM', fontsize=15)\n",
    "plt.colorbar(im)\n",
    "plt.xlabel('Longitude', fontsize=10)\n",
    "plt.ylabel('Latitude', fontsize=10)\n",
    "plt.tick_params(axis='x', labelsize=10)\n",
    "plt.tick_params(axis='y', labelsize=10)\n",
    "plt.grid(False)\n",
    "\n",
    "plt.tight_layout()\n",
    "plt.show()\n",
    "\n",
    "diffPlot(clusters_gmm_complete3, clusters_ac3_gmm3_complete_sorted_ter)"
   ]
  },
  {
   "cell_type": "markdown",
   "id": "B3Ghe5b_xuCx",
   "metadata": {
    "id": "B3Ghe5b_xuCx"
   },
   "source": [
    "Cette fois-ci, les méthodes $k$-means et GMM ont si peu de différences de classification que l'on peut considérer que les clusters sont les mêmes. Dans les deux autres comparaisons, le taux de différences avec la méthode CAH est de l'ordre de 15% ce qui reste assez faible. Ainsi les trois méthodes ont tendance à regrouper les individus selon les mêmes caractéristiques.\n",
    "\n",
    "Là encore le taux de dissimilarités a diminué par rapport au jeu de données réduit, surtout entre les méthodes $k$-means et GMM."
   ]
  },
  {
   "cell_type": "markdown",
   "id": "LNnXUs0av8c_",
   "metadata": {
    "id": "LNnXUs0av8c_"
   },
   "source": [
    "#### Avec 2 clusters"
   ]
  },
  {
   "cell_type": "code",
   "execution_count": null,
   "id": "io3QOEeXv8dE",
   "metadata": {
    "id": "io3QOEeXv8dE"
   },
   "outputs": [],
   "source": [
    "plt.figure(figsize=(20,6))\n",
    "\n",
    "plt.subplot(1,3,1)\n",
    "plotKmeans(kmeans_pca_complete2, loading_pca, 2)\n",
    "plt.title(\"K-means pour 2 clusters\")\n",
    "\n",
    "plt.subplot(1,3,2)\n",
    "plotCAH(ac_complete2, loading_pca, 2)\n",
    "plt.title(\"CAH pour 2 clusters\")\n",
    "\n",
    "plt.subplot(1,3,3)\n",
    "plotGMM(gmm_complete2, loading_pca, 2)\n",
    "plt.title(\"GMM pour 2 clusters\")\n",
    "\n",
    "plt.show()"
   ]
  },
  {
   "cell_type": "markdown",
   "id": "I-rt7X1yv8dI",
   "metadata": {
    "id": "I-rt7X1yv8dI"
   },
   "source": [
    "##### $k$-means Vs GMM"
   ]
  },
  {
   "cell_type": "code",
   "execution_count": null,
   "id": "N2dRKg-qv8dK",
   "metadata": {
    "id": "N2dRKg-qv8dK"
   },
   "outputs": [],
   "source": [
    "plt.figure(figsize=(8,6))\n",
    "\n",
    "cm2_complete, clusters_kmeans2_complete_sorted = matchClasses(clusters_gmm_complete2, clusters_pca_complete2)\n",
    "\n",
    "ConfusionMatrixDisplay(cm2_complete).plot()\n",
    "plt.xlabel('Méthode k-means')\n",
    "plt.ylabel('Méthode GMM')\n",
    "plt.title(\"Matrice de confusion pour les méthodes K-means et GMM avec ajustement des classes\")\n",
    "plt.show()"
   ]
  },
  {
   "cell_type": "code",
   "execution_count": null,
   "id": "XUPEdkydv8dN",
   "metadata": {
    "id": "XUPEdkydv8dN"
   },
   "outputs": [],
   "source": [
    "plt.figure(figsize=(15,6))\n",
    "\n",
    "plt.subplot(1,2,1)\n",
    "im = plt.scatter(coord.longitude, coord.latitude, c=clusters_kmeans2_complete_sorted, cmap=cmap2, s=10)\n",
    "plt.title('Stations loading - 2 Clusters - Kmeans ', fontsize=15)\n",
    "plt.colorbar(im)\n",
    "plt.xlabel('Longitude', fontsize=10)\n",
    "plt.ylabel('Latitude', fontsize=10)\n",
    "plt.tick_params(axis='x', labelsize=10)\n",
    "plt.tick_params(axis='y', labelsize=10)\n",
    "plt.grid(False)\n",
    "\n",
    "plt.subplot(1,2,2)\n",
    "im = plt.scatter(coord.longitude, coord.latitude, c=clusters_gmm_complete2, cmap=cmap2, s=10)\n",
    "plt.title('Stations loading - 2 Clusters - GMM', fontsize=15)\n",
    "plt.colorbar(im)\n",
    "plt.xlabel('Longitude', fontsize=10)\n",
    "plt.ylabel('Latitude', fontsize=10)\n",
    "plt.tick_params(axis='x', labelsize=10)\n",
    "plt.tick_params(axis='y', labelsize=10)\n",
    "plt.grid(False)\n",
    "\n",
    "plt.tight_layout()\n",
    "plt.show()\n",
    "\n",
    "diffPlot(clusters_gmm_complete2, clusters_kmeans2_complete_sorted)"
   ]
  },
  {
   "cell_type": "markdown",
   "id": "0s4u5cMCv8dO",
   "metadata": {
    "id": "0s4u5cMCv8dO"
   },
   "source": [
    "##### $k$-means Vs CAH"
   ]
  },
  {
   "cell_type": "code",
   "execution_count": null,
   "id": "QvfZ9ff_v8dO",
   "metadata": {
    "id": "QvfZ9ff_v8dO"
   },
   "outputs": [],
   "source": [
    "plt.figure(figsize=(8,6))\n",
    "\n",
    "cm2bis_complete, clusters_kmeans2_complete_sorted_ac = matchClasses(clusters_ac_complete2, clusters_pca_complete2)\n",
    "\n",
    "ConfusionMatrixDisplay(cm2bis_complete).plot()\n",
    "plt.xlabel('Méthode k-means')\n",
    "plt.ylabel('Méthode CAH')\n",
    "plt.title(\"Matrice de confusion pour les méthodes K-means et CAH avec ajustement des classes\")\n",
    "plt.show()"
   ]
  },
  {
   "cell_type": "code",
   "execution_count": null,
   "id": "br9gPas_v8dP",
   "metadata": {
    "id": "br9gPas_v8dP"
   },
   "outputs": [],
   "source": [
    "plt.figure(figsize=(15,6))\n",
    "\n",
    "plt.subplot(1,2,1)\n",
    "im = plt.scatter(coord.longitude, coord.latitude, c=clusters_kmeans2_complete_sorted_ac, cmap=cmap2, s=10)\n",
    "plt.title('Stations loading - 2 Clusters - Kmeans ', fontsize=15)\n",
    "plt.colorbar(im)\n",
    "plt.xlabel('Longitude', fontsize=10)\n",
    "plt.ylabel('Latitude', fontsize=10)\n",
    "plt.tick_params(axis='x', labelsize=10)\n",
    "plt.tick_params(axis='y', labelsize=10)\n",
    "plt.grid(False)\n",
    "\n",
    "plt.subplot(1,2,2)\n",
    "im = plt.scatter(coord.longitude, coord.latitude, c=clusters_ac_complete2, cmap=cmap2, s=10)\n",
    "plt.title('Stations loading - 2 Clusters - CAH', fontsize=15)\n",
    "plt.colorbar(im)\n",
    "plt.xlabel('Longitude', fontsize=10)\n",
    "plt.ylabel('Latitude', fontsize=10)\n",
    "plt.tick_params(axis='x', labelsize=10)\n",
    "plt.tick_params(axis='y', labelsize=10)\n",
    "plt.grid(False)\n",
    "\n",
    "plt.tight_layout()\n",
    "plt.show()\n",
    "\n",
    "diffPlot(clusters_ac_complete2, clusters_kmeans2_complete_sorted_ac)"
   ]
  },
  {
   "cell_type": "markdown",
   "id": "Qn7y6Z3sv8dR",
   "metadata": {
    "id": "Qn7y6Z3sv8dR"
   },
   "source": [
    "##### CAH Vs GMM"
   ]
  },
  {
   "cell_type": "code",
   "execution_count": null,
   "id": "xHn1eoT9v8dR",
   "metadata": {
    "id": "xHn1eoT9v8dR"
   },
   "outputs": [],
   "source": [
    "plt.figure(figsize=(8,6))\n",
    "\n",
    "cm2ter_complete, clusters_ac2_gmm2_complete_sorted_ter = matchClasses(clusters_gmm_complete2, clusters_ac_complete2)\n",
    "\n",
    "ConfusionMatrixDisplay(cm2ter_complete).plot()\n",
    "plt.xlabel('Méthode CAH')\n",
    "plt.ylabel('Méthode GMM')\n",
    "plt.title(\"Matrice de confusion pour les méthodes CAH et GMM avec ajustement des classes\")"
   ]
  },
  {
   "cell_type": "code",
   "execution_count": null,
   "id": "QCSp6d0ov8dT",
   "metadata": {
    "id": "QCSp6d0ov8dT"
   },
   "outputs": [],
   "source": [
    "plt.figure(figsize=(15,6))\n",
    "\n",
    "plt.subplot(1,2,1)\n",
    "im = plt.scatter(coord.longitude, coord.latitude, c=clusters_ac2_gmm2_complete_sorted_ter, cmap=cmap2, s=10)\n",
    "plt.title('Stations loading - 2 Clusters - CAH ', fontsize=15)\n",
    "plt.colorbar(im)\n",
    "plt.xlabel('Longitude', fontsize=10)\n",
    "plt.ylabel('Latitude', fontsize=10)\n",
    "plt.tick_params(axis='x', labelsize=10)\n",
    "plt.tick_params(axis='y', labelsize=10)\n",
    "plt.grid(False)\n",
    "\n",
    "plt.subplot(1,2,2)\n",
    "im = plt.scatter(coord.longitude, coord.latitude, c=clusters_gmm_complete2, cmap=cmap2, s=10)\n",
    "plt.title('Stations loading - 2 Clusters - GMM', fontsize=15)\n",
    "plt.colorbar(im)\n",
    "plt.xlabel('Longitude', fontsize=10)\n",
    "plt.ylabel('Latitude', fontsize=10)\n",
    "plt.tick_params(axis='x', labelsize=10)\n",
    "plt.tick_params(axis='y', labelsize=10)\n",
    "plt.grid(False)\n",
    "\n",
    "plt.tight_layout()\n",
    "plt.show()\n",
    "\n",
    "diffPlot(clusters_gmm_complete2, clusters_ac2_gmm2_complete_sorted_ter)"
   ]
  },
  {
   "cell_type": "markdown",
   "id": "rhibvAYFv8dU",
   "metadata": {
    "id": "rhibvAYFv8dU"
   },
   "source": [
    "Les clusters formés par les méthodes $k$-means et GMM sont à nouveau très similaires. Cependant, le taux de différences avec la méthode CAH est légèrement plus élevé (de l'ordre de 17%) dans le cas de 2 clusters que dans le cas avec 3 clusters. Bien que l'écart relatif entre les méthodes ne soit pas significatif, cela souligne tout de même le fait que diminuer d'avantage le nombre de clusters n'a pas permis une meilleure convergence entre les méthodes."
   ]
  },
  {
   "cell_type": "markdown",
   "id": "HC07P0DWcwZD",
   "metadata": {
    "id": "HC07P0DWcwZD"
   },
   "source": [
    "-------------------\n",
    "\n",
    "<B> Conclusion clustering : </B> La comparaison entre les jeux de données réduit et complet nous a permis de constater que les méthodes de clustering convergent d'avantage en utilisant le jeu de données complet. Cependant, estimant que les différences sont suffisamment minimes, le jeu de données réduit nous semble plus intéressant puisque tout en réduisant la dimensionnalité des données, il conserve suffisamment d'information pour garantir l'efficacité des méthodes de clustering.\n",
    "\n",
    "En outre, au vu des interprétations qui ont pu être faites dans le cas de 2, 3, 4 et 6 clusters, nous avons estimé que travailler avec 6 clusters semble être le choix le plus pertinent : cela permet d'obtenir des clusters suffisamment distincts dans Paris et avec des caractéristiques que nous avons jugées assez \"intuitives\".\n",
    "\n",
    "Enfin, en se basant sur les taux de dissimilarités des méthodes et sur les clusters observés, si l'on cherche à comparer les méthodes entre elles, $k$-means et GMM semblent plus pertinentes dans le jeu de données complet. Pour le jeu de données réduit, CAH paraît plus appropriée."
   ]
  },
  {
   "cell_type": "markdown",
   "id": "JBwRtRPAIiKz",
   "metadata": {
    "id": "JBwRtRPAIiKz"
   },
   "source": [
    "# Analyse en correspondances multiples (ACM)"
   ]
  },
  {
   "cell_type": "markdown",
   "id": "_gs5VewhIvOD",
   "metadata": {
    "id": "_gs5VewhIvOD"
   },
   "source": [
    "Dans la suite de notre étude, on voudrait effectuer une analyse en correspondances multiples. Comme on travaille dans notre jeu de données loading avec des données quantitatives, nous allons créer un second jeu de données conservant les mêmes individus mais contenant un nombre limité de modalités. En effet nous allons affecter à chaque valeur de loading un intervalle :  [0 ; 0.25], [0.25 ; 0.5], [0.5 ; 0.75] ou [0.75 ; 1]. Nous allons également travailler avec les variables bonus (du jeu de données coord) et localisation pour l'habillage.\n",
    "\n",
    "Le trop grand nombre de variables rendant notre jeu de données inexploitable, nous avons décidé de regrouper nos variables dans des catégories de variables plus larges qui regroupent certaines heures. Nous avons donc arbitrairement déterminé ces nouvelles plages horaires.\n",
    "\n",
    "Par ailleurs, les affichages en langage R étant plus simple à lire, nous avons décidé de rédiger nos interprétations pour cette section dans le notebook R."
   ]
  },
  {
   "cell_type": "markdown",
   "id": "u6rZU5ltxHvT",
   "metadata": {
    "id": "u6rZU5ltxHvT"
   },
   "source": [
    "## Sélection des variables"
   ]
  },
  {
   "cell_type": "code",
   "execution_count": null,
   "id": "019bMHkGS7EN",
   "metadata": {
    "id": "019bMHkGS7EN"
   },
   "outputs": [],
   "source": [
    " loading_heure = pd.DataFrame() # Dataframe avec les heures choisies\n",
    "\n",
    "# Sélection des colonnes pour chaque plage horaire et calcul de leur moyenne\n",
    "loading_heure[\"Moyenne_00h_03h\"] = loading.iloc[:, 0:4].mean(axis=1)\n",
    "loading_heure[\"Moyenne_04h_06h\"] = loading.iloc[:, 4:7].mean(axis=1)\n",
    "loading_heure[\"Moyenne_07h_09h\"] = loading.iloc[:, 7:10].mean(axis=1)\n",
    "loading_heure[\"Moyenne_10h_12h\"] = loading.iloc[:, 10:13].mean(axis=1)\n",
    "loading_heure[\"Moyenne_13h_16h\"] = loading.iloc[:, 13:17].mean(axis=1)\n",
    "loading_heure[\"Moyenne_17h_19h\"] = loading.iloc[:, 17:20].mean(axis=1)\n",
    "loading_heure[\"Moyenne_20h_23h\"] = loading.iloc[:, 20:24].mean(axis=1)\n",
    "\n",
    "loading_heure = pd.concat([loading_heure, coord[['bonus', 'localisation']]], axis=1) # Concaténation des dataframes loading et coord\n",
    "\n",
    "print(loading_heure)\n"
   ]
  },
  {
   "cell_type": "code",
   "execution_count": null,
   "id": "oLOsJmaDfCpr",
   "metadata": {
    "id": "oLOsJmaDfCpr"
   },
   "outputs": [],
   "source": [
    "colonnes_non_numeriques = ['localisation', 'bonus'] # variables qu'on ne veut pas affecter\n",
    "\n",
    "# Création des classes d'intervalles\n",
    "def assign_class(value):\n",
    "    if value < 0.25:\n",
    "        return \"[0;0.25]\"\n",
    "    elif value < 0.5:\n",
    "        return \"[0.25;0.5]\"\n",
    "    elif value < 0.75:\n",
    "        return \"[0.5;0.75]\"\n",
    "    else:\n",
    "        return \"[0.75;1]\"\n",
    "\n",
    "loading_heure_factor = loading_heure.copy() # nouveau dataframe avec les classes d'intervalles\n",
    "loading_heure_factor[loading_heure_factor.columns.difference(colonnes_non_numeriques)] = loading_heure_factor[loading_heure_factor.columns.difference(colonnes_non_numeriques)].applymap(assign_class)\n",
    "\n",
    "print(loading_heure_factor.head())\n"
   ]
  },
  {
   "cell_type": "code",
   "execution_count": null,
   "id": "ulCZIgXFgKx0",
   "metadata": {
    "id": "ulCZIgXFgKx0"
   },
   "outputs": [],
   "source": [
    "loading_heure_factor[\"Moyenne_00h_03h\"]=pd.Categorical(loading_heure_factor[\"Moyenne_00h_03h\"],ordered=False)\n",
    "loading_heure_factor[\"Moyenne_04h_06h\"]=pd.Categorical(loading_heure_factor[\"Moyenne_04h_06h\"],ordered=False)\n",
    "loading_heure_factor[\"Moyenne_07h_09h\"]=pd.Categorical(loading_heure_factor[\"Moyenne_07h_09h\"],ordered=False)\n",
    "loading_heure_factor[\"Moyenne_10h_12h\"]=pd.Categorical(loading_heure_factor[\"Moyenne_10h_12h\"],ordered=False)\n",
    "loading_heure_factor[\"Moyenne_13h_16h\"]=pd.Categorical(loading_heure_factor[\"Moyenne_13h_16h\"],ordered=False)\n",
    "loading_heure_factor[\"Moyenne_17h_19h\"]=pd.Categorical(loading_heure_factor[\"Moyenne_17h_19h\"],ordered=False)\n",
    "loading_heure_factor[\"Moyenne_20h_23h\"]=pd.Categorical(loading_heure_factor[\"Moyenne_20h_23h\"],ordered=False)\n",
    "loading_heure_factor[\"bonus\"]=pd.Categorical(loading_heure_factor[\"bonus\"],ordered=False)\n",
    "loading_heure_factor[\"localisation\"]=pd.Categorical(loading_heure_factor[\"localisation\"],ordered=False)\n",
    "\n",
    "loading_heure_factor.dtypes"
   ]
  },
  {
   "cell_type": "markdown",
   "id": "ijcM7HFhxSce",
   "metadata": {
    "id": "ijcM7HFhxSce"
   },
   "source": [
    "## Représentation de l'ACM"
   ]
  },
  {
   "cell_type": "code",
   "execution_count": null,
   "id": "QWBEKagwg9Gp",
   "metadata": {
    "id": "QWBEKagwg9Gp"
   },
   "outputs": [],
   "source": [
    "# Sélection des variables construisant l'ACM = les moyennes horaires\n",
    "variables_acm = [colonne for colonne in loading_heure_factor.columns if colonne.startswith('Moyenne')]\n",
    "\n",
    "# Sélection des variables qualitatives supplémentaires\n",
    "variables_quali_sup = ['bonus', 'localisation']\n"
   ]
  },
  {
   "cell_type": "code",
   "execution_count": null,
   "id": "1X8Cr4YI0qkx",
   "metadata": {
    "id": "1X8Cr4YI0qkx"
   },
   "outputs": [],
   "source": [
    "#fig, ax = plt.subplots()\n",
    "mca = prince.MCA(n_components = len(variables_acm))\n",
    "mca = mca.fit(loading_heure_factor[variables_acm])\n",
    "ax = mca.plot(loading_heure_factor[variables_acm],show_column_labels=True)\n",
    "ax"
   ]
  },
  {
   "cell_type": "markdown",
   "id": "OO-orpwnwqAY",
   "metadata": {
    "id": "OO-orpwnwqAY"
   },
   "source": [
    "## Qualité de représentation des variables et des individus"
   ]
  },
  {
   "cell_type": "code",
   "execution_count": null,
   "id": "Bu7ebhJwPQx_",
   "metadata": {
    "id": "Bu7ebhJwPQx_"
   },
   "outputs": [],
   "source": [
    "quality_comun = mca.column_cosine_similarities(loading_heure_factor).style.format('{:.3}')\n",
    "display(quality_comun.background_gradient())"
   ]
  },
  {
   "cell_type": "markdown",
   "id": "IAuazOgOwzfg",
   "metadata": {
    "id": "IAuazOgOwzfg"
   },
   "source": [
    "## Contribution des variables à l'ACM"
   ]
  },
  {
   "cell_type": "code",
   "execution_count": null,
   "id": "PD3BzxCG5IQ4",
   "metadata": {
    "id": "PD3BzxCG5IQ4"
   },
   "outputs": [],
   "source": [
    "# Contribution des variables\n",
    "\n",
    "contrib = mca.column_contributions_.style.format('{:.1%}')\n",
    "display(contrib.highlight_max(color='orange').highlight_min(color='lightblue'))"
   ]
  },
  {
   "cell_type": "markdown",
   "id": "QFx_mzGVxnTe",
   "metadata": {
    "id": "QFx_mzGVxnTe"
   },
   "source": [
    "## Habillage en fonction des variables supplémentaires : bonus et localisation"
   ]
  },
  {
   "cell_type": "code",
   "execution_count": null,
   "id": "Lq5mzxbQ1B_g",
   "metadata": {
    "id": "Lq5mzxbQ1B_g"
   },
   "outputs": [],
   "source": [
    "loading_heure_factor_loc=loading_heure_factor[variables_acm + ['localisation']]\n",
    "loading_heure_factor_loc = loading_heure_factor_loc.set_index('localisation')\n",
    "\n",
    "pd.get_dummies(loading_heure_factor_loc)"
   ]
  },
  {
   "cell_type": "code",
   "execution_count": null,
   "id": "h4_WAUmJwvox",
   "metadata": {
    "id": "h4_WAUmJwvox"
   },
   "outputs": [],
   "source": [
    "loading_heure_factor_bonus=loading_heure_factor[variables_acm + ['bonus']]\n",
    "loading_heure_factor_bonus = loading_heure_factor_bonus.set_index('bonus')\n",
    "\n",
    "pd.get_dummies(loading_heure_factor_bonus)"
   ]
  },
  {
   "cell_type": "code",
   "execution_count": null,
   "id": "qY1hklyUowfD",
   "metadata": {
    "id": "qY1hklyUowfD"
   },
   "outputs": [],
   "source": [
    "mca = prince.MCA(\n",
    "    n_components=len(variables_acm),\n",
    "    n_iter=10,\n",
    "    copy=True,\n",
    "    check_input=True,\n",
    "    engine='sklearn',\n",
    "    random_state=42\n",
    ")\n",
    "mca_loc = mca.fit(loading_heure_factor_loc)\n",
    "mca_bonus = mca.fit(loading_heure_factor_bonus)"
   ]
  },
  {
   "cell_type": "code",
   "execution_count": null,
   "id": "9nqzDhjxwPp-",
   "metadata": {
    "id": "9nqzDhjxwPp-"
   },
   "outputs": [],
   "source": [
    "def plot_mca(ax1=0, ax2=1, mca=mca_loc, data=loading_heure_factor_loc, nom='localisation'):\n",
    "  dataset = mca.transform(data)\n",
    "  dataset.reset_index(inplace=True)\n",
    "  sns.scatterplot(data = dataset,\n",
    "                  x = ax1, y = ax2,\n",
    "                  hue = nom, alpha=.7)\n",
    "\n",
    "  plt.xlabel('Component {} — {:.2f}%'.format(ax1, mca.percentage_of_variance_[ax1]))\n",
    "  plt.ylabel('Component {} — {:.2f}%'.format(ax2, mca.percentage_of_variance_[ax2]))\n",
    "  plt.grid(True)\n",
    "  plt.show()"
   ]
  },
  {
   "cell_type": "code",
   "execution_count": null,
   "id": "2CQeUuEIwU6-",
   "metadata": {
    "id": "2CQeUuEIwU6-"
   },
   "outputs": [],
   "source": [
    "plot_mca(0,1,mca_loc,loading_heure_factor_loc)"
   ]
  },
  {
   "cell_type": "code",
   "execution_count": null,
   "id": "mB8CIuRi0zx4",
   "metadata": {
    "id": "mB8CIuRi0zx4"
   },
   "outputs": [],
   "source": [
    "plot_mca(0,1,mca_bonus,loading_heure_factor_bonus,'bonus')"
   ]
  },
  {
   "cell_type": "code",
   "execution_count": null,
   "id": "EsjbHVtH7h_T",
   "metadata": {
    "id": "EsjbHVtH7h_T"
   },
   "outputs": [],
   "source": [
    "# Qualité de représentation pour localisation\n",
    "\n",
    "quality_row_loc = mca_loc.row_cosine_similarities(loading_heure_factor_loc).head(10).style.format('{:.3}')\n",
    "display(quality_row_loc)"
   ]
  },
  {
   "cell_type": "code",
   "execution_count": null,
   "id": "dEl65dvM8TEl",
   "metadata": {
    "id": "dEl65dvM8TEl"
   },
   "outputs": [],
   "source": [
    "# Qualité de représentation pour bonus\n",
    "\n",
    "quality_row_bonus = mca_bonus.row_cosine_similarities(loading_heure_factor_bonus).head(10).style.format('{:.3}')\n",
    "display(quality_row_bonus)"
   ]
  },
  {
   "cell_type": "markdown",
   "id": "8HlqCORIkCF1",
   "metadata": {
    "id": "8HlqCORIkCF1"
   },
   "source": [
    "# Conclusion"
   ]
  },
  {
   "cell_type": "markdown",
   "id": "175V2nhkkEjk",
   "metadata": {
    "id": "175V2nhkkEjk"
   },
   "source": [
    "L'analyse exploratoire, les méthodes de clustering et l'Analyse en Correspondances Multiples ont toutes permis d'identifier les mêmes comportements récurrents chez les utilisateurs de Vélib' à Paris.\n",
    "\n",
    "En effet, les habitudes des usagers sont d'une part influencées par les heures et les jours de la semaine avec principalement une discrimination heures d'activités/ heures de repos et une autre jours du lundi au vendredi / weekend.\n",
    "\n",
    "D'autre part, la densité de Vélib' est dépendante de critères géographiques : stations proches de la Seine ou non, stations en altitude, etc.\n",
    "\n",
    "En utilisant les données recueillies sur ces facteurs pour une station précise, il est possible d'anticiper sa densité de Vélib' à un moment spécifique de la semaine. Cela est particulièrement pratique pour la compagnie en charge de la maintenance de ces modes de transport : anticiper le comportement des usagers permet de réguler plus facilement la densité de Vélib' dans la ville (stations ayant besoin d'être réapprovisionnées à certains moments par exemple) et de fait d'avoir plus de contrôle."
   ]
  }
 ],
 "metadata": {
  "colab": {
   "provenance": []
  },
  "kernelspec": {
   "display_name": "Python 3 (ipykernel)",
   "language": "python",
   "name": "python3"
  },
  "language_info": {
   "codemirror_mode": {
    "name": "ipython",
    "version": 3
   },
   "file_extension": ".py",
   "mimetype": "text/x-python",
   "name": "python",
   "nbconvert_exporter": "python",
   "pygments_lexer": "ipython3",
   "version": "3.12.4"
  }
 },
 "nbformat": 4,
 "nbformat_minor": 5
}
